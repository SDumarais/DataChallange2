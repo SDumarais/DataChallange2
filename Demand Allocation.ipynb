{
 "cells": [
  {
   "cell_type": "code",
   "execution_count": 2,
   "id": "e83d9c68",
   "metadata": {},
   "outputs": [],
   "source": [
    "from mip import *\n",
    "import pandas as pd"
   ]
  },
  {
   "cell_type": "code",
   "execution_count": 3,
   "id": "57368fa1",
   "metadata": {},
   "outputs": [],
   "source": [
    "dataset = pd.read_csv('Out_60.csv')\n",
    "dataset = dataset.drop([\"Unnamed: 0\", 'last_outcome_category', 'location'], axis=1)\n",
    "mask = dataset['ward_name']!=dataset['ward_name']\n",
    "dataset = dataset[~mask]"
   ]
  },
  {
   "cell_type": "code",
   "execution_count": 5,
   "id": "ac43704f",
   "metadata": {},
   "outputs": [],
   "source": [
    "best_order_lst = [[('High Barnet', (0, 0, 0), (1, 0, 0, 12)), 0.1859, 1.541103500742244],\n",
    " [('Underhill', (1, 0, 1), (2, 0, 1, 6)), 0.425, 1.8027756377319946],\n",
    " [('East Barnet', (0, 0, 1), (1, 0, 0, 12)), 0.3512, 1.7320508075688772],\n",
    " [('Barnet Vale', (0, 0, 1), (2, 0, 0, 6)), 0.2572, 2.3717082451262845],\n",
    " [('Edgwarebury', (0, 1, 2), (1, 0, 0, 6)), 0.2646, 1.1726039399558574],\n",
    " [('Totteridge & Woodside', (0, 0, 0), (2, 0, 0, 12)),\n",
    "  0.2679,\n",
    "  3.0618621784789726],\n",
    " [('Whetstone', (0, 1, 1), (1, 0, 0, 6)), 0.1949, 2.091650066335189],\n",
    " [('Brunswick Park', (1, 1, 0), (1, 0, 1, 12)), 0.3772, 2.622022120425379],\n",
    " [('Woodhouse', (0, 0, 0), (2, 0, 0, 6)), 0.3013, 2.1213203435596424],\n",
    " [('Edgware', (0, 0, 1), (2, 0, 1, 12)), 0.1818, 2.3979157616563596],\n",
    " [('Friern Barnet', (0, 0, 0), (2, 0, 1, 6)), 0.0734, 1.5],\n",
    " [('Mill Hill', (0, 0, 1), (1, 0, 0, 12)), 0.2139, 2.7613402542968153],\n",
    " [('Burnt Oak', (1, 0, 1), (1, 0, 0, 6)), 0.4433, 5.522680508593631],\n",
    " [('West Finchley', (0, 1, 1), (1, 0, 1, 12)), 0.2999, 2.7613402542968153],\n",
    " [('Finchley Church End', (0, 0, 2), (1, 0, 0, 6)),\n",
    "  0.1267,\n",
    "  1.5811388300841898],\n",
    " [('Colindale North', (0, 0, 0), (2, 0, 0, 6)), 0.2292, 1.5811388300841898],\n",
    " [('East Finchley', (0, 0, 0), (2, 0, 1, 12)), 0.3156, 3.0618621784789726],\n",
    " [('Hendon', (1, 0, 0), (1, 0, 0, 6)), 0.5806, 9.334077351297235],\n",
    " [('Garden Suburb', (1, 1, 0), (1, 0, 1, 6)), 0.2307, 1.8371173070873836],\n",
    " [('West Hendon', (1, 1, 1), (1, 0, 0, 6)), 0.1589, 2.091650066335189],\n",
    " [('Golders Green', (0, 0, 0), (1, 0, 0, 6)), 0.29, 3.7416573867739413],\n",
    " [('Childs Hill', (0, 1, 2), (2, 0, 0, 6)), 0.2775, 5.431390245600108],\n",
    " [('Cricklewood', (0, 0, 1), (1, 0, 0, 6)), 0.2417, 3.7080992435478315],\n",
    " [('Colindale South', (0, 1, 1), (1, 0, 0, 6)), 0.0, 0.0]]"
   ]
  },
  {
   "cell_type": "code",
   "execution_count": 9,
   "id": "6f644a62",
   "metadata": {},
   "outputs": [],
   "source": [
    "wards = []\n",
    "for x in best_order_lst:\n",
    "    wards.append(x[0][0])"
   ]
  },
  {
   "cell_type": "code",
   "execution_count": 23,
   "id": "a40f13ce",
   "metadata": {},
   "outputs": [
    {
     "data": {
      "text/plain": [
       "2"
      ]
     },
     "execution_count": 23,
     "metadata": {},
     "output_type": "execute_result"
    }
   ],
   "source": [
    "dataset[dataset['ward_name'] == 'Colindale South'].groupby('month').count()['longitude']"
   ]
  },
  {
   "cell_type": "code",
   "execution_count": 26,
   "id": "4a1222bf",
   "metadata": {},
   "outputs": [
    {
     "name": "stdout",
     "output_type": "stream",
     "text": [
      "High Barnet 147\n",
      "Underhill 148\n",
      "East Barnet 148\n",
      "Barnet Vale 148\n",
      "Edgwarebury 147\n",
      "Totteridge & Woodside 147\n",
      "Whetstone 147\n",
      "Brunswick Park 148\n",
      "Woodhouse 147\n",
      "Edgware 148\n",
      "Friern Barnet 148\n",
      "Mill Hill 148\n",
      "Burnt Oak 148\n",
      "West Finchley 148\n",
      "Finchley Church End 148\n",
      "Colindale North 147\n",
      "East Finchley 148\n",
      "Hendon 148\n",
      "Garden Suburb 148\n",
      "West Hendon 148\n",
      "Golders Green 148\n",
      "Childs Hill 148\n",
      "Cricklewood 148\n",
      "Colindale South 85\n"
     ]
    }
   ],
   "source": [
    "ward_crimes = {}\n",
    "for x in wards:\n",
    "    print(x, len(dataset[dataset['ward_name'] == x].groupby('month').count()['longitude']))\n",
    "#     ward_crimes[x] = dataset[dataset['ward_name'] == x].groupby('month').count()['longitude']['2023-01']"
   ]
  },
  {
   "cell_type": "code",
   "execution_count": 284,
   "id": "ff973616",
   "metadata": {},
   "outputs": [],
   "source": []
  },
  {
   "cell_type": "code",
   "execution_count": 165,
   "id": "b9b7bb9f",
   "metadata": {},
   "outputs": [],
   "source": [
    "relatives = []\n",
    "\n",
    "for x in crimes_2023_03:\n",
    "    relatives.append(crimes_2023_03[x]/total)\n",
    "    \n",
    "r1 = relatives[0]\n",
    "r2 = relatives[1]\n",
    "r3 = relatives[2]\n",
    "r4 = relatives[3]\n",
    "r5 = relatives[4]\n",
    "r6 = relatives[5]\n",
    "r7 = relatives[6]\n",
    "r8 = relatives[7]\n",
    "r9 = relatives[8]\n",
    "r10 = relatives[9]\n",
    "r11 = relatives[10]\n",
    "r12 = relatives[11]\n",
    "r13 = relatives[12]\n",
    "r14 = relatives[13]\n",
    "r15 = relatives[14]\n",
    "r16 = relatives[15]\n",
    "r17 = relatives[16]\n",
    "r18 = relatives[17]\n",
    "r19 = relatives[18]\n",
    "r20 = relatives[19]\n",
    "r21 = relatives[20]\n",
    "r22 = relatives[21]\n",
    "r23 = relatives[22]\n",
    "r24 = relatives[23]\n",
    "\n",
    "m = Model(\"barnet\", solver_name = \"CBC\")\n",
    "high_bar = m.add_var(var_type=\"C\", lb=0, ub=4)\n",
    "underh = m.add_var(var_type=\"C\", lb=0, ub=4)\n",
    "east_bar = m.add_var(var_type=\"C\", lb=0, ub=4)\n",
    "bar_vale = m.add_var(var_type=\"C\", lb=0, ub=4)\n",
    "edgwarebury = m.add_var(var_type=\"C\", lb=0, ub=4)\n",
    "tot_wood = m.add_var(var_type=\"C\", lb=0, ub=4)\n",
    "whet = m.add_var(var_type=\"C\", lb=0, ub=4)\n",
    "bruns_p = m.add_var(var_type=\"C\", lb=0, ub=4)\n",
    "wood = m.add_var(var_type=\"C\", lb=0, ub=4)\n",
    "edgw = m.add_var(var_type=\"C\", lb=0, ub=4)\n",
    "fri_bar = m.add_var(var_type=\"C\", lb=0, ub=4)\n",
    "mill_hill = m.add_var(var_type=\"C\", lb=0, ub=4)\n",
    "bur_oak = m.add_var(var_type=\"C\", lb=0, ub=4)\n",
    "west_finch = m.add_var(var_type=\"C\", lb=0, ub=4)\n",
    "finch_chu = m.add_var(var_type=\"C\", lb=0, ub=4)\n",
    "col_north = m.add_var(var_type=\"C\", lb=0, ub=4)\n",
    "east_finch = m.add_var(var_type=\"C\", lb=0, ub=4)\n",
    "hendon = m.add_var(var_type=\"C\", lb=0, ub=4)\n",
    "gard_subu = m.add_var(var_type=\"C\", lb=0, ub=4)\n",
    "west_hend = m.add_var(var_type=\"C\", lb=0, ub=4)\n",
    "gold_green = m.add_var(var_type=\"C\", lb=0, ub=4)\n",
    "child_hill = m.add_var(var_type=\"C\", lb=0, ub=4)\n",
    "cricklew = m.add_var(var_type=\"C\", lb=0, ub=4)\n",
    "col_south = m.add_var(var_type=\"C\", lb=0, ub=4)\n",
    "doubles = m.add_var(var_type=\"B\")"
   ]
  },
  {
   "cell_type": "code",
   "execution_count": 166,
   "id": "9708ca87",
   "metadata": {},
   "outputs": [
    {
     "data": {
      "text/plain": [
       "<OptimizationStatus.INFEASIBLE: 1>"
      ]
     },
     "execution_count": 166,
     "metadata": {},
     "output_type": "execute_result"
    }
   ],
   "source": [
    "m.objective = maximize(r1*high_bar + r2*underh + r3*east_bar + r4*bar_vale + r5*edgwarebury + r6*tot_wood + r7*whet + r8*bruns_p + r9*wood + r10*edgw + r11*fri_bar + r12*mill_hill + r13*bur_oak + r14*west_finch + r15*finch_chu + r16*col_north + r17*east_finch + r18*hendon + r19*gard_subu + r20*west_hend + r21*gold_green + r22*child_hill + r23*cricklew + r24*col_south)\n",
    "m += high_bar + underh + east_bar + bar_vale + edgwarebury + tot_wood + whet + bruns_p + wood + edgw + fri_bar + mill_hill + bur_oak + west_finch + finch_chu + col_north + east_finch + hendon + gard_subu + west_hend + gold_green + child_hill + cricklew + col_south == 100\n",
    "\n",
    "\n",
    "m.optimize()"
   ]
  },
  {
   "cell_type": "code",
   "execution_count": 163,
   "id": "b8368be8",
   "metadata": {},
   "outputs": [],
   "source": [
    "if m.status == OptimizationStatus.OPTIMAL:\n",
    "    print('Optimal solution of value', round(m.objective_value, 3), 'found')"
   ]
  },
  {
   "cell_type": "code",
   "execution_count": 164,
   "id": "b39a95df",
   "metadata": {},
   "outputs": [
    {
     "name": "stdout",
     "output_type": "stream",
     "text": [
      "High Barnet: None\n",
      "Underhill: None\n",
      "East Barnet: None\n",
      "Barnet Vale: None\n",
      "Edgwarebury: None\n",
      "Totteridge & Woodside: None\n",
      "Whetstone: None\n",
      "Brunswick Park: None\n",
      "Woodhouse: None\n",
      "Edgware: None\n",
      "Friern Barnet: None\n",
      "Mill Hill: None\n",
      "Burnt Oak: None\n",
      "West Finchley: None\n",
      "Finchley Church End: None\n",
      "Colindale North: None\n",
      "East Finchley: None\n",
      "Hendon: None\n",
      "Garden Suburb: None\n",
      "West Hendon: None\n",
      "Golders Green: None\n",
      "Childs Hill: None\n",
      "Cricklewood: None\n",
      "Colindale South: None\n"
     ]
    }
   ],
   "source": [
    "print('High Barnet:', high_bar.x)\n",
    "print('Underhill:', underh.x)\n",
    "print('East Barnet:', east_bar.x)\n",
    "print('Barnet Vale:', bar_vale.x)\n",
    "print('Edgwarebury:', edgwarebury.x)\n",
    "print('Totteridge & Woodside:', tot_wood.x)\n",
    "print('Whetstone:', whet.x)\n",
    "print('Brunswick Park:', bruns_p.x)\n",
    "print('Woodhouse:', wood.x)\n",
    "print('Edgware:', edgw.x)\n",
    "print('Friern Barnet:', fri_bar.x)\n",
    "print('Mill Hill:', mill_hill.x)\n",
    "print('Burnt Oak:', bur_oak.x)\n",
    "print('West Finchley:', west_finch.x)\n",
    "print('Finchley Church End:', finch_chu.x)\n",
    "print('Colindale North:', col_north.x)\n",
    "print('East Finchley:', east_finch.x)\n",
    "print('Hendon:', hendon.x)\n",
    "print('Garden Suburb:', gard_subu.x)\n",
    "print('West Hendon:', west_hend.x)\n",
    "print('Golders Green:', gold_green.x)\n",
    "print('Childs Hill:', child_hill.x)\n",
    "print('Cricklewood:', cricklew.x)\n",
    "print('Colindale South:', col_south.x)\n"
   ]
  },
  {
   "cell_type": "code",
   "execution_count": 314,
   "id": "e0e9078c",
   "metadata": {},
   "outputs": [],
   "source": [
    "all_months = ['2010-12', '2011-01', '2011-02', '2011-03', '2011-04', '2011-05', '2011-06', '2011-07', '2011-08', '2011-09', '2011-10', '2011-11', '2011-12', '2012-01', '2012-02', '2012-03', '2012-04', '2012-05', '2012-06', '2012-07', '2012-08', '2012-09', '2012-10', '2012-11', '2012-12', '2013-01', '2013-02', '2013-03', '2013-04', '2013-05', '2013-06', '2013-07', '2013-08', '2013-09', '2013-10', '2013-11', '2013-12', '2014-01', '2014-02', '2014-03', '2014-04', '2014-05', '2014-06', '2014-07', '2014-08', '2014-09', '2014-10', '2014-11', '2014-12', '2015-01', '2015-02', '2015-03', '2015-04', '2015-05', '2015-06', '2015-07', '2015-08', '2015-09', '2015-10', '2015-11', '2015-12', '2016-01', '2016-02', '2016-03', '2016-04', '2016-05', '2016-06', '2016-07', '2016-08', '2016-09', '2016-10', '2016-11', '2016-12', '2017-01', '2017-02', '2017-03', '2017-04', '2017-05', '2017-06', '2017-07', '2017-08', '2017-09', '2017-10', '2017-11', '2017-12', '2018-01', '2018-02', '2018-03', '2018-04', '2018-05', '2018-06', '2018-07', '2018-08', '2018-09', '2018-10', '2018-11', '2018-12', '2019-01', '2019-02', '2019-03', '2019-04', '2019-05', '2019-06', '2019-07', '2019-08', '2019-09', '2019-10','2019-11', '2019-12', '2020-01', '2020-02', '2020-03', '2020-04', '2020-05', '2020-06', '2020-07', '2020-08', '2020-09', '2020-10', '2020-11', '2020-12', '2021-01', '2021-02','2021-03', '2021-04', '2021-05', '2021-06', '2021-07', '2021-08', '2021-09', '2021-10', '2021-11', '2021-12', '2022-01', '2022-02', '2022-03', '2022-04', '2022-05', '2022-06', '2022-07', '2022-08', '2022-09', '2022-10', '2022-11', '2022-12', '2023-01', '2023-02', '2023-03']"
   ]
  },
  {
   "cell_type": "code",
   "execution_count": 430,
   "id": "54ba05f7",
   "metadata": {},
   "outputs": [],
   "source": [
    "def create_monthly_crimes(month):\n",
    "    monthly_crimes = {}\n",
    "    for w in wards:\n",
    "        try:\n",
    "            monthly_crimes[w] = int(dataset[dataset['ward_name'] == w].groupby('month').count()['longitude'][month])\n",
    "        except:\n",
    "            monthly_crimes[w] = 0\n",
    "            \n",
    "    return monthly_crimes\n",
    "\n",
    "def fix_amount(rounded_total, temp_dct):\n",
    "    change_down = []\n",
    "    change_up = []\n",
    "\n",
    "    while rounded_total > 50:\n",
    "        high = -999\n",
    "        for x in dct:\n",
    "            if temp_dct[x][0] > high:\n",
    "                high = temp_dct[x][0]\n",
    "                highest = [x]\n",
    "            elif temp_dct[x][0] == high:\n",
    "                highest.append(x)\n",
    "         \n",
    "        low = 999\n",
    "        for x in highest:\n",
    "            if temp_dct[x][1] < low:\n",
    "                low = temp_dct[x][1]\n",
    "                final = x\n",
    "    \n",
    "        temp_dct[final][1] += 1\n",
    "        change_down.append(final)      \n",
    "        rounded_total -= 1\n",
    "        \n",
    "        \n",
    "    while rounded_total < 50:\n",
    "        low = 999\n",
    "        for x in dct:\n",
    "            if temp_dct[x][0] < low:\n",
    "                low = temp_dct[x][0]\n",
    "                lowest = [x]\n",
    "            elif temp_dct[x][0] == low:\n",
    "                lowest.append(x)\n",
    "        \n",
    "        high = -999\n",
    "        for x in lowest:\n",
    "            if temp_dct[x][1] > high:\n",
    "                high = temp_dct[x][1]\n",
    "                final = x  \n",
    "\n",
    "        temp_dct[final][1] -= 1\n",
    "        change_up.append(final)\n",
    "        rounded_total +=1\n",
    "        \n",
    "        \n",
    "    for x in change_up:\n",
    "        temp_dct[x][0] += 1\n",
    "        \n",
    "    for x in change_down:\n",
    "        temp_dct[x][0] -= 1\n",
    "        "
   ]
  },
  {
   "cell_type": "code",
   "execution_count": 452,
   "id": "cea9167a",
   "metadata": {},
   "outputs": [],
   "source": [
    "monthly_crimes = {'High Barnet': 6,\n",
    " 'Underhill': 3,\n",
    " 'East Barnet': 2,\n",
    " 'Barnet Vale': 5,\n",
    " 'Edgwarebury': 5,\n",
    " 'Totteridge & Woodside': 5,\n",
    " 'Whetstone': 6,\n",
    " 'Brunswick Park': 6,\n",
    " 'Woodhouse': 5,\n",
    " 'Edgware': 8,\n",
    " 'Friern Barnet': 7,\n",
    " 'Mill Hill': 8,\n",
    " 'Burnt Oak': 10,\n",
    " 'West Finchley': 11,\n",
    " 'Finchley Church End': 6,\n",
    " 'Colindale North': 3,\n",
    " 'East Finchley': 9,\n",
    " 'Hendon': 2,\n",
    " 'Garden Suburb': 5,\n",
    " 'West Hendon': 9,\n",
    " 'Golders Green': 6,\n",
    " 'Childs Hill': 17,\n",
    " 'Cricklewood': 3,\n",
    " 'Colindale South': 2}"
   ]
  },
  {
   "cell_type": "code",
   "execution_count": 454,
   "id": "a99fc6a4",
   "metadata": {
    "scrolled": false
   },
   "outputs": [
    {
     "name": "stdout",
     "output_type": "stream",
     "text": [
      "Total assigned officers this month: 100\n"
     ]
    },
    {
     "data": {
      "text/plain": [
       "{'High Barnet': 4,\n",
       " 'Underhill': 2,\n",
       " 'East Barnet': 4,\n",
       " 'Barnet Vale': 4,\n",
       " 'Edgwarebury': 2,\n",
       " 'Totteridge & Woodside': 2,\n",
       " 'Whetstone': 2,\n",
       " 'Brunswick Park': 2,\n",
       " 'Woodhouse': 6,\n",
       " 'Edgware': 4,\n",
       " 'Friern Barnet': 6,\n",
       " 'Mill Hill': 4,\n",
       " 'Burnt Oak': 6,\n",
       " 'West Finchley': 6,\n",
       " 'Finchley Church End': 8,\n",
       " 'Colindale North': 2,\n",
       " 'East Finchley': 4,\n",
       " 'Hendon': 8,\n",
       " 'Garden Suburb': 6,\n",
       " 'West Hendon': 4,\n",
       " 'Golders Green': 8,\n",
       " 'Childs Hill': 4,\n",
       " 'Cricklewood': 2,\n",
       " 'Colindale South': 0}"
      ]
     },
     "execution_count": 454,
     "metadata": {},
     "output_type": "execute_result"
    }
   ],
   "source": [
    "month = '2020-09'\n",
    "total = dataset.groupby('month').count()['latitude'][month]\n",
    "monthly_crimes = create_monthly_crimes(month)\n",
    "\n",
    "temp_dct = {}\n",
    "rounded_total = 0\n",
    "for x in monthly_crimes:\n",
    "    temp_dct[x] = [round((monthly_crimes[x]/total)*50), ((monthly_crimes[x]/total)*50)]\n",
    "    rounded_total += round((monthly_crimes[x]/total)*50)\n",
    "\n",
    "fix_amount(rounded_total, temp_dct)\n",
    " \n",
    "assigned_officers = {}\n",
    "for x in dct:\n",
    "    assigned_officers[x] = temp_dct[x][0]*2\n",
    "\n",
    "final_total = 0\n",
    "for x in assigned_officers:\n",
    "    final_total += assigned_officers[x]\n",
    "    \n",
    "print(\"Total assigned officers this month:\", final_total)\n",
    "assigned_officers"
   ]
  },
  {
   "cell_type": "code",
   "execution_count": null,
   "id": "edb9be69",
   "metadata": {},
   "outputs": [],
   "source": []
  }
 ],
 "metadata": {
  "kernelspec": {
   "display_name": "Python 3 (ipykernel)",
   "language": "python",
   "name": "python3"
  },
  "language_info": {
   "codemirror_mode": {
    "name": "ipython",
    "version": 3
   },
   "file_extension": ".py",
   "mimetype": "text/x-python",
   "name": "python",
   "nbconvert_exporter": "python",
   "pygments_lexer": "ipython3",
   "version": "3.8.8"
  }
 },
 "nbformat": 4,
 "nbformat_minor": 5
}
