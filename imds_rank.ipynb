{
 "cells": [
  {
   "cell_type": "code",
   "execution_count": 33,
   "metadata": {
    "collapsed": true
   },
   "outputs": [],
   "source": [
    "import pandas as pd\n",
    "import numpy as np\n",
    "import hashlib\n",
    "import matplotlib.pyplot as plt"
   ]
  },
  {
   "cell_type": "markdown",
   "source": [
    "## Creating/Reading total dataframe"
   ],
   "metadata": {
    "collapsed": false
   }
  },
  {
   "cell_type": "code",
   "execution_count": 34,
   "outputs": [],
   "source": [
    "# OLD\n",
    "# uncomment to create total_barnet file\n",
    "\n",
    "# read data\n",
    "# df1 = pd.read_csv('data/barnet_Dec2010-Apr2017.csv')\n",
    "# df2 = pd.read_csv('data/barnet_May2017-Apr2020.csv')\n",
    "# df3 = pd.read_csv('data/barnet_Apr2020-Mar2023.csv')\n",
    "#\n",
    "# # concatenate the dataframes\n",
    "# total_barnet = pd.concat([df1, df2, df3])\n",
    "# total_barnet = total_barnet.drop('Unnamed: 0', axis=1)\n",
    "#\n",
    "# # save total_barnet data\n",
    "# total_barnet.to_csv('data/total_barnet.csv', index=False)"
   ],
   "metadata": {
    "collapsed": false
   }
  },
  {
   "cell_type": "code",
   "execution_count": 35,
   "outputs": [],
   "source": [
    "# Uncomment if using .parquet file\n",
    "total_barnet = pd.read_parquet('data/clean_df.parquet', engine='pyarrow')\n",
    "\n",
    "# Uncomment if using saved csv file\n",
    "# total_barnet = pd.read_csv('data/total_barnet.csv')"
   ],
   "metadata": {
    "collapsed": false
   }
  },
  {
   "cell_type": "code",
   "execution_count": 36,
   "outputs": [
    {
     "data": {
      "text/plain": "                                                crime_id    month  longitude   \n0                                                   None  2010-12  -0.201877  \\\n1                                                   None  2010-12  -0.207853   \n2                                                   None  2010-12  -0.202510   \n3                                                   None  2010-12  -0.206779   \n4                                                   None  2010-12  -0.209537   \n...                                                  ...      ...        ...   \n44133  fda0870be993d2c9352ae14a540bf529c15a7aa9d92a4e...  2023-03  -0.202163   \n44134  c6c2d9a772695865f4ca33fce59c26c48fe3a1cdac8c22...  2023-03  -0.202163   \n44135  e5bab2bd4f31de44515dbf125b85284392d0349139a1d3...  2023-03  -0.197843   \n44136  823465427f8764e250a48312715a4bd87e8012412046c6...  2023-03  -0.199449   \n44137  50b5bbf4987109ee189f8a736ec7e92365b25169b7f783...  2023-03  -0.197843   \n\n        latitude                  location  lsoa_code    lsoa_name   \n0      51.655538    On or near High Street  E01000248  Barnet 001A  \\\n1      51.654317     On or near The Avenue  E01000248  Barnet 001A   \n2      51.656348     On or near Bruce Road  E01000248  Barnet 001A   \n3      51.654768      On or near The Drive  E01000248  Barnet 001A   \n4      51.655223  On or near Marriott Road  E01000249  Barnet 001B   \n...          ...                       ...        ...          ...   \n44133  51.559100   On or near Hocroft Road  E01000139  Barnet 041B   \n44134  51.559100   On or near Hocroft Road  E01000139  Barnet 041B   \n44135  51.561093    On or near Church Walk  E01000140  Barnet 041C   \n44136  51.563896  On or near Llanelly Road  E01000140  Barnet 041C   \n44137  51.561093    On or near Church Walk  E01000140  Barnet 041C   \n\n      last_outcome_category  \n0                      None  \n1                      None  \n2                      None  \n3                      None  \n4                      None  \n...                     ...  \n44133   Under investigation  \n44134   Under investigation  \n44135   Under investigation  \n44136   Under investigation  \n44137   Under investigation  \n\n[44138 rows x 8 columns]",
      "text/html": "<div>\n<style scoped>\n    .dataframe tbody tr th:only-of-type {\n        vertical-align: middle;\n    }\n\n    .dataframe tbody tr th {\n        vertical-align: top;\n    }\n\n    .dataframe thead th {\n        text-align: right;\n    }\n</style>\n<table border=\"1\" class=\"dataframe\">\n  <thead>\n    <tr style=\"text-align: right;\">\n      <th></th>\n      <th>crime_id</th>\n      <th>month</th>\n      <th>longitude</th>\n      <th>latitude</th>\n      <th>location</th>\n      <th>lsoa_code</th>\n      <th>lsoa_name</th>\n      <th>last_outcome_category</th>\n    </tr>\n  </thead>\n  <tbody>\n    <tr>\n      <th>0</th>\n      <td>None</td>\n      <td>2010-12</td>\n      <td>-0.201877</td>\n      <td>51.655538</td>\n      <td>On or near High Street</td>\n      <td>E01000248</td>\n      <td>Barnet 001A</td>\n      <td>None</td>\n    </tr>\n    <tr>\n      <th>1</th>\n      <td>None</td>\n      <td>2010-12</td>\n      <td>-0.207853</td>\n      <td>51.654317</td>\n      <td>On or near The Avenue</td>\n      <td>E01000248</td>\n      <td>Barnet 001A</td>\n      <td>None</td>\n    </tr>\n    <tr>\n      <th>2</th>\n      <td>None</td>\n      <td>2010-12</td>\n      <td>-0.202510</td>\n      <td>51.656348</td>\n      <td>On or near Bruce Road</td>\n      <td>E01000248</td>\n      <td>Barnet 001A</td>\n      <td>None</td>\n    </tr>\n    <tr>\n      <th>3</th>\n      <td>None</td>\n      <td>2010-12</td>\n      <td>-0.206779</td>\n      <td>51.654768</td>\n      <td>On or near The Drive</td>\n      <td>E01000248</td>\n      <td>Barnet 001A</td>\n      <td>None</td>\n    </tr>\n    <tr>\n      <th>4</th>\n      <td>None</td>\n      <td>2010-12</td>\n      <td>-0.209537</td>\n      <td>51.655223</td>\n      <td>On or near Marriott Road</td>\n      <td>E01000249</td>\n      <td>Barnet 001B</td>\n      <td>None</td>\n    </tr>\n    <tr>\n      <th>...</th>\n      <td>...</td>\n      <td>...</td>\n      <td>...</td>\n      <td>...</td>\n      <td>...</td>\n      <td>...</td>\n      <td>...</td>\n      <td>...</td>\n    </tr>\n    <tr>\n      <th>44133</th>\n      <td>fda0870be993d2c9352ae14a540bf529c15a7aa9d92a4e...</td>\n      <td>2023-03</td>\n      <td>-0.202163</td>\n      <td>51.559100</td>\n      <td>On or near Hocroft Road</td>\n      <td>E01000139</td>\n      <td>Barnet 041B</td>\n      <td>Under investigation</td>\n    </tr>\n    <tr>\n      <th>44134</th>\n      <td>c6c2d9a772695865f4ca33fce59c26c48fe3a1cdac8c22...</td>\n      <td>2023-03</td>\n      <td>-0.202163</td>\n      <td>51.559100</td>\n      <td>On or near Hocroft Road</td>\n      <td>E01000139</td>\n      <td>Barnet 041B</td>\n      <td>Under investigation</td>\n    </tr>\n    <tr>\n      <th>44135</th>\n      <td>e5bab2bd4f31de44515dbf125b85284392d0349139a1d3...</td>\n      <td>2023-03</td>\n      <td>-0.197843</td>\n      <td>51.561093</td>\n      <td>On or near Church Walk</td>\n      <td>E01000140</td>\n      <td>Barnet 041C</td>\n      <td>Under investigation</td>\n    </tr>\n    <tr>\n      <th>44136</th>\n      <td>823465427f8764e250a48312715a4bd87e8012412046c6...</td>\n      <td>2023-03</td>\n      <td>-0.199449</td>\n      <td>51.563896</td>\n      <td>On or near Llanelly Road</td>\n      <td>E01000140</td>\n      <td>Barnet 041C</td>\n      <td>Under investigation</td>\n    </tr>\n    <tr>\n      <th>44137</th>\n      <td>50b5bbf4987109ee189f8a736ec7e92365b25169b7f783...</td>\n      <td>2023-03</td>\n      <td>-0.197843</td>\n      <td>51.561093</td>\n      <td>On or near Church Walk</td>\n      <td>E01000140</td>\n      <td>Barnet 041C</td>\n      <td>Under investigation</td>\n    </tr>\n  </tbody>\n</table>\n<p>44138 rows × 8 columns</p>\n</div>"
     },
     "execution_count": 36,
     "metadata": {},
     "output_type": "execute_result"
    }
   ],
   "source": [
    "# Remove unnecessary columns\n",
    "total_barnet = total_barnet.drop(['Reported by', 'Falls within', 'Crime type', 'Context'], axis=1).reset_index(drop=True)\n",
    "\n",
    "# Change column names to lowercase and replace spaces with underscores\n",
    "total_barnet.columns = total_barnet.columns.str.lower().str.replace(' ', '_')\n",
    "total_barnet"
   ],
   "metadata": {
    "collapsed": false
   }
  },
  {
   "cell_type": "markdown",
   "source": [
    "## Exploration"
   ],
   "metadata": {
    "collapsed": false
   }
  },
  {
   "cell_type": "code",
   "execution_count": 37,
   "outputs": [
    {
     "name": "stdout",
     "output_type": "stream",
     "text": [
      "NaN counts per column:\n",
      "crime_id                 4792\n",
      "month                       0\n",
      "longitude                   0\n",
      "latitude                    0\n",
      "location                    0\n",
      "lsoa_code                   0\n",
      "lsoa_name                   0\n",
      "last_outcome_category    5231\n",
      "dtype: int64\n",
      "\n",
      "NaN percentages per column:\n",
      "crime_id                 10.856858\n",
      "month                     0.000000\n",
      "longitude                 0.000000\n",
      "latitude                  0.000000\n",
      "location                  0.000000\n",
      "lsoa_code                 0.000000\n",
      "lsoa_name                 0.000000\n",
      "last_outcome_category    11.851466\n",
      "dtype: float64\n"
     ]
    }
   ],
   "source": [
    "# count NaN values per column\n",
    "nan_counts = total_barnet.isna().sum()\n",
    "\n",
    "# calculate the percentage of NaN values per column\n",
    "nan_percentages = nan_counts / len(total_barnet) * 100\n",
    "\n",
    "# print the results\n",
    "print(\"NaN counts per column:\")\n",
    "print(nan_counts)\n",
    "print(\"\\nNaN percentages per column:\")\n",
    "print(nan_percentages)"
   ],
   "metadata": {
    "collapsed": false
   }
  },
  {
   "cell_type": "code",
   "execution_count": 38,
   "outputs": [
    {
     "data": {
      "text/plain": "                                                crime_id    month  longitude   \n0      5feceb66ffc86f38d952786c6d696c79c2dbc239dd4e91...  2010-12  -0.201877  \\\n1      6b86b273ff34fce19d6b804eff5a3f5747ada4eaa22f1d...  2010-12  -0.207853   \n2      d4735e3a265e16eee03f59718b9b5d03019c07d8b6c51f...  2010-12  -0.202510   \n3      4e07408562bedb8b60ce05c1decfe3ad16b72230967de0...  2010-12  -0.206779   \n4      4b227777d4dd1fc61c6f884f48641d02b4d121d3fd328c...  2010-12  -0.209537   \n...                                                  ...      ...        ...   \n44133  fda0870be993d2c9352ae14a540bf529c15a7aa9d92a4e...  2023-03  -0.202163   \n44134  c6c2d9a772695865f4ca33fce59c26c48fe3a1cdac8c22...  2023-03  -0.202163   \n44135  e5bab2bd4f31de44515dbf125b85284392d0349139a1d3...  2023-03  -0.197843   \n44136  823465427f8764e250a48312715a4bd87e8012412046c6...  2023-03  -0.199449   \n44137  50b5bbf4987109ee189f8a736ec7e92365b25169b7f783...  2023-03  -0.197843   \n\n        latitude                  location  lsoa_code    lsoa_name   \n0      51.655538    On or near High Street  E01000248  Barnet 001A  \\\n1      51.654317     On or near The Avenue  E01000248  Barnet 001A   \n2      51.656348     On or near Bruce Road  E01000248  Barnet 001A   \n3      51.654768      On or near The Drive  E01000248  Barnet 001A   \n4      51.655223  On or near Marriott Road  E01000249  Barnet 001B   \n...          ...                       ...        ...          ...   \n44133  51.559100   On or near Hocroft Road  E01000139  Barnet 041B   \n44134  51.559100   On or near Hocroft Road  E01000139  Barnet 041B   \n44135  51.561093    On or near Church Walk  E01000140  Barnet 041C   \n44136  51.563896  On or near Llanelly Road  E01000140  Barnet 041C   \n44137  51.561093    On or near Church Walk  E01000140  Barnet 041C   \n\n      last_outcome_category  \n0                      None  \n1                      None  \n2                      None  \n3                      None  \n4                      None  \n...                     ...  \n44133   Under investigation  \n44134   Under investigation  \n44135   Under investigation  \n44136   Under investigation  \n44137   Under investigation  \n\n[44138 rows x 8 columns]",
      "text/html": "<div>\n<style scoped>\n    .dataframe tbody tr th:only-of-type {\n        vertical-align: middle;\n    }\n\n    .dataframe tbody tr th {\n        vertical-align: top;\n    }\n\n    .dataframe thead th {\n        text-align: right;\n    }\n</style>\n<table border=\"1\" class=\"dataframe\">\n  <thead>\n    <tr style=\"text-align: right;\">\n      <th></th>\n      <th>crime_id</th>\n      <th>month</th>\n      <th>longitude</th>\n      <th>latitude</th>\n      <th>location</th>\n      <th>lsoa_code</th>\n      <th>lsoa_name</th>\n      <th>last_outcome_category</th>\n    </tr>\n  </thead>\n  <tbody>\n    <tr>\n      <th>0</th>\n      <td>5feceb66ffc86f38d952786c6d696c79c2dbc239dd4e91...</td>\n      <td>2010-12</td>\n      <td>-0.201877</td>\n      <td>51.655538</td>\n      <td>On or near High Street</td>\n      <td>E01000248</td>\n      <td>Barnet 001A</td>\n      <td>None</td>\n    </tr>\n    <tr>\n      <th>1</th>\n      <td>6b86b273ff34fce19d6b804eff5a3f5747ada4eaa22f1d...</td>\n      <td>2010-12</td>\n      <td>-0.207853</td>\n      <td>51.654317</td>\n      <td>On or near The Avenue</td>\n      <td>E01000248</td>\n      <td>Barnet 001A</td>\n      <td>None</td>\n    </tr>\n    <tr>\n      <th>2</th>\n      <td>d4735e3a265e16eee03f59718b9b5d03019c07d8b6c51f...</td>\n      <td>2010-12</td>\n      <td>-0.202510</td>\n      <td>51.656348</td>\n      <td>On or near Bruce Road</td>\n      <td>E01000248</td>\n      <td>Barnet 001A</td>\n      <td>None</td>\n    </tr>\n    <tr>\n      <th>3</th>\n      <td>4e07408562bedb8b60ce05c1decfe3ad16b72230967de0...</td>\n      <td>2010-12</td>\n      <td>-0.206779</td>\n      <td>51.654768</td>\n      <td>On or near The Drive</td>\n      <td>E01000248</td>\n      <td>Barnet 001A</td>\n      <td>None</td>\n    </tr>\n    <tr>\n      <th>4</th>\n      <td>4b227777d4dd1fc61c6f884f48641d02b4d121d3fd328c...</td>\n      <td>2010-12</td>\n      <td>-0.209537</td>\n      <td>51.655223</td>\n      <td>On or near Marriott Road</td>\n      <td>E01000249</td>\n      <td>Barnet 001B</td>\n      <td>None</td>\n    </tr>\n    <tr>\n      <th>...</th>\n      <td>...</td>\n      <td>...</td>\n      <td>...</td>\n      <td>...</td>\n      <td>...</td>\n      <td>...</td>\n      <td>...</td>\n      <td>...</td>\n    </tr>\n    <tr>\n      <th>44133</th>\n      <td>fda0870be993d2c9352ae14a540bf529c15a7aa9d92a4e...</td>\n      <td>2023-03</td>\n      <td>-0.202163</td>\n      <td>51.559100</td>\n      <td>On or near Hocroft Road</td>\n      <td>E01000139</td>\n      <td>Barnet 041B</td>\n      <td>Under investigation</td>\n    </tr>\n    <tr>\n      <th>44134</th>\n      <td>c6c2d9a772695865f4ca33fce59c26c48fe3a1cdac8c22...</td>\n      <td>2023-03</td>\n      <td>-0.202163</td>\n      <td>51.559100</td>\n      <td>On or near Hocroft Road</td>\n      <td>E01000139</td>\n      <td>Barnet 041B</td>\n      <td>Under investigation</td>\n    </tr>\n    <tr>\n      <th>44135</th>\n      <td>e5bab2bd4f31de44515dbf125b85284392d0349139a1d3...</td>\n      <td>2023-03</td>\n      <td>-0.197843</td>\n      <td>51.561093</td>\n      <td>On or near Church Walk</td>\n      <td>E01000140</td>\n      <td>Barnet 041C</td>\n      <td>Under investigation</td>\n    </tr>\n    <tr>\n      <th>44136</th>\n      <td>823465427f8764e250a48312715a4bd87e8012412046c6...</td>\n      <td>2023-03</td>\n      <td>-0.199449</td>\n      <td>51.563896</td>\n      <td>On or near Llanelly Road</td>\n      <td>E01000140</td>\n      <td>Barnet 041C</td>\n      <td>Under investigation</td>\n    </tr>\n    <tr>\n      <th>44137</th>\n      <td>50b5bbf4987109ee189f8a736ec7e92365b25169b7f783...</td>\n      <td>2023-03</td>\n      <td>-0.197843</td>\n      <td>51.561093</td>\n      <td>On or near Church Walk</td>\n      <td>E01000140</td>\n      <td>Barnet 041C</td>\n      <td>Under investigation</td>\n    </tr>\n  </tbody>\n</table>\n<p>44138 rows × 8 columns</p>\n</div>"
     },
     "execution_count": 38,
     "metadata": {},
     "output_type": "execute_result"
    }
   ],
   "source": [
    "# generate SHA-256 hash values for NaN values\n",
    "hash_values = []\n",
    "for i in range(total_barnet['crime_id'].isna().sum()):\n",
    "    hash_object = hashlib.sha256()\n",
    "    hash_object.update(str(i).encode('utf-8'))\n",
    "    hash_values.append(hash_object.hexdigest())\n",
    "\n",
    "# fill NaN values with hash values\n",
    "total_barnet.loc[total_barnet['crime_id'].isna(), 'crime_id'] = hash_values\n",
    "total_barnet"
   ],
   "metadata": {
    "collapsed": false
   }
  },
  {
   "cell_type": "code",
   "execution_count": 39,
   "outputs": [
    {
     "name": "stdout",
     "output_type": "stream",
     "text": [
      "NaN counts per column:\n",
      "crime_id                    0\n",
      "month                       0\n",
      "longitude                   0\n",
      "latitude                    0\n",
      "location                    0\n",
      "lsoa_code                   0\n",
      "lsoa_name                   0\n",
      "last_outcome_category    5231\n",
      "dtype: int64\n",
      "\n",
      "NaN percentages per column:\n",
      "crime_id                  0.000000\n",
      "month                     0.000000\n",
      "longitude                 0.000000\n",
      "latitude                  0.000000\n",
      "location                  0.000000\n",
      "lsoa_code                 0.000000\n",
      "lsoa_name                 0.000000\n",
      "last_outcome_category    11.851466\n",
      "dtype: float64\n"
     ]
    }
   ],
   "source": [
    "# count NaN values per column\n",
    "nan_counts = total_barnet.isna().sum()\n",
    "\n",
    "# calculate the percentage of NaN values per column\n",
    "nan_percentages = nan_counts / len(total_barnet) * 100\n",
    "\n",
    "# print the results\n",
    "print(\"NaN counts per column:\")\n",
    "print(nan_counts)\n",
    "print(\"\\nNaN percentages per column:\")\n",
    "print(nan_percentages)"
   ],
   "metadata": {
    "collapsed": false
   }
  },
  {
   "cell_type": "code",
   "execution_count": 40,
   "outputs": [
    {
     "data": {
      "text/plain": "                                                crime_id    month  longitude   \n4870   327fcd67d18e70a09947928217f9c47196b7bff8dea34b...  2011-12  -0.176357  \\\n4872   327fcd67d18e70a09947928217f9c47196b7bff8dea34b...  2011-12  -0.176357   \n5173   17ff508fad28a4c5295e1b42e331cefc9b0de4f55d79c9...  2011-12  -0.209199   \n5174   17ff508fad28a4c5295e1b42e331cefc9b0de4f55d79c9...  2011-12  -0.209199   \n5175   17ff508fad28a4c5295e1b42e331cefc9b0de4f55d79c9...  2011-12  -0.209199   \n...                                                  ...      ...        ...   \n44059  c8f5651098479309e305a8dfd1fee6fc9e7cc278a0d014...  2023-03  -0.245925   \n44060  c8f5651098479309e305a8dfd1fee6fc9e7cc278a0d014...  2023-03  -0.245925   \n44061  c8f5651098479309e305a8dfd1fee6fc9e7cc278a0d014...  2023-03  -0.245925   \n44105  614ef238ce2fa13eb05ab42e18da2ce827ec7c2cbec65c...  2023-03  -0.211449   \n44106  614ef238ce2fa13eb05ab42e18da2ce827ec7c2cbec65c...  2023-03  -0.211449   \n\n        latitude                      location  lsoa_code    lsoa_name   \n4870   51.635092          On or near High Road  E01000271  Barnet 008A  \\\n4872   51.635092          On or near High Road  E01000271  Barnet 008A   \n5173   51.570601  On or near Pedestrian Subway  E01000145  Barnet 037A   \n5174   51.570601  On or near Pedestrian Subway  E01000145  Barnet 037A   \n5175   51.570601  On or near Pedestrian Subway  E01000145  Barnet 037A   \n...          ...                           ...        ...          ...   \n44059  51.597926       On or near Cherry Close  E01000155  Barnet 030D   \n44060  51.597926       On or near Cherry Close  E01000155  Barnet 030D   \n44061  51.597926       On or near Cherry Close  E01000155  Barnet 030D   \n44105  51.576867   On or near Highfield Avenue  E01000219  Barnet 037D   \n44106  51.576867   On or near Highfield Avenue  E01000219  Barnet 037D   \n\n      last_outcome_category  \n4870                   None  \n4872                   None  \n5173                   None  \n5174                   None  \n5175                   None  \n...                     ...  \n44059   Under investigation  \n44060   Under investigation  \n44061   Under investigation  \n44105   Under investigation  \n44106   Under investigation  \n\n[759 rows x 8 columns]",
      "text/html": "<div>\n<style scoped>\n    .dataframe tbody tr th:only-of-type {\n        vertical-align: middle;\n    }\n\n    .dataframe tbody tr th {\n        vertical-align: top;\n    }\n\n    .dataframe thead th {\n        text-align: right;\n    }\n</style>\n<table border=\"1\" class=\"dataframe\">\n  <thead>\n    <tr style=\"text-align: right;\">\n      <th></th>\n      <th>crime_id</th>\n      <th>month</th>\n      <th>longitude</th>\n      <th>latitude</th>\n      <th>location</th>\n      <th>lsoa_code</th>\n      <th>lsoa_name</th>\n      <th>last_outcome_category</th>\n    </tr>\n  </thead>\n  <tbody>\n    <tr>\n      <th>4870</th>\n      <td>327fcd67d18e70a09947928217f9c47196b7bff8dea34b...</td>\n      <td>2011-12</td>\n      <td>-0.176357</td>\n      <td>51.635092</td>\n      <td>On or near High Road</td>\n      <td>E01000271</td>\n      <td>Barnet 008A</td>\n      <td>None</td>\n    </tr>\n    <tr>\n      <th>4872</th>\n      <td>327fcd67d18e70a09947928217f9c47196b7bff8dea34b...</td>\n      <td>2011-12</td>\n      <td>-0.176357</td>\n      <td>51.635092</td>\n      <td>On or near High Road</td>\n      <td>E01000271</td>\n      <td>Barnet 008A</td>\n      <td>None</td>\n    </tr>\n    <tr>\n      <th>5173</th>\n      <td>17ff508fad28a4c5295e1b42e331cefc9b0de4f55d79c9...</td>\n      <td>2011-12</td>\n      <td>-0.209199</td>\n      <td>51.570601</td>\n      <td>On or near Pedestrian Subway</td>\n      <td>E01000145</td>\n      <td>Barnet 037A</td>\n      <td>None</td>\n    </tr>\n    <tr>\n      <th>5174</th>\n      <td>17ff508fad28a4c5295e1b42e331cefc9b0de4f55d79c9...</td>\n      <td>2011-12</td>\n      <td>-0.209199</td>\n      <td>51.570601</td>\n      <td>On or near Pedestrian Subway</td>\n      <td>E01000145</td>\n      <td>Barnet 037A</td>\n      <td>None</td>\n    </tr>\n    <tr>\n      <th>5175</th>\n      <td>17ff508fad28a4c5295e1b42e331cefc9b0de4f55d79c9...</td>\n      <td>2011-12</td>\n      <td>-0.209199</td>\n      <td>51.570601</td>\n      <td>On or near Pedestrian Subway</td>\n      <td>E01000145</td>\n      <td>Barnet 037A</td>\n      <td>None</td>\n    </tr>\n    <tr>\n      <th>...</th>\n      <td>...</td>\n      <td>...</td>\n      <td>...</td>\n      <td>...</td>\n      <td>...</td>\n      <td>...</td>\n      <td>...</td>\n      <td>...</td>\n    </tr>\n    <tr>\n      <th>44059</th>\n      <td>c8f5651098479309e305a8dfd1fee6fc9e7cc278a0d014...</td>\n      <td>2023-03</td>\n      <td>-0.245925</td>\n      <td>51.597926</td>\n      <td>On or near Cherry Close</td>\n      <td>E01000155</td>\n      <td>Barnet 030D</td>\n      <td>Under investigation</td>\n    </tr>\n    <tr>\n      <th>44060</th>\n      <td>c8f5651098479309e305a8dfd1fee6fc9e7cc278a0d014...</td>\n      <td>2023-03</td>\n      <td>-0.245925</td>\n      <td>51.597926</td>\n      <td>On or near Cherry Close</td>\n      <td>E01000155</td>\n      <td>Barnet 030D</td>\n      <td>Under investigation</td>\n    </tr>\n    <tr>\n      <th>44061</th>\n      <td>c8f5651098479309e305a8dfd1fee6fc9e7cc278a0d014...</td>\n      <td>2023-03</td>\n      <td>-0.245925</td>\n      <td>51.597926</td>\n      <td>On or near Cherry Close</td>\n      <td>E01000155</td>\n      <td>Barnet 030D</td>\n      <td>Under investigation</td>\n    </tr>\n    <tr>\n      <th>44105</th>\n      <td>614ef238ce2fa13eb05ab42e18da2ce827ec7c2cbec65c...</td>\n      <td>2023-03</td>\n      <td>-0.211449</td>\n      <td>51.576867</td>\n      <td>On or near Highfield Avenue</td>\n      <td>E01000219</td>\n      <td>Barnet 037D</td>\n      <td>Under investigation</td>\n    </tr>\n    <tr>\n      <th>44106</th>\n      <td>614ef238ce2fa13eb05ab42e18da2ce827ec7c2cbec65c...</td>\n      <td>2023-03</td>\n      <td>-0.211449</td>\n      <td>51.576867</td>\n      <td>On or near Highfield Avenue</td>\n      <td>E01000219</td>\n      <td>Barnet 037D</td>\n      <td>Under investigation</td>\n    </tr>\n  </tbody>\n</table>\n<p>759 rows × 8 columns</p>\n</div>"
     },
     "execution_count": 40,
     "metadata": {},
     "output_type": "execute_result"
    }
   ],
   "source": [
    "duplicate_ids = total_barnet[total_barnet.duplicated(['crime_id'], keep=False)]\n",
    "df_duplicates = pd.DataFrame(duplicate_ids)\n",
    "\n",
    "df_duplicates"
   ],
   "metadata": {
    "collapsed": false
   }
  },
  {
   "cell_type": "markdown",
   "source": [
    "## Extra Data (Deprivation metric)"
   ],
   "metadata": {
    "collapsed": false
   }
  },
  {
   "cell_type": "markdown",
   "source": [
    "#### Loading data\n",
    "#### Dropping rows that don't have 'Score' in column 'Measurement'\n",
    "#### Dropping column 'Units' because they're always empty + 'Measurement' + 'DateCode'"
   ],
   "metadata": {
    "collapsed": false
   }
  },
  {
   "cell_type": "code",
   "execution_count": 41,
   "outputs": [
    {
     "data": {
      "text/plain": "       FeatureCode    Value                      Indices of Deprivation\n0        E01005278  11281.0                b. Income Deprivation Domain\n1        E01005236   4565.0                b. Income Deprivation Domain\n2        E01031873  25826.0                b. Income Deprivation Domain\n3        E01031455  10380.0                b. Income Deprivation Domain\n4        E01031971  20299.0                b. Income Deprivation Domain\n...            ...      ...                                         ...\n328435   E01024569  19162.0  g. Barriers to Housing and Services Domain\n328436   E01025086  25378.0  g. Barriers to Housing and Services Domain\n328437   E01024778  18324.0  g. Barriers to Housing and Services Domain\n328438   E01024832  23566.0  g. Barriers to Housing and Services Domain\n328439   E01024845  25382.0  g. Barriers to Housing and Services Domain\n\n[328440 rows x 3 columns]",
      "text/html": "<div>\n<style scoped>\n    .dataframe tbody tr th:only-of-type {\n        vertical-align: middle;\n    }\n\n    .dataframe tbody tr th {\n        vertical-align: top;\n    }\n\n    .dataframe thead th {\n        text-align: right;\n    }\n</style>\n<table border=\"1\" class=\"dataframe\">\n  <thead>\n    <tr style=\"text-align: right;\">\n      <th></th>\n      <th>FeatureCode</th>\n      <th>Value</th>\n      <th>Indices of Deprivation</th>\n    </tr>\n  </thead>\n  <tbody>\n    <tr>\n      <th>0</th>\n      <td>E01005278</td>\n      <td>11281.0</td>\n      <td>b. Income Deprivation Domain</td>\n    </tr>\n    <tr>\n      <th>1</th>\n      <td>E01005236</td>\n      <td>4565.0</td>\n      <td>b. Income Deprivation Domain</td>\n    </tr>\n    <tr>\n      <th>2</th>\n      <td>E01031873</td>\n      <td>25826.0</td>\n      <td>b. Income Deprivation Domain</td>\n    </tr>\n    <tr>\n      <th>3</th>\n      <td>E01031455</td>\n      <td>10380.0</td>\n      <td>b. Income Deprivation Domain</td>\n    </tr>\n    <tr>\n      <th>4</th>\n      <td>E01031971</td>\n      <td>20299.0</td>\n      <td>b. Income Deprivation Domain</td>\n    </tr>\n    <tr>\n      <th>...</th>\n      <td>...</td>\n      <td>...</td>\n      <td>...</td>\n    </tr>\n    <tr>\n      <th>328435</th>\n      <td>E01024569</td>\n      <td>19162.0</td>\n      <td>g. Barriers to Housing and Services Domain</td>\n    </tr>\n    <tr>\n      <th>328436</th>\n      <td>E01025086</td>\n      <td>25378.0</td>\n      <td>g. Barriers to Housing and Services Domain</td>\n    </tr>\n    <tr>\n      <th>328437</th>\n      <td>E01024778</td>\n      <td>18324.0</td>\n      <td>g. Barriers to Housing and Services Domain</td>\n    </tr>\n    <tr>\n      <th>328438</th>\n      <td>E01024832</td>\n      <td>23566.0</td>\n      <td>g. Barriers to Housing and Services Domain</td>\n    </tr>\n    <tr>\n      <th>328439</th>\n      <td>E01024845</td>\n      <td>25382.0</td>\n      <td>g. Barriers to Housing and Services Domain</td>\n    </tr>\n  </tbody>\n</table>\n<p>328440 rows × 3 columns</p>\n</div>"
     },
     "execution_count": 41,
     "metadata": {},
     "output_type": "execute_result"
    }
   ],
   "source": [
    "imd2019 = pd.read_csv('data/imd2019lsoa.csv')\n",
    "imd2019 = imd2019[imd2019['Measurement'].str.contains('Rank')]\n",
    "imd2019 = imd2019.drop(['Units', 'Measurement', 'DateCode'], axis=1).reset_index(drop=True)\n",
    "\n",
    "imd2019"
   ],
   "metadata": {
    "collapsed": false
   }
  },
  {
   "cell_type": "code",
   "execution_count": 42,
   "outputs": [
    {
     "data": {
      "text/plain": "      FeatureCode  Value\n0       E01022106  29375\n1       E01017546  26213\n2       E01014665   9151\n3       E01004013   8277\n4       E01016063   1410\n...           ...    ...\n32477   E01019040  13381\n32478   E01029479  24589\n32479   E01023802  29879\n32480   E01021496  11519\n32481   E01004886   7748\n\n[32482 rows x 2 columns]",
      "text/html": "<div>\n<style scoped>\n    .dataframe tbody tr th:only-of-type {\n        vertical-align: middle;\n    }\n\n    .dataframe tbody tr th {\n        vertical-align: top;\n    }\n\n    .dataframe thead th {\n        text-align: right;\n    }\n</style>\n<table border=\"1\" class=\"dataframe\">\n  <thead>\n    <tr style=\"text-align: right;\">\n      <th></th>\n      <th>FeatureCode</th>\n      <th>Value</th>\n    </tr>\n  </thead>\n  <tbody>\n    <tr>\n      <th>0</th>\n      <td>E01022106</td>\n      <td>29375</td>\n    </tr>\n    <tr>\n      <th>1</th>\n      <td>E01017546</td>\n      <td>26213</td>\n    </tr>\n    <tr>\n      <th>2</th>\n      <td>E01014665</td>\n      <td>9151</td>\n    </tr>\n    <tr>\n      <th>3</th>\n      <td>E01004013</td>\n      <td>8277</td>\n    </tr>\n    <tr>\n      <th>4</th>\n      <td>E01016063</td>\n      <td>1410</td>\n    </tr>\n    <tr>\n      <th>...</th>\n      <td>...</td>\n      <td>...</td>\n    </tr>\n    <tr>\n      <th>32477</th>\n      <td>E01019040</td>\n      <td>13381</td>\n    </tr>\n    <tr>\n      <th>32478</th>\n      <td>E01029479</td>\n      <td>24589</td>\n    </tr>\n    <tr>\n      <th>32479</th>\n      <td>E01023802</td>\n      <td>29879</td>\n    </tr>\n    <tr>\n      <th>32480</th>\n      <td>E01021496</td>\n      <td>11519</td>\n    </tr>\n    <tr>\n      <th>32481</th>\n      <td>E01004886</td>\n      <td>7748</td>\n    </tr>\n  </tbody>\n</table>\n<p>32482 rows × 2 columns</p>\n</div>"
     },
     "execution_count": 42,
     "metadata": {},
     "output_type": "execute_result"
    }
   ],
   "source": [
    "imd2010 = pd.read_csv('data/imds2010lsoa.csv')\n",
    "imd2010 = imd2010.drop(['Units', 'Measurement', 'DateCode'], axis=1)\n",
    "\n",
    "imd2010"
   ],
   "metadata": {
    "collapsed": false
   }
  },
  {
   "cell_type": "code",
   "execution_count": 43,
   "outputs": [
    {
     "data": {
      "text/plain": "       FeatureCode    Value                             Indices of Deprivation\n0        E01019971  16495.0  j. Income Deprivation Affecting Older People I...\n1        E01019963  21937.0  j. Income Deprivation Affecting Older People I...\n2        E01019980   8110.0  j. Income Deprivation Affecting Older People I...\n3        E01019950  14057.0  j. Income Deprivation Affecting Older People I...\n4        E01019952  23655.0  j. Income Deprivation Affecting Older People I...\n...            ...      ...                                                ...\n328435   E01021096  19266.0                       b. Income Deprivation Domain\n328436   E01021089  12610.0                       b. Income Deprivation Domain\n328437   E01021103  10211.0                       b. Income Deprivation Domain\n328438   E01021082  26009.0                       b. Income Deprivation Domain\n328439   E01021087  21242.0                       b. Income Deprivation Domain\n\n[328440 rows x 3 columns]",
      "text/html": "<div>\n<style scoped>\n    .dataframe tbody tr th:only-of-type {\n        vertical-align: middle;\n    }\n\n    .dataframe tbody tr th {\n        vertical-align: top;\n    }\n\n    .dataframe thead th {\n        text-align: right;\n    }\n</style>\n<table border=\"1\" class=\"dataframe\">\n  <thead>\n    <tr style=\"text-align: right;\">\n      <th></th>\n      <th>FeatureCode</th>\n      <th>Value</th>\n      <th>Indices of Deprivation</th>\n    </tr>\n  </thead>\n  <tbody>\n    <tr>\n      <th>0</th>\n      <td>E01019971</td>\n      <td>16495.0</td>\n      <td>j. Income Deprivation Affecting Older People I...</td>\n    </tr>\n    <tr>\n      <th>1</th>\n      <td>E01019963</td>\n      <td>21937.0</td>\n      <td>j. Income Deprivation Affecting Older People I...</td>\n    </tr>\n    <tr>\n      <th>2</th>\n      <td>E01019980</td>\n      <td>8110.0</td>\n      <td>j. Income Deprivation Affecting Older People I...</td>\n    </tr>\n    <tr>\n      <th>3</th>\n      <td>E01019950</td>\n      <td>14057.0</td>\n      <td>j. Income Deprivation Affecting Older People I...</td>\n    </tr>\n    <tr>\n      <th>4</th>\n      <td>E01019952</td>\n      <td>23655.0</td>\n      <td>j. Income Deprivation Affecting Older People I...</td>\n    </tr>\n    <tr>\n      <th>...</th>\n      <td>...</td>\n      <td>...</td>\n      <td>...</td>\n    </tr>\n    <tr>\n      <th>328435</th>\n      <td>E01021096</td>\n      <td>19266.0</td>\n      <td>b. Income Deprivation Domain</td>\n    </tr>\n    <tr>\n      <th>328436</th>\n      <td>E01021089</td>\n      <td>12610.0</td>\n      <td>b. Income Deprivation Domain</td>\n    </tr>\n    <tr>\n      <th>328437</th>\n      <td>E01021103</td>\n      <td>10211.0</td>\n      <td>b. Income Deprivation Domain</td>\n    </tr>\n    <tr>\n      <th>328438</th>\n      <td>E01021082</td>\n      <td>26009.0</td>\n      <td>b. Income Deprivation Domain</td>\n    </tr>\n    <tr>\n      <th>328439</th>\n      <td>E01021087</td>\n      <td>21242.0</td>\n      <td>b. Income Deprivation Domain</td>\n    </tr>\n  </tbody>\n</table>\n<p>328440 rows × 3 columns</p>\n</div>"
     },
     "execution_count": 43,
     "metadata": {},
     "output_type": "execute_result"
    }
   ],
   "source": [
    "imd2015 = pd.read_csv('data/imd2015lsoa.csv')\n",
    "imd2015 = imd2015[imd2015['Measurement'].str.contains('Rank')]\n",
    "imd2015 = imd2015.drop(['Units', 'Measurement', 'DateCode'], axis=1).reset_index(drop=True)\n",
    "\n",
    "imd2015"
   ],
   "metadata": {
    "collapsed": false
   }
  },
  {
   "cell_type": "markdown",
   "source": [
    "### Keeping only entries where LSOA code matches\n",
    "#### Creating list of codes from barnet lsoa_code and delete all rows where code doesnt match"
   ],
   "metadata": {
    "collapsed": false
   }
  },
  {
   "cell_type": "code",
   "execution_count": 44,
   "outputs": [],
   "source": [
    "lsoa_list = total_barnet['lsoa_code'].unique()\n",
    "\n",
    "# delete all rows in imd2010 that contain any value in the lsoa_list\n",
    "imd2010_barnet = imd2010[imd2010['FeatureCode'].isin(lsoa_list)].reset_index(drop=True)\n",
    "imd2015_barnet = imd2015[imd2015['FeatureCode'].isin(lsoa_list)].reset_index(drop=True)\n",
    "imd2019_barnet = imd2019[imd2019['FeatureCode'].isin(lsoa_list)].reset_index(drop=True)"
   ],
   "metadata": {
    "collapsed": false
   }
  },
  {
   "cell_type": "code",
   "execution_count": 45,
   "outputs": [
    {
     "data": {
      "text/plain": "     FeatureCode    Value                      Indices of Deprivation\n0      E01000227  19223.0                b. Income Deprivation Domain\n1      E01000267  18565.0                b. Income Deprivation Domain\n2      E01000163   7026.0            c. Employment Deprivation Domain\n3      E01000310  20489.0            c. Employment Deprivation Domain\n4      E01000157  23337.0            c. Employment Deprivation Domain\n...          ...      ...                                         ...\n2105   E01000141    998.0                             f. Crime Domain\n2106   E01000153   4658.0                             f. Crime Domain\n2107   E01000154   5150.0                             f. Crime Domain\n2108   E01000139   7591.0                             f. Crime Domain\n2109   E01000124   6538.0  g. Barriers to Housing and Services Domain\n\n[2110 rows x 3 columns]",
      "text/html": "<div>\n<style scoped>\n    .dataframe tbody tr th:only-of-type {\n        vertical-align: middle;\n    }\n\n    .dataframe tbody tr th {\n        vertical-align: top;\n    }\n\n    .dataframe thead th {\n        text-align: right;\n    }\n</style>\n<table border=\"1\" class=\"dataframe\">\n  <thead>\n    <tr style=\"text-align: right;\">\n      <th></th>\n      <th>FeatureCode</th>\n      <th>Value</th>\n      <th>Indices of Deprivation</th>\n    </tr>\n  </thead>\n  <tbody>\n    <tr>\n      <th>0</th>\n      <td>E01000227</td>\n      <td>19223.0</td>\n      <td>b. Income Deprivation Domain</td>\n    </tr>\n    <tr>\n      <th>1</th>\n      <td>E01000267</td>\n      <td>18565.0</td>\n      <td>b. Income Deprivation Domain</td>\n    </tr>\n    <tr>\n      <th>2</th>\n      <td>E01000163</td>\n      <td>7026.0</td>\n      <td>c. Employment Deprivation Domain</td>\n    </tr>\n    <tr>\n      <th>3</th>\n      <td>E01000310</td>\n      <td>20489.0</td>\n      <td>c. Employment Deprivation Domain</td>\n    </tr>\n    <tr>\n      <th>4</th>\n      <td>E01000157</td>\n      <td>23337.0</td>\n      <td>c. Employment Deprivation Domain</td>\n    </tr>\n    <tr>\n      <th>...</th>\n      <td>...</td>\n      <td>...</td>\n      <td>...</td>\n    </tr>\n    <tr>\n      <th>2105</th>\n      <td>E01000141</td>\n      <td>998.0</td>\n      <td>f. Crime Domain</td>\n    </tr>\n    <tr>\n      <th>2106</th>\n      <td>E01000153</td>\n      <td>4658.0</td>\n      <td>f. Crime Domain</td>\n    </tr>\n    <tr>\n      <th>2107</th>\n      <td>E01000154</td>\n      <td>5150.0</td>\n      <td>f. Crime Domain</td>\n    </tr>\n    <tr>\n      <th>2108</th>\n      <td>E01000139</td>\n      <td>7591.0</td>\n      <td>f. Crime Domain</td>\n    </tr>\n    <tr>\n      <th>2109</th>\n      <td>E01000124</td>\n      <td>6538.0</td>\n      <td>g. Barriers to Housing and Services Domain</td>\n    </tr>\n  </tbody>\n</table>\n<p>2110 rows × 3 columns</p>\n</div>"
     },
     "execution_count": 45,
     "metadata": {},
     "output_type": "execute_result"
    }
   ],
   "source": [
    "imd2019_barnet"
   ],
   "metadata": {
    "collapsed": false
   }
  },
  {
   "cell_type": "code",
   "execution_count": 46,
   "outputs": [
    {
     "data": {
      "text/plain": "     FeatureCode    Value                             Indices of Deprivation\n0      E01000307   7674.0  j. Income Deprivation Affecting Older People I...\n1      E01000309  13592.0  j. Income Deprivation Affecting Older People I...\n2      E01000308   2482.0  j. Income Deprivation Affecting Older People I...\n3      E01000207  28405.0  j. Income Deprivation Affecting Older People I...\n4      E01000213  28847.0  j. Income Deprivation Affecting Older People I...\n...          ...      ...                                                ...\n2105   E01000307   2674.0                                    f. Crime Domain\n2106   E01000309  11761.0                                    f. Crime Domain\n2107   E01000273   9492.0                                    f. Crime Domain\n2108   E01000274  12346.0                                    f. Crime Domain\n2109   E01033573  14939.0                       b. Income Deprivation Domain\n\n[2110 rows x 3 columns]",
      "text/html": "<div>\n<style scoped>\n    .dataframe tbody tr th:only-of-type {\n        vertical-align: middle;\n    }\n\n    .dataframe tbody tr th {\n        vertical-align: top;\n    }\n\n    .dataframe thead th {\n        text-align: right;\n    }\n</style>\n<table border=\"1\" class=\"dataframe\">\n  <thead>\n    <tr style=\"text-align: right;\">\n      <th></th>\n      <th>FeatureCode</th>\n      <th>Value</th>\n      <th>Indices of Deprivation</th>\n    </tr>\n  </thead>\n  <tbody>\n    <tr>\n      <th>0</th>\n      <td>E01000307</td>\n      <td>7674.0</td>\n      <td>j. Income Deprivation Affecting Older People I...</td>\n    </tr>\n    <tr>\n      <th>1</th>\n      <td>E01000309</td>\n      <td>13592.0</td>\n      <td>j. Income Deprivation Affecting Older People I...</td>\n    </tr>\n    <tr>\n      <th>2</th>\n      <td>E01000308</td>\n      <td>2482.0</td>\n      <td>j. Income Deprivation Affecting Older People I...</td>\n    </tr>\n    <tr>\n      <th>3</th>\n      <td>E01000207</td>\n      <td>28405.0</td>\n      <td>j. Income Deprivation Affecting Older People I...</td>\n    </tr>\n    <tr>\n      <th>4</th>\n      <td>E01000213</td>\n      <td>28847.0</td>\n      <td>j. Income Deprivation Affecting Older People I...</td>\n    </tr>\n    <tr>\n      <th>...</th>\n      <td>...</td>\n      <td>...</td>\n      <td>...</td>\n    </tr>\n    <tr>\n      <th>2105</th>\n      <td>E01000307</td>\n      <td>2674.0</td>\n      <td>f. Crime Domain</td>\n    </tr>\n    <tr>\n      <th>2106</th>\n      <td>E01000309</td>\n      <td>11761.0</td>\n      <td>f. Crime Domain</td>\n    </tr>\n    <tr>\n      <th>2107</th>\n      <td>E01000273</td>\n      <td>9492.0</td>\n      <td>f. Crime Domain</td>\n    </tr>\n    <tr>\n      <th>2108</th>\n      <td>E01000274</td>\n      <td>12346.0</td>\n      <td>f. Crime Domain</td>\n    </tr>\n    <tr>\n      <th>2109</th>\n      <td>E01033573</td>\n      <td>14939.0</td>\n      <td>b. Income Deprivation Domain</td>\n    </tr>\n  </tbody>\n</table>\n<p>2110 rows × 3 columns</p>\n</div>"
     },
     "execution_count": 46,
     "metadata": {},
     "output_type": "execute_result"
    }
   ],
   "source": [
    "imd2015_barnet"
   ],
   "metadata": {
    "collapsed": false
   }
  },
  {
   "cell_type": "code",
   "execution_count": 47,
   "outputs": [
    {
     "data": {
      "text/plain": "    FeatureCode  Value\n0     E01000290  15112\n1     E01000165  22327\n2     E01000253  23868\n3     E01000128  12081\n4     E01000216  22250\n..          ...    ...\n204   E01000183  21060\n205   E01000271  26782\n206   E01000146  18802\n207   E01000234  25034\n208   E01000322  17051\n\n[209 rows x 2 columns]",
      "text/html": "<div>\n<style scoped>\n    .dataframe tbody tr th:only-of-type {\n        vertical-align: middle;\n    }\n\n    .dataframe tbody tr th {\n        vertical-align: top;\n    }\n\n    .dataframe thead th {\n        text-align: right;\n    }\n</style>\n<table border=\"1\" class=\"dataframe\">\n  <thead>\n    <tr style=\"text-align: right;\">\n      <th></th>\n      <th>FeatureCode</th>\n      <th>Value</th>\n    </tr>\n  </thead>\n  <tbody>\n    <tr>\n      <th>0</th>\n      <td>E01000290</td>\n      <td>15112</td>\n    </tr>\n    <tr>\n      <th>1</th>\n      <td>E01000165</td>\n      <td>22327</td>\n    </tr>\n    <tr>\n      <th>2</th>\n      <td>E01000253</td>\n      <td>23868</td>\n    </tr>\n    <tr>\n      <th>3</th>\n      <td>E01000128</td>\n      <td>12081</td>\n    </tr>\n    <tr>\n      <th>4</th>\n      <td>E01000216</td>\n      <td>22250</td>\n    </tr>\n    <tr>\n      <th>...</th>\n      <td>...</td>\n      <td>...</td>\n    </tr>\n    <tr>\n      <th>204</th>\n      <td>E01000183</td>\n      <td>21060</td>\n    </tr>\n    <tr>\n      <th>205</th>\n      <td>E01000271</td>\n      <td>26782</td>\n    </tr>\n    <tr>\n      <th>206</th>\n      <td>E01000146</td>\n      <td>18802</td>\n    </tr>\n    <tr>\n      <th>207</th>\n      <td>E01000234</td>\n      <td>25034</td>\n    </tr>\n    <tr>\n      <th>208</th>\n      <td>E01000322</td>\n      <td>17051</td>\n    </tr>\n  </tbody>\n</table>\n<p>209 rows × 2 columns</p>\n</div>"
     },
     "execution_count": 47,
     "metadata": {},
     "output_type": "execute_result"
    }
   ],
   "source": [
    "imd2010_barnet"
   ],
   "metadata": {
    "collapsed": false
   }
  },
  {
   "cell_type": "markdown",
   "source": [
    "### Adding Ward code and name where LSOA code matches"
   ],
   "metadata": {
    "collapsed": false
   }
  },
  {
   "cell_type": "code",
   "execution_count": 48,
   "outputs": [
    {
     "data": {
      "text/plain": "      LSOA21CD     LSOA21NM     WD22CD           WD22NM\n0    E01000314  Barnet 032F  E05013649      West Hendon\n1    E01000315  Barnet 022F  E05013651        Woodhouse\n2    E01000316  Barnet 027E  E05013648    West Finchley\n3    E01000317  Barnet 019D  E05013648    West Finchley\n4    E01000318  Barnet 019E  E05013651        Woodhouse\n..         ...          ...        ...              ...\n215  E01033921  Barnet 043A  E05013633  Colindale South\n216  E01033922  Barnet 043B  E05013633  Colindale South\n217  E01033923  Barnet 043C  E05013633  Colindale South\n218  E01033924  Barnet 043D  E05013633  Colindale South\n219  E01033925  Barnet 043E  E05013633  Colindale South\n\n[220 rows x 4 columns]",
      "text/html": "<div>\n<style scoped>\n    .dataframe tbody tr th:only-of-type {\n        vertical-align: middle;\n    }\n\n    .dataframe tbody tr th {\n        vertical-align: top;\n    }\n\n    .dataframe thead th {\n        text-align: right;\n    }\n</style>\n<table border=\"1\" class=\"dataframe\">\n  <thead>\n    <tr style=\"text-align: right;\">\n      <th></th>\n      <th>LSOA21CD</th>\n      <th>LSOA21NM</th>\n      <th>WD22CD</th>\n      <th>WD22NM</th>\n    </tr>\n  </thead>\n  <tbody>\n    <tr>\n      <th>0</th>\n      <td>E01000314</td>\n      <td>Barnet 032F</td>\n      <td>E05013649</td>\n      <td>West Hendon</td>\n    </tr>\n    <tr>\n      <th>1</th>\n      <td>E01000315</td>\n      <td>Barnet 022F</td>\n      <td>E05013651</td>\n      <td>Woodhouse</td>\n    </tr>\n    <tr>\n      <th>2</th>\n      <td>E01000316</td>\n      <td>Barnet 027E</td>\n      <td>E05013648</td>\n      <td>West Finchley</td>\n    </tr>\n    <tr>\n      <th>3</th>\n      <td>E01000317</td>\n      <td>Barnet 019D</td>\n      <td>E05013648</td>\n      <td>West Finchley</td>\n    </tr>\n    <tr>\n      <th>4</th>\n      <td>E01000318</td>\n      <td>Barnet 019E</td>\n      <td>E05013651</td>\n      <td>Woodhouse</td>\n    </tr>\n    <tr>\n      <th>...</th>\n      <td>...</td>\n      <td>...</td>\n      <td>...</td>\n      <td>...</td>\n    </tr>\n    <tr>\n      <th>215</th>\n      <td>E01033921</td>\n      <td>Barnet 043A</td>\n      <td>E05013633</td>\n      <td>Colindale South</td>\n    </tr>\n    <tr>\n      <th>216</th>\n      <td>E01033922</td>\n      <td>Barnet 043B</td>\n      <td>E05013633</td>\n      <td>Colindale South</td>\n    </tr>\n    <tr>\n      <th>217</th>\n      <td>E01033923</td>\n      <td>Barnet 043C</td>\n      <td>E05013633</td>\n      <td>Colindale South</td>\n    </tr>\n    <tr>\n      <th>218</th>\n      <td>E01033924</td>\n      <td>Barnet 043D</td>\n      <td>E05013633</td>\n      <td>Colindale South</td>\n    </tr>\n    <tr>\n      <th>219</th>\n      <td>E01033925</td>\n      <td>Barnet 043E</td>\n      <td>E05013633</td>\n      <td>Colindale South</td>\n    </tr>\n  </tbody>\n</table>\n<p>220 rows × 4 columns</p>\n</div>"
     },
     "execution_count": 48,
     "metadata": {},
     "output_type": "execute_result"
    }
   ],
   "source": [
    "lsoa_ward = pd.read_csv('data/lsoa_ward.csv')\n",
    "lsoa_ward = lsoa_ward.drop(['ObjectId', 'WD22NMW', 'LTLA22CD', 'LTLA22NM', 'LTLA22NMW'], axis=1)\n",
    "\n",
    "lsoa_ward"
   ],
   "metadata": {
    "collapsed": false
   }
  },
  {
   "cell_type": "code",
   "execution_count": 49,
   "outputs": [
    {
     "data": {
      "text/plain": "     FeatureCode    Value                             Indices of Deprivation   \n0      E01000227  19223.0                       b. Income Deprivation Domain  \\\n1      E01000227  24076.0                   c. Employment Deprivation Domain   \n2      E01000227  23257.0  i. Income Deprivation Affecting Children Index...   \n3      E01000227  32188.0        e. Health Deprivation and Disability Domain   \n4      E01000227  27735.0           d. Education, Skills and Training Domain   \n...          ...      ...                                                ...   \n2045   E01000181  26821.0             a. Index of Multiple Deprivation (IMD)   \n2046   E01000181  17821.0  j. Income Deprivation Affecting Older People I...   \n2047   E01000181  15696.0         g. Barriers to Housing and Services Domain   \n2048   E01000181   9010.0           h. Living Environment Deprivation Domain   \n2049   E01000181  15601.0                                    f. Crime Domain   \n\n      ward_code      ward_name  \n0     E05013637        Edgware  \n1     E05013637        Edgware  \n2     E05013637        Edgware  \n3     E05013637        Edgware  \n4     E05013637        Edgware  \n...         ...            ...  \n2045  E05013636  East Finchley  \n2046  E05013636  East Finchley  \n2047  E05013636  East Finchley  \n2048  E05013636  East Finchley  \n2049  E05013636  East Finchley  \n\n[2050 rows x 5 columns]",
      "text/html": "<div>\n<style scoped>\n    .dataframe tbody tr th:only-of-type {\n        vertical-align: middle;\n    }\n\n    .dataframe tbody tr th {\n        vertical-align: top;\n    }\n\n    .dataframe thead th {\n        text-align: right;\n    }\n</style>\n<table border=\"1\" class=\"dataframe\">\n  <thead>\n    <tr style=\"text-align: right;\">\n      <th></th>\n      <th>FeatureCode</th>\n      <th>Value</th>\n      <th>Indices of Deprivation</th>\n      <th>ward_code</th>\n      <th>ward_name</th>\n    </tr>\n  </thead>\n  <tbody>\n    <tr>\n      <th>0</th>\n      <td>E01000227</td>\n      <td>19223.0</td>\n      <td>b. Income Deprivation Domain</td>\n      <td>E05013637</td>\n      <td>Edgware</td>\n    </tr>\n    <tr>\n      <th>1</th>\n      <td>E01000227</td>\n      <td>24076.0</td>\n      <td>c. Employment Deprivation Domain</td>\n      <td>E05013637</td>\n      <td>Edgware</td>\n    </tr>\n    <tr>\n      <th>2</th>\n      <td>E01000227</td>\n      <td>23257.0</td>\n      <td>i. Income Deprivation Affecting Children Index...</td>\n      <td>E05013637</td>\n      <td>Edgware</td>\n    </tr>\n    <tr>\n      <th>3</th>\n      <td>E01000227</td>\n      <td>32188.0</td>\n      <td>e. Health Deprivation and Disability Domain</td>\n      <td>E05013637</td>\n      <td>Edgware</td>\n    </tr>\n    <tr>\n      <th>4</th>\n      <td>E01000227</td>\n      <td>27735.0</td>\n      <td>d. Education, Skills and Training Domain</td>\n      <td>E05013637</td>\n      <td>Edgware</td>\n    </tr>\n    <tr>\n      <th>...</th>\n      <td>...</td>\n      <td>...</td>\n      <td>...</td>\n      <td>...</td>\n      <td>...</td>\n    </tr>\n    <tr>\n      <th>2045</th>\n      <td>E01000181</td>\n      <td>26821.0</td>\n      <td>a. Index of Multiple Deprivation (IMD)</td>\n      <td>E05013636</td>\n      <td>East Finchley</td>\n    </tr>\n    <tr>\n      <th>2046</th>\n      <td>E01000181</td>\n      <td>17821.0</td>\n      <td>j. Income Deprivation Affecting Older People I...</td>\n      <td>E05013636</td>\n      <td>East Finchley</td>\n    </tr>\n    <tr>\n      <th>2047</th>\n      <td>E01000181</td>\n      <td>15696.0</td>\n      <td>g. Barriers to Housing and Services Domain</td>\n      <td>E05013636</td>\n      <td>East Finchley</td>\n    </tr>\n    <tr>\n      <th>2048</th>\n      <td>E01000181</td>\n      <td>9010.0</td>\n      <td>h. Living Environment Deprivation Domain</td>\n      <td>E05013636</td>\n      <td>East Finchley</td>\n    </tr>\n    <tr>\n      <th>2049</th>\n      <td>E01000181</td>\n      <td>15601.0</td>\n      <td>f. Crime Domain</td>\n      <td>E05013636</td>\n      <td>East Finchley</td>\n    </tr>\n  </tbody>\n</table>\n<p>2050 rows × 5 columns</p>\n</div>"
     },
     "execution_count": 49,
     "metadata": {},
     "output_type": "execute_result"
    }
   ],
   "source": [
    "# Merge DataFrames on matching 'FeatureCode' and 'LSOA21CD'\n",
    "complete_imd2019 = pd.merge(imd2019_barnet, lsoa_ward, left_on='FeatureCode', right_on='LSOA21CD')\n",
    "\n",
    "# Add new columns 'ward_code' and 'ward_name'\n",
    "complete_imd2019['ward_code'] = complete_imd2019['WD22CD']\n",
    "complete_imd2019['ward_name'] = complete_imd2019['WD22NM']\n",
    "\n",
    "# Drop unnecessary columns\n",
    "complete_imd2019 = complete_imd2019.drop(['LSOA21CD', 'LSOA21NM', 'WD22CD', 'WD22NM'], axis=1)\n",
    "\n",
    "# Reorder columns\n",
    "complete_imd2019 = complete_imd2019[['FeatureCode', 'Value', 'Indices of Deprivation', 'ward_code', 'ward_name']]\n",
    "\n",
    "complete_imd2019"
   ],
   "metadata": {
    "collapsed": false
   }
  },
  {
   "cell_type": "code",
   "execution_count": 50,
   "outputs": [
    {
     "data": {
      "text/plain": "     FeatureCode    Value                             Indices of Deprivation   \n0      E01000307   7674.0  j. Income Deprivation Affecting Older People I...  \\\n1      E01000307  25948.0        e. Health Deprivation and Disability Domain   \n2      E01000307  14214.0           d. Education, Skills and Training Domain   \n3      E01000307  20505.0                   c. Employment Deprivation Domain   \n4      E01000307   2227.0         g. Barriers to Housing and Services Domain   \n...          ...      ...                                                ...   \n2045   E01000305   8903.0                       b. Income Deprivation Domain   \n2046   E01000305  10451.0                   c. Employment Deprivation Domain   \n2047   E01000305   9691.0  i. Income Deprivation Affecting Children Index...   \n2048   E01000305   1089.0         g. Barriers to Housing and Services Domain   \n2049   E01000305   4299.0           h. Living Environment Deprivation Domain   \n\n      ward_code    ward_name  \n0     E05013649  West Hendon  \n1     E05013649  West Hendon  \n2     E05013649  West Hendon  \n3     E05013649  West Hendon  \n4     E05013649  West Hendon  \n...         ...          ...  \n2045  E05013649  West Hendon  \n2046  E05013649  West Hendon  \n2047  E05013649  West Hendon  \n2048  E05013649  West Hendon  \n2049  E05013649  West Hendon  \n\n[2050 rows x 5 columns]",
      "text/html": "<div>\n<style scoped>\n    .dataframe tbody tr th:only-of-type {\n        vertical-align: middle;\n    }\n\n    .dataframe tbody tr th {\n        vertical-align: top;\n    }\n\n    .dataframe thead th {\n        text-align: right;\n    }\n</style>\n<table border=\"1\" class=\"dataframe\">\n  <thead>\n    <tr style=\"text-align: right;\">\n      <th></th>\n      <th>FeatureCode</th>\n      <th>Value</th>\n      <th>Indices of Deprivation</th>\n      <th>ward_code</th>\n      <th>ward_name</th>\n    </tr>\n  </thead>\n  <tbody>\n    <tr>\n      <th>0</th>\n      <td>E01000307</td>\n      <td>7674.0</td>\n      <td>j. Income Deprivation Affecting Older People I...</td>\n      <td>E05013649</td>\n      <td>West Hendon</td>\n    </tr>\n    <tr>\n      <th>1</th>\n      <td>E01000307</td>\n      <td>25948.0</td>\n      <td>e. Health Deprivation and Disability Domain</td>\n      <td>E05013649</td>\n      <td>West Hendon</td>\n    </tr>\n    <tr>\n      <th>2</th>\n      <td>E01000307</td>\n      <td>14214.0</td>\n      <td>d. Education, Skills and Training Domain</td>\n      <td>E05013649</td>\n      <td>West Hendon</td>\n    </tr>\n    <tr>\n      <th>3</th>\n      <td>E01000307</td>\n      <td>20505.0</td>\n      <td>c. Employment Deprivation Domain</td>\n      <td>E05013649</td>\n      <td>West Hendon</td>\n    </tr>\n    <tr>\n      <th>4</th>\n      <td>E01000307</td>\n      <td>2227.0</td>\n      <td>g. Barriers to Housing and Services Domain</td>\n      <td>E05013649</td>\n      <td>West Hendon</td>\n    </tr>\n    <tr>\n      <th>...</th>\n      <td>...</td>\n      <td>...</td>\n      <td>...</td>\n      <td>...</td>\n      <td>...</td>\n    </tr>\n    <tr>\n      <th>2045</th>\n      <td>E01000305</td>\n      <td>8903.0</td>\n      <td>b. Income Deprivation Domain</td>\n      <td>E05013649</td>\n      <td>West Hendon</td>\n    </tr>\n    <tr>\n      <th>2046</th>\n      <td>E01000305</td>\n      <td>10451.0</td>\n      <td>c. Employment Deprivation Domain</td>\n      <td>E05013649</td>\n      <td>West Hendon</td>\n    </tr>\n    <tr>\n      <th>2047</th>\n      <td>E01000305</td>\n      <td>9691.0</td>\n      <td>i. Income Deprivation Affecting Children Index...</td>\n      <td>E05013649</td>\n      <td>West Hendon</td>\n    </tr>\n    <tr>\n      <th>2048</th>\n      <td>E01000305</td>\n      <td>1089.0</td>\n      <td>g. Barriers to Housing and Services Domain</td>\n      <td>E05013649</td>\n      <td>West Hendon</td>\n    </tr>\n    <tr>\n      <th>2049</th>\n      <td>E01000305</td>\n      <td>4299.0</td>\n      <td>h. Living Environment Deprivation Domain</td>\n      <td>E05013649</td>\n      <td>West Hendon</td>\n    </tr>\n  </tbody>\n</table>\n<p>2050 rows × 5 columns</p>\n</div>"
     },
     "execution_count": 50,
     "metadata": {},
     "output_type": "execute_result"
    }
   ],
   "source": [
    "# Merge DataFrames on matching 'FeatureCode' and 'LSOA21CD'\n",
    "complete_imd2015 = pd.merge(imd2015_barnet, lsoa_ward, left_on='FeatureCode', right_on='LSOA21CD')\n",
    "\n",
    "# Add new columns 'ward_code' and 'ward_name'\n",
    "complete_imd2015['ward_code'] = complete_imd2015['WD22CD']\n",
    "complete_imd2015['ward_name'] = complete_imd2015['WD22NM']\n",
    "\n",
    "# Drop unnecessary columns\n",
    "complete_imd2015 = complete_imd2015.drop(['LSOA21CD', 'LSOA21NM', 'WD22CD', 'WD22NM'], axis=1)\n",
    "\n",
    "# Reorder columns\n",
    "complete_imd2015 = complete_imd2015[['FeatureCode', 'Value', 'Indices of Deprivation', 'ward_code', 'ward_name']]\n",
    "\n",
    "complete_imd2015"
   ],
   "metadata": {
    "collapsed": false
   }
  },
  {
   "cell_type": "code",
   "execution_count": 51,
   "outputs": [
    {
     "data": {
      "text/plain": "    FeatureCode  Value  ward_code      ward_name\n0     E01000290  15112  E05013644    High Barnet\n1     E01000165  22327  E05013640  Friern Barnet\n2     E01000253  23868  E05013644    High Barnet\n3     E01000128  12081  E05013630      Burnt Oak\n4     E01000216  22250  E05013642  Golders Green\n..          ...    ...        ...            ...\n200   E01000183  21060  E05013636  East Finchley\n201   E01000271  26782  E05013628    Barnet Vale\n202   E01000146  18802  E05013631    Childs Hill\n203   E01000234  25034  E05013637        Edgware\n204   E01000322  17051  E05013651      Woodhouse\n\n[205 rows x 4 columns]",
      "text/html": "<div>\n<style scoped>\n    .dataframe tbody tr th:only-of-type {\n        vertical-align: middle;\n    }\n\n    .dataframe tbody tr th {\n        vertical-align: top;\n    }\n\n    .dataframe thead th {\n        text-align: right;\n    }\n</style>\n<table border=\"1\" class=\"dataframe\">\n  <thead>\n    <tr style=\"text-align: right;\">\n      <th></th>\n      <th>FeatureCode</th>\n      <th>Value</th>\n      <th>ward_code</th>\n      <th>ward_name</th>\n    </tr>\n  </thead>\n  <tbody>\n    <tr>\n      <th>0</th>\n      <td>E01000290</td>\n      <td>15112</td>\n      <td>E05013644</td>\n      <td>High Barnet</td>\n    </tr>\n    <tr>\n      <th>1</th>\n      <td>E01000165</td>\n      <td>22327</td>\n      <td>E05013640</td>\n      <td>Friern Barnet</td>\n    </tr>\n    <tr>\n      <th>2</th>\n      <td>E01000253</td>\n      <td>23868</td>\n      <td>E05013644</td>\n      <td>High Barnet</td>\n    </tr>\n    <tr>\n      <th>3</th>\n      <td>E01000128</td>\n      <td>12081</td>\n      <td>E05013630</td>\n      <td>Burnt Oak</td>\n    </tr>\n    <tr>\n      <th>4</th>\n      <td>E01000216</td>\n      <td>22250</td>\n      <td>E05013642</td>\n      <td>Golders Green</td>\n    </tr>\n    <tr>\n      <th>...</th>\n      <td>...</td>\n      <td>...</td>\n      <td>...</td>\n      <td>...</td>\n    </tr>\n    <tr>\n      <th>200</th>\n      <td>E01000183</td>\n      <td>21060</td>\n      <td>E05013636</td>\n      <td>East Finchley</td>\n    </tr>\n    <tr>\n      <th>201</th>\n      <td>E01000271</td>\n      <td>26782</td>\n      <td>E05013628</td>\n      <td>Barnet Vale</td>\n    </tr>\n    <tr>\n      <th>202</th>\n      <td>E01000146</td>\n      <td>18802</td>\n      <td>E05013631</td>\n      <td>Childs Hill</td>\n    </tr>\n    <tr>\n      <th>203</th>\n      <td>E01000234</td>\n      <td>25034</td>\n      <td>E05013637</td>\n      <td>Edgware</td>\n    </tr>\n    <tr>\n      <th>204</th>\n      <td>E01000322</td>\n      <td>17051</td>\n      <td>E05013651</td>\n      <td>Woodhouse</td>\n    </tr>\n  </tbody>\n</table>\n<p>205 rows × 4 columns</p>\n</div>"
     },
     "execution_count": 51,
     "metadata": {},
     "output_type": "execute_result"
    }
   ],
   "source": [
    "# Merge DataFrames on matching 'FeatureCode' and 'LSOA21CD'\n",
    "complete_imd2010 = pd.merge(imd2010_barnet, lsoa_ward, left_on='FeatureCode', right_on='LSOA21CD')\n",
    "\n",
    "# Add new columns 'ward_code' and 'ward_name'\n",
    "complete_imd2010['ward_code'] = complete_imd2010['WD22CD']\n",
    "complete_imd2010['ward_name'] = complete_imd2010['WD22NM']\n",
    "\n",
    "# Drop unnecessary columns\n",
    "complete_imd2010 = complete_imd2010.drop(['LSOA21CD', 'LSOA21NM', 'WD22CD', 'WD22NM'], axis=1)\n",
    "\n",
    "# Reorder columns\n",
    "complete_imd2010 = complete_imd2010[['FeatureCode', 'Value', 'ward_code', 'ward_name']]\n",
    "\n",
    "complete_imd2010"
   ],
   "metadata": {
    "collapsed": false
   }
  },
  {
   "cell_type": "markdown",
   "source": [
    "### Note: Adding wards to total_barnet"
   ],
   "metadata": {
    "collapsed": false
   }
  },
  {
   "cell_type": "code",
   "execution_count": 52,
   "outputs": [],
   "source": [
    "# Merge DataFrames on matching 'FeatureCode' and 'LSOA21CD'\n",
    "total_barnet = pd.merge(total_barnet, lsoa_ward, left_on='lsoa_code', right_on='LSOA21CD', how='left')\n",
    "\n",
    "# Add new columns 'ward_code' and 'ward_name'\n",
    "total_barnet['ward_code'] = total_barnet['WD22CD']\n",
    "total_barnet['ward_name'] = total_barnet['WD22NM']\n",
    "\n",
    "# Drop unnecessary columns\n",
    "total_barnet = total_barnet.drop(['LSOA21CD', 'LSOA21NM', 'WD22CD', 'WD22NM'], axis=1)\n",
    "\n",
    "# Reorder columns\n",
    "total_barnet = total_barnet[['crime_id', 'month', 'longitude', 'latitude', 'location', 'lsoa_code', 'lsoa_name', 'last_outcome_category', 'ward_code', 'ward_name']]\n",
    "\n",
    "total_barnet.to_csv('data/total_barnet.csv', index=False)"
   ],
   "metadata": {
    "collapsed": false
   }
  },
  {
   "cell_type": "code",
   "execution_count": 53,
   "outputs": [
    {
     "data": {
      "text/plain": "                                                crime_id    month  longitude   \n0      5feceb66ffc86f38d952786c6d696c79c2dbc239dd4e91...  2010-12  -0.201877  \\\n1      6b86b273ff34fce19d6b804eff5a3f5747ada4eaa22f1d...  2010-12  -0.207853   \n2      d4735e3a265e16eee03f59718b9b5d03019c07d8b6c51f...  2010-12  -0.202510   \n3      4e07408562bedb8b60ce05c1decfe3ad16b72230967de0...  2010-12  -0.206779   \n4      4b227777d4dd1fc61c6f884f48641d02b4d121d3fd328c...  2010-12  -0.209537   \n...                                                  ...      ...        ...   \n44133  fda0870be993d2c9352ae14a540bf529c15a7aa9d92a4e...  2023-03  -0.202163   \n44134  c6c2d9a772695865f4ca33fce59c26c48fe3a1cdac8c22...  2023-03  -0.202163   \n44135  e5bab2bd4f31de44515dbf125b85284392d0349139a1d3...  2023-03  -0.197843   \n44136  823465427f8764e250a48312715a4bd87e8012412046c6...  2023-03  -0.199449   \n44137  50b5bbf4987109ee189f8a736ec7e92365b25169b7f783...  2023-03  -0.197843   \n\n        latitude                  location  lsoa_code    lsoa_name   \n0      51.655538    On or near High Street  E01000248  Barnet 001A  \\\n1      51.654317     On or near The Avenue  E01000248  Barnet 001A   \n2      51.656348     On or near Bruce Road  E01000248  Barnet 001A   \n3      51.654768      On or near The Drive  E01000248  Barnet 001A   \n4      51.655223  On or near Marriott Road  E01000249  Barnet 001B   \n...          ...                       ...        ...          ...   \n44133  51.559100   On or near Hocroft Road  E01000139  Barnet 041B   \n44134  51.559100   On or near Hocroft Road  E01000139  Barnet 041B   \n44135  51.561093    On or near Church Walk  E01000140  Barnet 041C   \n44136  51.563896  On or near Llanelly Road  E01000140  Barnet 041C   \n44137  51.561093    On or near Church Walk  E01000140  Barnet 041C   \n\n      last_outcome_category  ward_code    ward_name  \n0                      None  E05013644  High Barnet  \n1                      None  E05013644  High Barnet  \n2                      None  E05013644  High Barnet  \n3                      None  E05013644  High Barnet  \n4                      None  E05013644  High Barnet  \n...                     ...        ...          ...  \n44133   Under investigation  E05013631  Childs Hill  \n44134   Under investigation  E05013631  Childs Hill  \n44135   Under investigation  E05013631  Childs Hill  \n44136   Under investigation  E05013631  Childs Hill  \n44137   Under investigation  E05013631  Childs Hill  \n\n[44138 rows x 10 columns]",
      "text/html": "<div>\n<style scoped>\n    .dataframe tbody tr th:only-of-type {\n        vertical-align: middle;\n    }\n\n    .dataframe tbody tr th {\n        vertical-align: top;\n    }\n\n    .dataframe thead th {\n        text-align: right;\n    }\n</style>\n<table border=\"1\" class=\"dataframe\">\n  <thead>\n    <tr style=\"text-align: right;\">\n      <th></th>\n      <th>crime_id</th>\n      <th>month</th>\n      <th>longitude</th>\n      <th>latitude</th>\n      <th>location</th>\n      <th>lsoa_code</th>\n      <th>lsoa_name</th>\n      <th>last_outcome_category</th>\n      <th>ward_code</th>\n      <th>ward_name</th>\n    </tr>\n  </thead>\n  <tbody>\n    <tr>\n      <th>0</th>\n      <td>5feceb66ffc86f38d952786c6d696c79c2dbc239dd4e91...</td>\n      <td>2010-12</td>\n      <td>-0.201877</td>\n      <td>51.655538</td>\n      <td>On or near High Street</td>\n      <td>E01000248</td>\n      <td>Barnet 001A</td>\n      <td>None</td>\n      <td>E05013644</td>\n      <td>High Barnet</td>\n    </tr>\n    <tr>\n      <th>1</th>\n      <td>6b86b273ff34fce19d6b804eff5a3f5747ada4eaa22f1d...</td>\n      <td>2010-12</td>\n      <td>-0.207853</td>\n      <td>51.654317</td>\n      <td>On or near The Avenue</td>\n      <td>E01000248</td>\n      <td>Barnet 001A</td>\n      <td>None</td>\n      <td>E05013644</td>\n      <td>High Barnet</td>\n    </tr>\n    <tr>\n      <th>2</th>\n      <td>d4735e3a265e16eee03f59718b9b5d03019c07d8b6c51f...</td>\n      <td>2010-12</td>\n      <td>-0.202510</td>\n      <td>51.656348</td>\n      <td>On or near Bruce Road</td>\n      <td>E01000248</td>\n      <td>Barnet 001A</td>\n      <td>None</td>\n      <td>E05013644</td>\n      <td>High Barnet</td>\n    </tr>\n    <tr>\n      <th>3</th>\n      <td>4e07408562bedb8b60ce05c1decfe3ad16b72230967de0...</td>\n      <td>2010-12</td>\n      <td>-0.206779</td>\n      <td>51.654768</td>\n      <td>On or near The Drive</td>\n      <td>E01000248</td>\n      <td>Barnet 001A</td>\n      <td>None</td>\n      <td>E05013644</td>\n      <td>High Barnet</td>\n    </tr>\n    <tr>\n      <th>4</th>\n      <td>4b227777d4dd1fc61c6f884f48641d02b4d121d3fd328c...</td>\n      <td>2010-12</td>\n      <td>-0.209537</td>\n      <td>51.655223</td>\n      <td>On or near Marriott Road</td>\n      <td>E01000249</td>\n      <td>Barnet 001B</td>\n      <td>None</td>\n      <td>E05013644</td>\n      <td>High Barnet</td>\n    </tr>\n    <tr>\n      <th>...</th>\n      <td>...</td>\n      <td>...</td>\n      <td>...</td>\n      <td>...</td>\n      <td>...</td>\n      <td>...</td>\n      <td>...</td>\n      <td>...</td>\n      <td>...</td>\n      <td>...</td>\n    </tr>\n    <tr>\n      <th>44133</th>\n      <td>fda0870be993d2c9352ae14a540bf529c15a7aa9d92a4e...</td>\n      <td>2023-03</td>\n      <td>-0.202163</td>\n      <td>51.559100</td>\n      <td>On or near Hocroft Road</td>\n      <td>E01000139</td>\n      <td>Barnet 041B</td>\n      <td>Under investigation</td>\n      <td>E05013631</td>\n      <td>Childs Hill</td>\n    </tr>\n    <tr>\n      <th>44134</th>\n      <td>c6c2d9a772695865f4ca33fce59c26c48fe3a1cdac8c22...</td>\n      <td>2023-03</td>\n      <td>-0.202163</td>\n      <td>51.559100</td>\n      <td>On or near Hocroft Road</td>\n      <td>E01000139</td>\n      <td>Barnet 041B</td>\n      <td>Under investigation</td>\n      <td>E05013631</td>\n      <td>Childs Hill</td>\n    </tr>\n    <tr>\n      <th>44135</th>\n      <td>e5bab2bd4f31de44515dbf125b85284392d0349139a1d3...</td>\n      <td>2023-03</td>\n      <td>-0.197843</td>\n      <td>51.561093</td>\n      <td>On or near Church Walk</td>\n      <td>E01000140</td>\n      <td>Barnet 041C</td>\n      <td>Under investigation</td>\n      <td>E05013631</td>\n      <td>Childs Hill</td>\n    </tr>\n    <tr>\n      <th>44136</th>\n      <td>823465427f8764e250a48312715a4bd87e8012412046c6...</td>\n      <td>2023-03</td>\n      <td>-0.199449</td>\n      <td>51.563896</td>\n      <td>On or near Llanelly Road</td>\n      <td>E01000140</td>\n      <td>Barnet 041C</td>\n      <td>Under investigation</td>\n      <td>E05013631</td>\n      <td>Childs Hill</td>\n    </tr>\n    <tr>\n      <th>44137</th>\n      <td>50b5bbf4987109ee189f8a736ec7e92365b25169b7f783...</td>\n      <td>2023-03</td>\n      <td>-0.197843</td>\n      <td>51.561093</td>\n      <td>On or near Church Walk</td>\n      <td>E01000140</td>\n      <td>Barnet 041C</td>\n      <td>Under investigation</td>\n      <td>E05013631</td>\n      <td>Childs Hill</td>\n    </tr>\n  </tbody>\n</table>\n<p>44138 rows × 10 columns</p>\n</div>"
     },
     "execution_count": 53,
     "metadata": {},
     "output_type": "execute_result"
    }
   ],
   "source": [
    "total_barnet"
   ],
   "metadata": {
    "collapsed": false
   }
  },
  {
   "cell_type": "code",
   "execution_count": 54,
   "outputs": [
    {
     "data": {
      "text/plain": "array(['High Barnet', 'Underhill', 'East Barnet', 'Barnet Vale',\n       'Edgwarebury', 'Totteridge & Woodside', 'Whetstone',\n       'Brunswick Park', 'Woodhouse', 'Edgware', 'Friern Barnet',\n       'Mill Hill', nan, 'Burnt Oak', 'West Finchley',\n       'Finchley Church End', 'Colindale North', 'East Finchley',\n       'Hendon', 'Garden Suburb', 'West Hendon', 'Golders Green',\n       'Childs Hill', 'Cricklewood', 'Colindale South'], dtype=object)"
     },
     "execution_count": 54,
     "metadata": {},
     "output_type": "execute_result"
    }
   ],
   "source": [
    "total_barnet['ward_name'].unique()"
   ],
   "metadata": {
    "collapsed": false
   }
  },
  {
   "cell_type": "markdown",
   "source": [
    "## Tables"
   ],
   "metadata": {
    "collapsed": false
   }
  },
  {
   "cell_type": "markdown",
   "source": [
    "## 2010 IMD Rank"
   ],
   "metadata": {
    "collapsed": false
   }
  },
  {
   "cell_type": "code",
   "execution_count": 55,
   "outputs": [
    {
     "data": {
      "text/plain": "                ward_name         Value\n0             Barnet Vale  20871.000000\n1          Brunswick Park  21459.600000\n2               Burnt Oak  10943.363636\n3             Childs Hill  18637.090909\n4         Colindale North   5475.800000\n5         Colindale South  18447.000000\n6             Cricklewood   9542.666667\n7             East Barnet  21230.800000\n8           East Finchley  16102.800000\n9                 Edgware  19743.111111\n10            Edgwarebury  19952.375000\n11    Finchley Church End  21706.600000\n12          Friern Barnet  16108.909091\n13          Garden Suburb  26333.428571\n14          Golders Green  21240.000000\n15                 Hendon  16892.363636\n16            High Barnet  21896.571429\n17              Mill Hill  21180.000000\n18  Totteridge & Woodside  24112.750000\n19              Underhill  16973.857143\n20          West Finchley  19711.500000\n21            West Hendon  13565.100000\n22              Whetstone  21079.285714\n23              Woodhouse  16891.714286",
      "text/html": "<div>\n<style scoped>\n    .dataframe tbody tr th:only-of-type {\n        vertical-align: middle;\n    }\n\n    .dataframe tbody tr th {\n        vertical-align: top;\n    }\n\n    .dataframe thead th {\n        text-align: right;\n    }\n</style>\n<table border=\"1\" class=\"dataframe\">\n  <thead>\n    <tr style=\"text-align: right;\">\n      <th></th>\n      <th>ward_name</th>\n      <th>Value</th>\n    </tr>\n  </thead>\n  <tbody>\n    <tr>\n      <th>0</th>\n      <td>Barnet Vale</td>\n      <td>20871.000000</td>\n    </tr>\n    <tr>\n      <th>1</th>\n      <td>Brunswick Park</td>\n      <td>21459.600000</td>\n    </tr>\n    <tr>\n      <th>2</th>\n      <td>Burnt Oak</td>\n      <td>10943.363636</td>\n    </tr>\n    <tr>\n      <th>3</th>\n      <td>Childs Hill</td>\n      <td>18637.090909</td>\n    </tr>\n    <tr>\n      <th>4</th>\n      <td>Colindale North</td>\n      <td>5475.800000</td>\n    </tr>\n    <tr>\n      <th>5</th>\n      <td>Colindale South</td>\n      <td>18447.000000</td>\n    </tr>\n    <tr>\n      <th>6</th>\n      <td>Cricklewood</td>\n      <td>9542.666667</td>\n    </tr>\n    <tr>\n      <th>7</th>\n      <td>East Barnet</td>\n      <td>21230.800000</td>\n    </tr>\n    <tr>\n      <th>8</th>\n      <td>East Finchley</td>\n      <td>16102.800000</td>\n    </tr>\n    <tr>\n      <th>9</th>\n      <td>Edgware</td>\n      <td>19743.111111</td>\n    </tr>\n    <tr>\n      <th>10</th>\n      <td>Edgwarebury</td>\n      <td>19952.375000</td>\n    </tr>\n    <tr>\n      <th>11</th>\n      <td>Finchley Church End</td>\n      <td>21706.600000</td>\n    </tr>\n    <tr>\n      <th>12</th>\n      <td>Friern Barnet</td>\n      <td>16108.909091</td>\n    </tr>\n    <tr>\n      <th>13</th>\n      <td>Garden Suburb</td>\n      <td>26333.428571</td>\n    </tr>\n    <tr>\n      <th>14</th>\n      <td>Golders Green</td>\n      <td>21240.000000</td>\n    </tr>\n    <tr>\n      <th>15</th>\n      <td>Hendon</td>\n      <td>16892.363636</td>\n    </tr>\n    <tr>\n      <th>16</th>\n      <td>High Barnet</td>\n      <td>21896.571429</td>\n    </tr>\n    <tr>\n      <th>17</th>\n      <td>Mill Hill</td>\n      <td>21180.000000</td>\n    </tr>\n    <tr>\n      <th>18</th>\n      <td>Totteridge &amp; Woodside</td>\n      <td>24112.750000</td>\n    </tr>\n    <tr>\n      <th>19</th>\n      <td>Underhill</td>\n      <td>16973.857143</td>\n    </tr>\n    <tr>\n      <th>20</th>\n      <td>West Finchley</td>\n      <td>19711.500000</td>\n    </tr>\n    <tr>\n      <th>21</th>\n      <td>West Hendon</td>\n      <td>13565.100000</td>\n    </tr>\n    <tr>\n      <th>22</th>\n      <td>Whetstone</td>\n      <td>21079.285714</td>\n    </tr>\n    <tr>\n      <th>23</th>\n      <td>Woodhouse</td>\n      <td>16891.714286</td>\n    </tr>\n  </tbody>\n</table>\n</div>"
     },
     "execution_count": 55,
     "metadata": {},
     "output_type": "execute_result"
    }
   ],
   "source": [
    "average_imd2010 = complete_imd2010.drop(['FeatureCode', 'ward_code'], axis=1).groupby('ward_name').mean().reset_index()\n",
    "average_imd2010"
   ],
   "metadata": {
    "collapsed": false
   }
  },
  {
   "cell_type": "markdown",
   "source": [
    "## 2015 IMD Rank"
   ],
   "metadata": {
    "collapsed": false
   }
  },
  {
   "cell_type": "code",
   "execution_count": 56,
   "outputs": [
    {
     "name": "stdout",
     "output_type": "stream",
     "text": [
      "Table for a. Index of Multiple Deprivation (IMD):\n"
     ]
    },
    {
     "data": {
      "text/plain": "                ward_name   \n0             Barnet Vale  \\\n1          Brunswick Park   \n2               Burnt Oak   \n3             Childs Hill   \n4         Colindale North   \n5         Colindale South   \n6             Cricklewood   \n7             East Barnet   \n8           East Finchley   \n9                 Edgware   \n10            Edgwarebury   \n11    Finchley Church End   \n12          Friern Barnet   \n13          Garden Suburb   \n14          Golders Green   \n15                 Hendon   \n16            High Barnet   \n17              Mill Hill   \n18  Totteridge & Woodside   \n19              Underhill   \n20          West Finchley   \n21            West Hendon   \n22              Whetstone   \n23              Woodhouse   \n\n    Average Value for a. Index of Multiple Deprivation (IMD)  \n0                                        20506.800000         \n1                                        20771.100000         \n2                                         9321.272727         \n3                                        16539.090909         \n4                                         4678.000000         \n5                                        21580.000000         \n6                                         7502.500000         \n7                                        18786.300000         \n8                                        18696.200000         \n9                                        19445.444444         \n10                                       19423.750000         \n11                                       22545.800000         \n12                                       15027.181818         \n13                                       27089.571429         \n14                                       20577.111111         \n15                                       17302.272727         \n16                                       20278.000000         \n17                                       19258.250000         \n18                                       24306.125000         \n19                                       14382.857143         \n20                                       21035.166667         \n21                                       13108.200000         \n22                                       20915.000000         \n23                                       16077.285714         ",
      "text/html": "<div>\n<style scoped>\n    .dataframe tbody tr th:only-of-type {\n        vertical-align: middle;\n    }\n\n    .dataframe tbody tr th {\n        vertical-align: top;\n    }\n\n    .dataframe thead th {\n        text-align: right;\n    }\n</style>\n<table border=\"1\" class=\"dataframe\">\n  <thead>\n    <tr style=\"text-align: right;\">\n      <th></th>\n      <th>ward_name</th>\n      <th>Average Value for a. Index of Multiple Deprivation (IMD)</th>\n    </tr>\n  </thead>\n  <tbody>\n    <tr>\n      <th>0</th>\n      <td>Barnet Vale</td>\n      <td>20506.800000</td>\n    </tr>\n    <tr>\n      <th>1</th>\n      <td>Brunswick Park</td>\n      <td>20771.100000</td>\n    </tr>\n    <tr>\n      <th>2</th>\n      <td>Burnt Oak</td>\n      <td>9321.272727</td>\n    </tr>\n    <tr>\n      <th>3</th>\n      <td>Childs Hill</td>\n      <td>16539.090909</td>\n    </tr>\n    <tr>\n      <th>4</th>\n      <td>Colindale North</td>\n      <td>4678.000000</td>\n    </tr>\n    <tr>\n      <th>5</th>\n      <td>Colindale South</td>\n      <td>21580.000000</td>\n    </tr>\n    <tr>\n      <th>6</th>\n      <td>Cricklewood</td>\n      <td>7502.500000</td>\n    </tr>\n    <tr>\n      <th>7</th>\n      <td>East Barnet</td>\n      <td>18786.300000</td>\n    </tr>\n    <tr>\n      <th>8</th>\n      <td>East Finchley</td>\n      <td>18696.200000</td>\n    </tr>\n    <tr>\n      <th>9</th>\n      <td>Edgware</td>\n      <td>19445.444444</td>\n    </tr>\n    <tr>\n      <th>10</th>\n      <td>Edgwarebury</td>\n      <td>19423.750000</td>\n    </tr>\n    <tr>\n      <th>11</th>\n      <td>Finchley Church End</td>\n      <td>22545.800000</td>\n    </tr>\n    <tr>\n      <th>12</th>\n      <td>Friern Barnet</td>\n      <td>15027.181818</td>\n    </tr>\n    <tr>\n      <th>13</th>\n      <td>Garden Suburb</td>\n      <td>27089.571429</td>\n    </tr>\n    <tr>\n      <th>14</th>\n      <td>Golders Green</td>\n      <td>20577.111111</td>\n    </tr>\n    <tr>\n      <th>15</th>\n      <td>Hendon</td>\n      <td>17302.272727</td>\n    </tr>\n    <tr>\n      <th>16</th>\n      <td>High Barnet</td>\n      <td>20278.000000</td>\n    </tr>\n    <tr>\n      <th>17</th>\n      <td>Mill Hill</td>\n      <td>19258.250000</td>\n    </tr>\n    <tr>\n      <th>18</th>\n      <td>Totteridge &amp; Woodside</td>\n      <td>24306.125000</td>\n    </tr>\n    <tr>\n      <th>19</th>\n      <td>Underhill</td>\n      <td>14382.857143</td>\n    </tr>\n    <tr>\n      <th>20</th>\n      <td>West Finchley</td>\n      <td>21035.166667</td>\n    </tr>\n    <tr>\n      <th>21</th>\n      <td>West Hendon</td>\n      <td>13108.200000</td>\n    </tr>\n    <tr>\n      <th>22</th>\n      <td>Whetstone</td>\n      <td>20915.000000</td>\n    </tr>\n    <tr>\n      <th>23</th>\n      <td>Woodhouse</td>\n      <td>16077.285714</td>\n    </tr>\n  </tbody>\n</table>\n</div>"
     },
     "metadata": {},
     "output_type": "display_data"
    },
    {
     "name": "stdout",
     "output_type": "stream",
     "text": [
      "Table for b. Income Deprivation Domain:\n"
     ]
    },
    {
     "data": {
      "text/plain": "                ward_name  Average Value for b. Income Deprivation Domain\n0             Barnet Vale                                    18396.200000\n1          Brunswick Park                                    17951.400000\n2               Burnt Oak                                     8061.272727\n3             Childs Hill                                    17150.545455\n4         Colindale North                                     3138.800000\n5         Colindale South                                    21599.000000\n6             Cricklewood                                     6716.166667\n7             East Barnet                                    14842.100000\n8           East Finchley                                    16312.400000\n9                 Edgware                                    16448.000000\n10            Edgwarebury                                    16860.250000\n11    Finchley Church End                                    21266.000000\n12          Friern Barnet                                    12915.181818\n13          Garden Suburb                                    28233.571429\n14          Golders Green                                    20577.222222\n15                 Hendon                                    18073.454545\n16            High Barnet                                    21572.142857\n17              Mill Hill                                    19161.625000\n18  Totteridge & Woodside                                    23982.000000\n19              Underhill                                    12381.714286\n20          West Finchley                                    18896.166667\n21            West Hendon                                    14268.700000\n22              Whetstone                                    18198.857143\n23              Woodhouse                                    14532.000000",
      "text/html": "<div>\n<style scoped>\n    .dataframe tbody tr th:only-of-type {\n        vertical-align: middle;\n    }\n\n    .dataframe tbody tr th {\n        vertical-align: top;\n    }\n\n    .dataframe thead th {\n        text-align: right;\n    }\n</style>\n<table border=\"1\" class=\"dataframe\">\n  <thead>\n    <tr style=\"text-align: right;\">\n      <th></th>\n      <th>ward_name</th>\n      <th>Average Value for b. Income Deprivation Domain</th>\n    </tr>\n  </thead>\n  <tbody>\n    <tr>\n      <th>0</th>\n      <td>Barnet Vale</td>\n      <td>18396.200000</td>\n    </tr>\n    <tr>\n      <th>1</th>\n      <td>Brunswick Park</td>\n      <td>17951.400000</td>\n    </tr>\n    <tr>\n      <th>2</th>\n      <td>Burnt Oak</td>\n      <td>8061.272727</td>\n    </tr>\n    <tr>\n      <th>3</th>\n      <td>Childs Hill</td>\n      <td>17150.545455</td>\n    </tr>\n    <tr>\n      <th>4</th>\n      <td>Colindale North</td>\n      <td>3138.800000</td>\n    </tr>\n    <tr>\n      <th>5</th>\n      <td>Colindale South</td>\n      <td>21599.000000</td>\n    </tr>\n    <tr>\n      <th>6</th>\n      <td>Cricklewood</td>\n      <td>6716.166667</td>\n    </tr>\n    <tr>\n      <th>7</th>\n      <td>East Barnet</td>\n      <td>14842.100000</td>\n    </tr>\n    <tr>\n      <th>8</th>\n      <td>East Finchley</td>\n      <td>16312.400000</td>\n    </tr>\n    <tr>\n      <th>9</th>\n      <td>Edgware</td>\n      <td>16448.000000</td>\n    </tr>\n    <tr>\n      <th>10</th>\n      <td>Edgwarebury</td>\n      <td>16860.250000</td>\n    </tr>\n    <tr>\n      <th>11</th>\n      <td>Finchley Church End</td>\n      <td>21266.000000</td>\n    </tr>\n    <tr>\n      <th>12</th>\n      <td>Friern Barnet</td>\n      <td>12915.181818</td>\n    </tr>\n    <tr>\n      <th>13</th>\n      <td>Garden Suburb</td>\n      <td>28233.571429</td>\n    </tr>\n    <tr>\n      <th>14</th>\n      <td>Golders Green</td>\n      <td>20577.222222</td>\n    </tr>\n    <tr>\n      <th>15</th>\n      <td>Hendon</td>\n      <td>18073.454545</td>\n    </tr>\n    <tr>\n      <th>16</th>\n      <td>High Barnet</td>\n      <td>21572.142857</td>\n    </tr>\n    <tr>\n      <th>17</th>\n      <td>Mill Hill</td>\n      <td>19161.625000</td>\n    </tr>\n    <tr>\n      <th>18</th>\n      <td>Totteridge &amp; Woodside</td>\n      <td>23982.000000</td>\n    </tr>\n    <tr>\n      <th>19</th>\n      <td>Underhill</td>\n      <td>12381.714286</td>\n    </tr>\n    <tr>\n      <th>20</th>\n      <td>West Finchley</td>\n      <td>18896.166667</td>\n    </tr>\n    <tr>\n      <th>21</th>\n      <td>West Hendon</td>\n      <td>14268.700000</td>\n    </tr>\n    <tr>\n      <th>22</th>\n      <td>Whetstone</td>\n      <td>18198.857143</td>\n    </tr>\n    <tr>\n      <th>23</th>\n      <td>Woodhouse</td>\n      <td>14532.000000</td>\n    </tr>\n  </tbody>\n</table>\n</div>"
     },
     "metadata": {},
     "output_type": "display_data"
    },
    {
     "name": "stdout",
     "output_type": "stream",
     "text": [
      "Table for c. Employment Deprivation Domain:\n"
     ]
    },
    {
     "data": {
      "text/plain": "                ward_name  Average Value for c. Employment Deprivation Domain\n0             Barnet Vale                                       20516.800000 \n1          Brunswick Park                                       20620.300000 \n2               Burnt Oak                                       11384.454545 \n3             Childs Hill                                       20786.636364 \n4         Colindale North                                        6542.200000 \n5         Colindale South                                       28903.000000 \n6             Cricklewood                                        9360.500000 \n7             East Barnet                                       17252.800000 \n8           East Finchley                                       20300.500000 \n9                 Edgware                                       19908.333333 \n10            Edgwarebury                                       21296.750000 \n11    Finchley Church End                                       24651.800000 \n12          Friern Barnet                                       17616.090909 \n13          Garden Suburb                                       31538.000000 \n14          Golders Green                                       22136.555556 \n15                 Hendon                                       22793.909091 \n16            High Barnet                                       22456.571429 \n17              Mill Hill                                       22947.500000 \n18  Totteridge & Woodside                                       25939.875000 \n19              Underhill                                       12834.857143 \n20          West Finchley                                       22892.250000 \n21            West Hendon                                       17755.300000 \n22              Whetstone                                       21785.285714 \n23              Woodhouse                                       16663.714286 ",
      "text/html": "<div>\n<style scoped>\n    .dataframe tbody tr th:only-of-type {\n        vertical-align: middle;\n    }\n\n    .dataframe tbody tr th {\n        vertical-align: top;\n    }\n\n    .dataframe thead th {\n        text-align: right;\n    }\n</style>\n<table border=\"1\" class=\"dataframe\">\n  <thead>\n    <tr style=\"text-align: right;\">\n      <th></th>\n      <th>ward_name</th>\n      <th>Average Value for c. Employment Deprivation Domain</th>\n    </tr>\n  </thead>\n  <tbody>\n    <tr>\n      <th>0</th>\n      <td>Barnet Vale</td>\n      <td>20516.800000</td>\n    </tr>\n    <tr>\n      <th>1</th>\n      <td>Brunswick Park</td>\n      <td>20620.300000</td>\n    </tr>\n    <tr>\n      <th>2</th>\n      <td>Burnt Oak</td>\n      <td>11384.454545</td>\n    </tr>\n    <tr>\n      <th>3</th>\n      <td>Childs Hill</td>\n      <td>20786.636364</td>\n    </tr>\n    <tr>\n      <th>4</th>\n      <td>Colindale North</td>\n      <td>6542.200000</td>\n    </tr>\n    <tr>\n      <th>5</th>\n      <td>Colindale South</td>\n      <td>28903.000000</td>\n    </tr>\n    <tr>\n      <th>6</th>\n      <td>Cricklewood</td>\n      <td>9360.500000</td>\n    </tr>\n    <tr>\n      <th>7</th>\n      <td>East Barnet</td>\n      <td>17252.800000</td>\n    </tr>\n    <tr>\n      <th>8</th>\n      <td>East Finchley</td>\n      <td>20300.500000</td>\n    </tr>\n    <tr>\n      <th>9</th>\n      <td>Edgware</td>\n      <td>19908.333333</td>\n    </tr>\n    <tr>\n      <th>10</th>\n      <td>Edgwarebury</td>\n      <td>21296.750000</td>\n    </tr>\n    <tr>\n      <th>11</th>\n      <td>Finchley Church End</td>\n      <td>24651.800000</td>\n    </tr>\n    <tr>\n      <th>12</th>\n      <td>Friern Barnet</td>\n      <td>17616.090909</td>\n    </tr>\n    <tr>\n      <th>13</th>\n      <td>Garden Suburb</td>\n      <td>31538.000000</td>\n    </tr>\n    <tr>\n      <th>14</th>\n      <td>Golders Green</td>\n      <td>22136.555556</td>\n    </tr>\n    <tr>\n      <th>15</th>\n      <td>Hendon</td>\n      <td>22793.909091</td>\n    </tr>\n    <tr>\n      <th>16</th>\n      <td>High Barnet</td>\n      <td>22456.571429</td>\n    </tr>\n    <tr>\n      <th>17</th>\n      <td>Mill Hill</td>\n      <td>22947.500000</td>\n    </tr>\n    <tr>\n      <th>18</th>\n      <td>Totteridge &amp; Woodside</td>\n      <td>25939.875000</td>\n    </tr>\n    <tr>\n      <th>19</th>\n      <td>Underhill</td>\n      <td>12834.857143</td>\n    </tr>\n    <tr>\n      <th>20</th>\n      <td>West Finchley</td>\n      <td>22892.250000</td>\n    </tr>\n    <tr>\n      <th>21</th>\n      <td>West Hendon</td>\n      <td>17755.300000</td>\n    </tr>\n    <tr>\n      <th>22</th>\n      <td>Whetstone</td>\n      <td>21785.285714</td>\n    </tr>\n    <tr>\n      <th>23</th>\n      <td>Woodhouse</td>\n      <td>16663.714286</td>\n    </tr>\n  </tbody>\n</table>\n</div>"
     },
     "metadata": {},
     "output_type": "display_data"
    },
    {
     "name": "stdout",
     "output_type": "stream",
     "text": [
      "Table for d. Education, Skills and Training Domain:\n"
     ]
    },
    {
     "data": {
      "text/plain": "                ward_name   \n0             Barnet Vale  \\\n1          Brunswick Park   \n2               Burnt Oak   \n3             Childs Hill   \n4         Colindale North   \n5         Colindale South   \n6             Cricklewood   \n7             East Barnet   \n8           East Finchley   \n9                 Edgware   \n10            Edgwarebury   \n11    Finchley Church End   \n12          Friern Barnet   \n13          Garden Suburb   \n14          Golders Green   \n15                 Hendon   \n16            High Barnet   \n17              Mill Hill   \n18  Totteridge & Woodside   \n19              Underhill   \n20          West Finchley   \n21            West Hendon   \n22              Whetstone   \n23              Woodhouse   \n\n    Average Value for d. Education, Skills and Training Domain  \n0                                        27745.100000           \n1                                        24899.300000           \n2                                        13345.272727           \n3                                        27137.272727           \n4                                        12301.800000           \n5                                        22518.000000           \n6                                        15700.666667           \n7                                        24365.800000           \n8                                        24956.000000           \n9                                        25608.555556           \n10                                       23562.875000           \n11                                       28444.600000           \n12                                       23957.272727           \n13                                       31284.857143           \n14                                       26544.555556           \n15                                       27053.363636           \n16                                       27035.285714           \n17                                       27816.875000           \n18                                       28699.000000           \n19                                       20267.285714           \n20                                       29132.000000           \n21                                       20287.300000           \n22                                       27357.285714           \n23                                       25860.571429           ",
      "text/html": "<div>\n<style scoped>\n    .dataframe tbody tr th:only-of-type {\n        vertical-align: middle;\n    }\n\n    .dataframe tbody tr th {\n        vertical-align: top;\n    }\n\n    .dataframe thead th {\n        text-align: right;\n    }\n</style>\n<table border=\"1\" class=\"dataframe\">\n  <thead>\n    <tr style=\"text-align: right;\">\n      <th></th>\n      <th>ward_name</th>\n      <th>Average Value for d. Education, Skills and Training Domain</th>\n    </tr>\n  </thead>\n  <tbody>\n    <tr>\n      <th>0</th>\n      <td>Barnet Vale</td>\n      <td>27745.100000</td>\n    </tr>\n    <tr>\n      <th>1</th>\n      <td>Brunswick Park</td>\n      <td>24899.300000</td>\n    </tr>\n    <tr>\n      <th>2</th>\n      <td>Burnt Oak</td>\n      <td>13345.272727</td>\n    </tr>\n    <tr>\n      <th>3</th>\n      <td>Childs Hill</td>\n      <td>27137.272727</td>\n    </tr>\n    <tr>\n      <th>4</th>\n      <td>Colindale North</td>\n      <td>12301.800000</td>\n    </tr>\n    <tr>\n      <th>5</th>\n      <td>Colindale South</td>\n      <td>22518.000000</td>\n    </tr>\n    <tr>\n      <th>6</th>\n      <td>Cricklewood</td>\n      <td>15700.666667</td>\n    </tr>\n    <tr>\n      <th>7</th>\n      <td>East Barnet</td>\n      <td>24365.800000</td>\n    </tr>\n    <tr>\n      <th>8</th>\n      <td>East Finchley</td>\n      <td>24956.000000</td>\n    </tr>\n    <tr>\n      <th>9</th>\n      <td>Edgware</td>\n      <td>25608.555556</td>\n    </tr>\n    <tr>\n      <th>10</th>\n      <td>Edgwarebury</td>\n      <td>23562.875000</td>\n    </tr>\n    <tr>\n      <th>11</th>\n      <td>Finchley Church End</td>\n      <td>28444.600000</td>\n    </tr>\n    <tr>\n      <th>12</th>\n      <td>Friern Barnet</td>\n      <td>23957.272727</td>\n    </tr>\n    <tr>\n      <th>13</th>\n      <td>Garden Suburb</td>\n      <td>31284.857143</td>\n    </tr>\n    <tr>\n      <th>14</th>\n      <td>Golders Green</td>\n      <td>26544.555556</td>\n    </tr>\n    <tr>\n      <th>15</th>\n      <td>Hendon</td>\n      <td>27053.363636</td>\n    </tr>\n    <tr>\n      <th>16</th>\n      <td>High Barnet</td>\n      <td>27035.285714</td>\n    </tr>\n    <tr>\n      <th>17</th>\n      <td>Mill Hill</td>\n      <td>27816.875000</td>\n    </tr>\n    <tr>\n      <th>18</th>\n      <td>Totteridge &amp; Woodside</td>\n      <td>28699.000000</td>\n    </tr>\n    <tr>\n      <th>19</th>\n      <td>Underhill</td>\n      <td>20267.285714</td>\n    </tr>\n    <tr>\n      <th>20</th>\n      <td>West Finchley</td>\n      <td>29132.000000</td>\n    </tr>\n    <tr>\n      <th>21</th>\n      <td>West Hendon</td>\n      <td>20287.300000</td>\n    </tr>\n    <tr>\n      <th>22</th>\n      <td>Whetstone</td>\n      <td>27357.285714</td>\n    </tr>\n    <tr>\n      <th>23</th>\n      <td>Woodhouse</td>\n      <td>25860.571429</td>\n    </tr>\n  </tbody>\n</table>\n</div>"
     },
     "metadata": {},
     "output_type": "display_data"
    },
    {
     "name": "stdout",
     "output_type": "stream",
     "text": [
      "Table for e. Health Deprivation and Disability Domain:\n"
     ]
    },
    {
     "data": {
      "text/plain": "                ward_name   \n0             Barnet Vale  \\\n1          Brunswick Park   \n2               Burnt Oak   \n3             Childs Hill   \n4         Colindale North   \n5         Colindale South   \n6             Cricklewood   \n7             East Barnet   \n8           East Finchley   \n9                 Edgware   \n10            Edgwarebury   \n11    Finchley Church End   \n12          Friern Barnet   \n13          Garden Suburb   \n14          Golders Green   \n15                 Hendon   \n16            High Barnet   \n17              Mill Hill   \n18  Totteridge & Woodside   \n19              Underhill   \n20          West Finchley   \n21            West Hendon   \n22              Whetstone   \n23              Woodhouse   \n\n    Average Value for e. Health Deprivation and Disability Domain  \n0                                        26584.300000              \n1                                        25805.300000              \n2                                        17103.727273              \n3                                        24158.363636              \n4                                        14386.400000              \n5                                        28421.000000              \n6                                        18650.833333              \n7                                        24601.500000              \n8                                        23540.500000              \n9                                        26139.222222              \n10                                       24641.625000              \n11                                       29932.200000              \n12                                       23680.272727              \n13                                       32160.000000              \n14                                       26838.111111              \n15                                       26042.818182              \n16                                       24492.571429              \n17                                       27280.125000              \n18                                       27601.250000              \n19                                       18271.000000              \n20                                       26595.000000              \n21                                       23838.600000              \n22                                       24302.428571              \n23                                       21280.714286              ",
      "text/html": "<div>\n<style scoped>\n    .dataframe tbody tr th:only-of-type {\n        vertical-align: middle;\n    }\n\n    .dataframe tbody tr th {\n        vertical-align: top;\n    }\n\n    .dataframe thead th {\n        text-align: right;\n    }\n</style>\n<table border=\"1\" class=\"dataframe\">\n  <thead>\n    <tr style=\"text-align: right;\">\n      <th></th>\n      <th>ward_name</th>\n      <th>Average Value for e. Health Deprivation and Disability Domain</th>\n    </tr>\n  </thead>\n  <tbody>\n    <tr>\n      <th>0</th>\n      <td>Barnet Vale</td>\n      <td>26584.300000</td>\n    </tr>\n    <tr>\n      <th>1</th>\n      <td>Brunswick Park</td>\n      <td>25805.300000</td>\n    </tr>\n    <tr>\n      <th>2</th>\n      <td>Burnt Oak</td>\n      <td>17103.727273</td>\n    </tr>\n    <tr>\n      <th>3</th>\n      <td>Childs Hill</td>\n      <td>24158.363636</td>\n    </tr>\n    <tr>\n      <th>4</th>\n      <td>Colindale North</td>\n      <td>14386.400000</td>\n    </tr>\n    <tr>\n      <th>5</th>\n      <td>Colindale South</td>\n      <td>28421.000000</td>\n    </tr>\n    <tr>\n      <th>6</th>\n      <td>Cricklewood</td>\n      <td>18650.833333</td>\n    </tr>\n    <tr>\n      <th>7</th>\n      <td>East Barnet</td>\n      <td>24601.500000</td>\n    </tr>\n    <tr>\n      <th>8</th>\n      <td>East Finchley</td>\n      <td>23540.500000</td>\n    </tr>\n    <tr>\n      <th>9</th>\n      <td>Edgware</td>\n      <td>26139.222222</td>\n    </tr>\n    <tr>\n      <th>10</th>\n      <td>Edgwarebury</td>\n      <td>24641.625000</td>\n    </tr>\n    <tr>\n      <th>11</th>\n      <td>Finchley Church End</td>\n      <td>29932.200000</td>\n    </tr>\n    <tr>\n      <th>12</th>\n      <td>Friern Barnet</td>\n      <td>23680.272727</td>\n    </tr>\n    <tr>\n      <th>13</th>\n      <td>Garden Suburb</td>\n      <td>32160.000000</td>\n    </tr>\n    <tr>\n      <th>14</th>\n      <td>Golders Green</td>\n      <td>26838.111111</td>\n    </tr>\n    <tr>\n      <th>15</th>\n      <td>Hendon</td>\n      <td>26042.818182</td>\n    </tr>\n    <tr>\n      <th>16</th>\n      <td>High Barnet</td>\n      <td>24492.571429</td>\n    </tr>\n    <tr>\n      <th>17</th>\n      <td>Mill Hill</td>\n      <td>27280.125000</td>\n    </tr>\n    <tr>\n      <th>18</th>\n      <td>Totteridge &amp; Woodside</td>\n      <td>27601.250000</td>\n    </tr>\n    <tr>\n      <th>19</th>\n      <td>Underhill</td>\n      <td>18271.000000</td>\n    </tr>\n    <tr>\n      <th>20</th>\n      <td>West Finchley</td>\n      <td>26595.000000</td>\n    </tr>\n    <tr>\n      <th>21</th>\n      <td>West Hendon</td>\n      <td>23838.600000</td>\n    </tr>\n    <tr>\n      <th>22</th>\n      <td>Whetstone</td>\n      <td>24302.428571</td>\n    </tr>\n    <tr>\n      <th>23</th>\n      <td>Woodhouse</td>\n      <td>21280.714286</td>\n    </tr>\n  </tbody>\n</table>\n</div>"
     },
     "metadata": {},
     "output_type": "display_data"
    },
    {
     "name": "stdout",
     "output_type": "stream",
     "text": [
      "Table for f. Crime Domain:\n"
     ]
    },
    {
     "data": {
      "text/plain": "                ward_name  Average Value for f. Crime Domain\n0             Barnet Vale                       12446.600000\n1          Brunswick Park                       12091.700000\n2               Burnt Oak                        6462.000000\n3             Childs Hill                        8050.000000\n4         Colindale North                        7641.200000\n5         Colindale South                        9695.000000\n6             Cricklewood                        4877.166667\n7             East Barnet                       12852.000000\n8           East Finchley                       14334.800000\n9                 Edgware                       13883.444444\n10            Edgwarebury                       13001.000000\n11    Finchley Church End                       15535.900000\n12          Friern Barnet                        6657.272727\n13          Garden Suburb                       14434.428571\n14          Golders Green                       14737.222222\n15                 Hendon                        7390.272727\n16            High Barnet                        9177.285714\n17              Mill Hill                        9491.250000\n18  Totteridge & Woodside                       19447.125000\n19              Underhill                        9783.571429\n20          West Finchley                       13071.000000\n21            West Hendon                        7243.100000\n22              Whetstone                       11116.285714\n23              Woodhouse                       11026.714286",
      "text/html": "<div>\n<style scoped>\n    .dataframe tbody tr th:only-of-type {\n        vertical-align: middle;\n    }\n\n    .dataframe tbody tr th {\n        vertical-align: top;\n    }\n\n    .dataframe thead th {\n        text-align: right;\n    }\n</style>\n<table border=\"1\" class=\"dataframe\">\n  <thead>\n    <tr style=\"text-align: right;\">\n      <th></th>\n      <th>ward_name</th>\n      <th>Average Value for f. Crime Domain</th>\n    </tr>\n  </thead>\n  <tbody>\n    <tr>\n      <th>0</th>\n      <td>Barnet Vale</td>\n      <td>12446.600000</td>\n    </tr>\n    <tr>\n      <th>1</th>\n      <td>Brunswick Park</td>\n      <td>12091.700000</td>\n    </tr>\n    <tr>\n      <th>2</th>\n      <td>Burnt Oak</td>\n      <td>6462.000000</td>\n    </tr>\n    <tr>\n      <th>3</th>\n      <td>Childs Hill</td>\n      <td>8050.000000</td>\n    </tr>\n    <tr>\n      <th>4</th>\n      <td>Colindale North</td>\n      <td>7641.200000</td>\n    </tr>\n    <tr>\n      <th>5</th>\n      <td>Colindale South</td>\n      <td>9695.000000</td>\n    </tr>\n    <tr>\n      <th>6</th>\n      <td>Cricklewood</td>\n      <td>4877.166667</td>\n    </tr>\n    <tr>\n      <th>7</th>\n      <td>East Barnet</td>\n      <td>12852.000000</td>\n    </tr>\n    <tr>\n      <th>8</th>\n      <td>East Finchley</td>\n      <td>14334.800000</td>\n    </tr>\n    <tr>\n      <th>9</th>\n      <td>Edgware</td>\n      <td>13883.444444</td>\n    </tr>\n    <tr>\n      <th>10</th>\n      <td>Edgwarebury</td>\n      <td>13001.000000</td>\n    </tr>\n    <tr>\n      <th>11</th>\n      <td>Finchley Church End</td>\n      <td>15535.900000</td>\n    </tr>\n    <tr>\n      <th>12</th>\n      <td>Friern Barnet</td>\n      <td>6657.272727</td>\n    </tr>\n    <tr>\n      <th>13</th>\n      <td>Garden Suburb</td>\n      <td>14434.428571</td>\n    </tr>\n    <tr>\n      <th>14</th>\n      <td>Golders Green</td>\n      <td>14737.222222</td>\n    </tr>\n    <tr>\n      <th>15</th>\n      <td>Hendon</td>\n      <td>7390.272727</td>\n    </tr>\n    <tr>\n      <th>16</th>\n      <td>High Barnet</td>\n      <td>9177.285714</td>\n    </tr>\n    <tr>\n      <th>17</th>\n      <td>Mill Hill</td>\n      <td>9491.250000</td>\n    </tr>\n    <tr>\n      <th>18</th>\n      <td>Totteridge &amp; Woodside</td>\n      <td>19447.125000</td>\n    </tr>\n    <tr>\n      <th>19</th>\n      <td>Underhill</td>\n      <td>9783.571429</td>\n    </tr>\n    <tr>\n      <th>20</th>\n      <td>West Finchley</td>\n      <td>13071.000000</td>\n    </tr>\n    <tr>\n      <th>21</th>\n      <td>West Hendon</td>\n      <td>7243.100000</td>\n    </tr>\n    <tr>\n      <th>22</th>\n      <td>Whetstone</td>\n      <td>11116.285714</td>\n    </tr>\n    <tr>\n      <th>23</th>\n      <td>Woodhouse</td>\n      <td>11026.714286</td>\n    </tr>\n  </tbody>\n</table>\n</div>"
     },
     "metadata": {},
     "output_type": "display_data"
    },
    {
     "name": "stdout",
     "output_type": "stream",
     "text": [
      "Table for g. Barriers to Housing and Services Domain:\n"
     ]
    },
    {
     "data": {
      "text/plain": "                ward_name   \n0             Barnet Vale  \\\n1          Brunswick Park   \n2               Burnt Oak   \n3             Childs Hill   \n4         Colindale North   \n5         Colindale South   \n6             Cricklewood   \n7             East Barnet   \n8           East Finchley   \n9                 Edgware   \n10            Edgwarebury   \n11    Finchley Church End   \n12          Friern Barnet   \n13          Garden Suburb   \n14          Golders Green   \n15                 Hendon   \n16            High Barnet   \n17              Mill Hill   \n18  Totteridge & Woodside   \n19              Underhill   \n20          West Finchley   \n21            West Hendon   \n22              Whetstone   \n23              Woodhouse   \n\n    Average Value for g. Barriers to Housing and Services Domain  \n0                                         8742.800000             \n1                                        12866.800000             \n2                                         4516.272727             \n3                                         6061.545455             \n4                                          186.200000             \n5                                         7556.000000             \n6                                         2582.833333             \n7                                        12550.100000             \n8                                         8998.100000             \n9                                         8704.222222             \n10                                        8392.750000             \n11                                        8204.800000             \n12                                        8413.181818             \n13                                        9572.428571             \n14                                        7282.777778             \n15                                        5130.727273             \n16                                        8051.714286             \n17                                        6678.125000             \n18                                        7032.625000             \n19                                        9748.857143             \n20                                       10197.916667             \n21                                        2747.000000             \n22                                       11869.000000             \n23                                        8919.142857             ",
      "text/html": "<div>\n<style scoped>\n    .dataframe tbody tr th:only-of-type {\n        vertical-align: middle;\n    }\n\n    .dataframe tbody tr th {\n        vertical-align: top;\n    }\n\n    .dataframe thead th {\n        text-align: right;\n    }\n</style>\n<table border=\"1\" class=\"dataframe\">\n  <thead>\n    <tr style=\"text-align: right;\">\n      <th></th>\n      <th>ward_name</th>\n      <th>Average Value for g. Barriers to Housing and Services Domain</th>\n    </tr>\n  </thead>\n  <tbody>\n    <tr>\n      <th>0</th>\n      <td>Barnet Vale</td>\n      <td>8742.800000</td>\n    </tr>\n    <tr>\n      <th>1</th>\n      <td>Brunswick Park</td>\n      <td>12866.800000</td>\n    </tr>\n    <tr>\n      <th>2</th>\n      <td>Burnt Oak</td>\n      <td>4516.272727</td>\n    </tr>\n    <tr>\n      <th>3</th>\n      <td>Childs Hill</td>\n      <td>6061.545455</td>\n    </tr>\n    <tr>\n      <th>4</th>\n      <td>Colindale North</td>\n      <td>186.200000</td>\n    </tr>\n    <tr>\n      <th>5</th>\n      <td>Colindale South</td>\n      <td>7556.000000</td>\n    </tr>\n    <tr>\n      <th>6</th>\n      <td>Cricklewood</td>\n      <td>2582.833333</td>\n    </tr>\n    <tr>\n      <th>7</th>\n      <td>East Barnet</td>\n      <td>12550.100000</td>\n    </tr>\n    <tr>\n      <th>8</th>\n      <td>East Finchley</td>\n      <td>8998.100000</td>\n    </tr>\n    <tr>\n      <th>9</th>\n      <td>Edgware</td>\n      <td>8704.222222</td>\n    </tr>\n    <tr>\n      <th>10</th>\n      <td>Edgwarebury</td>\n      <td>8392.750000</td>\n    </tr>\n    <tr>\n      <th>11</th>\n      <td>Finchley Church End</td>\n      <td>8204.800000</td>\n    </tr>\n    <tr>\n      <th>12</th>\n      <td>Friern Barnet</td>\n      <td>8413.181818</td>\n    </tr>\n    <tr>\n      <th>13</th>\n      <td>Garden Suburb</td>\n      <td>9572.428571</td>\n    </tr>\n    <tr>\n      <th>14</th>\n      <td>Golders Green</td>\n      <td>7282.777778</td>\n    </tr>\n    <tr>\n      <th>15</th>\n      <td>Hendon</td>\n      <td>5130.727273</td>\n    </tr>\n    <tr>\n      <th>16</th>\n      <td>High Barnet</td>\n      <td>8051.714286</td>\n    </tr>\n    <tr>\n      <th>17</th>\n      <td>Mill Hill</td>\n      <td>6678.125000</td>\n    </tr>\n    <tr>\n      <th>18</th>\n      <td>Totteridge &amp; Woodside</td>\n      <td>7032.625000</td>\n    </tr>\n    <tr>\n      <th>19</th>\n      <td>Underhill</td>\n      <td>9748.857143</td>\n    </tr>\n    <tr>\n      <th>20</th>\n      <td>West Finchley</td>\n      <td>10197.916667</td>\n    </tr>\n    <tr>\n      <th>21</th>\n      <td>West Hendon</td>\n      <td>2747.000000</td>\n    </tr>\n    <tr>\n      <th>22</th>\n      <td>Whetstone</td>\n      <td>11869.000000</td>\n    </tr>\n    <tr>\n      <th>23</th>\n      <td>Woodhouse</td>\n      <td>8919.142857</td>\n    </tr>\n  </tbody>\n</table>\n</div>"
     },
     "metadata": {},
     "output_type": "display_data"
    },
    {
     "name": "stdout",
     "output_type": "stream",
     "text": [
      "Table for h. Living Environment Deprivation Domain:\n"
     ]
    },
    {
     "data": {
      "text/plain": "                ward_name   \n0             Barnet Vale  \\\n1          Brunswick Park   \n2               Burnt Oak   \n3             Childs Hill   \n4         Colindale North   \n5         Colindale South   \n6             Cricklewood   \n7             East Barnet   \n8           East Finchley   \n9                 Edgware   \n10            Edgwarebury   \n11    Finchley Church End   \n12          Friern Barnet   \n13          Garden Suburb   \n14          Golders Green   \n15                 Hendon   \n16            High Barnet   \n17              Mill Hill   \n18  Totteridge & Woodside   \n19              Underhill   \n20          West Finchley   \n21            West Hendon   \n22              Whetstone   \n23              Woodhouse   \n\n    Average Value for h. Living Environment Deprivation Domain  \n0                                        15720.700000           \n1                                        17373.500000           \n2                                        11511.727273           \n3                                         8123.000000           \n4                                        12590.000000           \n5                                        11410.000000           \n6                                        10160.000000           \n7                                        16289.900000           \n8                                        12344.500000           \n9                                        14800.111111           \n10                                       18084.125000           \n11                                       12676.200000           \n12                                       12451.000000           \n13                                       14538.428571           \n14                                       10525.111111           \n15                                        9075.000000           \n16                                       15847.285714           \n17                                       13081.625000           \n18                                       20822.000000           \n19                                       18161.285714           \n20                                       11151.333333           \n21                                        7885.900000           \n22                                       17140.285714           \n23                                       10250.714286           ",
      "text/html": "<div>\n<style scoped>\n    .dataframe tbody tr th:only-of-type {\n        vertical-align: middle;\n    }\n\n    .dataframe tbody tr th {\n        vertical-align: top;\n    }\n\n    .dataframe thead th {\n        text-align: right;\n    }\n</style>\n<table border=\"1\" class=\"dataframe\">\n  <thead>\n    <tr style=\"text-align: right;\">\n      <th></th>\n      <th>ward_name</th>\n      <th>Average Value for h. Living Environment Deprivation Domain</th>\n    </tr>\n  </thead>\n  <tbody>\n    <tr>\n      <th>0</th>\n      <td>Barnet Vale</td>\n      <td>15720.700000</td>\n    </tr>\n    <tr>\n      <th>1</th>\n      <td>Brunswick Park</td>\n      <td>17373.500000</td>\n    </tr>\n    <tr>\n      <th>2</th>\n      <td>Burnt Oak</td>\n      <td>11511.727273</td>\n    </tr>\n    <tr>\n      <th>3</th>\n      <td>Childs Hill</td>\n      <td>8123.000000</td>\n    </tr>\n    <tr>\n      <th>4</th>\n      <td>Colindale North</td>\n      <td>12590.000000</td>\n    </tr>\n    <tr>\n      <th>5</th>\n      <td>Colindale South</td>\n      <td>11410.000000</td>\n    </tr>\n    <tr>\n      <th>6</th>\n      <td>Cricklewood</td>\n      <td>10160.000000</td>\n    </tr>\n    <tr>\n      <th>7</th>\n      <td>East Barnet</td>\n      <td>16289.900000</td>\n    </tr>\n    <tr>\n      <th>8</th>\n      <td>East Finchley</td>\n      <td>12344.500000</td>\n    </tr>\n    <tr>\n      <th>9</th>\n      <td>Edgware</td>\n      <td>14800.111111</td>\n    </tr>\n    <tr>\n      <th>10</th>\n      <td>Edgwarebury</td>\n      <td>18084.125000</td>\n    </tr>\n    <tr>\n      <th>11</th>\n      <td>Finchley Church End</td>\n      <td>12676.200000</td>\n    </tr>\n    <tr>\n      <th>12</th>\n      <td>Friern Barnet</td>\n      <td>12451.000000</td>\n    </tr>\n    <tr>\n      <th>13</th>\n      <td>Garden Suburb</td>\n      <td>14538.428571</td>\n    </tr>\n    <tr>\n      <th>14</th>\n      <td>Golders Green</td>\n      <td>10525.111111</td>\n    </tr>\n    <tr>\n      <th>15</th>\n      <td>Hendon</td>\n      <td>9075.000000</td>\n    </tr>\n    <tr>\n      <th>16</th>\n      <td>High Barnet</td>\n      <td>15847.285714</td>\n    </tr>\n    <tr>\n      <th>17</th>\n      <td>Mill Hill</td>\n      <td>13081.625000</td>\n    </tr>\n    <tr>\n      <th>18</th>\n      <td>Totteridge &amp; Woodside</td>\n      <td>20822.000000</td>\n    </tr>\n    <tr>\n      <th>19</th>\n      <td>Underhill</td>\n      <td>18161.285714</td>\n    </tr>\n    <tr>\n      <th>20</th>\n      <td>West Finchley</td>\n      <td>11151.333333</td>\n    </tr>\n    <tr>\n      <th>21</th>\n      <td>West Hendon</td>\n      <td>7885.900000</td>\n    </tr>\n    <tr>\n      <th>22</th>\n      <td>Whetstone</td>\n      <td>17140.285714</td>\n    </tr>\n    <tr>\n      <th>23</th>\n      <td>Woodhouse</td>\n      <td>10250.714286</td>\n    </tr>\n  </tbody>\n</table>\n</div>"
     },
     "metadata": {},
     "output_type": "display_data"
    },
    {
     "name": "stdout",
     "output_type": "stream",
     "text": [
      "Table for i. Income Deprivation Affecting Children Index (IDACI):\n"
     ]
    },
    {
     "data": {
      "text/plain": "                ward_name   \n0             Barnet Vale  \\\n1          Brunswick Park   \n2               Burnt Oak   \n3             Childs Hill   \n4         Colindale North   \n5         Colindale South   \n6             Cricklewood   \n7             East Barnet   \n8           East Finchley   \n9                 Edgware   \n10            Edgwarebury   \n11    Finchley Church End   \n12          Friern Barnet   \n13          Garden Suburb   \n14          Golders Green   \n15                 Hendon   \n16            High Barnet   \n17              Mill Hill   \n18  Totteridge & Woodside   \n19              Underhill   \n20          West Finchley   \n21            West Hendon   \n22              Whetstone   \n23              Woodhouse   \n\n    Average Value for i. Income Deprivation Affecting Children Index (IDACI)  \n0                                        17666.600000                         \n1                                        18251.300000                         \n2                                         8503.363636                         \n3                                        16797.818182                         \n4                                         2982.800000                         \n5                                        23393.000000                         \n6                                         5321.500000                         \n7                                        15020.200000                         \n8                                        16836.300000                         \n9                                        17612.888889                         \n10                                       18003.000000                         \n11                                       21725.800000                         \n12                                       12191.818182                         \n13                                       27276.857143                         \n14                                       24497.111111                         \n15                                       19772.727273                         \n16                                       21794.142857                         \n17                                       19455.750000                         \n18                                       24086.500000                         \n19                                       12311.428571                         \n20                                       20948.750000                         \n21                                       15188.300000                         \n22                                       18705.857143                         \n23                                       15563.428571                         ",
      "text/html": "<div>\n<style scoped>\n    .dataframe tbody tr th:only-of-type {\n        vertical-align: middle;\n    }\n\n    .dataframe tbody tr th {\n        vertical-align: top;\n    }\n\n    .dataframe thead th {\n        text-align: right;\n    }\n</style>\n<table border=\"1\" class=\"dataframe\">\n  <thead>\n    <tr style=\"text-align: right;\">\n      <th></th>\n      <th>ward_name</th>\n      <th>Average Value for i. Income Deprivation Affecting Children Index (IDACI)</th>\n    </tr>\n  </thead>\n  <tbody>\n    <tr>\n      <th>0</th>\n      <td>Barnet Vale</td>\n      <td>17666.600000</td>\n    </tr>\n    <tr>\n      <th>1</th>\n      <td>Brunswick Park</td>\n      <td>18251.300000</td>\n    </tr>\n    <tr>\n      <th>2</th>\n      <td>Burnt Oak</td>\n      <td>8503.363636</td>\n    </tr>\n    <tr>\n      <th>3</th>\n      <td>Childs Hill</td>\n      <td>16797.818182</td>\n    </tr>\n    <tr>\n      <th>4</th>\n      <td>Colindale North</td>\n      <td>2982.800000</td>\n    </tr>\n    <tr>\n      <th>5</th>\n      <td>Colindale South</td>\n      <td>23393.000000</td>\n    </tr>\n    <tr>\n      <th>6</th>\n      <td>Cricklewood</td>\n      <td>5321.500000</td>\n    </tr>\n    <tr>\n      <th>7</th>\n      <td>East Barnet</td>\n      <td>15020.200000</td>\n    </tr>\n    <tr>\n      <th>8</th>\n      <td>East Finchley</td>\n      <td>16836.300000</td>\n    </tr>\n    <tr>\n      <th>9</th>\n      <td>Edgware</td>\n      <td>17612.888889</td>\n    </tr>\n    <tr>\n      <th>10</th>\n      <td>Edgwarebury</td>\n      <td>18003.000000</td>\n    </tr>\n    <tr>\n      <th>11</th>\n      <td>Finchley Church End</td>\n      <td>21725.800000</td>\n    </tr>\n    <tr>\n      <th>12</th>\n      <td>Friern Barnet</td>\n      <td>12191.818182</td>\n    </tr>\n    <tr>\n      <th>13</th>\n      <td>Garden Suburb</td>\n      <td>27276.857143</td>\n    </tr>\n    <tr>\n      <th>14</th>\n      <td>Golders Green</td>\n      <td>24497.111111</td>\n    </tr>\n    <tr>\n      <th>15</th>\n      <td>Hendon</td>\n      <td>19772.727273</td>\n    </tr>\n    <tr>\n      <th>16</th>\n      <td>High Barnet</td>\n      <td>21794.142857</td>\n    </tr>\n    <tr>\n      <th>17</th>\n      <td>Mill Hill</td>\n      <td>19455.750000</td>\n    </tr>\n    <tr>\n      <th>18</th>\n      <td>Totteridge &amp; Woodside</td>\n      <td>24086.500000</td>\n    </tr>\n    <tr>\n      <th>19</th>\n      <td>Underhill</td>\n      <td>12311.428571</td>\n    </tr>\n    <tr>\n      <th>20</th>\n      <td>West Finchley</td>\n      <td>20948.750000</td>\n    </tr>\n    <tr>\n      <th>21</th>\n      <td>West Hendon</td>\n      <td>15188.300000</td>\n    </tr>\n    <tr>\n      <th>22</th>\n      <td>Whetstone</td>\n      <td>18705.857143</td>\n    </tr>\n    <tr>\n      <th>23</th>\n      <td>Woodhouse</td>\n      <td>15563.428571</td>\n    </tr>\n  </tbody>\n</table>\n</div>"
     },
     "metadata": {},
     "output_type": "display_data"
    },
    {
     "name": "stdout",
     "output_type": "stream",
     "text": [
      "Table for j. Income Deprivation Affecting Older People Index (IDAOPI):\n"
     ]
    },
    {
     "data": {
      "text/plain": "                ward_name   \n0             Barnet Vale  \\\n1          Brunswick Park   \n2               Burnt Oak   \n3             Childs Hill   \n4         Colindale North   \n5         Colindale South   \n6             Cricklewood   \n7             East Barnet   \n8           East Finchley   \n9                 Edgware   \n10            Edgwarebury   \n11    Finchley Church End   \n12          Friern Barnet   \n13          Garden Suburb   \n14          Golders Green   \n15                 Hendon   \n16            High Barnet   \n17              Mill Hill   \n18  Totteridge & Woodside   \n19              Underhill   \n20          West Finchley   \n21            West Hendon   \n22              Whetstone   \n23              Woodhouse   \n\n    Average Value for j. Income Deprivation Affecting Older People Index (IDAOPI)  \n0                                        20573.400000                              \n1                                        16916.400000                              \n2                                         6055.272727                              \n3                                        16448.636364                              \n4                                         3330.600000                              \n5                                        14882.000000                              \n6                                         7886.666667                              \n7                                        15049.100000                              \n8                                        11938.200000                              \n9                                        16174.888889                              \n10                                       15851.500000                              \n11                                       18855.800000                              \n12                                       10738.000000                              \n13                                       27836.000000                              \n14                                       16729.111111                              \n15                                       13329.727273                              \n16                                       21214.714286                              \n17                                       18357.000000                              \n18                                       22514.250000                              \n19                                       14635.285714                              \n20                                       13086.750000                              \n21                                        8770.900000                              \n22                                       16912.571429                              \n23                                       11957.714286                              ",
      "text/html": "<div>\n<style scoped>\n    .dataframe tbody tr th:only-of-type {\n        vertical-align: middle;\n    }\n\n    .dataframe tbody tr th {\n        vertical-align: top;\n    }\n\n    .dataframe thead th {\n        text-align: right;\n    }\n</style>\n<table border=\"1\" class=\"dataframe\">\n  <thead>\n    <tr style=\"text-align: right;\">\n      <th></th>\n      <th>ward_name</th>\n      <th>Average Value for j. Income Deprivation Affecting Older People Index (IDAOPI)</th>\n    </tr>\n  </thead>\n  <tbody>\n    <tr>\n      <th>0</th>\n      <td>Barnet Vale</td>\n      <td>20573.400000</td>\n    </tr>\n    <tr>\n      <th>1</th>\n      <td>Brunswick Park</td>\n      <td>16916.400000</td>\n    </tr>\n    <tr>\n      <th>2</th>\n      <td>Burnt Oak</td>\n      <td>6055.272727</td>\n    </tr>\n    <tr>\n      <th>3</th>\n      <td>Childs Hill</td>\n      <td>16448.636364</td>\n    </tr>\n    <tr>\n      <th>4</th>\n      <td>Colindale North</td>\n      <td>3330.600000</td>\n    </tr>\n    <tr>\n      <th>5</th>\n      <td>Colindale South</td>\n      <td>14882.000000</td>\n    </tr>\n    <tr>\n      <th>6</th>\n      <td>Cricklewood</td>\n      <td>7886.666667</td>\n    </tr>\n    <tr>\n      <th>7</th>\n      <td>East Barnet</td>\n      <td>15049.100000</td>\n    </tr>\n    <tr>\n      <th>8</th>\n      <td>East Finchley</td>\n      <td>11938.200000</td>\n    </tr>\n    <tr>\n      <th>9</th>\n      <td>Edgware</td>\n      <td>16174.888889</td>\n    </tr>\n    <tr>\n      <th>10</th>\n      <td>Edgwarebury</td>\n      <td>15851.500000</td>\n    </tr>\n    <tr>\n      <th>11</th>\n      <td>Finchley Church End</td>\n      <td>18855.800000</td>\n    </tr>\n    <tr>\n      <th>12</th>\n      <td>Friern Barnet</td>\n      <td>10738.000000</td>\n    </tr>\n    <tr>\n      <th>13</th>\n      <td>Garden Suburb</td>\n      <td>27836.000000</td>\n    </tr>\n    <tr>\n      <th>14</th>\n      <td>Golders Green</td>\n      <td>16729.111111</td>\n    </tr>\n    <tr>\n      <th>15</th>\n      <td>Hendon</td>\n      <td>13329.727273</td>\n    </tr>\n    <tr>\n      <th>16</th>\n      <td>High Barnet</td>\n      <td>21214.714286</td>\n    </tr>\n    <tr>\n      <th>17</th>\n      <td>Mill Hill</td>\n      <td>18357.000000</td>\n    </tr>\n    <tr>\n      <th>18</th>\n      <td>Totteridge &amp; Woodside</td>\n      <td>22514.250000</td>\n    </tr>\n    <tr>\n      <th>19</th>\n      <td>Underhill</td>\n      <td>14635.285714</td>\n    </tr>\n    <tr>\n      <th>20</th>\n      <td>West Finchley</td>\n      <td>13086.750000</td>\n    </tr>\n    <tr>\n      <th>21</th>\n      <td>West Hendon</td>\n      <td>8770.900000</td>\n    </tr>\n    <tr>\n      <th>22</th>\n      <td>Whetstone</td>\n      <td>16912.571429</td>\n    </tr>\n    <tr>\n      <th>23</th>\n      <td>Woodhouse</td>\n      <td>11957.714286</td>\n    </tr>\n  </tbody>\n</table>\n</div>"
     },
     "metadata": {},
     "output_type": "display_data"
    }
   ],
   "source": [
    "# Group the data by the Indices of Deprivation column\n",
    "grouped_2015 = complete_imd2015.groupby('Indices of Deprivation')\n",
    "\n",
    "# Loop over the groups and create a table for each one\n",
    "for name, group in grouped_2015:\n",
    "    # Compute the mean value for each ward_name group\n",
    "    ward_means = group.groupby('ward_name')['Value'].mean()\n",
    "\n",
    "    # Create a new dataframe with the ward_name and the average Value\n",
    "    table = pd.DataFrame({'ward_name': ward_means.index, f'Average Value for {name}': ward_means.values})\n",
    "\n",
    "    # Display the table\n",
    "    print(f'Table for {name}:')\n",
    "    display(table)\n",
    "\n",
    "# Note: the smaller the value, the more deprived"
   ],
   "metadata": {
    "collapsed": false
   }
  },
  {
   "cell_type": "markdown",
   "source": [
    "## 2019 IMD Rank"
   ],
   "metadata": {
    "collapsed": false
   }
  },
  {
   "cell_type": "code",
   "execution_count": 57,
   "outputs": [
    {
     "name": "stdout",
     "output_type": "stream",
     "text": [
      "Table for a. Index of Multiple Deprivation (IMD):\n"
     ]
    },
    {
     "data": {
      "text/plain": "                ward_name   \n0             Barnet Vale  \\\n1          Brunswick Park   \n2               Burnt Oak   \n3             Childs Hill   \n4         Colindale North   \n5         Colindale South   \n6             Cricklewood   \n7             East Barnet   \n8           East Finchley   \n9                 Edgware   \n10            Edgwarebury   \n11    Finchley Church End   \n12          Friern Barnet   \n13          Garden Suburb   \n14          Golders Green   \n15                 Hendon   \n16            High Barnet   \n17              Mill Hill   \n18  Totteridge & Woodside   \n19              Underhill   \n20          West Finchley   \n21            West Hendon   \n22              Whetstone   \n23              Woodhouse   \n\n    Average Value for a. Index of Multiple Deprivation (IMD)  \n0                                        21999.100000         \n1                                        22310.500000         \n2                                        10060.818182         \n3                                        17819.727273         \n4                                         5710.400000         \n5                                        21282.000000         \n6                                         8107.000000         \n7                                        19894.500000         \n8                                        20241.800000         \n9                                        21822.111111         \n10                                       20793.500000         \n11                                       23890.200000         \n12                                       17859.545455         \n13                                       27609.142857         \n14                                       20587.777778         \n15                                       18878.636364         \n16                                       22422.571429         \n17                                       21819.375000         \n18                                       24610.125000         \n19                                       16417.857143         \n20                                       22294.250000         \n21                                       15038.500000         \n22                                       23438.571429         \n23                                       18046.714286         ",
      "text/html": "<div>\n<style scoped>\n    .dataframe tbody tr th:only-of-type {\n        vertical-align: middle;\n    }\n\n    .dataframe tbody tr th {\n        vertical-align: top;\n    }\n\n    .dataframe thead th {\n        text-align: right;\n    }\n</style>\n<table border=\"1\" class=\"dataframe\">\n  <thead>\n    <tr style=\"text-align: right;\">\n      <th></th>\n      <th>ward_name</th>\n      <th>Average Value for a. Index of Multiple Deprivation (IMD)</th>\n    </tr>\n  </thead>\n  <tbody>\n    <tr>\n      <th>0</th>\n      <td>Barnet Vale</td>\n      <td>21999.100000</td>\n    </tr>\n    <tr>\n      <th>1</th>\n      <td>Brunswick Park</td>\n      <td>22310.500000</td>\n    </tr>\n    <tr>\n      <th>2</th>\n      <td>Burnt Oak</td>\n      <td>10060.818182</td>\n    </tr>\n    <tr>\n      <th>3</th>\n      <td>Childs Hill</td>\n      <td>17819.727273</td>\n    </tr>\n    <tr>\n      <th>4</th>\n      <td>Colindale North</td>\n      <td>5710.400000</td>\n    </tr>\n    <tr>\n      <th>5</th>\n      <td>Colindale South</td>\n      <td>21282.000000</td>\n    </tr>\n    <tr>\n      <th>6</th>\n      <td>Cricklewood</td>\n      <td>8107.000000</td>\n    </tr>\n    <tr>\n      <th>7</th>\n      <td>East Barnet</td>\n      <td>19894.500000</td>\n    </tr>\n    <tr>\n      <th>8</th>\n      <td>East Finchley</td>\n      <td>20241.800000</td>\n    </tr>\n    <tr>\n      <th>9</th>\n      <td>Edgware</td>\n      <td>21822.111111</td>\n    </tr>\n    <tr>\n      <th>10</th>\n      <td>Edgwarebury</td>\n      <td>20793.500000</td>\n    </tr>\n    <tr>\n      <th>11</th>\n      <td>Finchley Church End</td>\n      <td>23890.200000</td>\n    </tr>\n    <tr>\n      <th>12</th>\n      <td>Friern Barnet</td>\n      <td>17859.545455</td>\n    </tr>\n    <tr>\n      <th>13</th>\n      <td>Garden Suburb</td>\n      <td>27609.142857</td>\n    </tr>\n    <tr>\n      <th>14</th>\n      <td>Golders Green</td>\n      <td>20587.777778</td>\n    </tr>\n    <tr>\n      <th>15</th>\n      <td>Hendon</td>\n      <td>18878.636364</td>\n    </tr>\n    <tr>\n      <th>16</th>\n      <td>High Barnet</td>\n      <td>22422.571429</td>\n    </tr>\n    <tr>\n      <th>17</th>\n      <td>Mill Hill</td>\n      <td>21819.375000</td>\n    </tr>\n    <tr>\n      <th>18</th>\n      <td>Totteridge &amp; Woodside</td>\n      <td>24610.125000</td>\n    </tr>\n    <tr>\n      <th>19</th>\n      <td>Underhill</td>\n      <td>16417.857143</td>\n    </tr>\n    <tr>\n      <th>20</th>\n      <td>West Finchley</td>\n      <td>22294.250000</td>\n    </tr>\n    <tr>\n      <th>21</th>\n      <td>West Hendon</td>\n      <td>15038.500000</td>\n    </tr>\n    <tr>\n      <th>22</th>\n      <td>Whetstone</td>\n      <td>23438.571429</td>\n    </tr>\n    <tr>\n      <th>23</th>\n      <td>Woodhouse</td>\n      <td>18046.714286</td>\n    </tr>\n  </tbody>\n</table>\n</div>"
     },
     "metadata": {},
     "output_type": "display_data"
    },
    {
     "name": "stdout",
     "output_type": "stream",
     "text": [
      "Table for b. Income Deprivation Domain:\n"
     ]
    },
    {
     "data": {
      "text/plain": "                ward_name  Average Value for b. Income Deprivation Domain\n0             Barnet Vale                                    19024.000000\n1          Brunswick Park                                    18470.100000\n2               Burnt Oak                                     8672.636364\n3             Childs Hill                                    16923.363636\n4         Colindale North                                     3749.800000\n5         Colindale South                                    19924.000000\n6             Cricklewood                                     7151.500000\n7             East Barnet                                    16296.900000\n8           East Finchley                                    17147.600000\n9                 Edgware                                    18285.333333\n10            Edgwarebury                                    18620.500000\n11    Finchley Church End                                    20701.300000\n12          Friern Barnet                                    14642.181818\n13          Garden Suburb                                    28500.285714\n14          Golders Green                                    18479.666667\n15                 Hendon                                    17971.818182\n16            High Barnet                                    21828.142857\n17              Mill Hill                                    19955.625000\n18  Totteridge & Woodside                                    23820.500000\n19              Underhill                                    13583.000000\n20          West Finchley                                    18729.500000\n21            West Hendon                                    14498.800000\n22              Whetstone                                    20063.000000\n23              Woodhouse                                    14066.142857",
      "text/html": "<div>\n<style scoped>\n    .dataframe tbody tr th:only-of-type {\n        vertical-align: middle;\n    }\n\n    .dataframe tbody tr th {\n        vertical-align: top;\n    }\n\n    .dataframe thead th {\n        text-align: right;\n    }\n</style>\n<table border=\"1\" class=\"dataframe\">\n  <thead>\n    <tr style=\"text-align: right;\">\n      <th></th>\n      <th>ward_name</th>\n      <th>Average Value for b. Income Deprivation Domain</th>\n    </tr>\n  </thead>\n  <tbody>\n    <tr>\n      <th>0</th>\n      <td>Barnet Vale</td>\n      <td>19024.000000</td>\n    </tr>\n    <tr>\n      <th>1</th>\n      <td>Brunswick Park</td>\n      <td>18470.100000</td>\n    </tr>\n    <tr>\n      <th>2</th>\n      <td>Burnt Oak</td>\n      <td>8672.636364</td>\n    </tr>\n    <tr>\n      <th>3</th>\n      <td>Childs Hill</td>\n      <td>16923.363636</td>\n    </tr>\n    <tr>\n      <th>4</th>\n      <td>Colindale North</td>\n      <td>3749.800000</td>\n    </tr>\n    <tr>\n      <th>5</th>\n      <td>Colindale South</td>\n      <td>19924.000000</td>\n    </tr>\n    <tr>\n      <th>6</th>\n      <td>Cricklewood</td>\n      <td>7151.500000</td>\n    </tr>\n    <tr>\n      <th>7</th>\n      <td>East Barnet</td>\n      <td>16296.900000</td>\n    </tr>\n    <tr>\n      <th>8</th>\n      <td>East Finchley</td>\n      <td>17147.600000</td>\n    </tr>\n    <tr>\n      <th>9</th>\n      <td>Edgware</td>\n      <td>18285.333333</td>\n    </tr>\n    <tr>\n      <th>10</th>\n      <td>Edgwarebury</td>\n      <td>18620.500000</td>\n    </tr>\n    <tr>\n      <th>11</th>\n      <td>Finchley Church End</td>\n      <td>20701.300000</td>\n    </tr>\n    <tr>\n      <th>12</th>\n      <td>Friern Barnet</td>\n      <td>14642.181818</td>\n    </tr>\n    <tr>\n      <th>13</th>\n      <td>Garden Suburb</td>\n      <td>28500.285714</td>\n    </tr>\n    <tr>\n      <th>14</th>\n      <td>Golders Green</td>\n      <td>18479.666667</td>\n    </tr>\n    <tr>\n      <th>15</th>\n      <td>Hendon</td>\n      <td>17971.818182</td>\n    </tr>\n    <tr>\n      <th>16</th>\n      <td>High Barnet</td>\n      <td>21828.142857</td>\n    </tr>\n    <tr>\n      <th>17</th>\n      <td>Mill Hill</td>\n      <td>19955.625000</td>\n    </tr>\n    <tr>\n      <th>18</th>\n      <td>Totteridge &amp; Woodside</td>\n      <td>23820.500000</td>\n    </tr>\n    <tr>\n      <th>19</th>\n      <td>Underhill</td>\n      <td>13583.000000</td>\n    </tr>\n    <tr>\n      <th>20</th>\n      <td>West Finchley</td>\n      <td>18729.500000</td>\n    </tr>\n    <tr>\n      <th>21</th>\n      <td>West Hendon</td>\n      <td>14498.800000</td>\n    </tr>\n    <tr>\n      <th>22</th>\n      <td>Whetstone</td>\n      <td>20063.000000</td>\n    </tr>\n    <tr>\n      <th>23</th>\n      <td>Woodhouse</td>\n      <td>14066.142857</td>\n    </tr>\n  </tbody>\n</table>\n</div>"
     },
     "metadata": {},
     "output_type": "display_data"
    },
    {
     "name": "stdout",
     "output_type": "stream",
     "text": [
      "Table for c. Employment Deprivation Domain:\n"
     ]
    },
    {
     "data": {
      "text/plain": "                ward_name  Average Value for c. Employment Deprivation Domain\n0             Barnet Vale                                       21189.900000 \n1          Brunswick Park                                       20644.600000 \n2               Burnt Oak                                       11885.909091 \n3             Childs Hill                                       19225.818182 \n4         Colindale North                                        5852.600000 \n5         Colindale South                                       27874.000000 \n6             Cricklewood                                        9101.000000 \n7             East Barnet                                       19460.200000 \n8           East Finchley                                       21306.700000 \n9                 Edgware                                       21286.777778 \n10            Edgwarebury                                       21488.750000 \n11    Finchley Church End                                       24550.500000 \n12          Friern Barnet                                       18595.909091 \n13          Garden Suburb                                       30762.571429 \n14          Golders Green                                       19089.000000 \n15                 Hendon                                       20834.090909 \n16            High Barnet                                       22579.285714 \n17              Mill Hill                                       23162.125000 \n18  Totteridge & Woodside                                       25234.375000 \n19              Underhill                                       13842.285714 \n20          West Finchley                                       23257.666667 \n21            West Hendon                                       18899.400000 \n22              Whetstone                                       22516.000000 \n23              Woodhouse                                       17742.857143 ",
      "text/html": "<div>\n<style scoped>\n    .dataframe tbody tr th:only-of-type {\n        vertical-align: middle;\n    }\n\n    .dataframe tbody tr th {\n        vertical-align: top;\n    }\n\n    .dataframe thead th {\n        text-align: right;\n    }\n</style>\n<table border=\"1\" class=\"dataframe\">\n  <thead>\n    <tr style=\"text-align: right;\">\n      <th></th>\n      <th>ward_name</th>\n      <th>Average Value for c. Employment Deprivation Domain</th>\n    </tr>\n  </thead>\n  <tbody>\n    <tr>\n      <th>0</th>\n      <td>Barnet Vale</td>\n      <td>21189.900000</td>\n    </tr>\n    <tr>\n      <th>1</th>\n      <td>Brunswick Park</td>\n      <td>20644.600000</td>\n    </tr>\n    <tr>\n      <th>2</th>\n      <td>Burnt Oak</td>\n      <td>11885.909091</td>\n    </tr>\n    <tr>\n      <th>3</th>\n      <td>Childs Hill</td>\n      <td>19225.818182</td>\n    </tr>\n    <tr>\n      <th>4</th>\n      <td>Colindale North</td>\n      <td>5852.600000</td>\n    </tr>\n    <tr>\n      <th>5</th>\n      <td>Colindale South</td>\n      <td>27874.000000</td>\n    </tr>\n    <tr>\n      <th>6</th>\n      <td>Cricklewood</td>\n      <td>9101.000000</td>\n    </tr>\n    <tr>\n      <th>7</th>\n      <td>East Barnet</td>\n      <td>19460.200000</td>\n    </tr>\n    <tr>\n      <th>8</th>\n      <td>East Finchley</td>\n      <td>21306.700000</td>\n    </tr>\n    <tr>\n      <th>9</th>\n      <td>Edgware</td>\n      <td>21286.777778</td>\n    </tr>\n    <tr>\n      <th>10</th>\n      <td>Edgwarebury</td>\n      <td>21488.750000</td>\n    </tr>\n    <tr>\n      <th>11</th>\n      <td>Finchley Church End</td>\n      <td>24550.500000</td>\n    </tr>\n    <tr>\n      <th>12</th>\n      <td>Friern Barnet</td>\n      <td>18595.909091</td>\n    </tr>\n    <tr>\n      <th>13</th>\n      <td>Garden Suburb</td>\n      <td>30762.571429</td>\n    </tr>\n    <tr>\n      <th>14</th>\n      <td>Golders Green</td>\n      <td>19089.000000</td>\n    </tr>\n    <tr>\n      <th>15</th>\n      <td>Hendon</td>\n      <td>20834.090909</td>\n    </tr>\n    <tr>\n      <th>16</th>\n      <td>High Barnet</td>\n      <td>22579.285714</td>\n    </tr>\n    <tr>\n      <th>17</th>\n      <td>Mill Hill</td>\n      <td>23162.125000</td>\n    </tr>\n    <tr>\n      <th>18</th>\n      <td>Totteridge &amp; Woodside</td>\n      <td>25234.375000</td>\n    </tr>\n    <tr>\n      <th>19</th>\n      <td>Underhill</td>\n      <td>13842.285714</td>\n    </tr>\n    <tr>\n      <th>20</th>\n      <td>West Finchley</td>\n      <td>23257.666667</td>\n    </tr>\n    <tr>\n      <th>21</th>\n      <td>West Hendon</td>\n      <td>18899.400000</td>\n    </tr>\n    <tr>\n      <th>22</th>\n      <td>Whetstone</td>\n      <td>22516.000000</td>\n    </tr>\n    <tr>\n      <th>23</th>\n      <td>Woodhouse</td>\n      <td>17742.857143</td>\n    </tr>\n  </tbody>\n</table>\n</div>"
     },
     "metadata": {},
     "output_type": "display_data"
    },
    {
     "name": "stdout",
     "output_type": "stream",
     "text": [
      "Table for d. Education, Skills and Training Domain:\n"
     ]
    },
    {
     "data": {
      "text/plain": "                ward_name   \n0             Barnet Vale  \\\n1          Brunswick Park   \n2               Burnt Oak   \n3             Childs Hill   \n4         Colindale North   \n5         Colindale South   \n6             Cricklewood   \n7             East Barnet   \n8           East Finchley   \n9                 Edgware   \n10            Edgwarebury   \n11    Finchley Church End   \n12          Friern Barnet   \n13          Garden Suburb   \n14          Golders Green   \n15                 Hendon   \n16            High Barnet   \n17              Mill Hill   \n18  Totteridge & Woodside   \n19              Underhill   \n20          West Finchley   \n21            West Hendon   \n22              Whetstone   \n23              Woodhouse   \n\n    Average Value for d. Education, Skills and Training Domain  \n0                                        28140.500000           \n1                                        24805.600000           \n2                                        14682.000000           \n3                                        26567.545455           \n4                                        12589.800000           \n5                                        21938.000000           \n6                                        16552.666667           \n7                                        24600.200000           \n8                                        26319.900000           \n9                                        25566.777778           \n10                                       24299.500000           \n11                                       30007.400000           \n12                                       24375.909091           \n13                                       31623.571429           \n14                                       25632.000000           \n15                                       27721.181818           \n16                                       27710.000000           \n17                                       27965.750000           \n18                                       29237.375000           \n19                                       21031.571429           \n20                                       29573.333333           \n21                                       20344.100000           \n22                                       28510.428571           \n23                                       26633.571429           ",
      "text/html": "<div>\n<style scoped>\n    .dataframe tbody tr th:only-of-type {\n        vertical-align: middle;\n    }\n\n    .dataframe tbody tr th {\n        vertical-align: top;\n    }\n\n    .dataframe thead th {\n        text-align: right;\n    }\n</style>\n<table border=\"1\" class=\"dataframe\">\n  <thead>\n    <tr style=\"text-align: right;\">\n      <th></th>\n      <th>ward_name</th>\n      <th>Average Value for d. Education, Skills and Training Domain</th>\n    </tr>\n  </thead>\n  <tbody>\n    <tr>\n      <th>0</th>\n      <td>Barnet Vale</td>\n      <td>28140.500000</td>\n    </tr>\n    <tr>\n      <th>1</th>\n      <td>Brunswick Park</td>\n      <td>24805.600000</td>\n    </tr>\n    <tr>\n      <th>2</th>\n      <td>Burnt Oak</td>\n      <td>14682.000000</td>\n    </tr>\n    <tr>\n      <th>3</th>\n      <td>Childs Hill</td>\n      <td>26567.545455</td>\n    </tr>\n    <tr>\n      <th>4</th>\n      <td>Colindale North</td>\n      <td>12589.800000</td>\n    </tr>\n    <tr>\n      <th>5</th>\n      <td>Colindale South</td>\n      <td>21938.000000</td>\n    </tr>\n    <tr>\n      <th>6</th>\n      <td>Cricklewood</td>\n      <td>16552.666667</td>\n    </tr>\n    <tr>\n      <th>7</th>\n      <td>East Barnet</td>\n      <td>24600.200000</td>\n    </tr>\n    <tr>\n      <th>8</th>\n      <td>East Finchley</td>\n      <td>26319.900000</td>\n    </tr>\n    <tr>\n      <th>9</th>\n      <td>Edgware</td>\n      <td>25566.777778</td>\n    </tr>\n    <tr>\n      <th>10</th>\n      <td>Edgwarebury</td>\n      <td>24299.500000</td>\n    </tr>\n    <tr>\n      <th>11</th>\n      <td>Finchley Church End</td>\n      <td>30007.400000</td>\n    </tr>\n    <tr>\n      <th>12</th>\n      <td>Friern Barnet</td>\n      <td>24375.909091</td>\n    </tr>\n    <tr>\n      <th>13</th>\n      <td>Garden Suburb</td>\n      <td>31623.571429</td>\n    </tr>\n    <tr>\n      <th>14</th>\n      <td>Golders Green</td>\n      <td>25632.000000</td>\n    </tr>\n    <tr>\n      <th>15</th>\n      <td>Hendon</td>\n      <td>27721.181818</td>\n    </tr>\n    <tr>\n      <th>16</th>\n      <td>High Barnet</td>\n      <td>27710.000000</td>\n    </tr>\n    <tr>\n      <th>17</th>\n      <td>Mill Hill</td>\n      <td>27965.750000</td>\n    </tr>\n    <tr>\n      <th>18</th>\n      <td>Totteridge &amp; Woodside</td>\n      <td>29237.375000</td>\n    </tr>\n    <tr>\n      <th>19</th>\n      <td>Underhill</td>\n      <td>21031.571429</td>\n    </tr>\n    <tr>\n      <th>20</th>\n      <td>West Finchley</td>\n      <td>29573.333333</td>\n    </tr>\n    <tr>\n      <th>21</th>\n      <td>West Hendon</td>\n      <td>20344.100000</td>\n    </tr>\n    <tr>\n      <th>22</th>\n      <td>Whetstone</td>\n      <td>28510.428571</td>\n    </tr>\n    <tr>\n      <th>23</th>\n      <td>Woodhouse</td>\n      <td>26633.571429</td>\n    </tr>\n  </tbody>\n</table>\n</div>"
     },
     "metadata": {},
     "output_type": "display_data"
    },
    {
     "name": "stdout",
     "output_type": "stream",
     "text": [
      "Table for e. Health Deprivation and Disability Domain:\n"
     ]
    },
    {
     "data": {
      "text/plain": "                ward_name   \n0             Barnet Vale  \\\n1          Brunswick Park   \n2               Burnt Oak   \n3             Childs Hill   \n4         Colindale North   \n5         Colindale South   \n6             Cricklewood   \n7             East Barnet   \n8           East Finchley   \n9                 Edgware   \n10            Edgwarebury   \n11    Finchley Church End   \n12          Friern Barnet   \n13          Garden Suburb   \n14          Golders Green   \n15                 Hendon   \n16            High Barnet   \n17              Mill Hill   \n18  Totteridge & Woodside   \n19              Underhill   \n20          West Finchley   \n21            West Hendon   \n22              Whetstone   \n23              Woodhouse   \n\n    Average Value for e. Health Deprivation and Disability Domain  \n0                                        30060.600000              \n1                                        28631.300000              \n2                                        21829.818182              \n3                                        28168.363636              \n4                                        18619.600000              \n5                                        32596.000000              \n6                                        19900.500000              \n7                                        26628.800000              \n8                                        26960.600000              \n9                                        30360.111111              \n10                                       29228.125000              \n11                                       31239.400000              \n12                                       26194.272727              \n13                                       32563.857143              \n14                                       27848.111111              \n15                                       29427.545455              \n16                                       28981.857143              \n17                                       30921.000000              \n18                                       30085.125000              \n19                                       24523.857143              \n20                                       29548.583333              \n21                                       27208.500000              \n22                                       29639.714286              \n23                                       27274.142857              ",
      "text/html": "<div>\n<style scoped>\n    .dataframe tbody tr th:only-of-type {\n        vertical-align: middle;\n    }\n\n    .dataframe tbody tr th {\n        vertical-align: top;\n    }\n\n    .dataframe thead th {\n        text-align: right;\n    }\n</style>\n<table border=\"1\" class=\"dataframe\">\n  <thead>\n    <tr style=\"text-align: right;\">\n      <th></th>\n      <th>ward_name</th>\n      <th>Average Value for e. Health Deprivation and Disability Domain</th>\n    </tr>\n  </thead>\n  <tbody>\n    <tr>\n      <th>0</th>\n      <td>Barnet Vale</td>\n      <td>30060.600000</td>\n    </tr>\n    <tr>\n      <th>1</th>\n      <td>Brunswick Park</td>\n      <td>28631.300000</td>\n    </tr>\n    <tr>\n      <th>2</th>\n      <td>Burnt Oak</td>\n      <td>21829.818182</td>\n    </tr>\n    <tr>\n      <th>3</th>\n      <td>Childs Hill</td>\n      <td>28168.363636</td>\n    </tr>\n    <tr>\n      <th>4</th>\n      <td>Colindale North</td>\n      <td>18619.600000</td>\n    </tr>\n    <tr>\n      <th>5</th>\n      <td>Colindale South</td>\n      <td>32596.000000</td>\n    </tr>\n    <tr>\n      <th>6</th>\n      <td>Cricklewood</td>\n      <td>19900.500000</td>\n    </tr>\n    <tr>\n      <th>7</th>\n      <td>East Barnet</td>\n      <td>26628.800000</td>\n    </tr>\n    <tr>\n      <th>8</th>\n      <td>East Finchley</td>\n      <td>26960.600000</td>\n    </tr>\n    <tr>\n      <th>9</th>\n      <td>Edgware</td>\n      <td>30360.111111</td>\n    </tr>\n    <tr>\n      <th>10</th>\n      <td>Edgwarebury</td>\n      <td>29228.125000</td>\n    </tr>\n    <tr>\n      <th>11</th>\n      <td>Finchley Church End</td>\n      <td>31239.400000</td>\n    </tr>\n    <tr>\n      <th>12</th>\n      <td>Friern Barnet</td>\n      <td>26194.272727</td>\n    </tr>\n    <tr>\n      <th>13</th>\n      <td>Garden Suburb</td>\n      <td>32563.857143</td>\n    </tr>\n    <tr>\n      <th>14</th>\n      <td>Golders Green</td>\n      <td>27848.111111</td>\n    </tr>\n    <tr>\n      <th>15</th>\n      <td>Hendon</td>\n      <td>29427.545455</td>\n    </tr>\n    <tr>\n      <th>16</th>\n      <td>High Barnet</td>\n      <td>28981.857143</td>\n    </tr>\n    <tr>\n      <th>17</th>\n      <td>Mill Hill</td>\n      <td>30921.000000</td>\n    </tr>\n    <tr>\n      <th>18</th>\n      <td>Totteridge &amp; Woodside</td>\n      <td>30085.125000</td>\n    </tr>\n    <tr>\n      <th>19</th>\n      <td>Underhill</td>\n      <td>24523.857143</td>\n    </tr>\n    <tr>\n      <th>20</th>\n      <td>West Finchley</td>\n      <td>29548.583333</td>\n    </tr>\n    <tr>\n      <th>21</th>\n      <td>West Hendon</td>\n      <td>27208.500000</td>\n    </tr>\n    <tr>\n      <th>22</th>\n      <td>Whetstone</td>\n      <td>29639.714286</td>\n    </tr>\n    <tr>\n      <th>23</th>\n      <td>Woodhouse</td>\n      <td>27274.142857</td>\n    </tr>\n  </tbody>\n</table>\n</div>"
     },
     "metadata": {},
     "output_type": "display_data"
    },
    {
     "name": "stdout",
     "output_type": "stream",
     "text": [
      "Table for f. Crime Domain:\n"
     ]
    },
    {
     "data": {
      "text/plain": "                ward_name  Average Value for f. Crime Domain\n0             Barnet Vale                       17449.800000\n1          Brunswick Park                       19013.600000\n2               Burnt Oak                        9565.000000\n3             Childs Hill                       11332.181818\n4         Colindale North                       12031.400000\n5         Colindale South                       11383.000000\n6             Cricklewood                        6268.500000\n7             East Barnet                       14817.400000\n8           East Finchley                       17787.800000\n9                 Edgware                       18719.000000\n10            Edgwarebury                       16626.125000\n11    Finchley Church End                       20595.900000\n12          Friern Barnet                       12336.272727\n13          Garden Suburb                       16606.285714\n14          Golders Green                       19070.111111\n15                 Hendon                       15055.000000\n16            High Barnet                       12630.714286\n17              Mill Hill                       16199.250000\n18  Totteridge & Woodside                       24127.750000\n19              Underhill                       13695.857143\n20          West Finchley                       15934.666667\n21            West Hendon                       12022.900000\n22              Whetstone                       15994.857143\n23              Woodhouse                       13391.285714",
      "text/html": "<div>\n<style scoped>\n    .dataframe tbody tr th:only-of-type {\n        vertical-align: middle;\n    }\n\n    .dataframe tbody tr th {\n        vertical-align: top;\n    }\n\n    .dataframe thead th {\n        text-align: right;\n    }\n</style>\n<table border=\"1\" class=\"dataframe\">\n  <thead>\n    <tr style=\"text-align: right;\">\n      <th></th>\n      <th>ward_name</th>\n      <th>Average Value for f. Crime Domain</th>\n    </tr>\n  </thead>\n  <tbody>\n    <tr>\n      <th>0</th>\n      <td>Barnet Vale</td>\n      <td>17449.800000</td>\n    </tr>\n    <tr>\n      <th>1</th>\n      <td>Brunswick Park</td>\n      <td>19013.600000</td>\n    </tr>\n    <tr>\n      <th>2</th>\n      <td>Burnt Oak</td>\n      <td>9565.000000</td>\n    </tr>\n    <tr>\n      <th>3</th>\n      <td>Childs Hill</td>\n      <td>11332.181818</td>\n    </tr>\n    <tr>\n      <th>4</th>\n      <td>Colindale North</td>\n      <td>12031.400000</td>\n    </tr>\n    <tr>\n      <th>5</th>\n      <td>Colindale South</td>\n      <td>11383.000000</td>\n    </tr>\n    <tr>\n      <th>6</th>\n      <td>Cricklewood</td>\n      <td>6268.500000</td>\n    </tr>\n    <tr>\n      <th>7</th>\n      <td>East Barnet</td>\n      <td>14817.400000</td>\n    </tr>\n    <tr>\n      <th>8</th>\n      <td>East Finchley</td>\n      <td>17787.800000</td>\n    </tr>\n    <tr>\n      <th>9</th>\n      <td>Edgware</td>\n      <td>18719.000000</td>\n    </tr>\n    <tr>\n      <th>10</th>\n      <td>Edgwarebury</td>\n      <td>16626.125000</td>\n    </tr>\n    <tr>\n      <th>11</th>\n      <td>Finchley Church End</td>\n      <td>20595.900000</td>\n    </tr>\n    <tr>\n      <th>12</th>\n      <td>Friern Barnet</td>\n      <td>12336.272727</td>\n    </tr>\n    <tr>\n      <th>13</th>\n      <td>Garden Suburb</td>\n      <td>16606.285714</td>\n    </tr>\n    <tr>\n      <th>14</th>\n      <td>Golders Green</td>\n      <td>19070.111111</td>\n    </tr>\n    <tr>\n      <th>15</th>\n      <td>Hendon</td>\n      <td>15055.000000</td>\n    </tr>\n    <tr>\n      <th>16</th>\n      <td>High Barnet</td>\n      <td>12630.714286</td>\n    </tr>\n    <tr>\n      <th>17</th>\n      <td>Mill Hill</td>\n      <td>16199.250000</td>\n    </tr>\n    <tr>\n      <th>18</th>\n      <td>Totteridge &amp; Woodside</td>\n      <td>24127.750000</td>\n    </tr>\n    <tr>\n      <th>19</th>\n      <td>Underhill</td>\n      <td>13695.857143</td>\n    </tr>\n    <tr>\n      <th>20</th>\n      <td>West Finchley</td>\n      <td>15934.666667</td>\n    </tr>\n    <tr>\n      <th>21</th>\n      <td>West Hendon</td>\n      <td>12022.900000</td>\n    </tr>\n    <tr>\n      <th>22</th>\n      <td>Whetstone</td>\n      <td>15994.857143</td>\n    </tr>\n    <tr>\n      <th>23</th>\n      <td>Woodhouse</td>\n      <td>13391.285714</td>\n    </tr>\n  </tbody>\n</table>\n</div>"
     },
     "metadata": {},
     "output_type": "display_data"
    },
    {
     "name": "stdout",
     "output_type": "stream",
     "text": [
      "Table for g. Barriers to Housing and Services Domain:\n"
     ]
    },
    {
     "data": {
      "text/plain": "                ward_name   \n0             Barnet Vale  \\\n1          Brunswick Park   \n2               Burnt Oak   \n3             Childs Hill   \n4         Colindale North   \n5         Colindale South   \n6             Cricklewood   \n7             East Barnet   \n8           East Finchley   \n9                 Edgware   \n10            Edgwarebury   \n11    Finchley Church End   \n12          Friern Barnet   \n13          Garden Suburb   \n14          Golders Green   \n15                 Hendon   \n16            High Barnet   \n17              Mill Hill   \n18  Totteridge & Woodside   \n19              Underhill   \n20          West Finchley   \n21            West Hendon   \n22              Whetstone   \n23              Woodhouse   \n\n    Average Value for g. Barriers to Housing and Services Domain  \n0                                         8014.300000             \n1                                        11772.700000             \n2                                         3066.727273             \n3                                         6658.272727             \n4                                         1019.800000             \n5                                         8877.000000             \n6                                         3244.333333             \n7                                        11023.500000             \n8                                         8871.300000             \n9                                         9331.888889             \n10                                        8514.375000             \n11                                        9005.900000             \n12                                        7904.727273             \n13                                       10730.000000             \n14                                        8230.333333             \n15                                        5726.090909             \n16                                        9479.571429             \n17                                        6613.375000             \n18                                        6643.250000             \n19                                        9110.714286             \n20                                        9526.750000             \n21                                        3121.300000             \n22                                       11389.857143             \n23                                        8942.428571             ",
      "text/html": "<div>\n<style scoped>\n    .dataframe tbody tr th:only-of-type {\n        vertical-align: middle;\n    }\n\n    .dataframe tbody tr th {\n        vertical-align: top;\n    }\n\n    .dataframe thead th {\n        text-align: right;\n    }\n</style>\n<table border=\"1\" class=\"dataframe\">\n  <thead>\n    <tr style=\"text-align: right;\">\n      <th></th>\n      <th>ward_name</th>\n      <th>Average Value for g. Barriers to Housing and Services Domain</th>\n    </tr>\n  </thead>\n  <tbody>\n    <tr>\n      <th>0</th>\n      <td>Barnet Vale</td>\n      <td>8014.300000</td>\n    </tr>\n    <tr>\n      <th>1</th>\n      <td>Brunswick Park</td>\n      <td>11772.700000</td>\n    </tr>\n    <tr>\n      <th>2</th>\n      <td>Burnt Oak</td>\n      <td>3066.727273</td>\n    </tr>\n    <tr>\n      <th>3</th>\n      <td>Childs Hill</td>\n      <td>6658.272727</td>\n    </tr>\n    <tr>\n      <th>4</th>\n      <td>Colindale North</td>\n      <td>1019.800000</td>\n    </tr>\n    <tr>\n      <th>5</th>\n      <td>Colindale South</td>\n      <td>8877.000000</td>\n    </tr>\n    <tr>\n      <th>6</th>\n      <td>Cricklewood</td>\n      <td>3244.333333</td>\n    </tr>\n    <tr>\n      <th>7</th>\n      <td>East Barnet</td>\n      <td>11023.500000</td>\n    </tr>\n    <tr>\n      <th>8</th>\n      <td>East Finchley</td>\n      <td>8871.300000</td>\n    </tr>\n    <tr>\n      <th>9</th>\n      <td>Edgware</td>\n      <td>9331.888889</td>\n    </tr>\n    <tr>\n      <th>10</th>\n      <td>Edgwarebury</td>\n      <td>8514.375000</td>\n    </tr>\n    <tr>\n      <th>11</th>\n      <td>Finchley Church End</td>\n      <td>9005.900000</td>\n    </tr>\n    <tr>\n      <th>12</th>\n      <td>Friern Barnet</td>\n      <td>7904.727273</td>\n    </tr>\n    <tr>\n      <th>13</th>\n      <td>Garden Suburb</td>\n      <td>10730.000000</td>\n    </tr>\n    <tr>\n      <th>14</th>\n      <td>Golders Green</td>\n      <td>8230.333333</td>\n    </tr>\n    <tr>\n      <th>15</th>\n      <td>Hendon</td>\n      <td>5726.090909</td>\n    </tr>\n    <tr>\n      <th>16</th>\n      <td>High Barnet</td>\n      <td>9479.571429</td>\n    </tr>\n    <tr>\n      <th>17</th>\n      <td>Mill Hill</td>\n      <td>6613.375000</td>\n    </tr>\n    <tr>\n      <th>18</th>\n      <td>Totteridge &amp; Woodside</td>\n      <td>6643.250000</td>\n    </tr>\n    <tr>\n      <th>19</th>\n      <td>Underhill</td>\n      <td>9110.714286</td>\n    </tr>\n    <tr>\n      <th>20</th>\n      <td>West Finchley</td>\n      <td>9526.750000</td>\n    </tr>\n    <tr>\n      <th>21</th>\n      <td>West Hendon</td>\n      <td>3121.300000</td>\n    </tr>\n    <tr>\n      <th>22</th>\n      <td>Whetstone</td>\n      <td>11389.857143</td>\n    </tr>\n    <tr>\n      <th>23</th>\n      <td>Woodhouse</td>\n      <td>8942.428571</td>\n    </tr>\n  </tbody>\n</table>\n</div>"
     },
     "metadata": {},
     "output_type": "display_data"
    },
    {
     "name": "stdout",
     "output_type": "stream",
     "text": [
      "Table for h. Living Environment Deprivation Domain:\n"
     ]
    },
    {
     "data": {
      "text/plain": "                ward_name   \n0             Barnet Vale  \\\n1          Brunswick Park   \n2               Burnt Oak   \n3             Childs Hill   \n4         Colindale North   \n5         Colindale South   \n6             Cricklewood   \n7             East Barnet   \n8           East Finchley   \n9                 Edgware   \n10            Edgwarebury   \n11    Finchley Church End   \n12          Friern Barnet   \n13          Garden Suburb   \n14          Golders Green   \n15                 Hendon   \n16            High Barnet   \n17              Mill Hill   \n18  Totteridge & Woodside   \n19              Underhill   \n20          West Finchley   \n21            West Hendon   \n22              Whetstone   \n23              Woodhouse   \n\n    Average Value for h. Living Environment Deprivation Domain  \n0                                        15011.600000           \n1                                        16937.100000           \n2                                        10480.363636           \n3                                         9015.090909           \n4                                        15218.200000           \n5                                         6999.000000           \n6                                         9226.500000           \n7                                        13252.900000           \n8                                        12031.500000           \n9                                        13113.555556           \n10                                       16157.500000           \n11                                       12046.400000           \n12                                       12861.636364           \n13                                       11518.142857           \n14                                       11211.888889           \n15                                        9156.454545           \n16                                       16268.142857           \n17                                       13596.875000           \n18                                       18103.625000           \n19                                       17328.142857           \n20                                       12325.250000           \n21                                        9193.200000           \n22                                       16055.571429           \n23                                       11451.000000           ",
      "text/html": "<div>\n<style scoped>\n    .dataframe tbody tr th:only-of-type {\n        vertical-align: middle;\n    }\n\n    .dataframe tbody tr th {\n        vertical-align: top;\n    }\n\n    .dataframe thead th {\n        text-align: right;\n    }\n</style>\n<table border=\"1\" class=\"dataframe\">\n  <thead>\n    <tr style=\"text-align: right;\">\n      <th></th>\n      <th>ward_name</th>\n      <th>Average Value for h. Living Environment Deprivation Domain</th>\n    </tr>\n  </thead>\n  <tbody>\n    <tr>\n      <th>0</th>\n      <td>Barnet Vale</td>\n      <td>15011.600000</td>\n    </tr>\n    <tr>\n      <th>1</th>\n      <td>Brunswick Park</td>\n      <td>16937.100000</td>\n    </tr>\n    <tr>\n      <th>2</th>\n      <td>Burnt Oak</td>\n      <td>10480.363636</td>\n    </tr>\n    <tr>\n      <th>3</th>\n      <td>Childs Hill</td>\n      <td>9015.090909</td>\n    </tr>\n    <tr>\n      <th>4</th>\n      <td>Colindale North</td>\n      <td>15218.200000</td>\n    </tr>\n    <tr>\n      <th>5</th>\n      <td>Colindale South</td>\n      <td>6999.000000</td>\n    </tr>\n    <tr>\n      <th>6</th>\n      <td>Cricklewood</td>\n      <td>9226.500000</td>\n    </tr>\n    <tr>\n      <th>7</th>\n      <td>East Barnet</td>\n      <td>13252.900000</td>\n    </tr>\n    <tr>\n      <th>8</th>\n      <td>East Finchley</td>\n      <td>12031.500000</td>\n    </tr>\n    <tr>\n      <th>9</th>\n      <td>Edgware</td>\n      <td>13113.555556</td>\n    </tr>\n    <tr>\n      <th>10</th>\n      <td>Edgwarebury</td>\n      <td>16157.500000</td>\n    </tr>\n    <tr>\n      <th>11</th>\n      <td>Finchley Church End</td>\n      <td>12046.400000</td>\n    </tr>\n    <tr>\n      <th>12</th>\n      <td>Friern Barnet</td>\n      <td>12861.636364</td>\n    </tr>\n    <tr>\n      <th>13</th>\n      <td>Garden Suburb</td>\n      <td>11518.142857</td>\n    </tr>\n    <tr>\n      <th>14</th>\n      <td>Golders Green</td>\n      <td>11211.888889</td>\n    </tr>\n    <tr>\n      <th>15</th>\n      <td>Hendon</td>\n      <td>9156.454545</td>\n    </tr>\n    <tr>\n      <th>16</th>\n      <td>High Barnet</td>\n      <td>16268.142857</td>\n    </tr>\n    <tr>\n      <th>17</th>\n      <td>Mill Hill</td>\n      <td>13596.875000</td>\n    </tr>\n    <tr>\n      <th>18</th>\n      <td>Totteridge &amp; Woodside</td>\n      <td>18103.625000</td>\n    </tr>\n    <tr>\n      <th>19</th>\n      <td>Underhill</td>\n      <td>17328.142857</td>\n    </tr>\n    <tr>\n      <th>20</th>\n      <td>West Finchley</td>\n      <td>12325.250000</td>\n    </tr>\n    <tr>\n      <th>21</th>\n      <td>West Hendon</td>\n      <td>9193.200000</td>\n    </tr>\n    <tr>\n      <th>22</th>\n      <td>Whetstone</td>\n      <td>16055.571429</td>\n    </tr>\n    <tr>\n      <th>23</th>\n      <td>Woodhouse</td>\n      <td>11451.000000</td>\n    </tr>\n  </tbody>\n</table>\n</div>"
     },
     "metadata": {},
     "output_type": "display_data"
    },
    {
     "name": "stdout",
     "output_type": "stream",
     "text": [
      "Table for i. Income Deprivation Affecting Children Index (IDACI):\n"
     ]
    },
    {
     "data": {
      "text/plain": "                ward_name   \n0             Barnet Vale  \\\n1          Brunswick Park   \n2               Burnt Oak   \n3             Childs Hill   \n4         Colindale North   \n5         Colindale South   \n6             Cricklewood   \n7             East Barnet   \n8           East Finchley   \n9                 Edgware   \n10            Edgwarebury   \n11    Finchley Church End   \n12          Friern Barnet   \n13          Garden Suburb   \n14          Golders Green   \n15                 Hendon   \n16            High Barnet   \n17              Mill Hill   \n18  Totteridge & Woodside   \n19              Underhill   \n20          West Finchley   \n21            West Hendon   \n22              Whetstone   \n23              Woodhouse   \n\n    Average Value for i. Income Deprivation Affecting Children Index (IDACI)  \n0                                        19389.400000                         \n1                                        20832.700000                         \n2                                        10988.727273                         \n3                                        18549.545455                         \n4                                         5640.400000                         \n5                                        26237.000000                         \n6                                         7823.500000                         \n7                                        17715.800000                         \n8                                        18543.100000                         \n9                                        20952.555556                         \n10                                       20526.875000                         \n11                                       23390.500000                         \n12                                       15570.000000                         \n13                                       29155.000000                         \n14                                       24435.666667                         \n15                                       20200.363636                         \n16                                       21995.571429                         \n17                                       20103.250000                         \n18                                       25097.750000                         \n19                                       14771.285714                         \n20                                       21748.666667                         \n21                                       16802.800000                         \n22                                       22102.285714                         \n23                                       15676.000000                         ",
      "text/html": "<div>\n<style scoped>\n    .dataframe tbody tr th:only-of-type {\n        vertical-align: middle;\n    }\n\n    .dataframe tbody tr th {\n        vertical-align: top;\n    }\n\n    .dataframe thead th {\n        text-align: right;\n    }\n</style>\n<table border=\"1\" class=\"dataframe\">\n  <thead>\n    <tr style=\"text-align: right;\">\n      <th></th>\n      <th>ward_name</th>\n      <th>Average Value for i. Income Deprivation Affecting Children Index (IDACI)</th>\n    </tr>\n  </thead>\n  <tbody>\n    <tr>\n      <th>0</th>\n      <td>Barnet Vale</td>\n      <td>19389.400000</td>\n    </tr>\n    <tr>\n      <th>1</th>\n      <td>Brunswick Park</td>\n      <td>20832.700000</td>\n    </tr>\n    <tr>\n      <th>2</th>\n      <td>Burnt Oak</td>\n      <td>10988.727273</td>\n    </tr>\n    <tr>\n      <th>3</th>\n      <td>Childs Hill</td>\n      <td>18549.545455</td>\n    </tr>\n    <tr>\n      <th>4</th>\n      <td>Colindale North</td>\n      <td>5640.400000</td>\n    </tr>\n    <tr>\n      <th>5</th>\n      <td>Colindale South</td>\n      <td>26237.000000</td>\n    </tr>\n    <tr>\n      <th>6</th>\n      <td>Cricklewood</td>\n      <td>7823.500000</td>\n    </tr>\n    <tr>\n      <th>7</th>\n      <td>East Barnet</td>\n      <td>17715.800000</td>\n    </tr>\n    <tr>\n      <th>8</th>\n      <td>East Finchley</td>\n      <td>18543.100000</td>\n    </tr>\n    <tr>\n      <th>9</th>\n      <td>Edgware</td>\n      <td>20952.555556</td>\n    </tr>\n    <tr>\n      <th>10</th>\n      <td>Edgwarebury</td>\n      <td>20526.875000</td>\n    </tr>\n    <tr>\n      <th>11</th>\n      <td>Finchley Church End</td>\n      <td>23390.500000</td>\n    </tr>\n    <tr>\n      <th>12</th>\n      <td>Friern Barnet</td>\n      <td>15570.000000</td>\n    </tr>\n    <tr>\n      <th>13</th>\n      <td>Garden Suburb</td>\n      <td>29155.000000</td>\n    </tr>\n    <tr>\n      <th>14</th>\n      <td>Golders Green</td>\n      <td>24435.666667</td>\n    </tr>\n    <tr>\n      <th>15</th>\n      <td>Hendon</td>\n      <td>20200.363636</td>\n    </tr>\n    <tr>\n      <th>16</th>\n      <td>High Barnet</td>\n      <td>21995.571429</td>\n    </tr>\n    <tr>\n      <th>17</th>\n      <td>Mill Hill</td>\n      <td>20103.250000</td>\n    </tr>\n    <tr>\n      <th>18</th>\n      <td>Totteridge &amp; Woodside</td>\n      <td>25097.750000</td>\n    </tr>\n    <tr>\n      <th>19</th>\n      <td>Underhill</td>\n      <td>14771.285714</td>\n    </tr>\n    <tr>\n      <th>20</th>\n      <td>West Finchley</td>\n      <td>21748.666667</td>\n    </tr>\n    <tr>\n      <th>21</th>\n      <td>West Hendon</td>\n      <td>16802.800000</td>\n    </tr>\n    <tr>\n      <th>22</th>\n      <td>Whetstone</td>\n      <td>22102.285714</td>\n    </tr>\n    <tr>\n      <th>23</th>\n      <td>Woodhouse</td>\n      <td>15676.000000</td>\n    </tr>\n  </tbody>\n</table>\n</div>"
     },
     "metadata": {},
     "output_type": "display_data"
    },
    {
     "name": "stdout",
     "output_type": "stream",
     "text": [
      "Table for j. Income Deprivation Affecting Older People Index (IDAOPI):\n"
     ]
    },
    {
     "data": {
      "text/plain": "                ward_name   \n0             Barnet Vale  \\\n1          Brunswick Park   \n2               Burnt Oak   \n3             Childs Hill   \n4         Colindale North   \n5         Colindale South   \n6             Cricklewood   \n7             East Barnet   \n8           East Finchley   \n9                 Edgware   \n10            Edgwarebury   \n11    Finchley Church End   \n12          Friern Barnet   \n13          Garden Suburb   \n14          Golders Green   \n15                 Hendon   \n16            High Barnet   \n17              Mill Hill   \n18  Totteridge & Woodside   \n19              Underhill   \n20          West Finchley   \n21            West Hendon   \n22              Whetstone   \n23              Woodhouse   \n\n    Average Value for j. Income Deprivation Affecting Older People Index (IDAOPI)  \n0                                        19611.100000                              \n1                                        16387.900000                              \n2                                         5766.363636                              \n3                                        15116.636364                              \n4                                         2126.200000                              \n5                                        12225.000000                              \n6                                         6780.666667                              \n7                                        14443.200000                              \n8                                        12201.100000                              \n9                                        16315.777778                              \n10                                       16286.375000                              \n11                                       17697.900000                              \n12                                       10371.090909                              \n13                                       27273.285714                              \n14                                       14684.777778                              \n15                                       12608.363636                              \n16                                       21249.714286                              \n17                                       18077.500000                              \n18                                       21023.875000                              \n19                                       14530.142857                              \n20                                       12728.416667                              \n21                                        8048.900000                              \n22                                       16197.142857                              \n23                                       10848.000000                              ",
      "text/html": "<div>\n<style scoped>\n    .dataframe tbody tr th:only-of-type {\n        vertical-align: middle;\n    }\n\n    .dataframe tbody tr th {\n        vertical-align: top;\n    }\n\n    .dataframe thead th {\n        text-align: right;\n    }\n</style>\n<table border=\"1\" class=\"dataframe\">\n  <thead>\n    <tr style=\"text-align: right;\">\n      <th></th>\n      <th>ward_name</th>\n      <th>Average Value for j. Income Deprivation Affecting Older People Index (IDAOPI)</th>\n    </tr>\n  </thead>\n  <tbody>\n    <tr>\n      <th>0</th>\n      <td>Barnet Vale</td>\n      <td>19611.100000</td>\n    </tr>\n    <tr>\n      <th>1</th>\n      <td>Brunswick Park</td>\n      <td>16387.900000</td>\n    </tr>\n    <tr>\n      <th>2</th>\n      <td>Burnt Oak</td>\n      <td>5766.363636</td>\n    </tr>\n    <tr>\n      <th>3</th>\n      <td>Childs Hill</td>\n      <td>15116.636364</td>\n    </tr>\n    <tr>\n      <th>4</th>\n      <td>Colindale North</td>\n      <td>2126.200000</td>\n    </tr>\n    <tr>\n      <th>5</th>\n      <td>Colindale South</td>\n      <td>12225.000000</td>\n    </tr>\n    <tr>\n      <th>6</th>\n      <td>Cricklewood</td>\n      <td>6780.666667</td>\n    </tr>\n    <tr>\n      <th>7</th>\n      <td>East Barnet</td>\n      <td>14443.200000</td>\n    </tr>\n    <tr>\n      <th>8</th>\n      <td>East Finchley</td>\n      <td>12201.100000</td>\n    </tr>\n    <tr>\n      <th>9</th>\n      <td>Edgware</td>\n      <td>16315.777778</td>\n    </tr>\n    <tr>\n      <th>10</th>\n      <td>Edgwarebury</td>\n      <td>16286.375000</td>\n    </tr>\n    <tr>\n      <th>11</th>\n      <td>Finchley Church End</td>\n      <td>17697.900000</td>\n    </tr>\n    <tr>\n      <th>12</th>\n      <td>Friern Barnet</td>\n      <td>10371.090909</td>\n    </tr>\n    <tr>\n      <th>13</th>\n      <td>Garden Suburb</td>\n      <td>27273.285714</td>\n    </tr>\n    <tr>\n      <th>14</th>\n      <td>Golders Green</td>\n      <td>14684.777778</td>\n    </tr>\n    <tr>\n      <th>15</th>\n      <td>Hendon</td>\n      <td>12608.363636</td>\n    </tr>\n    <tr>\n      <th>16</th>\n      <td>High Barnet</td>\n      <td>21249.714286</td>\n    </tr>\n    <tr>\n      <th>17</th>\n      <td>Mill Hill</td>\n      <td>18077.500000</td>\n    </tr>\n    <tr>\n      <th>18</th>\n      <td>Totteridge &amp; Woodside</td>\n      <td>21023.875000</td>\n    </tr>\n    <tr>\n      <th>19</th>\n      <td>Underhill</td>\n      <td>14530.142857</td>\n    </tr>\n    <tr>\n      <th>20</th>\n      <td>West Finchley</td>\n      <td>12728.416667</td>\n    </tr>\n    <tr>\n      <th>21</th>\n      <td>West Hendon</td>\n      <td>8048.900000</td>\n    </tr>\n    <tr>\n      <th>22</th>\n      <td>Whetstone</td>\n      <td>16197.142857</td>\n    </tr>\n    <tr>\n      <th>23</th>\n      <td>Woodhouse</td>\n      <td>10848.000000</td>\n    </tr>\n  </tbody>\n</table>\n</div>"
     },
     "metadata": {},
     "output_type": "display_data"
    }
   ],
   "source": [
    "# Group the data by the Indices of Deprivation column\n",
    "grouped_2019 = complete_imd2019.groupby('Indices of Deprivation')\n",
    "\n",
    "# Loop over the groups and create a table for each one\n",
    "for name, group in grouped_2019:\n",
    "    # Compute the mean value for each ward_name group\n",
    "    ward_means = group.groupby('ward_name')['Value'].mean()\n",
    "\n",
    "    # Create a new dataframe with the ward_name and the average Value\n",
    "    table = pd.DataFrame({'ward_name': ward_means.index, f'Average Value for {name}': ward_means.values})\n",
    "\n",
    "    # Display the table\n",
    "    print(f'Table for {name}:')\n",
    "    display(table)"
   ],
   "metadata": {
    "collapsed": false
   }
  }
 ],
 "metadata": {
  "kernelspec": {
   "display_name": "Python 3",
   "language": "python",
   "name": "python3"
  },
  "language_info": {
   "codemirror_mode": {
    "name": "ipython",
    "version": 2
   },
   "file_extension": ".py",
   "mimetype": "text/x-python",
   "name": "python",
   "nbconvert_exporter": "python",
   "pygments_lexer": "ipython2",
   "version": "2.7.6"
  }
 },
 "nbformat": 4,
 "nbformat_minor": 0
}
