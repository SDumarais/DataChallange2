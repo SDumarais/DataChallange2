{
 "cells": [
  {
   "cell_type": "code",
   "execution_count": 94,
   "id": "98f71bae",
   "metadata": {},
   "outputs": [],
   "source": [
    "import pandas as pd\n",
    "import numpy as np\n",
    "import matplotlib.pyplot as plt\n",
    "from datetime import date\n",
    "from statsmodels.tsa.statespace.sarimax import SARIMAX\n",
    "from statsmodels.graphics.tsaplots import plot_acf, plot_pacf\n",
    "from statsmodels.tsa.stattools import adfuller\n",
    "from datetime import timedelta\n",
    "from time import time\n",
    "import warnings\n",
    "warnings.filterwarnings('ignore')\n",
    "from tqdm import tqdm\n",
    "import statsmodels.api as sm\n",
    "\n",
    "wards = pd.read_csv('lsoa_ward.csv')\n",
    "dataset = pd.read_csv('Cleaned_dataset.csv')\n",
    "groups = dataset.groupby('Month')\n",
    "\n",
    "wards.rename(columns={\"LSOA21CD\": \"LSOA code\", \"LSOA21NM\": \"LSOA name\"}, inplace=True)\n",
    "result = pd.merge(dataset, wards, on=['LSOA code', 'LSOA name'])"
   ]
  },
  {
   "cell_type": "markdown",
   "id": "74cf0983",
   "metadata": {},
   "source": [
    "# Sarima"
   ]
  },
  {
   "cell_type": "code",
   "execution_count": 95,
   "id": "1282a48d",
   "metadata": {},
   "outputs": [],
   "source": [
    "# # Sets the timeseries start and end date, creates the timeseries, \n",
    "# # gets the anomaly months, and averages those values\n",
    "# # Also creates the first difference time series.\n",
    "\n",
    "# data_start = date(2010, 12, 1)\n",
    "# data_end = date(2022, 9, 1)\n",
    "\n",
    "\n",
    "# sarima_timeseries = groups.count()['Longitude']\n",
    "# sarima_timeseries = pd.Series(sarima_timeseries.values,index=[pd.Timestamp(x, freq='M') for x in sarima_timeseries.index])\n",
    "# sarima_timeseries = sarima_timeseries[data_start:data_end]\n",
    "# sarima_df = pd.DataFrame(sarima_timeseries).reset_index()\n",
    "\n",
    "# remove_start = date(2019, 11, 1)\n",
    "# remove_end = date(2020, 7, 1)\n",
    "\n",
    "# def anomaly_avg(timestamp):\n",
    "#     temp = sarima_df[sarima_df['index'].dt.month == timestamp.month]\n",
    "#     temp = temp[temp['index'].dt.year != timestamp.year]\n",
    "#     return int(temp[0].mean())\n",
    "\n",
    "# corona_df = pd.DataFrame(sarima_timeseries[remove_start:remove_end]).reset_index()\n",
    "\n",
    "# for x in corona_df['index']:\n",
    "#     sarima_timeseries[x] = anomaly_avg(x)\n",
    "    \n",
    "# sarima_timeseries_diff = sarima_timeseries.diff()[1:]\n",
    "# sarima_timeseries_diff = pd.Series(sarima_timeseries_diff.values,index=[pd.Timestamp(x) for x in sarima_timeseries_diff.index])"
   ]
  },
  {
   "cell_type": "code",
   "execution_count": 96,
   "id": "86d7f042",
   "metadata": {},
   "outputs": [],
   "source": [
    "# # Prints and plots the ACF and PACF plots and the augmented dickey fuller tests\n",
    "\n",
    "# plot_acf(sarima_timeseries_diff);\n",
    "# adfull_time = adfuller(sarima_timeseries)\n",
    "# print('P-value of the time series:', round(adfull_time[1], 3))\n",
    "# adfull_time = adfuller(sarima_timeseries_diff)\n",
    "# print('P-value of the first differenced time series:', round(adfull_time[1], 3))\n",
    "# plot_pacf(sarima_timeseries_diff, method='ywm');"
   ]
  },
  {
   "cell_type": "code",
   "execution_count": 97,
   "id": "0113c201",
   "metadata": {},
   "outputs": [],
   "source": [
    "def prepare_timeseries(timeseries):\n",
    "    \n",
    "    data_start = date(2010, 12, 1)\n",
    "    data_end = date(2022, 9, 1)\n",
    "    timeseries = pd.Series(timeseries.values,index=[pd.Timestamp(x, freq='M') for x in timeseries.index])\n",
    "    timeseries = timeseries[data_start:data_end]\n",
    "    \n",
    "    return timeseries\n",
    "\n",
    "def training(timeseries):\n",
    "\n",
    "    train_end = date(2022, 1, 1)\n",
    "    test_end = date(2022, 9, 1)\n",
    "\n",
    "    train_data = timeseries[:train_end]\n",
    "    test_data = timeseries[train_end+timedelta(days=1):test_end]\n",
    "    \n",
    "    return train_data, test_data\n",
    "\n",
    "def corona_troubles(timeseries):\n",
    "    remove_start = date(2019, 11, 1)\n",
    "    remove_end = date(2020, 7, 1)\n",
    "    temp_df = pd.DataFrame(timeseries).reset_index()\n",
    "    \n",
    "    \n",
    "    for x in timeseries[remove_start:remove_end].index:\n",
    "        temp = temp_df[temp_df['index'].dt.month == x.month]\n",
    "        temp = temp[temp['index'].dt.year != x.year]\n",
    "        timeseries[x] = int(temp[0].mean())\n",
    "        \n",
    "    return timeseries\n",
    "\n",
    "def create_model(train_data, my_order, my_seasonal_order):\n",
    "#     my_order = (0,1,0)\n",
    "#     my_seasonal_order = (2, 0, 1, 6)\n",
    "    model = SARIMAX(train_data, order=my_order, seasonal_order=my_seasonal_order)\n",
    "    \n",
    "    start = time()\n",
    "    model_fit = model.fit()\n",
    "    end = time()\n",
    "#     print(\"Model Fitting Time:\", end - start)\n",
    "    \n",
    "    return model_fit\n",
    "\n",
    "\n",
    "\n",
    "def pred_res(model_fit, test_data):\n",
    "    \n",
    "    predictions = model_fit.forecast(len(test_data))\n",
    "    predictions = pd.Series(predictions, index=test_data.index)\n",
    "    residuals = test_data - predictions\n",
    "    \n",
    "    return predictions, residuals\n",
    "\n",
    "def plot_residuals(residuals):\n",
    "    plt.figure(figsize=(10,4))\n",
    "    plt.plot(residuals)\n",
    "    plt.axhline(0, linestyle='--', color='k')\n",
    "    plt.title('Residuals from SARIMA Model', fontsize=20)\n",
    "    plt.ylabel(\"Error\", fontsize=16);\n",
    "    \n",
    "def plot_predictions(timeseries, predictions):\n",
    "    plt.figure(figsize=(10,4))\n",
    "\n",
    "    start_date = timeseries.index[0]\n",
    "    end_date = timeseries.index[-1]\n",
    "\n",
    "    plt.plot(timeseries)\n",
    "    plt.plot(predictions)\n",
    "\n",
    "    plt.legend(('Data', 'Predictions'), fontsize=16)\n",
    "\n",
    "    plt.title('Amount of crimes in Barnet', fontsize=20)\n",
    "    plt.ylabel('Crimes', fontsize=16)\n",
    "    for year in range(start_date.year+1,end_date.year+1):\n",
    "        plt.axvline(pd.to_datetime(str(year)+'-01-01'), color='k', linestyle='--', alpha=0.2)\n",
    "        \n",
    "def statistics(residuals, test_data):\n",
    "#     print('Mean Absolute Percent Error:', round(np.mean(abs(residuals/test_data)),4))\n",
    "#     print('Root Mean Squared Error:', np.sqrt(np.mean(residuals**2)))\n",
    "    MAPE = round(np.mean(abs(residuals/test_data)),4)\n",
    "    RMSE = np.sqrt(np.mean(residuals**2))\n",
    "    return MAPE, RMSE\n",
    "    \n",
    "def rolling_pred_res(train_data, test_data, timeseries, my_order, my_seasonal_order):\n",
    "#     my_order = (0,1,0)\n",
    "#     my_seasonal_order = (2, 0, 1, 6)\n",
    "    rolling_predictions = test_data.copy()\n",
    "    for train_end in test_data.index:\n",
    "        train_data = timeseries[:train_end-timedelta(days=1)]\n",
    "        model = SARIMAX(train_data, order=my_order, seasonal_order=my_seasonal_order)\n",
    "        model_fit = model.fit()\n",
    "\n",
    "        pred = model_fit.forecast()\n",
    "        rolling_predictions[train_end] = pred\n",
    "\n",
    "    rolling_residuals = test_data - rolling_predictions\n",
    "    \n",
    "    return rolling_predictions, rolling_residuals\n",
    "\n",
    "def plot_rolling_residuals(rolling_residuals):\n",
    "    plt.figure(figsize=(10,4))\n",
    "    plt.plot(rolling_residuals)\n",
    "    plt.axhline(0, linestyle='--', color='k')\n",
    "    plt.title('Rolling Forecast Residuals from SARIMA Model', fontsize=20)\n",
    "    plt.ylabel('Error', fontsize=16);\n",
    "    \n",
    "\n",
    "def plot_rolling_predictions(timeseries, rolling_predictions):\n",
    "    plt.figure(figsize=(10,4))\n",
    "    \n",
    "    start_date = timeseries.index[0]\n",
    "    end_date = timeseries.index[-1]\n",
    "\n",
    "    plt.plot(timeseries)\n",
    "    plt.plot(rolling_predictions)\n",
    "\n",
    "    plt.legend(('Data', 'Predictions'), fontsize=16)\n",
    "\n",
    "    plt.title('Rolling Forecast prediction Crimes in Barnet', fontsize=20)\n",
    "    plt.ylabel('Crimes', fontsize=16)\n",
    "    for year in range(start_date.year+1,end_date.year+1):\n",
    "        plt.axvline(pd.to_datetime(str(year)+'-01-01'), color='k', linestyle='--', alpha=0.2)\n",
    "        \n",
    "        \n",
    "def rolling_statistics(rolling_residuals, test_data):\n",
    "#     print('Rolling Mean Absolute Percent Error:', round(np.mean(abs(rolling_residuals/test_data)),4))\n",
    "#     print('Rolling Root Mean Squared Error:', np.sqrt(np.mean(rolling_residuals**2)))\n",
    "    RMAPE = round(np.mean(abs(rolling_residuals/test_data)),4)\n",
    "    RRMSE = np.sqrt(np.mean(rolling_residuals**2))\n",
    "    \n",
    "    return RMAPE, RRMSE\n",
    "\n",
    "\n",
    "\n"
   ]
  },
  {
   "cell_type": "code",
   "execution_count": 98,
   "id": "f4063b4e",
   "metadata": {},
   "outputs": [],
   "source": [
    "def run_functions(temp_timeseries):\n",
    "    temp_timeseries = prepare_timeseries(temp_timeseries)\n",
    "    temp_timeseries = corona_troubles(temp_timeseries)\n",
    "    temp_train, temp_test = training(temp_timeseries)\n",
    "    \n",
    "#     temp_model_fit = create_model(temp_train, my_order, my_seasonal_order)\n",
    "#     temp_predictions, temp_residuals = pred_res(temp_model_fit, temp_test)\n",
    "    # plot_residuals(temp_residuals)\n",
    "    # plot_predictions(temp_timeseries, temp_predictions)\n",
    "#     temp_mape, temp_rmse = statistics(temp_residuals, temp_test)\n",
    "\n",
    "    temp_rolling_predictions, temp_rolling_residuals = rolling_pred_res(temp_train, temp_test, temp_timeseries, my_order, my_seasonal_order)\n",
    "    # plot_rolling_residuals(temp_rolling_residuals)\n",
    "    # plot_rolling_predictions(temp_timeseries, temp_rolling_predictions)\n",
    "    temp_rmape, temp_rrmse = rolling_statistics(temp_rolling_residuals, temp_test)\n",
    "    \n",
    "    return temp_rmape, temp_rrmse"
   ]
  },
  {
   "cell_type": "code",
   "execution_count": 99,
   "id": "3752f567",
   "metadata": {},
   "outputs": [],
   "source": [
    "# # Part that runs each individual ward with the same parameters as the big one\n",
    "# rmse_lst = []\n",
    "# mape_lst = []\n",
    "# for x in result['WD22NM'].unique():\n",
    "#     df_temp = result[result['WD22NM'] == x]\n",
    "#     temp_timeseries = df_temp.groupby(\"Month\").count()['Latitude']\n",
    "#     x, y = run_functions(temp_timeseries)\n",
    "#     mape_lst.append(x)\n",
    "#     rmse_lst.append(y)"
   ]
  },
  {
   "cell_type": "code",
   "execution_count": 8,
   "id": "6986d0c3",
   "metadata": {
    "scrolled": true
   },
   "outputs": [
    {
     "ename": "NameError",
     "evalue": "name 'copy_rmse_lst' is not defined",
     "output_type": "error",
     "traceback": [
      "\u001b[1;31m---------------------------------------------------------------------------\u001b[0m",
      "\u001b[1;31mNameError\u001b[0m                                 Traceback (most recent call last)",
      "Cell \u001b[1;32mIn[8], line 1\u001b[0m\n\u001b[1;32m----> 1\u001b[0m \u001b[43mcopy_rmse_lst\u001b[49m, copy_mape_lst\n",
      "\u001b[1;31mNameError\u001b[0m: name 'copy_rmse_lst' is not defined"
     ]
    }
   ],
   "source": [
    "copy_rmse_lst, copy_mape_lst"
   ]
  },
  {
   "cell_type": "code",
   "execution_count": 9,
   "id": "a8e83adc",
   "metadata": {},
   "outputs": [
    {
     "ename": "NameError",
     "evalue": "name 'copy_mape_lst' is not defined",
     "output_type": "error",
     "traceback": [
      "\u001b[1;31m---------------------------------------------------------------------------\u001b[0m",
      "\u001b[1;31mNameError\u001b[0m                                 Traceback (most recent call last)",
      "Cell \u001b[1;32mIn[9], line 2\u001b[0m\n\u001b[0;32m      1\u001b[0m \u001b[38;5;66;03m# Average mape with the same order and seasonal order in the model as the whole dataset\u001b[39;00m\n\u001b[1;32m----> 2\u001b[0m np\u001b[38;5;241m.\u001b[39mmean(\u001b[43mcopy_mape_lst\u001b[49m)\n\u001b[0;32m      3\u001b[0m \u001b[38;5;66;03m# 0.54426\u001b[39;00m\n",
      "\u001b[1;31mNameError\u001b[0m: name 'copy_mape_lst' is not defined"
     ]
    }
   ],
   "source": [
    "# Average mape with the same order and seasonal order in the model as the whole dataset\n",
    "np.mean(copy_mape_lst)\n",
    "# 0.54426"
   ]
  },
  {
   "cell_type": "code",
   "execution_count": 10,
   "id": "9e949e3b",
   "metadata": {},
   "outputs": [
    {
     "data": {
      "text/plain": [
       "array(['West Hendon', 'East Finchley', 'Finchley Church End',\n",
       "       'West Finchley', 'Hendon', 'Burnt Oak', 'Woodhouse',\n",
       "       'Friern Barnet', 'Colindale North', 'Mill Hill', 'Cricklewood',\n",
       "       'Childs Hill', 'Golders Green', 'Garden Suburb', 'Brunswick Park',\n",
       "       'Whetstone', 'Barnet Vale', 'High Barnet', 'Edgwarebury',\n",
       "       'Totteridge & Woodside', 'East Barnet', 'Underhill', 'Edgware'],\n",
       "      dtype=object)"
      ]
     },
     "execution_count": 10,
     "metadata": {},
     "output_type": "execute_result"
    }
   ],
   "source": [
    "result['WD22NM'].unique()"
   ]
  },
  {
   "cell_type": "code",
   "execution_count": 11,
   "id": "f73db56d",
   "metadata": {},
   "outputs": [],
   "source": [
    "orders = []\n",
    "for x in [0,1]:\n",
    "    for y in [0,1]:\n",
    "        for z in [0,1,2]:\n",
    "            orders.append((x,y,z))\n",
    "            \n",
    "seasonal_orders = []\n",
    "for x in [1,2]:\n",
    "    for y in [0]:\n",
    "        for z in [0,1]:\n",
    "            for s in [6, 12]:\n",
    "                seasonal_orders.append((x,y,z,s))"
   ]
  },
  {
   "cell_type": "code",
   "execution_count": 17,
   "id": "360dcac1",
   "metadata": {
    "scrolled": true
   },
   "outputs": [
    {
     "name": "stderr",
     "output_type": "stream",
     "text": [
      "  4%|███▌                                                                              | 1/23 [01:47<39:16, 107.14s/it]"
     ]
    },
    {
     "name": "stdout",
     "output_type": "stream",
     "text": [
      "West Hendon took 107.1351363658905 seconds.\n",
      "Best: [('West Hendon', (1, 1, 2), (2, 0, 1, 12)), 0.2077, 2.850438562747845]\n",
      "('East Finchley', (1, 0, 0), (2, 0, 1, 6)) Does not work\n",
      "('East Finchley', (1, 0, 0), (2, 0, 1, 12)) Does not work\n"
     ]
    },
    {
     "name": "stderr",
     "output_type": "stream",
     "text": [
      "\r",
      "  9%|███████▏                                                                          | 2/23 [03:58<42:29, 121.43s/it]"
     ]
    },
    {
     "name": "stdout",
     "output_type": "stream",
     "text": [
      "East Finchley took 131.42845845222473 seconds.\n",
      "Best: [('East Finchley', (1, 1, 2), (2, 0, 1, 12)), 0.4088, 4.257346591481601]\n",
      "('Finchley Church End', (1, 0, 0), (1, 0, 1, 12)) Does not work\n"
     ]
    },
    {
     "name": "stderr",
     "output_type": "stream",
     "text": [
      "\r",
      " 13%|██████████▋                                                                       | 3/23 [06:18<43:13, 129.66s/it]"
     ]
    },
    {
     "name": "stdout",
     "output_type": "stream",
     "text": [
      "Finchley Church End took 139.45077872276306 seconds.\n",
      "Best: [('Finchley Church End', (1, 1, 2), (2, 0, 1, 12)), 0.3503, 3.3166247903554]\n"
     ]
    },
    {
     "name": "stderr",
     "output_type": "stream",
     "text": [
      "\r",
      " 17%|██████████████▎                                                                   | 4/23 [08:49<43:48, 138.34s/it]"
     ]
    },
    {
     "name": "stdout",
     "output_type": "stream",
     "text": [
      "West Finchley took 151.64276242256165 seconds.\n",
      "Best: [('West Finchley', (1, 1, 2), (2, 0, 1, 12)), 0.3673, 3.0618621784789726]\n"
     ]
    },
    {
     "name": "stderr",
     "output_type": "stream",
     "text": [
      "\r",
      " 22%|█████████████████▊                                                                | 5/23 [11:21<42:58, 143.26s/it]"
     ]
    },
    {
     "name": "stdout",
     "output_type": "stream",
     "text": [
      "Hendon took 151.97719645500183 seconds.\n",
      "Best: [('Hendon', (1, 1, 2), (2, 0, 1, 12)), 0.761, 8.18535277187245]\n",
      "('Burnt Oak', (0, 0, 2), (2, 0, 1, 6)) Does not work\n",
      "('Burnt Oak', (1, 0, 0), (1, 0, 1, 6)) Does not work\n"
     ]
    },
    {
     "name": "stderr",
     "output_type": "stream",
     "text": [
      "\r",
      " 26%|█████████████████████▍                                                            | 6/23 [13:33<39:31, 139.51s/it]"
     ]
    },
    {
     "name": "stdout",
     "output_type": "stream",
     "text": [
      "Burnt Oak took 132.22436237335205 seconds.\n",
      "Best: [('Burnt Oak', (1, 1, 2), (2, 0, 1, 12)), 0.4933, 5.623610939600996]\n"
     ]
    },
    {
     "name": "stderr",
     "output_type": "stream",
     "text": [
      "\r",
      " 30%|████████████████████████▉                                                         | 7/23 [15:23<34:34, 129.69s/it]"
     ]
    },
    {
     "name": "stdout",
     "output_type": "stream",
     "text": [
      "Woodhouse took 109.4685492515564 seconds.\n",
      "Best: [('Woodhouse', (1, 1, 2), (2, 0, 1, 12)), 0.3482, 1.695582495781317]\n",
      "('Friern Barnet', (1, 1, 2), (1, 0, 1, 12)) Does not work\n"
     ]
    },
    {
     "name": "stderr",
     "output_type": "stream",
     "text": [
      "\r",
      " 35%|████████████████████████████▌                                                     | 8/23 [17:59<34:32, 138.16s/it]"
     ]
    },
    {
     "name": "stdout",
     "output_type": "stream",
     "text": [
      "('Friern Barnet', (1, 1, 2), (2, 0, 1, 12)) Does not work\n",
      "Friern Barnet took 156.31255507469177 seconds.\n",
      "Best: [('Friern Barnet', (1, 1, 2), (2, 0, 1, 6)), 0.1606, 1.8708286933869707]\n",
      "('Colindale North', (1, 0, 1), (1, 0, 1, 12)) Does not work\n",
      "('Colindale North', (1, 0, 1), (2, 0, 1, 6)) Does not work\n",
      "('Colindale North', (1, 0, 2), (1, 0, 1, 6)) Does not work\n"
     ]
    },
    {
     "name": "stderr",
     "output_type": "stream",
     "text": [
      "\r",
      " 39%|████████████████████████████████                                                  | 9/23 [20:52<34:46, 149.01s/it]"
     ]
    },
    {
     "name": "stdout",
     "output_type": "stream",
     "text": [
      "Colindale North took 172.86778473854065 seconds.\n",
      "Best: [('Colindale North', (1, 1, 2), (2, 0, 1, 12)), 0.3698, 1.8371173070873836]\n",
      "('Mill Hill', (1, 0, 0), (2, 0, 1, 6)) Does not work\n"
     ]
    },
    {
     "name": "stderr",
     "output_type": "stream",
     "text": [
      "\r",
      " 43%|███████████████████████████████████▏                                             | 10/23 [23:32<32:59, 152.26s/it]"
     ]
    },
    {
     "name": "stdout",
     "output_type": "stream",
     "text": [
      "Mill Hill took 159.54177474975586 seconds.\n",
      "Best: [('Mill Hill', (1, 1, 2), (2, 0, 1, 12)), 0.4819, 3.517811819867572]\n",
      "('Cricklewood', (1, 0, 0), (2, 0, 0, 6)) Does not work\n"
     ]
    },
    {
     "name": "stderr",
     "output_type": "stream",
     "text": [
      "\r",
      " 48%|██████████████████████████████████████▋                                          | 11/23 [26:09<30:47, 153.99s/it]"
     ]
    },
    {
     "name": "stdout",
     "output_type": "stream",
     "text": [
      "Cricklewood took 157.90226459503174 seconds.\n",
      "Best: [('Cricklewood', (1, 1, 2), (2, 0, 1, 12)), 0.3521, 3.3166247903554]\n",
      "('Childs Hill', (1, 0, 0), (2, 0, 1, 6)) Does not work\n"
     ]
    },
    {
     "name": "stderr",
     "output_type": "stream",
     "text": [
      "\r",
      " 52%|██████████████████████████████████████████▎                                      | 12/23 [28:33<27:39, 150.82s/it]"
     ]
    },
    {
     "name": "stdout",
     "output_type": "stream",
     "text": [
      "Childs Hill took 143.58607363700867 seconds.\n",
      "Best: [('Childs Hill', (1, 1, 2), (2, 0, 1, 12)), 0.3152, 5.522680508593631]\n"
     ]
    },
    {
     "name": "stderr",
     "output_type": "stream",
     "text": [
      "\r",
      " 57%|█████████████████████████████████████████████▊                                   | 13/23 [30:42<24:02, 144.24s/it]"
     ]
    },
    {
     "name": "stdout",
     "output_type": "stream",
     "text": [
      "Golders Green took 129.09718561172485 seconds.\n",
      "Best: [('Golders Green', (1, 1, 2), (2, 0, 1, 12)), 0.4951, 4.046603514059662]\n"
     ]
    },
    {
     "name": "stderr",
     "output_type": "stream",
     "text": [
      "\r",
      " 61%|█████████████████████████████████████████████████▎                               | 14/23 [32:43<20:34, 137.17s/it]"
     ]
    },
    {
     "name": "stdout",
     "output_type": "stream",
     "text": [
      "Garden Suburb took 120.823233127594 seconds.\n",
      "Best: [('Garden Suburb', (1, 1, 2), (2, 0, 1, 12)), 0.6429, 2.958039891549808]\n"
     ]
    },
    {
     "name": "stderr",
     "output_type": "stream",
     "text": [
      "\r",
      " 65%|████████████████████████████████████████████████████▊                            | 15/23 [34:50<17:53, 134.24s/it]"
     ]
    },
    {
     "name": "stdout",
     "output_type": "stream",
     "text": [
      "Brunswick Park took 127.45672941207886 seconds.\n",
      "Best: [('Brunswick Park', (1, 1, 2), (2, 0, 1, 12)), 0.6187, 3.142451272494134]\n"
     ]
    },
    {
     "name": "stderr",
     "output_type": "stream",
     "text": [
      "\r",
      " 70%|████████████████████████████████████████████████████████▎                        | 16/23 [37:22<16:15, 139.35s/it]"
     ]
    },
    {
     "name": "stdout",
     "output_type": "stream",
     "text": [
      "Whetstone took 151.1980242729187 seconds.\n",
      "Best: [('Whetstone', (1, 1, 2), (2, 0, 1, 12)), 0.2464, 2.0615528128088303]\n"
     ]
    },
    {
     "name": "stderr",
     "output_type": "stream",
     "text": [
      "\r",
      " 74%|███████████████████████████████████████████████████████████▊                     | 17/23 [39:22<13:21, 133.50s/it]"
     ]
    },
    {
     "name": "stdout",
     "output_type": "stream",
     "text": [
      "Barnet Vale took 119.91108250617981 seconds.\n",
      "Best: [('Barnet Vale', (1, 1, 2), (2, 0, 1, 12)), 0.4928, 2.7613402542968153]\n"
     ]
    },
    {
     "name": "stderr",
     "output_type": "stream",
     "text": [
      "\r",
      " 78%|███████████████████████████████████████████████████████████████▍                 | 18/23 [41:13<10:34, 126.88s/it]"
     ]
    },
    {
     "name": "stdout",
     "output_type": "stream",
     "text": [
      "High Barnet took 111.4512448310852 seconds.\n",
      "Best: [('High Barnet', (1, 1, 2), (2, 0, 1, 12)), 0.7601, 2.4748737341529163]\n"
     ]
    },
    {
     "name": "stderr",
     "output_type": "stream",
     "text": [
      "\r",
      " 83%|██████████████████████████████████████████████████████████████████▉              | 19/23 [43:03<08:07, 121.86s/it]"
     ]
    },
    {
     "name": "stdout",
     "output_type": "stream",
     "text": [
      "Edgwarebury took 110.15930199623108 seconds.\n",
      "Best: [('Edgwarebury', (1, 1, 2), (2, 0, 1, 12)), 0.3937, 1.4142135623730951]\n",
      "('Totteridge & Woodside', (1, 0, 1), (1, 0, 1, 6)) Does not work\n"
     ]
    },
    {
     "name": "stderr",
     "output_type": "stream",
     "text": [
      "\r",
      " 87%|██████████████████████████████████████████████████████████████████████▍          | 20/23 [44:58<05:59, 119.70s/it]"
     ]
    },
    {
     "name": "stdout",
     "output_type": "stream",
     "text": [
      "Totteridge & Woodside took 114.67195343971252 seconds.\n",
      "Best: [('Totteridge & Woodside', (1, 1, 2), (2, 0, 1, 12)), 0.3831, 3.69120576505835]\n"
     ]
    },
    {
     "name": "stderr",
     "output_type": "stream",
     "text": [
      "\r",
      " 91%|█████████████████████████████████████████████████████████████████████████▉       | 21/23 [47:15<04:09, 124.81s/it]"
     ]
    },
    {
     "name": "stdout",
     "output_type": "stream",
     "text": [
      "East Barnet took 136.7193887233734 seconds.\n",
      "Best: [('East Barnet', (1, 1, 2), (2, 0, 1, 12)), 0.7202, 2.5248762345905194]\n"
     ]
    },
    {
     "name": "stderr",
     "output_type": "stream",
     "text": [
      "\r",
      " 96%|█████████████████████████████████████████████████████████████████████████████▍   | 22/23 [48:57<01:58, 118.22s/it]"
     ]
    },
    {
     "name": "stdout",
     "output_type": "stream",
     "text": [
      "Underhill took 102.86091017723083 seconds.\n",
      "Best: [('Underhill', (1, 1, 2), (2, 0, 1, 12)), 0.7542, 1.695582495781317]\n"
     ]
    },
    {
     "name": "stderr",
     "output_type": "stream",
     "text": [
      "100%|█████████████████████████████████████████████████████████████████████████████████| 23/23 [50:52<00:00, 132.71s/it]"
     ]
    },
    {
     "name": "stdout",
     "output_type": "stream",
     "text": [
      "Edgware took 114.43930435180664 seconds.\n",
      "Best: [('Edgware', (1, 1, 2), (2, 0, 1, 12)), 0.286, 2.9154759474226504]\n"
     ]
    },
    {
     "name": "stderr",
     "output_type": "stream",
     "text": [
      "\n"
     ]
    }
   ],
   "source": [
    "best_order_lst = []\n",
    "i=0\n",
    "for x in tqdm(result['WD22NM'].unique()):\n",
    "    i+=1\n",
    "    start= time()\n",
    "    looking_lst = []\n",
    "    for y in orders:\n",
    "        for z in seasonal_orders:\n",
    "            try:\n",
    "                my_order = y\n",
    "                my_seasonal_order = z\n",
    "                df_temp = result[result['WD22NM'] == x]\n",
    "                temp_timeseries = df_temp.groupby(\"Month\").count()['Latitude']\n",
    "                new_temp_mape, new_temp_rmse = run_functions(temp_timeseries)\n",
    "                looking_lst.append([(x,y,z), new_temp_mape, new_temp_rmse])\n",
    "            except:\n",
    "                print((x,y,z), 'Does not work')\n",
    "    \n",
    "    lowest = 1\n",
    "    for val in looking_lst:\n",
    "        if val[1] < lowest:\n",
    "            lowest = val[1]\n",
    "            best = val\n",
    "    best_order_lst.append(best)\n",
    "    end = time()\n",
    "    print('{} took {} seconds.'.format(x, end-start))\n",
    "    print('Best:', best)\n",
    "    "
   ]
  },
  {
   "cell_type": "code",
   "execution_count": 18,
   "id": "513e6218",
   "metadata": {},
   "outputs": [
    {
     "data": {
      "text/plain": [
       "[[('West Hendon', (1, 0, 2), (1, 0, 0, 6)), 0.1507, 2.3717082451262845],\n",
       " [('East Finchley', (1, 0, 2), (2, 0, 1, 12)), 0.3128, 3.517811819867572],\n",
       " [('Finchley Church End', (0, 0, 1), (1, 0, 0, 6)),\n",
       "  0.1286,\n",
       "  1.8708286933869707],\n",
       " [('West Finchley', (1, 0, 1), (2, 0, 1, 6)), 0.2415, 2.4748737341529163],\n",
       " [('Hendon', (1, 0, 0), (1, 0, 0, 6)), 0.5732, 9.17877987534291],\n",
       " [('Burnt Oak', (1, 0, 1), (1, 0, 0, 6)), 0.4433, 5.522680508593631],\n",
       " [('Woodhouse', (0, 0, 1), (2, 0, 0, 6)), 0.314, 2.0],\n",
       " [('Friern Barnet', (1, 1, 2), (1, 0, 0, 12)), 0.0751, 1.5],\n",
       " [('Colindale North', (0, 0, 0), (2, 0, 0, 6)), 0.1979, 1.541103500742244],\n",
       " [('Mill Hill', (0, 0, 1), (1, 0, 0, 12)), 0.2139, 2.7613402542968153],\n",
       " [('Cricklewood', (0, 0, 1), (1, 0, 0, 6)), 0.251, 3.605551275463989],\n",
       " [('Childs Hill', (0, 1, 1), (2, 0, 0, 6)), 0.2834, 5.208166663999915],\n",
       " [('Golders Green', (0, 0, 0), (1, 0, 0, 6)), 0.29, 3.7416573867739413],\n",
       " [('Garden Suburb', (1, 1, 0), (1, 0, 1, 6)), 0.2445, 2.0615528128088303],\n",
       " [('Brunswick Park', (1, 1, 1), (1, 0, 1, 12)), 0.3469, 2.1505813167606567],\n",
       " [('Whetstone', (1, 0, 2), (1, 0, 1, 6)), 0.1949, 2.091650066335189],\n",
       " [('Barnet Vale', (0, 0, 1), (2, 0, 0, 6)), 0.2572, 2.3717082451262845],\n",
       " [('High Barnet', (0, 0, 0), (1, 0, 0, 12)), 0.1943, 1.5811388300841898],\n",
       " [('Edgwarebury', (1, 0, 1), (2, 0, 1, 12)), 0.2896, 1.224744871391589],\n",
       " [('Totteridge & Woodside', (0, 0, 0), (2, 0, 0, 12)),\n",
       "  0.2131,\n",
       "  2.692582403567252],\n",
       " [('East Barnet', (0, 0, 1), (1, 0, 0, 12)), 0.372, 1.8371173070873836],\n",
       " [('Underhill', (1, 0, 1), (2, 0, 1, 6)), 0.425, 1.8027756377319946],\n",
       " [('Edgware', (0, 0, 0), (2, 0, 1, 12)), 0.188, 2.958039891549808]]"
      ]
     },
     "execution_count": 18,
     "metadata": {},
     "output_type": "execute_result"
    }
   ],
   "source": [
    "best_order_lst"
   ]
  },
  {
   "cell_type": "code",
   "execution_count": 19,
   "id": "7d474c03",
   "metadata": {},
   "outputs": [],
   "source": [
    "mape_lst = []\n",
    "for x in best_order_lst:\n",
    "    mape_lst.append(x[1])"
   ]
  },
  {
   "cell_type": "code",
   "execution_count": 20,
   "id": "7ffc0559",
   "metadata": {},
   "outputs": [],
   "source": [
    "copy_best_order_lst = best_order_lst.copy()"
   ]
  },
  {
   "cell_type": "code",
   "execution_count": 23,
   "id": "2b5bb351",
   "metadata": {},
   "outputs": [
    {
     "data": {
      "text/plain": [
       "0.2696043478260869"
      ]
     },
     "execution_count": 23,
     "metadata": {},
     "output_type": "execute_result"
    }
   ],
   "source": [
    "# Average mape with the 'optimal' order for each of the wards (but wrong so only the last set of parameters one lmao)\n",
    "#np.mean(mape_lst)  #(but wrong so only the last set of parameters one lmao)\n",
    "# 0.4526\n",
    "\n",
    "np.mean(mape_lst)\n",
    "# 0.2696"
   ]
  },
  {
   "cell_type": "code",
   "execution_count": 24,
   "id": "d630ff1e",
   "metadata": {},
   "outputs": [],
   "source": [
    "needs_work = []\n",
    "for x in best_order_lst:\n",
    "    if x[1] > 0.3:\n",
    "        needs_work.append(x)"
   ]
  },
  {
   "cell_type": "code",
   "execution_count": 25,
   "id": "bb7adaf2",
   "metadata": {
    "scrolled": true
   },
   "outputs": [
    {
     "data": {
      "text/plain": [
       "[[('East Finchley', (1, 0, 2), (2, 0, 1, 12)), 0.3128, 3.517811819867572],\n",
       " [('Hendon', (1, 0, 0), (1, 0, 0, 6)), 0.5732, 9.17877987534291],\n",
       " [('Burnt Oak', (1, 0, 1), (1, 0, 0, 6)), 0.4433, 5.522680508593631],\n",
       " [('Woodhouse', (0, 0, 1), (2, 0, 0, 6)), 0.314, 2.0],\n",
       " [('Brunswick Park', (1, 1, 1), (1, 0, 1, 12)), 0.3469, 2.1505813167606567],\n",
       " [('East Barnet', (0, 0, 1), (1, 0, 0, 12)), 0.372, 1.8371173070873836],\n",
       " [('Underhill', (1, 0, 1), (2, 0, 1, 6)), 0.425, 1.8027756377319946]]"
      ]
     },
     "execution_count": 25,
     "metadata": {},
     "output_type": "execute_result"
    }
   ],
   "source": [
    "needs_work"
   ]
  },
  {
   "cell_type": "code",
   "execution_count": 86,
   "id": "f88fbc58",
   "metadata": {},
   "outputs": [],
   "source": [
    "def get_timeseries(ward):\n",
    "    df_temp = result[result['WD22NM'] == ward]\n",
    "    temp_timeseries = df_temp.groupby(\"Month\").count()['Latitude']\n",
    "    temp_timeseries = prepare_timeseries(temp_timeseries)\n",
    "    temp_timeseries = corona_troubles(temp_timeseries)\n",
    "    \n",
    "    return temp_timeseries"
   ]
  },
  {
   "cell_type": "code",
   "execution_count": 87,
   "id": "eea4cebc",
   "metadata": {},
   "outputs": [],
   "source": [
    "def run_arima_functions(ward, y):\n",
    "    temp_timeseries = get_timeseries(ward)\n",
    "    temp_train, temp_test = training(temp_timeseries)\n",
    "    temp_preds, temp_res = rolling_pred_res_arima(temp_train, temp_test, temp_timeseries, y)\n",
    "    temp_rmape, temp_rrse = rolling_statistics(temp_res, temp_test)\n",
    "\n",
    "    return temp_rmape, temp_rrse"
   ]
  },
  {
   "cell_type": "code",
   "execution_count": 88,
   "id": "91da31ef",
   "metadata": {},
   "outputs": [],
   "source": [
    "def rolling_pred_res_arima(train_data, test_data, timeseries, my_order):\n",
    "#     my_order = (0,1,0)\n",
    "    rolling_predictions = test_data.copy()\n",
    "    for train_end in test_data.index:\n",
    "        train_data = timeseries[:train_end-timedelta(days=1)]\n",
    "        model = sm.tsa.arima.ARIMA(train_data, order=my_order)\n",
    "        model_fit = model.fit()\n",
    "\n",
    "        pred = model_fit.forecast()\n",
    "        rolling_predictions[train_end] = pred\n",
    "\n",
    "    rolling_residuals = test_data - rolling_predictions\n",
    "    \n",
    "    return rolling_predictions, rolling_residuals"
   ]
  },
  {
   "cell_type": "code",
   "execution_count": 91,
   "id": "aaf6049e",
   "metadata": {},
   "outputs": [],
   "source": [
    "orders = []\n",
    "for x in [0,1,2]:\n",
    "    for y in [0,1,2]:\n",
    "        for z in [0,1,2]:\n",
    "            orders.append((x,y,z))"
   ]
  },
  {
   "cell_type": "code",
   "execution_count": 92,
   "id": "bd388faf",
   "metadata": {},
   "outputs": [
    {
     "name": "stdout",
     "output_type": "stream",
     "text": [
      "[('East Finchley', (1, 0, 2), (2, 0, 1, 12)), 0.3128, 3.517811819867572] took 18.655919075012207 seconds.\n",
      "Best: [('East Finchley', (0, 0, 0)), 0.6187, 3.142451272494134]\n"
     ]
    },
    {
     "ename": "KeyboardInterrupt",
     "evalue": "",
     "output_type": "error",
     "traceback": [
      "\u001b[1;31m---------------------------------------------------------------------------\u001b[0m",
      "\u001b[1;31mKeyboardInterrupt\u001b[0m                         Traceback (most recent call last)",
      "Cell \u001b[1;32mIn[92], line 6\u001b[0m\n\u001b[0;32m      4\u001b[0m start \u001b[38;5;241m=\u001b[39m time()\n\u001b[0;32m      5\u001b[0m \u001b[38;5;28;01mfor\u001b[39;00m y \u001b[38;5;129;01min\u001b[39;00m orders:\n\u001b[1;32m----> 6\u001b[0m     temp_rmape, temp_rrse \u001b[38;5;241m=\u001b[39m \u001b[43mrun_arima_functions\u001b[49m\u001b[43m(\u001b[49m\u001b[43mx\u001b[49m\u001b[43m[\u001b[49m\u001b[38;5;241;43m0\u001b[39;49m\u001b[43m]\u001b[49m\u001b[43m[\u001b[49m\u001b[38;5;241;43m0\u001b[39;49m\u001b[43m]\u001b[49m\u001b[43m,\u001b[49m\u001b[43m \u001b[49m\u001b[43my\u001b[49m\u001b[43m)\u001b[49m\n\u001b[0;32m      7\u001b[0m     looking_lst\u001b[38;5;241m.\u001b[39mappend([(x[\u001b[38;5;241m0\u001b[39m][\u001b[38;5;241m0\u001b[39m],y), new_temp_mape, new_temp_rmse])\n\u001b[0;32m      9\u001b[0m lowest \u001b[38;5;241m=\u001b[39m \u001b[38;5;241m1\u001b[39m\n",
      "Cell \u001b[1;32mIn[87], line 4\u001b[0m, in \u001b[0;36mrun_arima_functions\u001b[1;34m(ward, y)\u001b[0m\n\u001b[0;32m      2\u001b[0m temp_timeseries \u001b[38;5;241m=\u001b[39m get_timeseries(ward)\n\u001b[0;32m      3\u001b[0m temp_train, temp_test \u001b[38;5;241m=\u001b[39m training(temp_timeseries)\n\u001b[1;32m----> 4\u001b[0m temp_preds, temp_res \u001b[38;5;241m=\u001b[39m \u001b[43mrolling_pred_res_arima\u001b[49m\u001b[43m(\u001b[49m\u001b[43mtemp_train\u001b[49m\u001b[43m,\u001b[49m\u001b[43m \u001b[49m\u001b[43mtemp_test\u001b[49m\u001b[43m,\u001b[49m\u001b[43m \u001b[49m\u001b[43mtemp_timeseries\u001b[49m\u001b[43m,\u001b[49m\u001b[43m \u001b[49m\u001b[43my\u001b[49m\u001b[43m)\u001b[49m\n\u001b[0;32m      5\u001b[0m temp_rmape, temp_rrse \u001b[38;5;241m=\u001b[39m rolling_statistics(temp_res, temp_test)\n\u001b[0;32m      7\u001b[0m \u001b[38;5;28;01mreturn\u001b[39;00m temp_rmape, temp_rrse\n",
      "Cell \u001b[1;32mIn[88], line 7\u001b[0m, in \u001b[0;36mrolling_pred_res_arima\u001b[1;34m(train_data, test_data, timeseries, my_order)\u001b[0m\n\u001b[0;32m      5\u001b[0m train_data \u001b[38;5;241m=\u001b[39m timeseries[:train_end\u001b[38;5;241m-\u001b[39mtimedelta(days\u001b[38;5;241m=\u001b[39m\u001b[38;5;241m1\u001b[39m)]\n\u001b[0;32m      6\u001b[0m model \u001b[38;5;241m=\u001b[39m sm\u001b[38;5;241m.\u001b[39mtsa\u001b[38;5;241m.\u001b[39marima\u001b[38;5;241m.\u001b[39mARIMA(train_data, order\u001b[38;5;241m=\u001b[39mmy_order)\n\u001b[1;32m----> 7\u001b[0m model_fit \u001b[38;5;241m=\u001b[39m \u001b[43mmodel\u001b[49m\u001b[38;5;241;43m.\u001b[39;49m\u001b[43mfit\u001b[49m\u001b[43m(\u001b[49m\u001b[43m)\u001b[49m\n\u001b[0;32m      9\u001b[0m pred \u001b[38;5;241m=\u001b[39m model_fit\u001b[38;5;241m.\u001b[39mforecast()\n\u001b[0;32m     10\u001b[0m rolling_predictions[train_end] \u001b[38;5;241m=\u001b[39m pred\n",
      "File \u001b[1;32m~\\AppData\\Roaming\\Python\\Python38\\site-packages\\statsmodels\\tsa\\arima\\model.py:390\u001b[0m, in \u001b[0;36mARIMA.fit\u001b[1;34m(self, start_params, transformed, includes_fixed, method, method_kwargs, gls, gls_kwargs, cov_type, cov_kwds, return_params, low_memory)\u001b[0m\n\u001b[0;32m    387\u001b[0m \u001b[38;5;28;01melse\u001b[39;00m:\n\u001b[0;32m    388\u001b[0m     method_kwargs\u001b[38;5;241m.\u001b[39msetdefault(\u001b[38;5;124m'\u001b[39m\u001b[38;5;124mdisp\u001b[39m\u001b[38;5;124m'\u001b[39m, \u001b[38;5;241m0\u001b[39m)\n\u001b[1;32m--> 390\u001b[0m     res \u001b[38;5;241m=\u001b[39m \u001b[38;5;28;43msuper\u001b[39;49m\u001b[43m(\u001b[49m\u001b[43m)\u001b[49m\u001b[38;5;241;43m.\u001b[39;49m\u001b[43mfit\u001b[49m\u001b[43m(\u001b[49m\n\u001b[0;32m    391\u001b[0m \u001b[43m        \u001b[49m\u001b[43mreturn_params\u001b[49m\u001b[38;5;241;43m=\u001b[39;49m\u001b[43mreturn_params\u001b[49m\u001b[43m,\u001b[49m\u001b[43m \u001b[49m\u001b[43mlow_memory\u001b[49m\u001b[38;5;241;43m=\u001b[39;49m\u001b[43mlow_memory\u001b[49m\u001b[43m,\u001b[49m\n\u001b[0;32m    392\u001b[0m \u001b[43m        \u001b[49m\u001b[43mcov_type\u001b[49m\u001b[38;5;241;43m=\u001b[39;49m\u001b[43mcov_type\u001b[49m\u001b[43m,\u001b[49m\u001b[43m \u001b[49m\u001b[43mcov_kwds\u001b[49m\u001b[38;5;241;43m=\u001b[39;49m\u001b[43mcov_kwds\u001b[49m\u001b[43m,\u001b[49m\u001b[43m \u001b[49m\u001b[38;5;241;43m*\u001b[39;49m\u001b[38;5;241;43m*\u001b[39;49m\u001b[43mmethod_kwargs\u001b[49m\u001b[43m)\u001b[49m\n\u001b[0;32m    393\u001b[0m     \u001b[38;5;28;01mif\u001b[39;00m \u001b[38;5;129;01mnot\u001b[39;00m return_params:\n\u001b[0;32m    394\u001b[0m         res\u001b[38;5;241m.\u001b[39mfit_details \u001b[38;5;241m=\u001b[39m res\u001b[38;5;241m.\u001b[39mmlefit\n",
      "File \u001b[1;32m~\\AppData\\Roaming\\Python\\Python38\\site-packages\\statsmodels\\tsa\\statespace\\mlemodel.py:704\u001b[0m, in \u001b[0;36mMLEModel.fit\u001b[1;34m(self, start_params, transformed, includes_fixed, cov_type, cov_kwds, method, maxiter, full_output, disp, callback, return_params, optim_score, optim_complex_step, optim_hessian, flags, low_memory, **kwargs)\u001b[0m\n\u001b[0;32m    702\u001b[0m         flags[\u001b[38;5;124m'\u001b[39m\u001b[38;5;124mhessian_method\u001b[39m\u001b[38;5;124m'\u001b[39m] \u001b[38;5;241m=\u001b[39m optim_hessian\n\u001b[0;32m    703\u001b[0m     fargs \u001b[38;5;241m=\u001b[39m (flags,)\n\u001b[1;32m--> 704\u001b[0m     mlefit \u001b[38;5;241m=\u001b[39m \u001b[38;5;28;43msuper\u001b[39;49m\u001b[43m(\u001b[49m\u001b[43mMLEModel\u001b[49m\u001b[43m,\u001b[49m\u001b[43m \u001b[49m\u001b[38;5;28;43mself\u001b[39;49m\u001b[43m)\u001b[49m\u001b[38;5;241;43m.\u001b[39;49m\u001b[43mfit\u001b[49m\u001b[43m(\u001b[49m\u001b[43mstart_params\u001b[49m\u001b[43m,\u001b[49m\u001b[43m \u001b[49m\u001b[43mmethod\u001b[49m\u001b[38;5;241;43m=\u001b[39;49m\u001b[43mmethod\u001b[49m\u001b[43m,\u001b[49m\n\u001b[0;32m    705\u001b[0m \u001b[43m                                       \u001b[49m\u001b[43mfargs\u001b[49m\u001b[38;5;241;43m=\u001b[39;49m\u001b[43mfargs\u001b[49m\u001b[43m,\u001b[49m\n\u001b[0;32m    706\u001b[0m \u001b[43m                                       \u001b[49m\u001b[43mmaxiter\u001b[49m\u001b[38;5;241;43m=\u001b[39;49m\u001b[43mmaxiter\u001b[49m\u001b[43m,\u001b[49m\n\u001b[0;32m    707\u001b[0m \u001b[43m                                       \u001b[49m\u001b[43mfull_output\u001b[49m\u001b[38;5;241;43m=\u001b[39;49m\u001b[43mfull_output\u001b[49m\u001b[43m,\u001b[49m\n\u001b[0;32m    708\u001b[0m \u001b[43m                                       \u001b[49m\u001b[43mdisp\u001b[49m\u001b[38;5;241;43m=\u001b[39;49m\u001b[43mdisp\u001b[49m\u001b[43m,\u001b[49m\u001b[43m \u001b[49m\u001b[43mcallback\u001b[49m\u001b[38;5;241;43m=\u001b[39;49m\u001b[43mcallback\u001b[49m\u001b[43m,\u001b[49m\n\u001b[0;32m    709\u001b[0m \u001b[43m                                       \u001b[49m\u001b[43mskip_hessian\u001b[49m\u001b[38;5;241;43m=\u001b[39;49m\u001b[38;5;28;43;01mTrue\u001b[39;49;00m\u001b[43m,\u001b[49m\u001b[43m \u001b[49m\u001b[38;5;241;43m*\u001b[39;49m\u001b[38;5;241;43m*\u001b[39;49m\u001b[43mkwargs\u001b[49m\u001b[43m)\u001b[49m\n\u001b[0;32m    711\u001b[0m \u001b[38;5;66;03m# Just return the fitted parameters if requested\u001b[39;00m\n\u001b[0;32m    712\u001b[0m \u001b[38;5;28;01mif\u001b[39;00m return_params:\n",
      "File \u001b[1;32m~\\AppData\\Roaming\\Python\\Python38\\site-packages\\statsmodels\\base\\model.py:563\u001b[0m, in \u001b[0;36mLikelihoodModel.fit\u001b[1;34m(self, start_params, method, maxiter, full_output, disp, fargs, callback, retall, skip_hessian, **kwargs)\u001b[0m\n\u001b[0;32m    560\u001b[0m     \u001b[38;5;28;01mdel\u001b[39;00m kwargs[\u001b[38;5;124m\"\u001b[39m\u001b[38;5;124muse_t\u001b[39m\u001b[38;5;124m\"\u001b[39m]\n\u001b[0;32m    562\u001b[0m optimizer \u001b[38;5;241m=\u001b[39m Optimizer()\n\u001b[1;32m--> 563\u001b[0m xopt, retvals, optim_settings \u001b[38;5;241m=\u001b[39m \u001b[43moptimizer\u001b[49m\u001b[38;5;241;43m.\u001b[39;49m\u001b[43m_fit\u001b[49m\u001b[43m(\u001b[49m\u001b[43mf\u001b[49m\u001b[43m,\u001b[49m\u001b[43m \u001b[49m\u001b[43mscore\u001b[49m\u001b[43m,\u001b[49m\u001b[43m \u001b[49m\u001b[43mstart_params\u001b[49m\u001b[43m,\u001b[49m\n\u001b[0;32m    564\u001b[0m \u001b[43m                                               \u001b[49m\u001b[43mfargs\u001b[49m\u001b[43m,\u001b[49m\u001b[43m \u001b[49m\u001b[43mkwargs\u001b[49m\u001b[43m,\u001b[49m\n\u001b[0;32m    565\u001b[0m \u001b[43m                                               \u001b[49m\u001b[43mhessian\u001b[49m\u001b[38;5;241;43m=\u001b[39;49m\u001b[43mhess\u001b[49m\u001b[43m,\u001b[49m\n\u001b[0;32m    566\u001b[0m \u001b[43m                                               \u001b[49m\u001b[43mmethod\u001b[49m\u001b[38;5;241;43m=\u001b[39;49m\u001b[43mmethod\u001b[49m\u001b[43m,\u001b[49m\n\u001b[0;32m    567\u001b[0m \u001b[43m                                               \u001b[49m\u001b[43mdisp\u001b[49m\u001b[38;5;241;43m=\u001b[39;49m\u001b[43mdisp\u001b[49m\u001b[43m,\u001b[49m\n\u001b[0;32m    568\u001b[0m \u001b[43m                                               \u001b[49m\u001b[43mmaxiter\u001b[49m\u001b[38;5;241;43m=\u001b[39;49m\u001b[43mmaxiter\u001b[49m\u001b[43m,\u001b[49m\n\u001b[0;32m    569\u001b[0m \u001b[43m                                               \u001b[49m\u001b[43mcallback\u001b[49m\u001b[38;5;241;43m=\u001b[39;49m\u001b[43mcallback\u001b[49m\u001b[43m,\u001b[49m\n\u001b[0;32m    570\u001b[0m \u001b[43m                                               \u001b[49m\u001b[43mretall\u001b[49m\u001b[38;5;241;43m=\u001b[39;49m\u001b[43mretall\u001b[49m\u001b[43m,\u001b[49m\n\u001b[0;32m    571\u001b[0m \u001b[43m                                               \u001b[49m\u001b[43mfull_output\u001b[49m\u001b[38;5;241;43m=\u001b[39;49m\u001b[43mfull_output\u001b[49m\u001b[43m)\u001b[49m\n\u001b[0;32m    572\u001b[0m \u001b[38;5;66;03m# Restore cov_type, cov_kwds and use_t\u001b[39;00m\n\u001b[0;32m    573\u001b[0m optim_settings\u001b[38;5;241m.\u001b[39mupdate(kwds)\n",
      "File \u001b[1;32m~\\AppData\\Roaming\\Python\\Python38\\site-packages\\statsmodels\\base\\optimizer.py:241\u001b[0m, in \u001b[0;36mOptimizer._fit\u001b[1;34m(self, objective, gradient, start_params, fargs, kwargs, hessian, method, maxiter, full_output, disp, callback, retall)\u001b[0m\n\u001b[0;32m    238\u001b[0m     fit_funcs\u001b[38;5;241m.\u001b[39mupdate(extra_fit_funcs)\n\u001b[0;32m    240\u001b[0m func \u001b[38;5;241m=\u001b[39m fit_funcs[method]\n\u001b[1;32m--> 241\u001b[0m xopt, retvals \u001b[38;5;241m=\u001b[39m \u001b[43mfunc\u001b[49m\u001b[43m(\u001b[49m\u001b[43mobjective\u001b[49m\u001b[43m,\u001b[49m\u001b[43m \u001b[49m\u001b[43mgradient\u001b[49m\u001b[43m,\u001b[49m\u001b[43m \u001b[49m\u001b[43mstart_params\u001b[49m\u001b[43m,\u001b[49m\u001b[43m \u001b[49m\u001b[43mfargs\u001b[49m\u001b[43m,\u001b[49m\u001b[43m \u001b[49m\u001b[43mkwargs\u001b[49m\u001b[43m,\u001b[49m\n\u001b[0;32m    242\u001b[0m \u001b[43m                     \u001b[49m\u001b[43mdisp\u001b[49m\u001b[38;5;241;43m=\u001b[39;49m\u001b[43mdisp\u001b[49m\u001b[43m,\u001b[49m\u001b[43m \u001b[49m\u001b[43mmaxiter\u001b[49m\u001b[38;5;241;43m=\u001b[39;49m\u001b[43mmaxiter\u001b[49m\u001b[43m,\u001b[49m\u001b[43m \u001b[49m\u001b[43mcallback\u001b[49m\u001b[38;5;241;43m=\u001b[39;49m\u001b[43mcallback\u001b[49m\u001b[43m,\u001b[49m\n\u001b[0;32m    243\u001b[0m \u001b[43m                     \u001b[49m\u001b[43mretall\u001b[49m\u001b[38;5;241;43m=\u001b[39;49m\u001b[43mretall\u001b[49m\u001b[43m,\u001b[49m\u001b[43m \u001b[49m\u001b[43mfull_output\u001b[49m\u001b[38;5;241;43m=\u001b[39;49m\u001b[43mfull_output\u001b[49m\u001b[43m,\u001b[49m\n\u001b[0;32m    244\u001b[0m \u001b[43m                     \u001b[49m\u001b[43mhess\u001b[49m\u001b[38;5;241;43m=\u001b[39;49m\u001b[43mhessian\u001b[49m\u001b[43m)\u001b[49m\n\u001b[0;32m    246\u001b[0m optim_settings \u001b[38;5;241m=\u001b[39m {\u001b[38;5;124m'\u001b[39m\u001b[38;5;124moptimizer\u001b[39m\u001b[38;5;124m'\u001b[39m: method, \u001b[38;5;124m'\u001b[39m\u001b[38;5;124mstart_params\u001b[39m\u001b[38;5;124m'\u001b[39m: start_params,\n\u001b[0;32m    247\u001b[0m                   \u001b[38;5;124m'\u001b[39m\u001b[38;5;124mmaxiter\u001b[39m\u001b[38;5;124m'\u001b[39m: maxiter, \u001b[38;5;124m'\u001b[39m\u001b[38;5;124mfull_output\u001b[39m\u001b[38;5;124m'\u001b[39m: full_output,\n\u001b[0;32m    248\u001b[0m                   \u001b[38;5;124m'\u001b[39m\u001b[38;5;124mdisp\u001b[39m\u001b[38;5;124m'\u001b[39m: disp, \u001b[38;5;124m'\u001b[39m\u001b[38;5;124mfargs\u001b[39m\u001b[38;5;124m'\u001b[39m: fargs, \u001b[38;5;124m'\u001b[39m\u001b[38;5;124mcallback\u001b[39m\u001b[38;5;124m'\u001b[39m: callback,\n\u001b[0;32m    249\u001b[0m                   \u001b[38;5;124m'\u001b[39m\u001b[38;5;124mretall\u001b[39m\u001b[38;5;124m'\u001b[39m: retall, \u001b[38;5;124m\"\u001b[39m\u001b[38;5;124mextra_fit_funcs\u001b[39m\u001b[38;5;124m\"\u001b[39m: extra_fit_funcs}\n\u001b[0;32m    250\u001b[0m optim_settings\u001b[38;5;241m.\u001b[39mupdate(kwargs)\n",
      "File \u001b[1;32m~\\AppData\\Roaming\\Python\\Python38\\site-packages\\statsmodels\\base\\optimizer.py:651\u001b[0m, in \u001b[0;36m_fit_lbfgs\u001b[1;34m(f, score, start_params, fargs, kwargs, disp, maxiter, callback, retall, full_output, hess)\u001b[0m\n\u001b[0;32m    648\u001b[0m \u001b[38;5;28;01melif\u001b[39;00m approx_grad:\n\u001b[0;32m    649\u001b[0m     func \u001b[38;5;241m=\u001b[39m f\n\u001b[1;32m--> 651\u001b[0m retvals \u001b[38;5;241m=\u001b[39m \u001b[43moptimize\u001b[49m\u001b[38;5;241;43m.\u001b[39;49m\u001b[43mfmin_l_bfgs_b\u001b[49m\u001b[43m(\u001b[49m\u001b[43mfunc\u001b[49m\u001b[43m,\u001b[49m\u001b[43m \u001b[49m\u001b[43mstart_params\u001b[49m\u001b[43m,\u001b[49m\u001b[43m \u001b[49m\u001b[43mmaxiter\u001b[49m\u001b[38;5;241;43m=\u001b[39;49m\u001b[43mmaxiter\u001b[49m\u001b[43m,\u001b[49m\n\u001b[0;32m    652\u001b[0m \u001b[43m                                 \u001b[49m\u001b[43mcallback\u001b[49m\u001b[38;5;241;43m=\u001b[39;49m\u001b[43mcallback\u001b[49m\u001b[43m,\u001b[49m\u001b[43m \u001b[49m\u001b[43margs\u001b[49m\u001b[38;5;241;43m=\u001b[39;49m\u001b[43mfargs\u001b[49m\u001b[43m,\u001b[49m\n\u001b[0;32m    653\u001b[0m \u001b[43m                                 \u001b[49m\u001b[43mbounds\u001b[49m\u001b[38;5;241;43m=\u001b[39;49m\u001b[43mbounds\u001b[49m\u001b[43m,\u001b[49m\u001b[43m \u001b[49m\u001b[43mdisp\u001b[49m\u001b[38;5;241;43m=\u001b[39;49m\u001b[43mdisp\u001b[49m\u001b[43m,\u001b[49m\n\u001b[0;32m    654\u001b[0m \u001b[43m                                 \u001b[49m\u001b[38;5;241;43m*\u001b[39;49m\u001b[38;5;241;43m*\u001b[39;49m\u001b[43mextra_kwargs\u001b[49m\u001b[43m)\u001b[49m\n\u001b[0;32m    656\u001b[0m \u001b[38;5;28;01mif\u001b[39;00m full_output:\n\u001b[0;32m    657\u001b[0m     xopt, fopt, d \u001b[38;5;241m=\u001b[39m retvals\n",
      "File \u001b[1;32m~\\AppData\\Roaming\\Python\\Python38\\site-packages\\scipy\\optimize\\_lbfgsb_py.py:197\u001b[0m, in \u001b[0;36mfmin_l_bfgs_b\u001b[1;34m(func, x0, fprime, args, approx_grad, bounds, m, factr, pgtol, epsilon, iprint, maxfun, maxiter, disp, callback, maxls)\u001b[0m\n\u001b[0;32m    185\u001b[0m \u001b[38;5;66;03m# build options\u001b[39;00m\n\u001b[0;32m    186\u001b[0m opts \u001b[38;5;241m=\u001b[39m {\u001b[38;5;124m'\u001b[39m\u001b[38;5;124mdisp\u001b[39m\u001b[38;5;124m'\u001b[39m: disp,\n\u001b[0;32m    187\u001b[0m         \u001b[38;5;124m'\u001b[39m\u001b[38;5;124miprint\u001b[39m\u001b[38;5;124m'\u001b[39m: iprint,\n\u001b[0;32m    188\u001b[0m         \u001b[38;5;124m'\u001b[39m\u001b[38;5;124mmaxcor\u001b[39m\u001b[38;5;124m'\u001b[39m: m,\n\u001b[1;32m   (...)\u001b[0m\n\u001b[0;32m    194\u001b[0m         \u001b[38;5;124m'\u001b[39m\u001b[38;5;124mcallback\u001b[39m\u001b[38;5;124m'\u001b[39m: callback,\n\u001b[0;32m    195\u001b[0m         \u001b[38;5;124m'\u001b[39m\u001b[38;5;124mmaxls\u001b[39m\u001b[38;5;124m'\u001b[39m: maxls}\n\u001b[1;32m--> 197\u001b[0m res \u001b[38;5;241m=\u001b[39m \u001b[43m_minimize_lbfgsb\u001b[49m\u001b[43m(\u001b[49m\u001b[43mfun\u001b[49m\u001b[43m,\u001b[49m\u001b[43m \u001b[49m\u001b[43mx0\u001b[49m\u001b[43m,\u001b[49m\u001b[43m \u001b[49m\u001b[43margs\u001b[49m\u001b[38;5;241;43m=\u001b[39;49m\u001b[43margs\u001b[49m\u001b[43m,\u001b[49m\u001b[43m \u001b[49m\u001b[43mjac\u001b[49m\u001b[38;5;241;43m=\u001b[39;49m\u001b[43mjac\u001b[49m\u001b[43m,\u001b[49m\u001b[43m \u001b[49m\u001b[43mbounds\u001b[49m\u001b[38;5;241;43m=\u001b[39;49m\u001b[43mbounds\u001b[49m\u001b[43m,\u001b[49m\n\u001b[0;32m    198\u001b[0m \u001b[43m                       \u001b[49m\u001b[38;5;241;43m*\u001b[39;49m\u001b[38;5;241;43m*\u001b[39;49m\u001b[43mopts\u001b[49m\u001b[43m)\u001b[49m\n\u001b[0;32m    199\u001b[0m d \u001b[38;5;241m=\u001b[39m {\u001b[38;5;124m'\u001b[39m\u001b[38;5;124mgrad\u001b[39m\u001b[38;5;124m'\u001b[39m: res[\u001b[38;5;124m'\u001b[39m\u001b[38;5;124mjac\u001b[39m\u001b[38;5;124m'\u001b[39m],\n\u001b[0;32m    200\u001b[0m      \u001b[38;5;124m'\u001b[39m\u001b[38;5;124mtask\u001b[39m\u001b[38;5;124m'\u001b[39m: res[\u001b[38;5;124m'\u001b[39m\u001b[38;5;124mmessage\u001b[39m\u001b[38;5;124m'\u001b[39m],\n\u001b[0;32m    201\u001b[0m      \u001b[38;5;124m'\u001b[39m\u001b[38;5;124mfuncalls\u001b[39m\u001b[38;5;124m'\u001b[39m: res[\u001b[38;5;124m'\u001b[39m\u001b[38;5;124mnfev\u001b[39m\u001b[38;5;124m'\u001b[39m],\n\u001b[0;32m    202\u001b[0m      \u001b[38;5;124m'\u001b[39m\u001b[38;5;124mnit\u001b[39m\u001b[38;5;124m'\u001b[39m: res[\u001b[38;5;124m'\u001b[39m\u001b[38;5;124mnit\u001b[39m\u001b[38;5;124m'\u001b[39m],\n\u001b[0;32m    203\u001b[0m      \u001b[38;5;124m'\u001b[39m\u001b[38;5;124mwarnflag\u001b[39m\u001b[38;5;124m'\u001b[39m: res[\u001b[38;5;124m'\u001b[39m\u001b[38;5;124mstatus\u001b[39m\u001b[38;5;124m'\u001b[39m]}\n\u001b[0;32m    204\u001b[0m f \u001b[38;5;241m=\u001b[39m res[\u001b[38;5;124m'\u001b[39m\u001b[38;5;124mfun\u001b[39m\u001b[38;5;124m'\u001b[39m]\n",
      "File \u001b[1;32m~\\AppData\\Roaming\\Python\\Python38\\site-packages\\scipy\\optimize\\_lbfgsb_py.py:359\u001b[0m, in \u001b[0;36m_minimize_lbfgsb\u001b[1;34m(fun, x0, args, jac, bounds, disp, maxcor, ftol, gtol, eps, maxfun, maxiter, iprint, callback, maxls, finite_diff_rel_step, **unknown_options)\u001b[0m\n\u001b[0;32m    353\u001b[0m task_str \u001b[38;5;241m=\u001b[39m task\u001b[38;5;241m.\u001b[39mtobytes()\n\u001b[0;32m    354\u001b[0m \u001b[38;5;28;01mif\u001b[39;00m task_str\u001b[38;5;241m.\u001b[39mstartswith(\u001b[38;5;124mb\u001b[39m\u001b[38;5;124m'\u001b[39m\u001b[38;5;124mFG\u001b[39m\u001b[38;5;124m'\u001b[39m):\n\u001b[0;32m    355\u001b[0m     \u001b[38;5;66;03m# The minimization routine wants f and g at the current x.\u001b[39;00m\n\u001b[0;32m    356\u001b[0m     \u001b[38;5;66;03m# Note that interruptions due to maxfun are postponed\u001b[39;00m\n\u001b[0;32m    357\u001b[0m     \u001b[38;5;66;03m# until the completion of the current minimization iteration.\u001b[39;00m\n\u001b[0;32m    358\u001b[0m     \u001b[38;5;66;03m# Overwrite f and g:\u001b[39;00m\n\u001b[1;32m--> 359\u001b[0m     f, g \u001b[38;5;241m=\u001b[39m \u001b[43mfunc_and_grad\u001b[49m\u001b[43m(\u001b[49m\u001b[43mx\u001b[49m\u001b[43m)\u001b[49m\n\u001b[0;32m    360\u001b[0m \u001b[38;5;28;01melif\u001b[39;00m task_str\u001b[38;5;241m.\u001b[39mstartswith(\u001b[38;5;124mb\u001b[39m\u001b[38;5;124m'\u001b[39m\u001b[38;5;124mNEW_X\u001b[39m\u001b[38;5;124m'\u001b[39m):\n\u001b[0;32m    361\u001b[0m     \u001b[38;5;66;03m# new iteration\u001b[39;00m\n\u001b[0;32m    362\u001b[0m     n_iterations \u001b[38;5;241m+\u001b[39m\u001b[38;5;241m=\u001b[39m \u001b[38;5;241m1\u001b[39m\n",
      "File \u001b[1;32m~\\AppData\\Roaming\\Python\\Python38\\site-packages\\scipy\\optimize\\_differentiable_functions.py:286\u001b[0m, in \u001b[0;36mScalarFunction.fun_and_grad\u001b[1;34m(self, x)\u001b[0m\n\u001b[0;32m    284\u001b[0m     \u001b[38;5;28mself\u001b[39m\u001b[38;5;241m.\u001b[39m_update_x_impl(x)\n\u001b[0;32m    285\u001b[0m \u001b[38;5;28mself\u001b[39m\u001b[38;5;241m.\u001b[39m_update_fun()\n\u001b[1;32m--> 286\u001b[0m \u001b[38;5;28;43mself\u001b[39;49m\u001b[38;5;241;43m.\u001b[39;49m\u001b[43m_update_grad\u001b[49m\u001b[43m(\u001b[49m\u001b[43m)\u001b[49m\n\u001b[0;32m    287\u001b[0m \u001b[38;5;28;01mreturn\u001b[39;00m \u001b[38;5;28mself\u001b[39m\u001b[38;5;241m.\u001b[39mf, \u001b[38;5;28mself\u001b[39m\u001b[38;5;241m.\u001b[39mg\n",
      "File \u001b[1;32m~\\AppData\\Roaming\\Python\\Python38\\site-packages\\scipy\\optimize\\_differentiable_functions.py:256\u001b[0m, in \u001b[0;36mScalarFunction._update_grad\u001b[1;34m(self)\u001b[0m\n\u001b[0;32m    254\u001b[0m \u001b[38;5;28;01mdef\u001b[39;00m \u001b[38;5;21m_update_grad\u001b[39m(\u001b[38;5;28mself\u001b[39m):\n\u001b[0;32m    255\u001b[0m     \u001b[38;5;28;01mif\u001b[39;00m \u001b[38;5;129;01mnot\u001b[39;00m \u001b[38;5;28mself\u001b[39m\u001b[38;5;241m.\u001b[39mg_updated:\n\u001b[1;32m--> 256\u001b[0m         \u001b[38;5;28;43mself\u001b[39;49m\u001b[38;5;241;43m.\u001b[39;49m\u001b[43m_update_grad_impl\u001b[49m\u001b[43m(\u001b[49m\u001b[43m)\u001b[49m\n\u001b[0;32m    257\u001b[0m         \u001b[38;5;28mself\u001b[39m\u001b[38;5;241m.\u001b[39mg_updated \u001b[38;5;241m=\u001b[39m \u001b[38;5;28;01mTrue\u001b[39;00m\n",
      "File \u001b[1;32m~\\AppData\\Roaming\\Python\\Python38\\site-packages\\scipy\\optimize\\_differentiable_functions.py:173\u001b[0m, in \u001b[0;36mScalarFunction.__init__.<locals>.update_grad\u001b[1;34m()\u001b[0m\n\u001b[0;32m    171\u001b[0m \u001b[38;5;28mself\u001b[39m\u001b[38;5;241m.\u001b[39m_update_fun()\n\u001b[0;32m    172\u001b[0m \u001b[38;5;28mself\u001b[39m\u001b[38;5;241m.\u001b[39mngev \u001b[38;5;241m+\u001b[39m\u001b[38;5;241m=\u001b[39m \u001b[38;5;241m1\u001b[39m\n\u001b[1;32m--> 173\u001b[0m \u001b[38;5;28mself\u001b[39m\u001b[38;5;241m.\u001b[39mg \u001b[38;5;241m=\u001b[39m \u001b[43mapprox_derivative\u001b[49m\u001b[43m(\u001b[49m\u001b[43mfun_wrapped\u001b[49m\u001b[43m,\u001b[49m\u001b[43m \u001b[49m\u001b[38;5;28;43mself\u001b[39;49m\u001b[38;5;241;43m.\u001b[39;49m\u001b[43mx\u001b[49m\u001b[43m,\u001b[49m\u001b[43m \u001b[49m\u001b[43mf0\u001b[49m\u001b[38;5;241;43m=\u001b[39;49m\u001b[38;5;28;43mself\u001b[39;49m\u001b[38;5;241;43m.\u001b[39;49m\u001b[43mf\u001b[49m\u001b[43m,\u001b[49m\n\u001b[0;32m    174\u001b[0m \u001b[43m                           \u001b[49m\u001b[38;5;241;43m*\u001b[39;49m\u001b[38;5;241;43m*\u001b[39;49m\u001b[43mfinite_diff_options\u001b[49m\u001b[43m)\u001b[49m\n",
      "File \u001b[1;32m~\\AppData\\Roaming\\Python\\Python38\\site-packages\\scipy\\optimize\\_numdiff.py:505\u001b[0m, in \u001b[0;36mapprox_derivative\u001b[1;34m(fun, x0, method, rel_step, abs_step, f0, bounds, sparsity, as_linear_operator, args, kwargs)\u001b[0m\n\u001b[0;32m    502\u001b[0m     use_one_sided \u001b[38;5;241m=\u001b[39m \u001b[38;5;28;01mFalse\u001b[39;00m\n\u001b[0;32m    504\u001b[0m \u001b[38;5;28;01mif\u001b[39;00m sparsity \u001b[38;5;129;01mis\u001b[39;00m \u001b[38;5;28;01mNone\u001b[39;00m:\n\u001b[1;32m--> 505\u001b[0m     \u001b[38;5;28;01mreturn\u001b[39;00m \u001b[43m_dense_difference\u001b[49m\u001b[43m(\u001b[49m\u001b[43mfun_wrapped\u001b[49m\u001b[43m,\u001b[49m\u001b[43m \u001b[49m\u001b[43mx0\u001b[49m\u001b[43m,\u001b[49m\u001b[43m \u001b[49m\u001b[43mf0\u001b[49m\u001b[43m,\u001b[49m\u001b[43m \u001b[49m\u001b[43mh\u001b[49m\u001b[43m,\u001b[49m\n\u001b[0;32m    506\u001b[0m \u001b[43m                             \u001b[49m\u001b[43muse_one_sided\u001b[49m\u001b[43m,\u001b[49m\u001b[43m \u001b[49m\u001b[43mmethod\u001b[49m\u001b[43m)\u001b[49m\n\u001b[0;32m    507\u001b[0m \u001b[38;5;28;01melse\u001b[39;00m:\n\u001b[0;32m    508\u001b[0m     \u001b[38;5;28;01mif\u001b[39;00m \u001b[38;5;129;01mnot\u001b[39;00m issparse(sparsity) \u001b[38;5;129;01mand\u001b[39;00m \u001b[38;5;28mlen\u001b[39m(sparsity) \u001b[38;5;241m==\u001b[39m \u001b[38;5;241m2\u001b[39m:\n",
      "File \u001b[1;32m~\\AppData\\Roaming\\Python\\Python38\\site-packages\\scipy\\optimize\\_numdiff.py:576\u001b[0m, in \u001b[0;36m_dense_difference\u001b[1;34m(fun, x0, f0, h, use_one_sided, method)\u001b[0m\n\u001b[0;32m    574\u001b[0m     x \u001b[38;5;241m=\u001b[39m x0 \u001b[38;5;241m+\u001b[39m h_vecs[i]\n\u001b[0;32m    575\u001b[0m     dx \u001b[38;5;241m=\u001b[39m x[i] \u001b[38;5;241m-\u001b[39m x0[i]  \u001b[38;5;66;03m# Recompute dx as exactly representable number.\u001b[39;00m\n\u001b[1;32m--> 576\u001b[0m     df \u001b[38;5;241m=\u001b[39m \u001b[43mfun\u001b[49m\u001b[43m(\u001b[49m\u001b[43mx\u001b[49m\u001b[43m)\u001b[49m \u001b[38;5;241m-\u001b[39m f0\n\u001b[0;32m    577\u001b[0m \u001b[38;5;28;01melif\u001b[39;00m method \u001b[38;5;241m==\u001b[39m \u001b[38;5;124m'\u001b[39m\u001b[38;5;124m3-point\u001b[39m\u001b[38;5;124m'\u001b[39m \u001b[38;5;129;01mand\u001b[39;00m use_one_sided[i]:\n\u001b[0;32m    578\u001b[0m     x1 \u001b[38;5;241m=\u001b[39m x0 \u001b[38;5;241m+\u001b[39m h_vecs[i]\n",
      "File \u001b[1;32m~\\AppData\\Roaming\\Python\\Python38\\site-packages\\scipy\\optimize\\_numdiff.py:456\u001b[0m, in \u001b[0;36mapprox_derivative.<locals>.fun_wrapped\u001b[1;34m(x)\u001b[0m\n\u001b[0;32m    455\u001b[0m \u001b[38;5;28;01mdef\u001b[39;00m \u001b[38;5;21mfun_wrapped\u001b[39m(x):\n\u001b[1;32m--> 456\u001b[0m     f \u001b[38;5;241m=\u001b[39m np\u001b[38;5;241m.\u001b[39matleast_1d(\u001b[43mfun\u001b[49m\u001b[43m(\u001b[49m\u001b[43mx\u001b[49m\u001b[43m,\u001b[49m\u001b[43m \u001b[49m\u001b[38;5;241;43m*\u001b[39;49m\u001b[43margs\u001b[49m\u001b[43m,\u001b[49m\u001b[43m \u001b[49m\u001b[38;5;241;43m*\u001b[39;49m\u001b[38;5;241;43m*\u001b[39;49m\u001b[43mkwargs\u001b[49m\u001b[43m)\u001b[49m)\n\u001b[0;32m    457\u001b[0m     \u001b[38;5;28;01mif\u001b[39;00m f\u001b[38;5;241m.\u001b[39mndim \u001b[38;5;241m>\u001b[39m \u001b[38;5;241m1\u001b[39m:\n\u001b[0;32m    458\u001b[0m         \u001b[38;5;28;01mraise\u001b[39;00m \u001b[38;5;167;01mRuntimeError\u001b[39;00m(\u001b[38;5;124m\"\u001b[39m\u001b[38;5;124m`fun` return value has \u001b[39m\u001b[38;5;124m\"\u001b[39m\n\u001b[0;32m    459\u001b[0m                            \u001b[38;5;124m\"\u001b[39m\u001b[38;5;124mmore than 1 dimension.\u001b[39m\u001b[38;5;124m\"\u001b[39m)\n",
      "File \u001b[1;32m~\\AppData\\Roaming\\Python\\Python38\\site-packages\\scipy\\optimize\\_differentiable_functions.py:137\u001b[0m, in \u001b[0;36mScalarFunction.__init__.<locals>.fun_wrapped\u001b[1;34m(x)\u001b[0m\n\u001b[0;32m    133\u001b[0m \u001b[38;5;28mself\u001b[39m\u001b[38;5;241m.\u001b[39mnfev \u001b[38;5;241m+\u001b[39m\u001b[38;5;241m=\u001b[39m \u001b[38;5;241m1\u001b[39m\n\u001b[0;32m    134\u001b[0m \u001b[38;5;66;03m# Send a copy because the user may overwrite it.\u001b[39;00m\n\u001b[0;32m    135\u001b[0m \u001b[38;5;66;03m# Overwriting results in undefined behaviour because\u001b[39;00m\n\u001b[0;32m    136\u001b[0m \u001b[38;5;66;03m# fun(self.x) will change self.x, with the two no longer linked.\u001b[39;00m\n\u001b[1;32m--> 137\u001b[0m fx \u001b[38;5;241m=\u001b[39m \u001b[43mfun\u001b[49m\u001b[43m(\u001b[49m\u001b[43mnp\u001b[49m\u001b[38;5;241;43m.\u001b[39;49m\u001b[43mcopy\u001b[49m\u001b[43m(\u001b[49m\u001b[43mx\u001b[49m\u001b[43m)\u001b[49m\u001b[43m,\u001b[49m\u001b[43m \u001b[49m\u001b[38;5;241;43m*\u001b[39;49m\u001b[43margs\u001b[49m\u001b[43m)\u001b[49m\n\u001b[0;32m    138\u001b[0m \u001b[38;5;66;03m# Make sure the function returns a true scalar\u001b[39;00m\n\u001b[0;32m    139\u001b[0m \u001b[38;5;28;01mif\u001b[39;00m \u001b[38;5;129;01mnot\u001b[39;00m np\u001b[38;5;241m.\u001b[39misscalar(fx):\n",
      "File \u001b[1;32m~\\AppData\\Roaming\\Python\\Python38\\site-packages\\statsmodels\\base\\model.py:531\u001b[0m, in \u001b[0;36mLikelihoodModel.fit.<locals>.f\u001b[1;34m(params, *args)\u001b[0m\n\u001b[0;32m    530\u001b[0m \u001b[38;5;28;01mdef\u001b[39;00m \u001b[38;5;21mf\u001b[39m(params, \u001b[38;5;241m*\u001b[39margs):\n\u001b[1;32m--> 531\u001b[0m     \u001b[38;5;28;01mreturn\u001b[39;00m \u001b[38;5;241m-\u001b[39m\u001b[38;5;28;43mself\u001b[39;49m\u001b[38;5;241;43m.\u001b[39;49m\u001b[43mloglike\u001b[49m\u001b[43m(\u001b[49m\u001b[43mparams\u001b[49m\u001b[43m,\u001b[49m\u001b[43m \u001b[49m\u001b[38;5;241;43m*\u001b[39;49m\u001b[43margs\u001b[49m\u001b[43m)\u001b[49m \u001b[38;5;241m/\u001b[39m nobs\n",
      "File \u001b[1;32m~\\AppData\\Roaming\\Python\\Python38\\site-packages\\statsmodels\\tsa\\statespace\\mlemodel.py:939\u001b[0m, in \u001b[0;36mMLEModel.loglike\u001b[1;34m(self, params, *args, **kwargs)\u001b[0m\n\u001b[0;32m    936\u001b[0m \u001b[38;5;28;01mif\u001b[39;00m complex_step:\n\u001b[0;32m    937\u001b[0m     kwargs[\u001b[38;5;124m'\u001b[39m\u001b[38;5;124minversion_method\u001b[39m\u001b[38;5;124m'\u001b[39m] \u001b[38;5;241m=\u001b[39m INVERT_UNIVARIATE \u001b[38;5;241m|\u001b[39m SOLVE_LU\n\u001b[1;32m--> 939\u001b[0m loglike \u001b[38;5;241m=\u001b[39m \u001b[38;5;28;43mself\u001b[39;49m\u001b[38;5;241;43m.\u001b[39;49m\u001b[43mssm\u001b[49m\u001b[38;5;241;43m.\u001b[39;49m\u001b[43mloglike\u001b[49m\u001b[43m(\u001b[49m\u001b[43mcomplex_step\u001b[49m\u001b[38;5;241;43m=\u001b[39;49m\u001b[43mcomplex_step\u001b[49m\u001b[43m,\u001b[49m\u001b[43m \u001b[49m\u001b[38;5;241;43m*\u001b[39;49m\u001b[38;5;241;43m*\u001b[39;49m\u001b[43mkwargs\u001b[49m\u001b[43m)\u001b[49m\n\u001b[0;32m    941\u001b[0m \u001b[38;5;66;03m# Koopman, Shephard, and Doornik recommend maximizing the average\u001b[39;00m\n\u001b[0;32m    942\u001b[0m \u001b[38;5;66;03m# likelihood to avoid scale issues, but the averaging is done\u001b[39;00m\n\u001b[0;32m    943\u001b[0m \u001b[38;5;66;03m# automatically in the base model `fit` method\u001b[39;00m\n\u001b[0;32m    944\u001b[0m \u001b[38;5;28;01mreturn\u001b[39;00m loglike\n",
      "File \u001b[1;32m~\\AppData\\Roaming\\Python\\Python38\\site-packages\\statsmodels\\tsa\\statespace\\kalman_filter.py:983\u001b[0m, in \u001b[0;36mKalmanFilter.loglike\u001b[1;34m(self, **kwargs)\u001b[0m\n\u001b[0;32m    967\u001b[0m \u001b[38;5;124mr\u001b[39m\u001b[38;5;124;03m\"\"\"\u001b[39;00m\n\u001b[0;32m    968\u001b[0m \u001b[38;5;124;03mCalculate the loglikelihood associated with the statespace model.\u001b[39;00m\n\u001b[0;32m    969\u001b[0m \n\u001b[1;32m   (...)\u001b[0m\n\u001b[0;32m    979\u001b[0m \u001b[38;5;124;03m    The joint loglikelihood.\u001b[39;00m\n\u001b[0;32m    980\u001b[0m \u001b[38;5;124;03m\"\"\"\u001b[39;00m\n\u001b[0;32m    981\u001b[0m kwargs\u001b[38;5;241m.\u001b[39msetdefault(\u001b[38;5;124m'\u001b[39m\u001b[38;5;124mconserve_memory\u001b[39m\u001b[38;5;124m'\u001b[39m,\n\u001b[0;32m    982\u001b[0m                   MEMORY_CONSERVE \u001b[38;5;241m^\u001b[39m MEMORY_NO_LIKELIHOOD)\n\u001b[1;32m--> 983\u001b[0m kfilter \u001b[38;5;241m=\u001b[39m \u001b[38;5;28;43mself\u001b[39;49m\u001b[38;5;241;43m.\u001b[39;49m\u001b[43m_filter\u001b[49m\u001b[43m(\u001b[49m\u001b[38;5;241;43m*\u001b[39;49m\u001b[38;5;241;43m*\u001b[39;49m\u001b[43mkwargs\u001b[49m\u001b[43m)\u001b[49m\n\u001b[0;32m    984\u001b[0m loglikelihood_burn \u001b[38;5;241m=\u001b[39m kwargs\u001b[38;5;241m.\u001b[39mget(\u001b[38;5;124m'\u001b[39m\u001b[38;5;124mloglikelihood_burn\u001b[39m\u001b[38;5;124m'\u001b[39m,\n\u001b[0;32m    985\u001b[0m                                 \u001b[38;5;28mself\u001b[39m\u001b[38;5;241m.\u001b[39mloglikelihood_burn)\n\u001b[0;32m    986\u001b[0m \u001b[38;5;28;01mif\u001b[39;00m \u001b[38;5;129;01mnot\u001b[39;00m (kwargs[\u001b[38;5;124m'\u001b[39m\u001b[38;5;124mconserve_memory\u001b[39m\u001b[38;5;124m'\u001b[39m] \u001b[38;5;241m&\u001b[39m MEMORY_NO_LIKELIHOOD):\n",
      "File \u001b[1;32m~\\AppData\\Roaming\\Python\\Python38\\site-packages\\statsmodels\\tsa\\statespace\\kalman_filter.py:895\u001b[0m, in \u001b[0;36mKalmanFilter._filter\u001b[1;34m(self, filter_method, inversion_method, stability_method, conserve_memory, filter_timing, tolerance, loglikelihood_burn, complex_step)\u001b[0m\n\u001b[0;32m    889\u001b[0m \u001b[38;5;28;01mdef\u001b[39;00m \u001b[38;5;21m_filter\u001b[39m(\u001b[38;5;28mself\u001b[39m, filter_method\u001b[38;5;241m=\u001b[39m\u001b[38;5;28;01mNone\u001b[39;00m, inversion_method\u001b[38;5;241m=\u001b[39m\u001b[38;5;28;01mNone\u001b[39;00m,\n\u001b[0;32m    890\u001b[0m             stability_method\u001b[38;5;241m=\u001b[39m\u001b[38;5;28;01mNone\u001b[39;00m, conserve_memory\u001b[38;5;241m=\u001b[39m\u001b[38;5;28;01mNone\u001b[39;00m,\n\u001b[0;32m    891\u001b[0m             filter_timing\u001b[38;5;241m=\u001b[39m\u001b[38;5;28;01mNone\u001b[39;00m, tolerance\u001b[38;5;241m=\u001b[39m\u001b[38;5;28;01mNone\u001b[39;00m, loglikelihood_burn\u001b[38;5;241m=\u001b[39m\u001b[38;5;28;01mNone\u001b[39;00m,\n\u001b[0;32m    892\u001b[0m             complex_step\u001b[38;5;241m=\u001b[39m\u001b[38;5;28;01mFalse\u001b[39;00m):\n\u001b[0;32m    893\u001b[0m     \u001b[38;5;66;03m# Initialize the filter\u001b[39;00m\n\u001b[0;32m    894\u001b[0m     prefix, dtype, create_filter, create_statespace \u001b[38;5;241m=\u001b[39m (\n\u001b[1;32m--> 895\u001b[0m         \u001b[38;5;28;43mself\u001b[39;49m\u001b[38;5;241;43m.\u001b[39;49m\u001b[43m_initialize_filter\u001b[49m\u001b[43m(\u001b[49m\n\u001b[0;32m    896\u001b[0m \u001b[43m            \u001b[49m\u001b[43mfilter_method\u001b[49m\u001b[43m,\u001b[49m\u001b[43m \u001b[49m\u001b[43minversion_method\u001b[49m\u001b[43m,\u001b[49m\u001b[43m \u001b[49m\u001b[43mstability_method\u001b[49m\u001b[43m,\u001b[49m\n\u001b[0;32m    897\u001b[0m \u001b[43m            \u001b[49m\u001b[43mconserve_memory\u001b[49m\u001b[43m,\u001b[49m\u001b[43m \u001b[49m\u001b[43mfilter_timing\u001b[49m\u001b[43m,\u001b[49m\u001b[43m \u001b[49m\u001b[43mtolerance\u001b[49m\u001b[43m,\u001b[49m\u001b[43m \u001b[49m\u001b[43mloglikelihood_burn\u001b[49m\n\u001b[0;32m    898\u001b[0m \u001b[43m        \u001b[49m\u001b[43m)\u001b[49m\n\u001b[0;32m    899\u001b[0m     )\n\u001b[0;32m    900\u001b[0m     kfilter \u001b[38;5;241m=\u001b[39m \u001b[38;5;28mself\u001b[39m\u001b[38;5;241m.\u001b[39m_kalman_filters[prefix]\n\u001b[0;32m    902\u001b[0m     \u001b[38;5;66;03m# Initialize the state\u001b[39;00m\n",
      "File \u001b[1;32m~\\AppData\\Roaming\\Python\\Python38\\site-packages\\statsmodels\\tsa\\statespace\\kalman_filter.py:462\u001b[0m, in \u001b[0;36mKalmanFilter._initialize_filter\u001b[1;34m(self, filter_method, inversion_method, stability_method, conserve_memory, tolerance, filter_timing, loglikelihood_burn)\u001b[0m\n\u001b[0;32m    458\u001b[0m     \u001b[38;5;28;01mraise\u001b[39;00m \u001b[38;5;167;01mRuntimeError\u001b[39;00m(\u001b[38;5;124m'\u001b[39m\u001b[38;5;124mMust bind a dataset to the model before\u001b[39m\u001b[38;5;124m'\u001b[39m\n\u001b[0;32m    459\u001b[0m                        \u001b[38;5;124m'\u001b[39m\u001b[38;5;124m filtering or smoothing.\u001b[39m\u001b[38;5;124m'\u001b[39m)\n\u001b[0;32m    461\u001b[0m \u001b[38;5;66;03m# Initialize the representation matrices\u001b[39;00m\n\u001b[1;32m--> 462\u001b[0m prefix, dtype, create_statespace \u001b[38;5;241m=\u001b[39m \u001b[38;5;28;43mself\u001b[39;49m\u001b[38;5;241;43m.\u001b[39;49m\u001b[43m_initialize_representation\u001b[49m\u001b[43m(\u001b[49m\u001b[43m)\u001b[49m\n\u001b[0;32m    464\u001b[0m \u001b[38;5;66;03m# Determine if we need to (re-)create the filter\u001b[39;00m\n\u001b[0;32m    465\u001b[0m \u001b[38;5;66;03m# (definitely need to recreate if we recreated the _statespace object)\u001b[39;00m\n\u001b[0;32m    466\u001b[0m create_filter \u001b[38;5;241m=\u001b[39m create_statespace \u001b[38;5;129;01mor\u001b[39;00m prefix \u001b[38;5;129;01mnot\u001b[39;00m \u001b[38;5;129;01min\u001b[39;00m \u001b[38;5;28mself\u001b[39m\u001b[38;5;241m.\u001b[39m_kalman_filters\n",
      "File \u001b[1;32m~\\AppData\\Roaming\\Python\\Python38\\site-packages\\statsmodels\\tsa\\statespace\\representation.py:930\u001b[0m, in \u001b[0;36mRepresentation._initialize_representation\u001b[1;34m(self, prefix)\u001b[0m\n\u001b[0;32m    928\u001b[0m new \u001b[38;5;241m=\u001b[39m \u001b[38;5;28mgetattr\u001b[39m(\u001b[38;5;28mself\u001b[39m, \u001b[38;5;124m'\u001b[39m\u001b[38;5;124m_\u001b[39m\u001b[38;5;124m'\u001b[39m \u001b[38;5;241m+\u001b[39m matrix)\u001b[38;5;241m.\u001b[39mastype(dtype)\n\u001b[0;32m    929\u001b[0m \u001b[38;5;28;01mif\u001b[39;00m existing\u001b[38;5;241m.\u001b[39mshape \u001b[38;5;241m==\u001b[39m new\u001b[38;5;241m.\u001b[39mshape:\n\u001b[1;32m--> 930\u001b[0m     \u001b[43mexisting\u001b[49m\u001b[43m[\u001b[49m\u001b[43m:\u001b[49m\u001b[43m]\u001b[49m \u001b[38;5;241m=\u001b[39m new[:]\n\u001b[0;32m    931\u001b[0m \u001b[38;5;28;01melse\u001b[39;00m:\n\u001b[0;32m    932\u001b[0m     \u001b[38;5;28mself\u001b[39m\u001b[38;5;241m.\u001b[39m_representations[prefix][matrix] \u001b[38;5;241m=\u001b[39m new\n",
      "\u001b[1;31mKeyboardInterrupt\u001b[0m: "
     ]
    }
   ],
   "source": [
    "needs_work_new_best = []\n",
    "for x in needs_work:\n",
    "    looking_lst = []\n",
    "    start = time()\n",
    "    for y in orders:\n",
    "        temp_rmape, temp_rrse = run_arima_functions(x[0][0], y)\n",
    "        looking_lst.append([(x[0][0],y), new_temp_mape, new_temp_rmse])\n",
    "        \n",
    "    lowest = 1\n",
    "    for val in looking_lst:\n",
    "        if val[1] < lowest:\n",
    "            lowest = val[1]\n",
    "            best = val\n",
    "    needs_work_new_best.append(best)\n",
    "    end = time()\n",
    "    print('{} took {} seconds.'.format(x, end-start))\n",
    "    print('Best:', best)\n",
    "        \n",
    "    "
   ]
  },
  {
   "cell_type": "code",
   "execution_count": 85,
   "id": "ec43f68b",
   "metadata": {},
   "outputs": [
    {
     "name": "stdout",
     "output_type": "stream",
     "text": [
      "0.6187\n"
     ]
    }
   ],
   "source": []
  },
  {
   "cell_type": "code",
   "execution_count": null,
   "id": "c01a7847",
   "metadata": {},
   "outputs": [],
   "source": []
  }
 ],
 "metadata": {
  "kernelspec": {
   "display_name": "Python 3 (ipykernel)",
   "language": "python",
   "name": "python3"
  },
  "language_info": {
   "codemirror_mode": {
    "name": "ipython",
    "version": 3
   },
   "file_extension": ".py",
   "mimetype": "text/x-python",
   "name": "python",
   "nbconvert_exporter": "python",
   "pygments_lexer": "ipython3",
   "version": "3.8.8"
  }
 },
 "nbformat": 4,
 "nbformat_minor": 5
}
