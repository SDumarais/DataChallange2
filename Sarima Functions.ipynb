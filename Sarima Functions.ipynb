{
 "cells": [
  {
   "cell_type": "code",
   "execution_count": 14,
   "id": "98f71bae",
   "metadata": {},
   "outputs": [],
   "source": [
    "import pandas as pd\n",
    "import numpy as np\n",
    "import matplotlib.pyplot as plt\n",
    "from datetime import date\n",
    "from statsmodels.tsa.statespace.sarimax import SARIMAX\n",
    "from statsmodels.graphics.tsaplots import plot_acf, plot_pacf\n",
    "from statsmodels.tsa.stattools import adfuller\n",
    "from datetime import timedelta\n",
    "from time import time\n",
    "import warnings\n",
    "warnings.filterwarnings('ignore')\n",
    "from tqdm import tqdm\n",
    "\n",
    "wards = pd.read_csv('lsoa_ward.csv')\n",
    "dataset = pd.read_csv('Cleaned_dataset.csv')\n",
    "groups = dataset.groupby('Month')\n",
    "\n",
    "wards.rename(columns={\"LSOA21CD\": \"LSOA code\", \"LSOA21NM\": \"LSOA name\"}, inplace=True)\n",
    "result = pd.merge(dataset, wards, on=['LSOA code', 'LSOA name'])"
   ]
  },
  {
   "cell_type": "markdown",
   "id": "74cf0983",
   "metadata": {},
   "source": [
    "# Sarima"
   ]
  },
  {
   "cell_type": "code",
   "execution_count": 4,
   "id": "1282a48d",
   "metadata": {},
   "outputs": [],
   "source": [
    "# # Sets the timeseries start and end date, creates the timeseries, \n",
    "# # gets the anomaly months, and averages those values\n",
    "# # Also creates the first difference time series.\n",
    "\n",
    "# data_start = date(2010, 12, 1)\n",
    "# data_end = date(2022, 9, 1)\n",
    "\n",
    "\n",
    "# sarima_timeseries = groups.count()['Longitude']\n",
    "# sarima_timeseries = pd.Series(sarima_timeseries.values,index=[pd.Timestamp(x, freq='M') for x in sarima_timeseries.index])\n",
    "# sarima_timeseries = sarima_timeseries[data_start:data_end]\n",
    "# sarima_df = pd.DataFrame(sarima_timeseries).reset_index()\n",
    "\n",
    "# remove_start = date(2019, 11, 1)\n",
    "# remove_end = date(2020, 7, 1)\n",
    "\n",
    "# def anomaly_avg(timestamp):\n",
    "#     temp = sarima_df[sarima_df['index'].dt.month == timestamp.month]\n",
    "#     temp = temp[temp['index'].dt.year != timestamp.year]\n",
    "#     return int(temp[0].mean())\n",
    "\n",
    "# corona_df = pd.DataFrame(sarima_timeseries[remove_start:remove_end]).reset_index()\n",
    "\n",
    "# for x in corona_df['index']:\n",
    "#     sarima_timeseries[x] = anomaly_avg(x)\n",
    "    \n",
    "# sarima_timeseries_diff = sarima_timeseries.diff()[1:]\n",
    "# sarima_timeseries_diff = pd.Series(sarima_timeseries_diff.values,index=[pd.Timestamp(x) for x in sarima_timeseries_diff.index])"
   ]
  },
  {
   "cell_type": "code",
   "execution_count": 5,
   "id": "86d7f042",
   "metadata": {},
   "outputs": [],
   "source": [
    "# # Prints and plots the ACF and PACF plots and the augmented dickey fuller tests\n",
    "\n",
    "# plot_acf(sarima_timeseries_diff);\n",
    "# adfull_time = adfuller(sarima_timeseries)\n",
    "# print('P-value of the time series:', round(adfull_time[1], 3))\n",
    "# adfull_time = adfuller(sarima_timeseries_diff)\n",
    "# print('P-value of the first differenced time series:', round(adfull_time[1], 3))\n",
    "# plot_pacf(sarima_timeseries_diff, method='ywm');"
   ]
  },
  {
   "cell_type": "code",
   "execution_count": 6,
   "id": "0113c201",
   "metadata": {},
   "outputs": [],
   "source": [
    "def prepare_timeseries(timeseries):\n",
    "    \n",
    "    data_start = date(2010, 12, 1)\n",
    "    data_end = date(2022, 9, 1)\n",
    "    timeseries = pd.Series(timeseries.values,index=[pd.Timestamp(x, freq='M') for x in timeseries.index])\n",
    "    timeseries = timeseries[data_start:data_end]\n",
    "    \n",
    "    return timeseries\n",
    "\n",
    "def training(timeseries):\n",
    "\n",
    "    train_end = date(2022, 1, 1)\n",
    "    test_end = date(2022, 9, 1)\n",
    "\n",
    "    train_data = timeseries[:train_end]\n",
    "    test_data = timeseries[train_end+timedelta(days=1):test_end]\n",
    "    \n",
    "    return train_data, test_data\n",
    "\n",
    "def create_model(train_data, my_order, my_seasonal_order):\n",
    "#     my_order = (0,1,0)\n",
    "#     my_seasonal_order = (2, 0, 1, 6)\n",
    "    model = SARIMAX(train_data, order=my_order, seasonal_order=my_seasonal_order)\n",
    "    \n",
    "    start = time()\n",
    "    model_fit = model.fit()\n",
    "    end = time()\n",
    "#     print(\"Model Fitting Time:\", end - start)\n",
    "    \n",
    "    return model_fit\n",
    "\n",
    "def corona_troubles(timeseries):\n",
    "    remove_start = date(2019, 11, 1)\n",
    "    remove_end = date(2020, 7, 1)\n",
    "    temp_df = pd.DataFrame(timeseries).reset_index()\n",
    "    \n",
    "    \n",
    "    for x in timeseries[remove_start:remove_end].index:\n",
    "        temp = temp_df[temp_df['index'].dt.month == x.month]\n",
    "        temp = temp[temp['index'].dt.year != x.year]\n",
    "        timeseries[x] = int(temp[0].mean())\n",
    "        \n",
    "    return timeseries\n",
    "\n",
    "def pred_res(model_fit, test_data):\n",
    "    \n",
    "    predictions = model_fit.forecast(len(test_data))\n",
    "    predictions = pd.Series(predictions, index=test_data.index)\n",
    "    residuals = test_data - predictions\n",
    "    \n",
    "    return predictions, residuals\n",
    "\n",
    "def plot_residuals(residuals):\n",
    "    plt.figure(figsize=(10,4))\n",
    "    plt.plot(residuals)\n",
    "    plt.axhline(0, linestyle='--', color='k')\n",
    "    plt.title('Residuals from SARIMA Model', fontsize=20)\n",
    "    plt.ylabel(\"Error\", fontsize=16);\n",
    "    \n",
    "def plot_predictions(timeseries, predictions):\n",
    "    plt.figure(figsize=(10,4))\n",
    "\n",
    "    start_date = timeseries.index[0]\n",
    "    end_date = timeseries.index[-1]\n",
    "\n",
    "    plt.plot(timeseries)\n",
    "    plt.plot(predictions)\n",
    "\n",
    "    plt.legend(('Data', 'Predictions'), fontsize=16)\n",
    "\n",
    "    plt.title('Amount of crimes in Barnet', fontsize=20)\n",
    "    plt.ylabel('Crimes', fontsize=16)\n",
    "    for year in range(start_date.year+1,end_date.year+1):\n",
    "        plt.axvline(pd.to_datetime(str(year)+'-01-01'), color='k', linestyle='--', alpha=0.2)\n",
    "        \n",
    "def statistics(residuals, test_data):\n",
    "#     print('Mean Absolute Percent Error:', round(np.mean(abs(residuals/test_data)),4))\n",
    "#     print('Root Mean Squared Error:', np.sqrt(np.mean(residuals**2)))\n",
    "    MAPE = round(np.mean(abs(residuals/test_data)),4)\n",
    "    RMSE = np.sqrt(np.mean(residuals**2))\n",
    "    return MAPE, RMSE\n",
    "    \n",
    "def rolling_pred_res(train_data, test_data, timeseries, my_order, my_seasonal_order):\n",
    "#     my_order = (0,1,0)\n",
    "#     my_seasonal_order = (2, 0, 1, 6)\n",
    "    rolling_predictions = test_data.copy()\n",
    "    for train_end in test_data.index:\n",
    "        train_data = timeseries[:train_end-timedelta(days=1)]\n",
    "        model = SARIMAX(train_data, order=my_order, seasonal_order=my_seasonal_order)\n",
    "        model_fit = model.fit()\n",
    "\n",
    "        pred = model_fit.forecast()\n",
    "        rolling_predictions[train_end] = pred\n",
    "\n",
    "    rolling_residuals = test_data - rolling_predictions\n",
    "    \n",
    "    return rolling_predictions, rolling_residuals\n",
    "\n",
    "def plot_rolling_residuals(rolling_residuals):\n",
    "    plt.figure(figsize=(10,4))\n",
    "    plt.plot(rolling_residuals)\n",
    "    plt.axhline(0, linestyle='--', color='k')\n",
    "    plt.title('Rolling Forecast Residuals from SARIMA Model', fontsize=20)\n",
    "    plt.ylabel('Error', fontsize=16);\n",
    "    \n",
    "\n",
    "def plot_rolling_predictions(timeseries, rolling_predictions):\n",
    "    plt.figure(figsize=(10,4))\n",
    "    \n",
    "    start_date = timeseries.index[0]\n",
    "    end_date = timeseries.index[-1]\n",
    "\n",
    "    plt.plot(timeseries)\n",
    "    plt.plot(rolling_predictions)\n",
    "\n",
    "    plt.legend(('Data', 'Predictions'), fontsize=16)\n",
    "\n",
    "    plt.title('Rolling Forecast prediction Crimes in Barnet', fontsize=20)\n",
    "    plt.ylabel('Crimes', fontsize=16)\n",
    "    for year in range(start_date.year+1,end_date.year+1):\n",
    "        plt.axvline(pd.to_datetime(str(year)+'-01-01'), color='k', linestyle='--', alpha=0.2)\n",
    "        \n",
    "        \n",
    "def rolling_statistics(rolling_residuals, test_data):\n",
    "#     print('Rolling Mean Absolute Percent Error:', round(np.mean(abs(rolling_residuals/test_data)),4))\n",
    "#     print('Rolling Root Mean Squared Error:', np.sqrt(np.mean(rolling_residuals**2)))\n",
    "    RMAPE = round(np.mean(abs(rolling_residuals/test_data)),4)\n",
    "    RRMSE = np.sqrt(np.mean(rolling_residuals**2))\n",
    "    \n",
    "    return RMAPE, RRMSE"
   ]
  },
  {
   "cell_type": "code",
   "execution_count": 7,
   "id": "f4063b4e",
   "metadata": {},
   "outputs": [],
   "source": [
    "def run_functions(temp_timeseries):\n",
    "    temp_timeseries = prepare_timeseries(temp_timeseries)\n",
    "    temp_train, temp_test = training(temp_timeseries)\n",
    "    temp_timeseries = corona_troubles(temp_timeseries)\n",
    "#     temp_model_fit = create_model(temp_train, my_order, my_seasonal_order)\n",
    "#     temp_predictions, temp_residuals = pred_res(temp_model_fit, temp_test)\n",
    "    # plot_residuals(temp_residuals)\n",
    "    # plot_predictions(temp_timeseries, temp_predictions)\n",
    "#     temp_mape, temp_rmse = statistics(temp_residuals, temp_test)\n",
    "    temp_rolling_predictions, temp_rolling_residuals = rolling_pred_res(temp_train, temp_test, temp_timeseries, my_order, my_seasonal_order)\n",
    "    # plot_rolling_residuals(temp_rolling_residuals)\n",
    "    # plot_rolling_predictions(temp_timeseries, temp_rolling_predictions)\n",
    "    temp_rmape, temp_rrmse = rolling_statistics(temp_rolling_residuals, temp_test)\n",
    "    \n",
    "    return temp_rmape, temp_rrmse"
   ]
  },
  {
   "cell_type": "code",
   "execution_count": 183,
   "id": "3752f567",
   "metadata": {},
   "outputs": [
    {
     "name": "stderr",
     "output_type": "stream",
     "text": [
      "C:\\Users\\20212693\\AppData\\Roaming\\Python\\Python38\\site-packages\\statsmodels\\tsa\\base\\tsa_model.py:471: ValueWarning: No frequency information was provided, so inferred frequency MS will be used.\n",
      "  self._init_dates(dates, freq)\n",
      "C:\\Users\\20212693\\AppData\\Roaming\\Python\\Python38\\site-packages\\statsmodels\\tsa\\base\\tsa_model.py:471: ValueWarning: No frequency information was provided, so inferred frequency MS will be used.\n",
      "  self._init_dates(dates, freq)\n",
      "C:\\Users\\20212693\\AppData\\Roaming\\Python\\Python38\\site-packages\\statsmodels\\tsa\\base\\tsa_model.py:471: ValueWarning: No frequency information was provided, so inferred frequency MS will be used.\n",
      "  self._init_dates(dates, freq)\n",
      "C:\\Users\\20212693\\AppData\\Roaming\\Python\\Python38\\site-packages\\statsmodels\\tsa\\base\\tsa_model.py:471: ValueWarning: No frequency information was provided, so inferred frequency MS will be used.\n",
      "  self._init_dates(dates, freq)\n",
      "C:\\Users\\20212693\\AppData\\Roaming\\Python\\Python38\\site-packages\\statsmodels\\tsa\\base\\tsa_model.py:471: ValueWarning: No frequency information was provided, so inferred frequency MS will be used.\n",
      "  self._init_dates(dates, freq)\n",
      "C:\\Users\\20212693\\AppData\\Roaming\\Python\\Python38\\site-packages\\statsmodels\\tsa\\base\\tsa_model.py:471: ValueWarning: No frequency information was provided, so inferred frequency MS will be used.\n",
      "  self._init_dates(dates, freq)\n",
      "C:\\Users\\20212693\\AppData\\Roaming\\Python\\Python38\\site-packages\\statsmodels\\tsa\\base\\tsa_model.py:471: ValueWarning: A date index has been provided, but it has no associated frequency information and so will be ignored when e.g. forecasting.\n",
      "  self._init_dates(dates, freq)\n",
      "C:\\Users\\20212693\\AppData\\Roaming\\Python\\Python38\\site-packages\\statsmodels\\tsa\\base\\tsa_model.py:834: ValueWarning: No supported index is available. Prediction results will be given with an integer index beginning at `start`.\n",
      "  return get_prediction_index(\n",
      "C:\\Users\\20212693\\AppData\\Roaming\\Python\\Python38\\site-packages\\statsmodels\\tsa\\base\\tsa_model.py:834: DeprecationWarning: No supported index is available. In the next version, calling this method in a model without a supported index will result in an exception.\n",
      "  return get_prediction_index(\n",
      "C:\\Users\\20212693\\AppData\\Roaming\\Python\\Python38\\site-packages\\statsmodels\\tsa\\base\\tsa_model.py:471: ValueWarning: No frequency information was provided, so inferred frequency MS will be used.\n",
      "  self._init_dates(dates, freq)\n",
      "C:\\Users\\20212693\\AppData\\Roaming\\Python\\Python38\\site-packages\\statsmodels\\base\\model.py:604: ConvergenceWarning: Maximum Likelihood optimization failed to converge. Check mle_retvals\n",
      "  warnings.warn(\"Maximum Likelihood optimization failed to \"\n",
      "C:\\Users\\20212693\\AppData\\Roaming\\Python\\Python38\\site-packages\\statsmodels\\tsa\\base\\tsa_model.py:471: ValueWarning: A date index has been provided, but it has no associated frequency information and so will be ignored when e.g. forecasting.\n",
      "  self._init_dates(dates, freq)\n",
      "C:\\Users\\20212693\\AppData\\Roaming\\Python\\Python38\\site-packages\\statsmodels\\tsa\\base\\tsa_model.py:834: ValueWarning: No supported index is available. Prediction results will be given with an integer index beginning at `start`.\n",
      "  return get_prediction_index(\n",
      "C:\\Users\\20212693\\AppData\\Roaming\\Python\\Python38\\site-packages\\statsmodels\\tsa\\base\\tsa_model.py:834: DeprecationWarning: No supported index is available. In the next version, calling this method in a model without a supported index will result in an exception.\n",
      "  return get_prediction_index(\n",
      "C:\\Users\\20212693\\AppData\\Roaming\\Python\\Python38\\site-packages\\statsmodels\\tsa\\base\\tsa_model.py:471: ValueWarning: No frequency information was provided, so inferred frequency MS will be used.\n",
      "  self._init_dates(dates, freq)\n",
      "C:\\Users\\20212693\\AppData\\Roaming\\Python\\Python38\\site-packages\\statsmodels\\base\\model.py:604: ConvergenceWarning: Maximum Likelihood optimization failed to converge. Check mle_retvals\n",
      "  warnings.warn(\"Maximum Likelihood optimization failed to \"\n",
      "C:\\Users\\20212693\\AppData\\Roaming\\Python\\Python38\\site-packages\\statsmodels\\tsa\\base\\tsa_model.py:471: ValueWarning: No frequency information was provided, so inferred frequency MS will be used.\n",
      "  self._init_dates(dates, freq)\n",
      "C:\\Users\\20212693\\AppData\\Roaming\\Python\\Python38\\site-packages\\statsmodels\\tsa\\base\\tsa_model.py:471: ValueWarning: No frequency information was provided, so inferred frequency MS will be used.\n",
      "  self._init_dates(dates, freq)\n",
      "C:\\Users\\20212693\\AppData\\Roaming\\Python\\Python38\\site-packages\\statsmodels\\tsa\\base\\tsa_model.py:471: ValueWarning: No frequency information was provided, so inferred frequency MS will be used.\n",
      "  self._init_dates(dates, freq)\n",
      "C:\\Users\\20212693\\AppData\\Roaming\\Python\\Python38\\site-packages\\statsmodels\\tsa\\base\\tsa_model.py:471: ValueWarning: No frequency information was provided, so inferred frequency MS will be used.\n",
      "  self._init_dates(dates, freq)\n",
      "C:\\Users\\20212693\\AppData\\Roaming\\Python\\Python38\\site-packages\\statsmodels\\tsa\\base\\tsa_model.py:471: ValueWarning: No frequency information was provided, so inferred frequency MS will be used.\n",
      "  self._init_dates(dates, freq)\n",
      "C:\\Users\\20212693\\AppData\\Roaming\\Python\\Python38\\site-packages\\statsmodels\\base\\model.py:604: ConvergenceWarning: Maximum Likelihood optimization failed to converge. Check mle_retvals\n",
      "  warnings.warn(\"Maximum Likelihood optimization failed to \"\n",
      "C:\\Users\\20212693\\AppData\\Roaming\\Python\\Python38\\site-packages\\statsmodels\\tsa\\base\\tsa_model.py:471: ValueWarning: No frequency information was provided, so inferred frequency MS will be used.\n",
      "  self._init_dates(dates, freq)\n",
      "C:\\Users\\20212693\\AppData\\Roaming\\Python\\Python38\\site-packages\\statsmodels\\tsa\\base\\tsa_model.py:471: ValueWarning: No frequency information was provided, so inferred frequency MS will be used.\n",
      "  self._init_dates(dates, freq)\n",
      "C:\\Users\\20212693\\AppData\\Roaming\\Python\\Python38\\site-packages\\statsmodels\\tsa\\base\\tsa_model.py:471: ValueWarning: No frequency information was provided, so inferred frequency MS will be used.\n",
      "  self._init_dates(dates, freq)\n",
      "C:\\Users\\20212693\\AppData\\Roaming\\Python\\Python38\\site-packages\\statsmodels\\tsa\\base\\tsa_model.py:471: ValueWarning: A date index has been provided, but it has no associated frequency information and so will be ignored when e.g. forecasting.\n",
      "  self._init_dates(dates, freq)\n",
      "C:\\Users\\20212693\\AppData\\Roaming\\Python\\Python38\\site-packages\\statsmodels\\tsa\\base\\tsa_model.py:834: ValueWarning: No supported index is available. Prediction results will be given with an integer index beginning at `start`.\n",
      "  return get_prediction_index(\n",
      "C:\\Users\\20212693\\AppData\\Roaming\\Python\\Python38\\site-packages\\statsmodels\\tsa\\base\\tsa_model.py:834: DeprecationWarning: No supported index is available. In the next version, calling this method in a model without a supported index will result in an exception.\n",
      "  return get_prediction_index(\n",
      "C:\\Users\\20212693\\AppData\\Roaming\\Python\\Python38\\site-packages\\statsmodels\\tsa\\base\\tsa_model.py:471: ValueWarning: A date index has been provided, but it has no associated frequency information and so will be ignored when e.g. forecasting.\n",
      "  self._init_dates(dates, freq)\n",
      "C:\\Users\\20212693\\AppData\\Roaming\\Python\\Python38\\site-packages\\statsmodels\\tsa\\base\\tsa_model.py:834: ValueWarning: No supported index is available. Prediction results will be given with an integer index beginning at `start`.\n",
      "  return get_prediction_index(\n",
      "C:\\Users\\20212693\\AppData\\Roaming\\Python\\Python38\\site-packages\\statsmodels\\tsa\\base\\tsa_model.py:834: DeprecationWarning: No supported index is available. In the next version, calling this method in a model without a supported index will result in an exception.\n",
      "  return get_prediction_index(\n",
      "C:\\Users\\20212693\\AppData\\Roaming\\Python\\Python38\\site-packages\\statsmodels\\tsa\\base\\tsa_model.py:471: ValueWarning: No frequency information was provided, so inferred frequency MS will be used.\n",
      "  self._init_dates(dates, freq)\n",
      "C:\\Users\\20212693\\AppData\\Roaming\\Python\\Python38\\site-packages\\statsmodels\\base\\model.py:604: ConvergenceWarning: Maximum Likelihood optimization failed to converge. Check mle_retvals\n",
      "  warnings.warn(\"Maximum Likelihood optimization failed to \"\n",
      "C:\\Users\\20212693\\AppData\\Roaming\\Python\\Python38\\site-packages\\statsmodels\\tsa\\base\\tsa_model.py:471: ValueWarning: No frequency information was provided, so inferred frequency MS will be used.\n",
      "  self._init_dates(dates, freq)\n"
     ]
    },
    {
     "name": "stderr",
     "output_type": "stream",
     "text": [
      "C:\\Users\\20212693\\AppData\\Roaming\\Python\\Python38\\site-packages\\statsmodels\\tsa\\base\\tsa_model.py:471: ValueWarning: No frequency information was provided, so inferred frequency MS will be used.\n",
      "  self._init_dates(dates, freq)\n"
     ]
    }
   ],
   "source": [
    "# # Part that runs each individual ward with the same parameters as the big one\n",
    "# rmse_lst = []\n",
    "# mape_lst = []\n",
    "# for x in result['WD22NM'].unique():\n",
    "#     df_temp = result[result['WD22NM'] == x]\n",
    "#     temp_timeseries = df_temp.groupby(\"Month\").count()['Latitude']\n",
    "#     x, y = run_functions(temp_timeseries)\n",
    "#     mape_lst.append(x)\n",
    "#     rmse_lst.append(y)"
   ]
  },
  {
   "cell_type": "code",
   "execution_count": 8,
   "id": "6986d0c3",
   "metadata": {
    "scrolled": true
   },
   "outputs": [
    {
     "ename": "NameError",
     "evalue": "name 'copy_rmse_lst' is not defined",
     "output_type": "error",
     "traceback": [
      "\u001b[1;31m---------------------------------------------------------------------------\u001b[0m",
      "\u001b[1;31mNameError\u001b[0m                                 Traceback (most recent call last)",
      "Cell \u001b[1;32mIn[8], line 1\u001b[0m\n\u001b[1;32m----> 1\u001b[0m \u001b[43mcopy_rmse_lst\u001b[49m, copy_mape_lst\n",
      "\u001b[1;31mNameError\u001b[0m: name 'copy_rmse_lst' is not defined"
     ]
    }
   ],
   "source": [
    "copy_rmse_lst, copy_mape_lst"
   ]
  },
  {
   "cell_type": "code",
   "execution_count": 9,
   "id": "a8e83adc",
   "metadata": {},
   "outputs": [
    {
     "ename": "NameError",
     "evalue": "name 'copy_mape_lst' is not defined",
     "output_type": "error",
     "traceback": [
      "\u001b[1;31m---------------------------------------------------------------------------\u001b[0m",
      "\u001b[1;31mNameError\u001b[0m                                 Traceback (most recent call last)",
      "Cell \u001b[1;32mIn[9], line 2\u001b[0m\n\u001b[0;32m      1\u001b[0m \u001b[38;5;66;03m# Average mape with the same order and seasonal order in the model as the whole dataset\u001b[39;00m\n\u001b[1;32m----> 2\u001b[0m np\u001b[38;5;241m.\u001b[39mmean(\u001b[43mcopy_mape_lst\u001b[49m)\n\u001b[0;32m      3\u001b[0m \u001b[38;5;66;03m# 0.54426\u001b[39;00m\n",
      "\u001b[1;31mNameError\u001b[0m: name 'copy_mape_lst' is not defined"
     ]
    }
   ],
   "source": [
    "# Average mape with the same order and seasonal order in the model as the whole dataset\n",
    "np.mean(copy_mape_lst)\n",
    "# 0.54426"
   ]
  },
  {
   "cell_type": "code",
   "execution_count": 10,
   "id": "9e949e3b",
   "metadata": {},
   "outputs": [
    {
     "data": {
      "text/plain": [
       "array(['West Hendon', 'East Finchley', 'Finchley Church End',\n",
       "       'West Finchley', 'Hendon', 'Burnt Oak', 'Woodhouse',\n",
       "       'Friern Barnet', 'Colindale North', 'Mill Hill', 'Cricklewood',\n",
       "       'Childs Hill', 'Golders Green', 'Garden Suburb', 'Brunswick Park',\n",
       "       'Whetstone', 'Barnet Vale', 'High Barnet', 'Edgwarebury',\n",
       "       'Totteridge & Woodside', 'East Barnet', 'Underhill', 'Edgware'],\n",
       "      dtype=object)"
      ]
     },
     "execution_count": 10,
     "metadata": {},
     "output_type": "execute_result"
    }
   ],
   "source": [
    "result['WD22NM'].unique()"
   ]
  },
  {
   "cell_type": "code",
   "execution_count": 11,
   "id": "f73db56d",
   "metadata": {},
   "outputs": [],
   "source": [
    "orders = []\n",
    "for x in [0,1]:\n",
    "    for y in [0,1]:\n",
    "        for z in [0,1,2]:\n",
    "            orders.append((x,y,z))\n",
    "            \n",
    "seasonal_orders = []\n",
    "for x in [1,2]:\n",
    "    for y in [0]:\n",
    "        for z in [0,1]:\n",
    "            for s in [6, 12]:\n",
    "                seasonal_orders.append((x,y,z,s))"
   ]
  },
  {
   "cell_type": "code",
   "execution_count": 17,
   "id": "360dcac1",
   "metadata": {
    "scrolled": true
   },
   "outputs": [
    {
     "name": "stderr",
     "output_type": "stream",
     "text": [
      "  4%|███▌                                                                              | 1/23 [01:47<39:16, 107.14s/it]"
     ]
    },
    {
     "name": "stdout",
     "output_type": "stream",
     "text": [
      "West Hendon took 107.1351363658905 seconds.\n",
      "Best: [('West Hendon', (1, 1, 2), (2, 0, 1, 12)), 0.2077, 2.850438562747845]\n",
      "('East Finchley', (1, 0, 0), (2, 0, 1, 6)) Does not work\n",
      "('East Finchley', (1, 0, 0), (2, 0, 1, 12)) Does not work\n"
     ]
    },
    {
     "name": "stderr",
     "output_type": "stream",
     "text": [
      "\r",
      "  9%|███████▏                                                                          | 2/23 [03:58<42:29, 121.43s/it]"
     ]
    },
    {
     "name": "stdout",
     "output_type": "stream",
     "text": [
      "East Finchley took 131.42845845222473 seconds.\n",
      "Best: [('East Finchley', (1, 1, 2), (2, 0, 1, 12)), 0.4088, 4.257346591481601]\n",
      "('Finchley Church End', (1, 0, 0), (1, 0, 1, 12)) Does not work\n"
     ]
    },
    {
     "name": "stderr",
     "output_type": "stream",
     "text": [
      "\r",
      " 13%|██████████▋                                                                       | 3/23 [06:18<43:13, 129.66s/it]"
     ]
    },
    {
     "name": "stdout",
     "output_type": "stream",
     "text": [
      "Finchley Church End took 139.45077872276306 seconds.\n",
      "Best: [('Finchley Church End', (1, 1, 2), (2, 0, 1, 12)), 0.3503, 3.3166247903554]\n"
     ]
    },
    {
     "name": "stderr",
     "output_type": "stream",
     "text": [
      "\r",
      " 17%|██████████████▎                                                                   | 4/23 [08:49<43:48, 138.34s/it]"
     ]
    },
    {
     "name": "stdout",
     "output_type": "stream",
     "text": [
      "West Finchley took 151.64276242256165 seconds.\n",
      "Best: [('West Finchley', (1, 1, 2), (2, 0, 1, 12)), 0.3673, 3.0618621784789726]\n"
     ]
    },
    {
     "name": "stderr",
     "output_type": "stream",
     "text": [
      "\r",
      " 22%|█████████████████▊                                                                | 5/23 [11:21<42:58, 143.26s/it]"
     ]
    },
    {
     "name": "stdout",
     "output_type": "stream",
     "text": [
      "Hendon took 151.97719645500183 seconds.\n",
      "Best: [('Hendon', (1, 1, 2), (2, 0, 1, 12)), 0.761, 8.18535277187245]\n",
      "('Burnt Oak', (0, 0, 2), (2, 0, 1, 6)) Does not work\n",
      "('Burnt Oak', (1, 0, 0), (1, 0, 1, 6)) Does not work\n"
     ]
    },
    {
     "name": "stderr",
     "output_type": "stream",
     "text": [
      "\r",
      " 26%|█████████████████████▍                                                            | 6/23 [13:33<39:31, 139.51s/it]"
     ]
    },
    {
     "name": "stdout",
     "output_type": "stream",
     "text": [
      "Burnt Oak took 132.22436237335205 seconds.\n",
      "Best: [('Burnt Oak', (1, 1, 2), (2, 0, 1, 12)), 0.4933, 5.623610939600996]\n"
     ]
    },
    {
     "name": "stderr",
     "output_type": "stream",
     "text": [
      "\r",
      " 30%|████████████████████████▉                                                         | 7/23 [15:23<34:34, 129.69s/it]"
     ]
    },
    {
     "name": "stdout",
     "output_type": "stream",
     "text": [
      "Woodhouse took 109.4685492515564 seconds.\n",
      "Best: [('Woodhouse', (1, 1, 2), (2, 0, 1, 12)), 0.3482, 1.695582495781317]\n",
      "('Friern Barnet', (1, 1, 2), (1, 0, 1, 12)) Does not work\n"
     ]
    },
    {
     "name": "stderr",
     "output_type": "stream",
     "text": [
      "\r",
      " 35%|████████████████████████████▌                                                     | 8/23 [17:59<34:32, 138.16s/it]"
     ]
    },
    {
     "name": "stdout",
     "output_type": "stream",
     "text": [
      "('Friern Barnet', (1, 1, 2), (2, 0, 1, 12)) Does not work\n",
      "Friern Barnet took 156.31255507469177 seconds.\n",
      "Best: [('Friern Barnet', (1, 1, 2), (2, 0, 1, 6)), 0.1606, 1.8708286933869707]\n",
      "('Colindale North', (1, 0, 1), (1, 0, 1, 12)) Does not work\n",
      "('Colindale North', (1, 0, 1), (2, 0, 1, 6)) Does not work\n",
      "('Colindale North', (1, 0, 2), (1, 0, 1, 6)) Does not work\n"
     ]
    },
    {
     "name": "stderr",
     "output_type": "stream",
     "text": [
      "\r",
      " 39%|████████████████████████████████                                                  | 9/23 [20:52<34:46, 149.01s/it]"
     ]
    },
    {
     "name": "stdout",
     "output_type": "stream",
     "text": [
      "Colindale North took 172.86778473854065 seconds.\n",
      "Best: [('Colindale North', (1, 1, 2), (2, 0, 1, 12)), 0.3698, 1.8371173070873836]\n",
      "('Mill Hill', (1, 0, 0), (2, 0, 1, 6)) Does not work\n"
     ]
    },
    {
     "name": "stderr",
     "output_type": "stream",
     "text": [
      "\r",
      " 43%|███████████████████████████████████▏                                             | 10/23 [23:32<32:59, 152.26s/it]"
     ]
    },
    {
     "name": "stdout",
     "output_type": "stream",
     "text": [
      "Mill Hill took 159.54177474975586 seconds.\n",
      "Best: [('Mill Hill', (1, 1, 2), (2, 0, 1, 12)), 0.4819, 3.517811819867572]\n",
      "('Cricklewood', (1, 0, 0), (2, 0, 0, 6)) Does not work\n"
     ]
    },
    {
     "name": "stderr",
     "output_type": "stream",
     "text": [
      "\r",
      " 48%|██████████████████████████████████████▋                                          | 11/23 [26:09<30:47, 153.99s/it]"
     ]
    },
    {
     "name": "stdout",
     "output_type": "stream",
     "text": [
      "Cricklewood took 157.90226459503174 seconds.\n",
      "Best: [('Cricklewood', (1, 1, 2), (2, 0, 1, 12)), 0.3521, 3.3166247903554]\n",
      "('Childs Hill', (1, 0, 0), (2, 0, 1, 6)) Does not work\n"
     ]
    },
    {
     "name": "stderr",
     "output_type": "stream",
     "text": [
      "\r",
      " 52%|██████████████████████████████████████████▎                                      | 12/23 [28:33<27:39, 150.82s/it]"
     ]
    },
    {
     "name": "stdout",
     "output_type": "stream",
     "text": [
      "Childs Hill took 143.58607363700867 seconds.\n",
      "Best: [('Childs Hill', (1, 1, 2), (2, 0, 1, 12)), 0.3152, 5.522680508593631]\n"
     ]
    },
    {
     "name": "stderr",
     "output_type": "stream",
     "text": [
      "\r",
      " 57%|█████████████████████████████████████████████▊                                   | 13/23 [30:42<24:02, 144.24s/it]"
     ]
    },
    {
     "name": "stdout",
     "output_type": "stream",
     "text": [
      "Golders Green took 129.09718561172485 seconds.\n",
      "Best: [('Golders Green', (1, 1, 2), (2, 0, 1, 12)), 0.4951, 4.046603514059662]\n"
     ]
    },
    {
     "name": "stderr",
     "output_type": "stream",
     "text": [
      "\r",
      " 61%|█████████████████████████████████████████████████▎                               | 14/23 [32:43<20:34, 137.17s/it]"
     ]
    },
    {
     "name": "stdout",
     "output_type": "stream",
     "text": [
      "Garden Suburb took 120.823233127594 seconds.\n",
      "Best: [('Garden Suburb', (1, 1, 2), (2, 0, 1, 12)), 0.6429, 2.958039891549808]\n"
     ]
    },
    {
     "name": "stderr",
     "output_type": "stream",
     "text": [
      "\r",
      " 65%|████████████████████████████████████████████████████▊                            | 15/23 [34:50<17:53, 134.24s/it]"
     ]
    },
    {
     "name": "stdout",
     "output_type": "stream",
     "text": [
      "Brunswick Park took 127.45672941207886 seconds.\n",
      "Best: [('Brunswick Park', (1, 1, 2), (2, 0, 1, 12)), 0.6187, 3.142451272494134]\n"
     ]
    },
    {
     "name": "stderr",
     "output_type": "stream",
     "text": [
      "\r",
      " 70%|████████████████████████████████████████████████████████▎                        | 16/23 [37:22<16:15, 139.35s/it]"
     ]
    },
    {
     "name": "stdout",
     "output_type": "stream",
     "text": [
      "Whetstone took 151.1980242729187 seconds.\n",
      "Best: [('Whetstone', (1, 1, 2), (2, 0, 1, 12)), 0.2464, 2.0615528128088303]\n"
     ]
    },
    {
     "name": "stderr",
     "output_type": "stream",
     "text": [
      "\r",
      " 74%|███████████████████████████████████████████████████████████▊                     | 17/23 [39:22<13:21, 133.50s/it]"
     ]
    },
    {
     "name": "stdout",
     "output_type": "stream",
     "text": [
      "Barnet Vale took 119.91108250617981 seconds.\n",
      "Best: [('Barnet Vale', (1, 1, 2), (2, 0, 1, 12)), 0.4928, 2.7613402542968153]\n"
     ]
    },
    {
     "name": "stderr",
     "output_type": "stream",
     "text": [
      "\r",
      " 78%|███████████████████████████████████████████████████████████████▍                 | 18/23 [41:13<10:34, 126.88s/it]"
     ]
    },
    {
     "name": "stdout",
     "output_type": "stream",
     "text": [
      "High Barnet took 111.4512448310852 seconds.\n",
      "Best: [('High Barnet', (1, 1, 2), (2, 0, 1, 12)), 0.7601, 2.4748737341529163]\n"
     ]
    },
    {
     "name": "stderr",
     "output_type": "stream",
     "text": [
      "\r",
      " 83%|██████████████████████████████████████████████████████████████████▉              | 19/23 [43:03<08:07, 121.86s/it]"
     ]
    },
    {
     "name": "stdout",
     "output_type": "stream",
     "text": [
      "Edgwarebury took 110.15930199623108 seconds.\n",
      "Best: [('Edgwarebury', (1, 1, 2), (2, 0, 1, 12)), 0.3937, 1.4142135623730951]\n",
      "('Totteridge & Woodside', (1, 0, 1), (1, 0, 1, 6)) Does not work\n"
     ]
    },
    {
     "name": "stderr",
     "output_type": "stream",
     "text": [
      "\r",
      " 87%|██████████████████████████████████████████████████████████████████████▍          | 20/23 [44:58<05:59, 119.70s/it]"
     ]
    },
    {
     "name": "stdout",
     "output_type": "stream",
     "text": [
      "Totteridge & Woodside took 114.67195343971252 seconds.\n",
      "Best: [('Totteridge & Woodside', (1, 1, 2), (2, 0, 1, 12)), 0.3831, 3.69120576505835]\n"
     ]
    },
    {
     "name": "stderr",
     "output_type": "stream",
     "text": [
      "\r",
      " 91%|█████████████████████████████████████████████████████████████████████████▉       | 21/23 [47:15<04:09, 124.81s/it]"
     ]
    },
    {
     "name": "stdout",
     "output_type": "stream",
     "text": [
      "East Barnet took 136.7193887233734 seconds.\n",
      "Best: [('East Barnet', (1, 1, 2), (2, 0, 1, 12)), 0.7202, 2.5248762345905194]\n"
     ]
    },
    {
     "name": "stderr",
     "output_type": "stream",
     "text": [
      "\r",
      " 96%|█████████████████████████████████████████████████████████████████████████████▍   | 22/23 [48:57<01:58, 118.22s/it]"
     ]
    },
    {
     "name": "stdout",
     "output_type": "stream",
     "text": [
      "Underhill took 102.86091017723083 seconds.\n",
      "Best: [('Underhill', (1, 1, 2), (2, 0, 1, 12)), 0.7542, 1.695582495781317]\n"
     ]
    },
    {
     "name": "stderr",
     "output_type": "stream",
     "text": [
      "100%|█████████████████████████████████████████████████████████████████████████████████| 23/23 [50:52<00:00, 132.71s/it]"
     ]
    },
    {
     "name": "stdout",
     "output_type": "stream",
     "text": [
      "Edgware took 114.43930435180664 seconds.\n",
      "Best: [('Edgware', (1, 1, 2), (2, 0, 1, 12)), 0.286, 2.9154759474226504]\n"
     ]
    },
    {
     "name": "stderr",
     "output_type": "stream",
     "text": [
      "\n"
     ]
    }
   ],
   "source": [
    "best_order_lst = []\n",
    "i=0\n",
    "for x in tqdm(result['WD22NM'].unique()):\n",
    "    i+=1\n",
    "    start= time()\n",
    "    looking_lst = []\n",
    "    for y in orders:\n",
    "        for z in seasonal_orders:\n",
    "            try:\n",
    "                my_order = y\n",
    "                my_seasonal_order = z\n",
    "                df_temp = result[result['WD22NM'] == x]\n",
    "                temp_timeseries = df_temp.groupby(\"Month\").count()['Latitude']\n",
    "                new_temp_mape, new_temp_rmse = run_functions(temp_timeseries)\n",
    "                looking_lst.append([(x,y,z), new_temp_mape, new_temp_rmse])\n",
    "            except:\n",
    "                print((x,y,z), 'Does not work')\n",
    "    \n",
    "    lowest = 1\n",
    "    for val in looking_lst:\n",
    "        if val[1] < lowest:\n",
    "            lowest = val[1]\n",
    "            best = val\n",
    "    best_order_lst.append(best)\n",
    "    end = time()\n",
    "    print('{} took {} seconds.'.format(x, end-start))\n",
    "    print('Best:', best)\n",
    "    "
   ]
  },
  {
   "cell_type": "code",
   "execution_count": 18,
   "id": "5ba1e9d5",
   "metadata": {},
   "outputs": [
    {
     "data": {
      "text/plain": [
       "[[('West Hendon', (1, 0, 2), (1, 0, 0, 6)), 0.1507, 2.3717082451262845],\n",
       " [('East Finchley', (1, 0, 2), (2, 0, 1, 12)), 0.3128, 3.517811819867572],\n",
       " [('Finchley Church End', (0, 0, 1), (1, 0, 0, 6)),\n",
       "  0.1286,\n",
       "  1.8708286933869707],\n",
       " [('West Finchley', (1, 0, 1), (2, 0, 1, 6)), 0.2415, 2.4748737341529163],\n",
       " [('Hendon', (1, 0, 0), (1, 0, 0, 6)), 0.5732, 9.17877987534291],\n",
       " [('Burnt Oak', (1, 0, 1), (1, 0, 0, 6)), 0.4433, 5.522680508593631],\n",
       " [('Woodhouse', (0, 0, 1), (2, 0, 0, 6)), 0.314, 2.0],\n",
       " [('Friern Barnet', (1, 1, 2), (1, 0, 0, 12)), 0.0751, 1.5],\n",
       " [('Colindale North', (0, 0, 0), (2, 0, 0, 6)), 0.1979, 1.541103500742244],\n",
       " [('Mill Hill', (0, 0, 1), (1, 0, 0, 12)), 0.2139, 2.7613402542968153],\n",
       " [('Cricklewood', (0, 0, 1), (1, 0, 0, 6)), 0.251, 3.605551275463989],\n",
       " [('Childs Hill', (0, 1, 1), (2, 0, 0, 6)), 0.2834, 5.208166663999915],\n",
       " [('Golders Green', (0, 0, 0), (1, 0, 0, 6)), 0.29, 3.7416573867739413],\n",
       " [('Garden Suburb', (1, 1, 0), (1, 0, 1, 6)), 0.2445, 2.0615528128088303],\n",
       " [('Brunswick Park', (1, 1, 1), (1, 0, 1, 12)), 0.3469, 2.1505813167606567],\n",
       " [('Whetstone', (1, 0, 2), (1, 0, 1, 6)), 0.1949, 2.091650066335189],\n",
       " [('Barnet Vale', (0, 0, 1), (2, 0, 0, 6)), 0.2572, 2.3717082451262845],\n",
       " [('High Barnet', (0, 0, 0), (1, 0, 0, 12)), 0.1943, 1.5811388300841898],\n",
       " [('Edgwarebury', (1, 0, 1), (2, 0, 1, 12)), 0.2896, 1.224744871391589],\n",
       " [('Totteridge & Woodside', (0, 0, 0), (2, 0, 0, 12)),\n",
       "  0.2131,\n",
       "  2.692582403567252],\n",
       " [('East Barnet', (0, 0, 1), (1, 0, 0, 12)), 0.372, 1.8371173070873836],\n",
       " [('Underhill', (1, 0, 1), (2, 0, 1, 6)), 0.425, 1.8027756377319946],\n",
       " [('Edgware', (0, 0, 0), (2, 0, 1, 12)), 0.188, 2.958039891549808]]"
      ]
     },
     "execution_count": 18,
     "metadata": {},
     "output_type": "execute_result"
    }
   ],
   "source": [
    "best_order_lst"
   ]
  },
  {
   "cell_type": "code",
   "execution_count": 19,
   "id": "7d474c03",
   "metadata": {},
   "outputs": [],
   "source": [
    "mape_lst = []\n",
    "for x in best_order_lst:\n",
    "    mape_lst.append(x[1])"
   ]
  },
  {
   "cell_type": "code",
   "execution_count": 20,
   "id": "7ffc0559",
   "metadata": {},
   "outputs": [],
   "source": [
    "copy_best_order_lst = best_order_lst.copy()"
   ]
  },
  {
   "cell_type": "code",
   "execution_count": 23,
   "id": "2b5bb351",
   "metadata": {},
   "outputs": [
    {
     "data": {
      "text/plain": [
       "0.2696043478260869"
      ]
     },
     "execution_count": 23,
     "metadata": {},
     "output_type": "execute_result"
    }
   ],
   "source": [
    "# Average mape with the 'optimal' order for each of the wards (but wrong so only the last set of parameters one lmao)\n",
    "#np.mean(mape_lst)  #(but wrong so only the last set of parameters one lmao)\n",
    "# 0.4526\n",
    "\n",
    "np.mean(mape_lst)\n",
    "# 0.2696"
   ]
  },
  {
   "cell_type": "code",
   "execution_count": 337,
   "id": "28b79c10",
   "metadata": {},
   "outputs": [
    {
     "data": {
      "text/plain": [
       "'Hendon'"
      ]
     },
     "execution_count": 337,
     "metadata": {},
     "output_type": "execute_result"
    }
   ],
   "source": [
    "result['WD22NM'].unique()[4]"
   ]
  },
  {
   "cell_type": "code",
   "execution_count": 16,
   "id": "c1aa544c",
   "metadata": {},
   "outputs": [
    {
     "name": "stderr",
     "output_type": "stream",
     "text": [
      "  0%|                                                                                            | 0/1 [00:00<?, ?it/s]\n",
      "  0%|                                                                                           | 0/12 [00:00<?, ?it/s]\u001b[A\n",
      "  8%|██████▉                                                                            | 1/12 [00:07<01:18,  7.10s/it]\u001b[A\n",
      " 17%|█████████████▊                                                                     | 2/12 [00:19<01:43, 10.35s/it]\u001b[A\n",
      " 25%|████████████████████▊                                                              | 3/12 [00:34<01:50, 12.24s/it]\u001b[A\n",
      " 33%|███████████████████████████▋                                                       | 4/12 [00:40<01:17,  9.74s/it]\u001b[A\n",
      " 42%|██████████████████████████████████▌                                                | 5/12 [00:48<01:04,  9.25s/it]\u001b[A\n",
      " 50%|█████████████████████████████████████████▌                                         | 6/12 [01:00<01:00, 10.03s/it]\u001b[A\n",
      " 58%|████████████████████████████████████████████████▍                                  | 7/12 [01:11<00:53, 10.61s/it]\u001b[A\n",
      " 67%|███████████████████████████████████████████████████████▎                           | 8/12 [01:27<00:48, 12.22s/it]\u001b[A\n",
      " 75%|██████████████████████████████████████████████████████████████▎                    | 9/12 [01:51<00:47, 15.95s/it]\u001b[A\n",
      " 83%|████████████████████████████████████████████████████████████████████▎             | 10/12 [01:59<00:26, 13.37s/it]\u001b[A\n",
      " 92%|███████████████████████████████████████████████████████████████████████████▏      | 11/12 [02:13<00:13, 13.52s/it]\u001b[A\n",
      "100%|██████████████████████████████████████████████████████████████████████████████████| 12/12 [02:33<00:00, 12.77s/it]\u001b[A\n",
      "100%|███████████████████████████████████████████████████████████████████████████████████| 1/1 [02:33<00:00, 153.22s/it]"
     ]
    },
    {
     "name": "stdout",
     "output_type": "stream",
     "text": [
      "[('Hendon', (0, 0, 0), (1, 0, 0, 6)), 0.8949, 11.656543226874767]\n",
      "[('Hendon', (0, 0, 0), (1, 0, 0, 12)), 0.6413, 6.680194607943694]\n",
      "[('Hendon', (0, 0, 0), (1, 0, 1, 6)), 0.8505, 8.65303414993839]\n",
      "[('Hendon', (0, 0, 0), (1, 0, 1, 12)), 0.791, 7.834219807996199]\n",
      "[('Hendon', (0, 0, 0), (2, 0, 0, 6)), 0.7258, 8.038967595406763]\n",
      "[('Hendon', (0, 0, 0), (2, 0, 0, 12)), 0.716, 7.22841614740048]\n",
      "[('Hendon', (0, 0, 0), (2, 0, 1, 6)), 0.8574, 8.660254037844387]\n",
      "[('Hendon', (0, 0, 0), (2, 0, 1, 12)), 0.7884, 7.834219807996199]\n",
      "[('Hendon', (0, 0, 1), (1, 0, 0, 6)), 0.8034, 11.224972160321824]\n",
      "[('Hendon', (0, 0, 1), (1, 0, 0, 12)), 0.6414, 7.897784499465657]\n",
      "[('Hendon', (0, 0, 1), (1, 0, 1, 6)), 0.792, 8.336666000266533]\n",
      "[('Hendon', (0, 0, 1), (1, 0, 1, 12)), 0.7565, 7.929375763576853]\n",
      "[('Hendon', (0, 0, 1), (2, 0, 0, 6)), 0.7652, 8.616843969807043]\n",
      "[('Hendon', (0, 0, 1), (2, 0, 0, 12)), 0.7101, 7.648529270389178]\n",
      "[('Hendon', (0, 0, 1), (2, 0, 1, 6)), 0.7728, 8.18535277187245]\n",
      "[('Hendon', (0, 0, 1), (2, 0, 1, 12)), 0.752, 8.077747210701755]\n",
      "[('Hendon', (0, 0, 2), (1, 0, 0, 6)), 0.6979, 11.073617295175051]\n",
      "[('Hendon', (0, 0, 2), (1, 0, 0, 12)), 0.577, 8.093207028119323]\n",
      "[('Hendon', (0, 0, 2), (1, 0, 1, 6)), 0.731, 8.374067112222113]\n",
      "[('Hendon', (0, 0, 2), (1, 0, 1, 12)), 0.7073, 8.085480814398114]\n",
      "[('Hendon', (0, 0, 2), (2, 0, 0, 6)), 0.7202, 8.448372624357901]\n",
      "[('Hendon', (0, 0, 2), (2, 0, 0, 12)), 0.6513, 7.73789377027108]\n",
      "[('Hendon', (0, 0, 2), (2, 0, 1, 6)), 0.731, 8.374067112222113]\n",
      "[('Hendon', (0, 0, 2), (2, 0, 1, 12)), 0.7303, 8.306623862918075]\n",
      "[('Hendon', (0, 1, 0), (1, 0, 0, 6)), 0.6818, 10.074720839804943]\n",
      "[('Hendon', (0, 1, 0), (1, 0, 0, 12)), 0.6874, 9.778803607803972]\n",
      "[('Hendon', (0, 1, 0), (1, 0, 1, 6)), 0.68, 9.714679613862724]\n",
      "[('Hendon', (0, 1, 0), (1, 0, 1, 12)), 0.6615, 9.86154146165801]\n",
      "[('Hendon', (0, 1, 0), (2, 0, 0, 6)), 0.6874, 9.778803607803972]\n",
      "[('Hendon', (0, 1, 0), (2, 0, 0, 12)), 0.6778, 9.772410142846033]\n",
      "[('Hendon', (0, 1, 0), (2, 0, 1, 6)), 0.6874, 9.778803607803972]\n",
      "[('Hendon', (0, 1, 0), (2, 0, 1, 12)), 0.7172, 10.277402395547233]\n",
      "[('Hendon', (0, 1, 1), (1, 0, 0, 6)), 0.7538, 8.070006195784487]\n",
      "[('Hendon', (0, 1, 1), (1, 0, 0, 12)), 0.725, 7.648529270389178]\n",
      "[('Hendon', (0, 1, 1), (1, 0, 1, 6)), 0.7511, 8.007808689023483]\n",
      "[('Hendon', (0, 1, 1), (1, 0, 1, 12)), 0.685, 7.483314773547883]\n",
      "[('Hendon', (0, 1, 1), (2, 0, 0, 6)), 0.7071, 7.541551564499178]\n",
      "[('Hendon', (0, 1, 1), (2, 0, 0, 12)), 0.725, 7.648529270389178]\n",
      "[('Hendon', (0, 1, 1), (2, 0, 1, 6)), 0.7071, 7.541551564499178]\n",
      "[('Hendon', (0, 1, 1), (2, 0, 1, 12)), 0.685, 7.483314773547883]\n",
      "[('Hendon', (0, 1, 2), (1, 0, 0, 6)), 0.7828, 8.19298480408697]\n",
      "[('Hendon', (0, 1, 2), (1, 0, 0, 12)), 0.7457, 7.810249675906654]\n",
      "[('Hendon', (0, 1, 2), (1, 0, 1, 6)), 0.8176, 8.455767262643882]\n",
      "[('Hendon', (0, 1, 2), (1, 0, 1, 12)), 0.7421, 7.874007874011811]\n",
      "[('Hendon', (0, 1, 2), (2, 0, 0, 6)), 0.7636, 7.913595895672207]\n",
      "[('Hendon', (0, 1, 2), (2, 0, 0, 12)), 0.7457, 7.810249675906654]\n",
      "[('Hendon', (0, 1, 2), (2, 0, 1, 6)), 0.7705, 7.952986860293433]\n",
      "[('Hendon', (0, 1, 2), (2, 0, 1, 12)), 0.7917, 8.19298480408697]\n",
      "[('Hendon', (1, 0, 0), (1, 0, 0, 6)), 0.5732, 9.17877987534291]\n",
      "[('Hendon', (1, 0, 0), (1, 0, 0, 12)), 0.627, 9.1583295420071]\n",
      "[('Hendon', (1, 0, 0), (1, 0, 1, 6)), 4.9052, 154.01176903081142]\n",
      "[('Hendon', (1, 0, 0), (1, 0, 1, 12)), 0.681, 7.968688725254614]\n",
      "[('Hendon', (1, 0, 0), (2, 0, 0, 6)), 0.7285, 8.580501150865256]\n",
      "[('Hendon', (1, 0, 0), (2, 0, 0, 12)), 0.627, 9.1583295420071]\n",
      "[('Hendon', (1, 0, 0), (2, 0, 1, 6)), 0.7455, 8.19298480408697]\n",
      "[('Hendon', (1, 0, 0), (2, 0, 1, 12)), 0.6634, 9.956153875869939]\n",
      "[('Hendon', (1, 0, 1), (1, 0, 0, 6)), 0.7442, 8.0]\n",
      "[('Hendon', (1, 0, 1), (1, 0, 0, 12)), 0.7071, 7.541551564499178]\n",
      "[('Hendon', (1, 0, 1), (1, 0, 1, 6)), 0.7129, 7.802243267163617]\n",
      "[('Hendon', (1, 0, 1), (1, 0, 1, 12)), 0.6777, 7.615773105863909]\n",
      "[('Hendon', (1, 0, 1), (2, 0, 0, 6)), 0.7071, 7.541551564499178]\n",
      "[('Hendon', (1, 0, 1), (2, 0, 0, 12)), 0.7071, 7.541551564499178]\n",
      "[('Hendon', (1, 0, 1), (2, 0, 1, 6)), 0.7377, 8.0]\n",
      "[('Hendon', (1, 0, 1), (2, 0, 1, 12)), 0.7176, 7.7781745930520225]\n",
      "[('Hendon', (1, 0, 2), (1, 0, 0, 6)), 0.7828, 8.19298480408697]\n",
      "[('Hendon', (1, 0, 2), (1, 0, 0, 12)), 0.7457, 7.810249675906654]\n",
      "[('Hendon', (1, 0, 2), (1, 0, 1, 6)), 0.7516, 8.0]\n",
      "[('Hendon', (1, 0, 2), (1, 0, 1, 12)), 0.7158, 7.810249675906654]\n",
      "[('Hendon', (1, 0, 2), (2, 0, 0, 6)), 0.7636, 7.913595895672207]\n",
      "[('Hendon', (1, 0, 2), (2, 0, 0, 12)), 0.7457, 7.810249675906654]\n",
      "[('Hendon', (1, 0, 2), (2, 0, 1, 6)), 0.7516, 8.0]\n",
      "[('Hendon', (1, 0, 2), (2, 0, 1, 12)), 0.7361, 7.73789377027108]\n",
      "[('Hendon', (1, 1, 0), (1, 0, 0, 6)), 0.6084, 8.645808232895291]\n",
      "[('Hendon', (1, 1, 0), (1, 0, 0, 12)), 0.5849, 8.366600265340756]\n",
      "[('Hendon', (1, 1, 0), (1, 0, 1, 6)), 0.6359, 8.717797887081348]\n",
      "[('Hendon', (1, 1, 0), (1, 0, 1, 12)), 0.5735, 8.388980867781259]\n",
      "[('Hendon', (1, 1, 0), (2, 0, 0, 6)), 0.6027, 8.374067112222113]\n",
      "[('Hendon', (1, 1, 0), (2, 0, 0, 12)), 0.5922, 8.448372624357901]\n",
      "[('Hendon', (1, 1, 0), (2, 0, 1, 6)), 0.5945, 8.388980867781259]\n",
      "[('Hendon', (1, 1, 0), (2, 0, 1, 12)), 0.6172, 8.979142498033985]\n",
      "[('Hendon', (1, 1, 1), (1, 0, 0, 6)), 0.7729, 8.246211251235321]\n",
      "[('Hendon', (1, 1, 1), (1, 0, 0, 12)), 0.7501, 7.905694150420948]\n",
      "[('Hendon', (1, 1, 1), (1, 0, 1, 6)), 0.829, 8.551315688243536]\n",
      "[('Hendon', (1, 1, 1), (1, 0, 1, 12)), 0.7397, 8.116341540373963]\n",
      "[('Hendon', (1, 1, 1), (2, 0, 0, 6)), 0.7749, 8.031189202104505]\n",
      "[('Hendon', (1, 1, 1), (2, 0, 0, 12)), 0.7575, 7.99218368157289]\n",
      "[('Hendon', (1, 1, 1), (2, 0, 1, 6)), 0.7749, 8.031189202104505]\n",
      "[('Hendon', (1, 1, 1), (2, 0, 1, 12)), 0.7657, 8.253787009609589]\n",
      "[('Hendon', (1, 1, 2), (1, 0, 0, 6)), 0.7839, 8.299096336348915]\n",
      "[('Hendon', (1, 1, 2), (1, 0, 0, 12)), 0.7615, 8.038967595406763]\n",
      "[('Hendon', (1, 1, 2), (1, 0, 1, 6)), 0.7877, 8.306623862918075]\n",
      "[('Hendon', (1, 1, 2), (1, 0, 1, 12)), 0.7566, 8.06225774829855]\n",
      "[('Hendon', (1, 1, 2), (2, 0, 0, 6)), 0.7794, 8.139410298049853]\n",
      "[('Hendon', (1, 1, 2), (2, 0, 0, 12)), 0.7615, 8.038967595406763]\n",
      "[('Hendon', (1, 1, 2), (2, 0, 1, 6)), 0.7794, 8.139410298049853]\n",
      "[('Hendon', (1, 1, 2), (2, 0, 1, 12)), 0.761, 8.18535277187245]\n"
     ]
    },
    {
     "name": "stderr",
     "output_type": "stream",
     "text": [
      "\n"
     ]
    }
   ],
   "source": [
    "for x in tqdm([result['WD22NM'].unique()[4]]):\n",
    "    start= time()\n",
    "    looking_lst = []\n",
    "    \n",
    "    for y in orders:\n",
    "        for z in seasonal_orders:\n",
    "            try:\n",
    "                my_order = y\n",
    "                my_seasonal_order = z\n",
    "                df_temp = result[result['WD22NM'] == x]\n",
    "                temp_timeseries = df_temp.groupby(\"Month\").count()['Latitude']\n",
    "                new_temp_mape, new_temp_rmse = run_functions(temp_timeseries)\n",
    "                looking_lst.append([(x,y,z), new_temp_mape, new_temp_rmse])\n",
    "            except:\n",
    "                print((x,y,z), 'Does not work')\n",
    "        \n",
    "    lowest = 1\n",
    "    for val in looking_lst:\n",
    "        if val[1] < lowest:\n",
    "            lowest = val[1]\n",
    "            best = val\n",
    "            \n",
    "        print(val)\n",
    "\n",
    "    end = time()"
   ]
  },
  {
   "cell_type": "code",
   "execution_count": 346,
   "id": "a4d28701",
   "metadata": {
    "scrolled": true
   },
   "outputs": [
    {
     "data": {
      "text/plain": [
       "[[('Hendon', (0, 0, 0), (1, 0, 0, 6)), 0.8949, 11.656543226874767],\n",
       " [('Hendon', (0, 0, 0), (1, 0, 0, 12)), 0.6413, 6.680194607943694],\n",
       " [('Hendon', (0, 0, 0), (1, 0, 1, 6)), 0.8505, 8.65303414993839],\n",
       " [('Hendon', (0, 0, 0), (1, 0, 1, 12)), 0.791, 7.834219807996199],\n",
       " [('Hendon', (0, 0, 0), (2, 0, 0, 6)), 0.7258, 8.038967595406763],\n",
       " [('Hendon', (0, 0, 0), (2, 0, 0, 12)), 0.716, 7.22841614740048],\n",
       " [('Hendon', (0, 0, 0), (2, 0, 1, 6)), 0.8574, 8.660254037844387],\n",
       " [('Hendon', (0, 0, 0), (2, 0, 1, 12)), 0.7884, 7.834219807996199],\n",
       " [('Hendon', (0, 0, 1), (1, 0, 0, 6)), 0.8034, 11.224972160321824],\n",
       " [('Hendon', (0, 0, 1), (1, 0, 0, 12)), 0.6414, 7.897784499465657],\n",
       " [('Hendon', (0, 0, 1), (1, 0, 1, 6)), 0.792, 8.336666000266533],\n",
       " [('Hendon', (0, 0, 1), (1, 0, 1, 12)), 0.7565, 7.929375763576853],\n",
       " [('Hendon', (0, 0, 1), (2, 0, 0, 6)), 0.7652, 8.616843969807043],\n",
       " [('Hendon', (0, 0, 1), (2, 0, 0, 12)), 0.7101, 7.648529270389178],\n",
       " [('Hendon', (0, 0, 1), (2, 0, 1, 6)), 0.7728, 8.18535277187245],\n",
       " [('Hendon', (0, 0, 1), (2, 0, 1, 12)), 0.752, 8.077747210701755],\n",
       " [('Hendon', (0, 0, 2), (1, 0, 0, 6)), 0.6979, 11.073617295175051],\n",
       " [('Hendon', (0, 0, 2), (1, 0, 0, 12)), 0.577, 8.093207028119323],\n",
       " [('Hendon', (0, 0, 2), (1, 0, 1, 6)), 0.731, 8.374067112222113],\n",
       " [('Hendon', (0, 0, 2), (1, 0, 1, 12)), 0.7073, 8.085480814398114],\n",
       " [('Hendon', (0, 0, 2), (2, 0, 0, 6)), 0.7202, 8.448372624357901],\n",
       " [('Hendon', (0, 0, 2), (2, 0, 0, 12)), 0.6513, 7.73789377027108],\n",
       " [('Hendon', (0, 0, 2), (2, 0, 1, 6)), 0.731, 8.374067112222113],\n",
       " [('Hendon', (0, 0, 2), (2, 0, 1, 12)), 0.7303, 8.306623862918075],\n",
       " [('Hendon', (0, 1, 0), (1, 0, 0, 6)), 0.6818, 10.074720839804943],\n",
       " [('Hendon', (0, 1, 0), (1, 0, 0, 12)), 0.6874, 9.778803607803972],\n",
       " [('Hendon', (0, 1, 0), (1, 0, 1, 6)), 0.68, 9.714679613862724],\n",
       " [('Hendon', (0, 1, 0), (1, 0, 1, 12)), 0.6615, 9.86154146165801],\n",
       " [('Hendon', (0, 1, 0), (2, 0, 0, 6)), 0.6874, 9.778803607803972],\n",
       " [('Hendon', (0, 1, 0), (2, 0, 0, 12)), 0.6778, 9.772410142846033],\n",
       " [('Hendon', (0, 1, 0), (2, 0, 1, 6)), 0.6874, 9.778803607803972],\n",
       " [('Hendon', (0, 1, 0), (2, 0, 1, 12)), 0.7172, 10.277402395547233],\n",
       " [('Hendon', (0, 1, 1), (1, 0, 0, 6)), 0.7538, 8.070006195784487],\n",
       " [('Hendon', (0, 1, 1), (1, 0, 0, 12)), 0.725, 7.648529270389178],\n",
       " [('Hendon', (0, 1, 1), (1, 0, 1, 6)), 0.7511, 8.007808689023483],\n",
       " [('Hendon', (0, 1, 1), (1, 0, 1, 12)), 0.685, 7.483314773547883],\n",
       " [('Hendon', (0, 1, 1), (2, 0, 0, 6)), 0.7071, 7.541551564499178],\n",
       " [('Hendon', (0, 1, 1), (2, 0, 0, 12)), 0.725, 7.648529270389178],\n",
       " [('Hendon', (0, 1, 1), (2, 0, 1, 6)), 0.7071, 7.541551564499178],\n",
       " [('Hendon', (0, 1, 1), (2, 0, 1, 12)), 0.685, 7.483314773547883],\n",
       " [('Hendon', (0, 1, 2), (1, 0, 0, 6)), 0.7828, 8.19298480408697],\n",
       " [('Hendon', (0, 1, 2), (1, 0, 0, 12)), 0.7457, 7.810249675906654],\n",
       " [('Hendon', (0, 1, 2), (1, 0, 1, 6)), 0.8176, 8.455767262643882],\n",
       " [('Hendon', (0, 1, 2), (1, 0, 1, 12)), 0.7421, 7.874007874011811],\n",
       " [('Hendon', (0, 1, 2), (2, 0, 0, 6)), 0.7636, 7.913595895672207],\n",
       " [('Hendon', (0, 1, 2), (2, 0, 0, 12)), 0.7457, 7.810249675906654],\n",
       " [('Hendon', (0, 1, 2), (2, 0, 1, 6)), 0.7705, 7.952986860293433],\n",
       " [('Hendon', (0, 1, 2), (2, 0, 1, 12)), 0.7917, 8.19298480408697],\n",
       " [('Hendon', (1, 0, 0), (1, 0, 0, 6)), 0.5732, 9.17877987534291],\n",
       " [('Hendon', (1, 0, 0), (1, 0, 0, 12)), 0.627, 9.1583295420071],\n",
       " [('Hendon', (1, 0, 0), (1, 0, 1, 6)), 4.9052, 154.01176903081142],\n",
       " [('Hendon', (1, 0, 0), (1, 0, 1, 12)), 0.681, 7.968688725254614],\n",
       " [('Hendon', (1, 0, 0), (2, 0, 0, 6)), 0.7285, 8.580501150865256],\n",
       " [('Hendon', (1, 0, 0), (2, 0, 0, 12)), 0.627, 9.1583295420071],\n",
       " [('Hendon', (1, 0, 0), (2, 0, 1, 6)), 0.7455, 8.19298480408697],\n",
       " [('Hendon', (1, 0, 0), (2, 0, 1, 12)), 0.6634, 9.956153875869939],\n",
       " [('Hendon', (1, 0, 1), (1, 0, 0, 6)), 0.7442, 8.0],\n",
       " [('Hendon', (1, 0, 1), (1, 0, 0, 12)), 0.7071, 7.541551564499178],\n",
       " [('Hendon', (1, 0, 1), (1, 0, 1, 6)), 0.7129, 7.802243267163617],\n",
       " [('Hendon', (1, 0, 1), (1, 0, 1, 12)), 0.6777, 7.615773105863909],\n",
       " [('Hendon', (1, 0, 1), (2, 0, 0, 6)), 0.7071, 7.541551564499178],\n",
       " [('Hendon', (1, 0, 1), (2, 0, 0, 12)), 0.7071, 7.541551564499178],\n",
       " [('Hendon', (1, 0, 1), (2, 0, 1, 6)), 0.7377, 8.0],\n",
       " [('Hendon', (1, 0, 1), (2, 0, 1, 12)), 0.7176, 7.7781745930520225],\n",
       " [('Hendon', (1, 0, 2), (1, 0, 0, 6)), 0.7828, 8.19298480408697],\n",
       " [('Hendon', (1, 0, 2), (1, 0, 0, 12)), 0.7457, 7.810249675906654],\n",
       " [('Hendon', (1, 0, 2), (1, 0, 1, 6)), 0.7516, 8.0],\n",
       " [('Hendon', (1, 0, 2), (1, 0, 1, 12)), 0.7158, 7.810249675906654],\n",
       " [('Hendon', (1, 0, 2), (2, 0, 0, 6)), 0.7636, 7.913595895672207],\n",
       " [('Hendon', (1, 0, 2), (2, 0, 0, 12)), 0.7457, 7.810249675906654],\n",
       " [('Hendon', (1, 0, 2), (2, 0, 1, 6)), 0.7516, 8.0],\n",
       " [('Hendon', (1, 0, 2), (2, 0, 1, 12)), 0.7361, 7.73789377027108],\n",
       " [('Hendon', (1, 1, 0), (1, 0, 0, 6)), 0.6084, 8.645808232895291],\n",
       " [('Hendon', (1, 1, 0), (1, 0, 0, 12)), 0.5849, 8.366600265340756],\n",
       " [('Hendon', (1, 1, 0), (1, 0, 1, 6)), 0.6359, 8.717797887081348],\n",
       " [('Hendon', (1, 1, 0), (1, 0, 1, 12)), 0.5735, 8.388980867781259],\n",
       " [('Hendon', (1, 1, 0), (2, 0, 0, 6)), 0.6027, 8.374067112222113],\n",
       " [('Hendon', (1, 1, 0), (2, 0, 0, 12)), 0.5922, 8.448372624357901],\n",
       " [('Hendon', (1, 1, 0), (2, 0, 1, 6)), 0.5945, 8.388980867781259],\n",
       " [('Hendon', (1, 1, 0), (2, 0, 1, 12)), 0.6172, 8.979142498033985],\n",
       " [('Hendon', (1, 1, 1), (1, 0, 0, 6)), 0.7729, 8.246211251235321],\n",
       " [('Hendon', (1, 1, 1), (1, 0, 0, 12)), 0.7501, 7.905694150420948],\n",
       " [('Hendon', (1, 1, 1), (1, 0, 1, 6)), 0.829, 8.551315688243536],\n",
       " [('Hendon', (1, 1, 1), (1, 0, 1, 12)), 0.7397, 8.116341540373963],\n",
       " [('Hendon', (1, 1, 1), (2, 0, 0, 6)), 0.7749, 8.031189202104505],\n",
       " [('Hendon', (1, 1, 1), (2, 0, 0, 12)), 0.7575, 7.99218368157289],\n",
       " [('Hendon', (1, 1, 1), (2, 0, 1, 6)), 0.7749, 8.031189202104505],\n",
       " [('Hendon', (1, 1, 1), (2, 0, 1, 12)), 0.7657, 8.253787009609589],\n",
       " [('Hendon', (1, 1, 2), (1, 0, 0, 6)), 0.7839, 8.299096336348915],\n",
       " [('Hendon', (1, 1, 2), (1, 0, 0, 12)), 0.7615, 8.038967595406763],\n",
       " [('Hendon', (1, 1, 2), (1, 0, 1, 6)), 0.7877, 8.306623862918075],\n",
       " [('Hendon', (1, 1, 2), (1, 0, 1, 12)), 0.7566, 8.06225774829855],\n",
       " [('Hendon', (1, 1, 2), (2, 0, 0, 6)), 0.7794, 8.139410298049853],\n",
       " [('Hendon', (1, 1, 2), (2, 0, 0, 12)), 0.7615, 8.038967595406763],\n",
       " [('Hendon', (1, 1, 2), (2, 0, 1, 6)), 0.7794, 8.139410298049853],\n",
       " [('Hendon', (1, 1, 2), (2, 0, 1, 12)), 0.761, 8.18535277187245]]"
      ]
     },
     "execution_count": 346,
     "metadata": {},
     "output_type": "execute_result"
    }
   ],
   "source": [
    "looking_lst"
   ]
  },
  {
   "cell_type": "code",
   "execution_count": 357,
   "id": "387fab54",
   "metadata": {},
   "outputs": [
    {
     "name": "stdout",
     "output_type": "stream",
     "text": [
      "0.8949 [('Hendon', (0, 0, 0), (1, 0, 0, 6)), 0.8949, 11.656543226874767]\n",
      "2\n",
      "0.6413 [('Hendon', (0, 0, 0), (1, 0, 0, 12)), 0.6413, 6.680194607943694]\n",
      "3\n",
      "0.6413 [('Hendon', (0, 0, 0), (1, 0, 0, 12)), 0.6413, 6.680194607943694]\n",
      "4\n",
      "0.6413 [('Hendon', (0, 0, 0), (1, 0, 0, 12)), 0.6413, 6.680194607943694]\n",
      "5\n",
      "0.6413 [('Hendon', (0, 0, 0), (1, 0, 0, 12)), 0.6413, 6.680194607943694]\n",
      "6\n",
      "0.6413 [('Hendon', (0, 0, 0), (1, 0, 0, 12)), 0.6413, 6.680194607943694]\n",
      "7\n",
      "0.6413 [('Hendon', (0, 0, 0), (1, 0, 0, 12)), 0.6413, 6.680194607943694]\n",
      "8\n",
      "0.6413 [('Hendon', (0, 0, 0), (1, 0, 0, 12)), 0.6413, 6.680194607943694]\n",
      "9\n",
      "0.6413 [('Hendon', (0, 0, 0), (1, 0, 0, 12)), 0.6413, 6.680194607943694]\n",
      "10\n",
      "0.6413 [('Hendon', (0, 0, 0), (1, 0, 0, 12)), 0.6413, 6.680194607943694]\n",
      "11\n",
      "0.6413 [('Hendon', (0, 0, 0), (1, 0, 0, 12)), 0.6413, 6.680194607943694]\n",
      "12\n",
      "0.6413 [('Hendon', (0, 0, 0), (1, 0, 0, 12)), 0.6413, 6.680194607943694]\n",
      "13\n",
      "0.6413 [('Hendon', (0, 0, 0), (1, 0, 0, 12)), 0.6413, 6.680194607943694]\n",
      "14\n",
      "0.6413 [('Hendon', (0, 0, 0), (1, 0, 0, 12)), 0.6413, 6.680194607943694]\n",
      "15\n",
      "0.6413 [('Hendon', (0, 0, 0), (1, 0, 0, 12)), 0.6413, 6.680194607943694]\n",
      "16\n",
      "0.6413 [('Hendon', (0, 0, 0), (1, 0, 0, 12)), 0.6413, 6.680194607943694]\n",
      "17\n",
      "0.6413 [('Hendon', (0, 0, 0), (1, 0, 0, 12)), 0.6413, 6.680194607943694]\n",
      "18\n",
      "0.577 [('Hendon', (0, 0, 2), (1, 0, 0, 12)), 0.577, 8.093207028119323]\n",
      "19\n",
      "0.577 [('Hendon', (0, 0, 2), (1, 0, 0, 12)), 0.577, 8.093207028119323]\n",
      "20\n",
      "0.577 [('Hendon', (0, 0, 2), (1, 0, 0, 12)), 0.577, 8.093207028119323]\n",
      "21\n",
      "0.577 [('Hendon', (0, 0, 2), (1, 0, 0, 12)), 0.577, 8.093207028119323]\n",
      "22\n",
      "0.577 [('Hendon', (0, 0, 2), (1, 0, 0, 12)), 0.577, 8.093207028119323]\n",
      "23\n",
      "0.577 [('Hendon', (0, 0, 2), (1, 0, 0, 12)), 0.577, 8.093207028119323]\n",
      "24\n",
      "0.577 [('Hendon', (0, 0, 2), (1, 0, 0, 12)), 0.577, 8.093207028119323]\n",
      "25\n",
      "0.577 [('Hendon', (0, 0, 2), (1, 0, 0, 12)), 0.577, 8.093207028119323]\n",
      "26\n",
      "0.577 [('Hendon', (0, 0, 2), (1, 0, 0, 12)), 0.577, 8.093207028119323]\n",
      "27\n",
      "0.577 [('Hendon', (0, 0, 2), (1, 0, 0, 12)), 0.577, 8.093207028119323]\n",
      "28\n",
      "0.577 [('Hendon', (0, 0, 2), (1, 0, 0, 12)), 0.577, 8.093207028119323]\n",
      "29\n",
      "0.577 [('Hendon', (0, 0, 2), (1, 0, 0, 12)), 0.577, 8.093207028119323]\n",
      "30\n",
      "0.577 [('Hendon', (0, 0, 2), (1, 0, 0, 12)), 0.577, 8.093207028119323]\n",
      "31\n",
      "0.577 [('Hendon', (0, 0, 2), (1, 0, 0, 12)), 0.577, 8.093207028119323]\n",
      "32\n",
      "0.577 [('Hendon', (0, 0, 2), (1, 0, 0, 12)), 0.577, 8.093207028119323]\n",
      "33\n",
      "0.577 [('Hendon', (0, 0, 2), (1, 0, 0, 12)), 0.577, 8.093207028119323]\n",
      "34\n",
      "0.577 [('Hendon', (0, 0, 2), (1, 0, 0, 12)), 0.577, 8.093207028119323]\n",
      "35\n",
      "0.577 [('Hendon', (0, 0, 2), (1, 0, 0, 12)), 0.577, 8.093207028119323]\n",
      "36\n",
      "0.577 [('Hendon', (0, 0, 2), (1, 0, 0, 12)), 0.577, 8.093207028119323]\n",
      "37\n",
      "0.577 [('Hendon', (0, 0, 2), (1, 0, 0, 12)), 0.577, 8.093207028119323]\n",
      "38\n",
      "0.577 [('Hendon', (0, 0, 2), (1, 0, 0, 12)), 0.577, 8.093207028119323]\n",
      "39\n",
      "0.577 [('Hendon', (0, 0, 2), (1, 0, 0, 12)), 0.577, 8.093207028119323]\n",
      "40\n",
      "0.577 [('Hendon', (0, 0, 2), (1, 0, 0, 12)), 0.577, 8.093207028119323]\n",
      "41\n",
      "0.577 [('Hendon', (0, 0, 2), (1, 0, 0, 12)), 0.577, 8.093207028119323]\n",
      "42\n",
      "0.577 [('Hendon', (0, 0, 2), (1, 0, 0, 12)), 0.577, 8.093207028119323]\n",
      "43\n",
      "0.577 [('Hendon', (0, 0, 2), (1, 0, 0, 12)), 0.577, 8.093207028119323]\n",
      "44\n",
      "0.577 [('Hendon', (0, 0, 2), (1, 0, 0, 12)), 0.577, 8.093207028119323]\n",
      "45\n",
      "0.577 [('Hendon', (0, 0, 2), (1, 0, 0, 12)), 0.577, 8.093207028119323]\n",
      "46\n",
      "0.577 [('Hendon', (0, 0, 2), (1, 0, 0, 12)), 0.577, 8.093207028119323]\n",
      "47\n",
      "0.577 [('Hendon', (0, 0, 2), (1, 0, 0, 12)), 0.577, 8.093207028119323]\n",
      "48\n",
      "0.577 [('Hendon', (0, 0, 2), (1, 0, 0, 12)), 0.577, 8.093207028119323]\n",
      "49\n",
      "0.5732 [('Hendon', (1, 0, 0), (1, 0, 0, 6)), 0.5732, 9.17877987534291]\n",
      "50\n",
      "0.5732 [('Hendon', (1, 0, 0), (1, 0, 0, 6)), 0.5732, 9.17877987534291]\n",
      "51\n",
      "0.5732 [('Hendon', (1, 0, 0), (1, 0, 0, 6)), 0.5732, 9.17877987534291]\n",
      "52\n",
      "0.5732 [('Hendon', (1, 0, 0), (1, 0, 0, 6)), 0.5732, 9.17877987534291]\n",
      "53\n",
      "0.5732 [('Hendon', (1, 0, 0), (1, 0, 0, 6)), 0.5732, 9.17877987534291]\n",
      "54\n",
      "0.5732 [('Hendon', (1, 0, 0), (1, 0, 0, 6)), 0.5732, 9.17877987534291]\n",
      "55\n",
      "0.5732 [('Hendon', (1, 0, 0), (1, 0, 0, 6)), 0.5732, 9.17877987534291]\n",
      "56\n",
      "0.5732 [('Hendon', (1, 0, 0), (1, 0, 0, 6)), 0.5732, 9.17877987534291]\n",
      "57\n",
      "0.5732 [('Hendon', (1, 0, 0), (1, 0, 0, 6)), 0.5732, 9.17877987534291]\n",
      "58\n",
      "0.5732 [('Hendon', (1, 0, 0), (1, 0, 0, 6)), 0.5732, 9.17877987534291]\n",
      "59\n",
      "0.5732 [('Hendon', (1, 0, 0), (1, 0, 0, 6)), 0.5732, 9.17877987534291]\n",
      "60\n",
      "0.5732 [('Hendon', (1, 0, 0), (1, 0, 0, 6)), 0.5732, 9.17877987534291]\n",
      "61\n",
      "0.5732 [('Hendon', (1, 0, 0), (1, 0, 0, 6)), 0.5732, 9.17877987534291]\n",
      "62\n",
      "0.5732 [('Hendon', (1, 0, 0), (1, 0, 0, 6)), 0.5732, 9.17877987534291]\n",
      "63\n",
      "0.5732 [('Hendon', (1, 0, 0), (1, 0, 0, 6)), 0.5732, 9.17877987534291]\n",
      "64\n",
      "0.5732 [('Hendon', (1, 0, 0), (1, 0, 0, 6)), 0.5732, 9.17877987534291]\n",
      "65\n",
      "0.5732 [('Hendon', (1, 0, 0), (1, 0, 0, 6)), 0.5732, 9.17877987534291]\n",
      "66\n",
      "0.5732 [('Hendon', (1, 0, 0), (1, 0, 0, 6)), 0.5732, 9.17877987534291]\n",
      "67\n",
      "0.5732 [('Hendon', (1, 0, 0), (1, 0, 0, 6)), 0.5732, 9.17877987534291]\n",
      "68\n",
      "0.5732 [('Hendon', (1, 0, 0), (1, 0, 0, 6)), 0.5732, 9.17877987534291]\n",
      "69\n",
      "0.5732 [('Hendon', (1, 0, 0), (1, 0, 0, 6)), 0.5732, 9.17877987534291]\n",
      "70\n",
      "0.5732 [('Hendon', (1, 0, 0), (1, 0, 0, 6)), 0.5732, 9.17877987534291]\n",
      "71\n",
      "0.5732 [('Hendon', (1, 0, 0), (1, 0, 0, 6)), 0.5732, 9.17877987534291]\n",
      "72\n",
      "0.5732 [('Hendon', (1, 0, 0), (1, 0, 0, 6)), 0.5732, 9.17877987534291]\n",
      "73\n",
      "0.5732 [('Hendon', (1, 0, 0), (1, 0, 0, 6)), 0.5732, 9.17877987534291]\n",
      "74\n",
      "0.5732 [('Hendon', (1, 0, 0), (1, 0, 0, 6)), 0.5732, 9.17877987534291]\n",
      "75\n",
      "0.5732 [('Hendon', (1, 0, 0), (1, 0, 0, 6)), 0.5732, 9.17877987534291]\n",
      "76\n",
      "0.5732 [('Hendon', (1, 0, 0), (1, 0, 0, 6)), 0.5732, 9.17877987534291]\n",
      "77\n",
      "0.5732 [('Hendon', (1, 0, 0), (1, 0, 0, 6)), 0.5732, 9.17877987534291]\n",
      "78\n",
      "0.5732 [('Hendon', (1, 0, 0), (1, 0, 0, 6)), 0.5732, 9.17877987534291]\n",
      "79\n",
      "0.5732 [('Hendon', (1, 0, 0), (1, 0, 0, 6)), 0.5732, 9.17877987534291]\n",
      "80\n",
      "0.5732 [('Hendon', (1, 0, 0), (1, 0, 0, 6)), 0.5732, 9.17877987534291]\n",
      "81\n",
      "0.5732 [('Hendon', (1, 0, 0), (1, 0, 0, 6)), 0.5732, 9.17877987534291]\n",
      "82\n",
      "0.5732 [('Hendon', (1, 0, 0), (1, 0, 0, 6)), 0.5732, 9.17877987534291]\n",
      "83\n",
      "0.5732 [('Hendon', (1, 0, 0), (1, 0, 0, 6)), 0.5732, 9.17877987534291]\n",
      "84\n",
      "0.5732 [('Hendon', (1, 0, 0), (1, 0, 0, 6)), 0.5732, 9.17877987534291]\n",
      "85\n",
      "0.5732 [('Hendon', (1, 0, 0), (1, 0, 0, 6)), 0.5732, 9.17877987534291]\n",
      "86\n",
      "0.5732 [('Hendon', (1, 0, 0), (1, 0, 0, 6)), 0.5732, 9.17877987534291]\n",
      "87\n",
      "0.5732 [('Hendon', (1, 0, 0), (1, 0, 0, 6)), 0.5732, 9.17877987534291]\n",
      "88\n",
      "0.5732 [('Hendon', (1, 0, 0), (1, 0, 0, 6)), 0.5732, 9.17877987534291]\n",
      "89\n",
      "0.5732 [('Hendon', (1, 0, 0), (1, 0, 0, 6)), 0.5732, 9.17877987534291]\n",
      "90\n",
      "0.5732 [('Hendon', (1, 0, 0), (1, 0, 0, 6)), 0.5732, 9.17877987534291]\n",
      "91\n",
      "0.5732 [('Hendon', (1, 0, 0), (1, 0, 0, 6)), 0.5732, 9.17877987534291]\n",
      "92\n",
      "0.5732 [('Hendon', (1, 0, 0), (1, 0, 0, 6)), 0.5732, 9.17877987534291]\n",
      "93\n",
      "0.5732 [('Hendon', (1, 0, 0), (1, 0, 0, 6)), 0.5732, 9.17877987534291]\n",
      "94\n",
      "0.5732 [('Hendon', (1, 0, 0), (1, 0, 0, 6)), 0.5732, 9.17877987534291]\n",
      "95\n",
      "0.5732 [('Hendon', (1, 0, 0), (1, 0, 0, 6)), 0.5732, 9.17877987534291]\n",
      "96\n"
     ]
    },
    {
     "ename": "TypeError",
     "evalue": "'<' not supported between instances of 'list' and 'float'",
     "output_type": "error",
     "traceback": [
      "\u001b[1;31m---------------------------------------------------------------------------\u001b[0m",
      "\u001b[1;31mTypeError\u001b[0m                                 Traceback (most recent call last)",
      "Cell \u001b[1;32mIn[357], line 4\u001b[0m\n\u001b[0;32m      2\u001b[0m i\u001b[38;5;241m=\u001b[39m\u001b[38;5;241m1\u001b[39m\n\u001b[0;32m      3\u001b[0m \u001b[38;5;28;01mfor\u001b[39;00m x \u001b[38;5;129;01min\u001b[39;00m looking_lst:\n\u001b[1;32m----> 4\u001b[0m     \u001b[38;5;28;01mif\u001b[39;00m \u001b[43mx\u001b[49m\u001b[43m[\u001b[49m\u001b[38;5;241;43m1\u001b[39;49m\u001b[43m]\u001b[49m\u001b[43m \u001b[49m\u001b[38;5;241;43m<\u001b[39;49m\u001b[43m \u001b[49m\u001b[43mlow\u001b[49m:\n\u001b[0;32m      5\u001b[0m         low \u001b[38;5;241m=\u001b[39m x[\u001b[38;5;241m1\u001b[39m]\n\u001b[0;32m      6\u001b[0m         best \u001b[38;5;241m=\u001b[39m x\n",
      "\u001b[1;31mTypeError\u001b[0m: '<' not supported between instances of 'list' and 'float'"
     ]
    }
   ],
   "source": [
    "low = 1\n",
    "i=1\n",
    "for x in looking_lst:\n",
    "    if x[1] < low:\n",
    "        low = x[1]\n",
    "        best = x\n",
    "    print(low, best)\n",
    "    i+=1\n",
    "    print(i)\n",
    "        \n",
    "        \n",
    "print(best)"
   ]
  },
  {
   "cell_type": "code",
   "execution_count": 355,
   "id": "e00097db",
   "metadata": {},
   "outputs": [
    {
     "data": {
      "text/plain": [
       "96"
      ]
     },
     "execution_count": 355,
     "metadata": {},
     "output_type": "execute_result"
    }
   ],
   "source": [
    "len(looking_lst)"
   ]
  },
  {
   "cell_type": "code",
   "execution_count": null,
   "id": "d630ff1e",
   "metadata": {},
   "outputs": [],
   "source": []
  }
 ],
 "metadata": {
  "kernelspec": {
   "display_name": "Python 3 (ipykernel)",
   "language": "python",
   "name": "python3"
  },
  "language_info": {
   "codemirror_mode": {
    "name": "ipython",
    "version": 3
   },
   "file_extension": ".py",
   "mimetype": "text/x-python",
   "name": "python",
   "nbconvert_exporter": "python",
   "pygments_lexer": "ipython3",
   "version": "3.8.8"
  }
 },
 "nbformat": 4,
 "nbformat_minor": 5
}
