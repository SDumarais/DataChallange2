{
 "cells": [
  {
   "cell_type": "code",
   "execution_count": 112,
   "metadata": {},
   "outputs": [],
   "source": [
    "import pandas as pd\n",
    "from geopy.geocoders import Nominatim\n",
    "import folium\n",
    "from pyproj import Proj, transform, Transformer\n",
    "import pyproj"
   ]
  },
  {
   "cell_type": "markdown",
   "source": [
    "# CCTV Cameras"
   ],
   "metadata": {
    "collapsed": false
   }
  },
  {
   "cell_type": "code",
   "execution_count": 2,
   "metadata": {},
   "outputs": [
    {
     "data": {
      "text/plain": "    Camera                                     Zone   \n0      TH2  North Finchley / Tally Ho High Road N12  \\\n1      TH3  North Finchley / Tally Ho High Road N12   \n2      TH4  North Finchley / Tally Ho High Road N12   \n3      TH5  North Finchley / Tally Ho High Road N12   \n4      TH7  North Finchley / Tally Ho High Road N12   \n..     ...                                      ...   \n119  TF141       Temple Fortune, Finchley Road NW11   \n120  TF142       Temple Fortune, Finchley Road NW11   \n121  TF143       Temple Fortune, Finchley Road NW11   \n122  TF144       Temple Fortune, Finchley Road NW11   \n123  TF145       Temple Fortune, Finchley Road NW11   \n\n                                              Location  \n0         309 Ballards Lane junction with the Kingsway  \n1                                        690 High Road  \n2    Ballards Lane adjacent to Arts Depot opposite ...  \n3    High Road Tally Ho Corner, opposite Stanhope Road  \n4                        768 High Road The Bohemia PH.  \n..                                                 ...  \n119         858 Finchley Road opposite Alberon Gardens  \n120             Finchley Road opposite Hallswelle Road  \n121     Finchley Road opposite Temple Fortune Mansions  \n122            Finchley Road junction with Bridge Lane  \n123        Finchley Road junction with Clifton Gardens  \n\n[124 rows x 3 columns]",
      "text/html": "<div>\n<style scoped>\n    .dataframe tbody tr th:only-of-type {\n        vertical-align: middle;\n    }\n\n    .dataframe tbody tr th {\n        vertical-align: top;\n    }\n\n    .dataframe thead th {\n        text-align: right;\n    }\n</style>\n<table border=\"1\" class=\"dataframe\">\n  <thead>\n    <tr style=\"text-align: right;\">\n      <th></th>\n      <th>Camera</th>\n      <th>Zone</th>\n      <th>Location</th>\n    </tr>\n  </thead>\n  <tbody>\n    <tr>\n      <th>0</th>\n      <td>TH2</td>\n      <td>North Finchley / Tally Ho High Road N12</td>\n      <td>309 Ballards Lane junction with the Kingsway</td>\n    </tr>\n    <tr>\n      <th>1</th>\n      <td>TH3</td>\n      <td>North Finchley / Tally Ho High Road N12</td>\n      <td>690 High Road</td>\n    </tr>\n    <tr>\n      <th>2</th>\n      <td>TH4</td>\n      <td>North Finchley / Tally Ho High Road N12</td>\n      <td>Ballards Lane adjacent to Arts Depot opposite ...</td>\n    </tr>\n    <tr>\n      <th>3</th>\n      <td>TH5</td>\n      <td>North Finchley / Tally Ho High Road N12</td>\n      <td>High Road Tally Ho Corner, opposite Stanhope Road</td>\n    </tr>\n    <tr>\n      <th>4</th>\n      <td>TH7</td>\n      <td>North Finchley / Tally Ho High Road N12</td>\n      <td>768 High Road The Bohemia PH.</td>\n    </tr>\n    <tr>\n      <th>...</th>\n      <td>...</td>\n      <td>...</td>\n      <td>...</td>\n    </tr>\n    <tr>\n      <th>119</th>\n      <td>TF141</td>\n      <td>Temple Fortune, Finchley Road NW11</td>\n      <td>858 Finchley Road opposite Alberon Gardens</td>\n    </tr>\n    <tr>\n      <th>120</th>\n      <td>TF142</td>\n      <td>Temple Fortune, Finchley Road NW11</td>\n      <td>Finchley Road opposite Hallswelle Road</td>\n    </tr>\n    <tr>\n      <th>121</th>\n      <td>TF143</td>\n      <td>Temple Fortune, Finchley Road NW11</td>\n      <td>Finchley Road opposite Temple Fortune Mansions</td>\n    </tr>\n    <tr>\n      <th>122</th>\n      <td>TF144</td>\n      <td>Temple Fortune, Finchley Road NW11</td>\n      <td>Finchley Road junction with Bridge Lane</td>\n    </tr>\n    <tr>\n      <th>123</th>\n      <td>TF145</td>\n      <td>Temple Fortune, Finchley Road NW11</td>\n      <td>Finchley Road junction with Clifton Gardens</td>\n    </tr>\n  </tbody>\n</table>\n<p>124 rows × 3 columns</p>\n</div>"
     },
     "execution_count": 2,
     "metadata": {},
     "output_type": "execute_result"
    }
   ],
   "source": [
    "old_cctv = pd.read_csv('data/old_cctv.csv',encoding='cp1252')\n",
    "old_cctv"
   ]
  },
  {
   "cell_type": "code",
   "execution_count": 4,
   "outputs": [
    {
     "data": {
      "text/plain": "<folium.folium.Map at 0x7f8c8a85ea40>",
      "text/html": "<div style=\"width:100%;\"><div style=\"position:relative;width:100%;height:0;padding-bottom:60%;\"><span style=\"color:#565656\">Make this Notebook Trusted to load map: File -> Trust Notebook</span><iframe srcdoc=\"&lt;!DOCTYPE html&gt;\n&lt;html&gt;\n&lt;head&gt;\n    \n    &lt;meta http-equiv=&quot;content-type&quot; content=&quot;text/html; charset=UTF-8&quot; /&gt;\n    \n        &lt;script&gt;\n            L_NO_TOUCH = false;\n            L_DISABLE_3D = false;\n        &lt;/script&gt;\n    \n    &lt;style&gt;html, body {width: 100%;height: 100%;margin: 0;padding: 0;}&lt;/style&gt;\n    &lt;style&gt;#map {position:absolute;top:0;bottom:0;right:0;left:0;}&lt;/style&gt;\n    &lt;script src=&quot;https://cdn.jsdelivr.net/npm/leaflet@1.9.3/dist/leaflet.js&quot;&gt;&lt;/script&gt;\n    &lt;script src=&quot;https://code.jquery.com/jquery-1.12.4.min.js&quot;&gt;&lt;/script&gt;\n    &lt;script src=&quot;https://cdn.jsdelivr.net/npm/bootstrap@5.2.2/dist/js/bootstrap.bundle.min.js&quot;&gt;&lt;/script&gt;\n    &lt;script src=&quot;https://cdnjs.cloudflare.com/ajax/libs/Leaflet.awesome-markers/2.0.2/leaflet.awesome-markers.js&quot;&gt;&lt;/script&gt;\n    &lt;link rel=&quot;stylesheet&quot; href=&quot;https://cdn.jsdelivr.net/npm/leaflet@1.9.3/dist/leaflet.css&quot;/&gt;\n    &lt;link rel=&quot;stylesheet&quot; href=&quot;https://cdn.jsdelivr.net/npm/bootstrap@5.2.2/dist/css/bootstrap.min.css&quot;/&gt;\n    &lt;link rel=&quot;stylesheet&quot; href=&quot;https://netdna.bootstrapcdn.com/bootstrap/3.0.0/css/bootstrap.min.css&quot;/&gt;\n    &lt;link rel=&quot;stylesheet&quot; href=&quot;https://cdn.jsdelivr.net/npm/@fortawesome/fontawesome-free@6.2.0/css/all.min.css&quot;/&gt;\n    &lt;link rel=&quot;stylesheet&quot; href=&quot;https://cdnjs.cloudflare.com/ajax/libs/Leaflet.awesome-markers/2.0.2/leaflet.awesome-markers.css&quot;/&gt;\n    &lt;link rel=&quot;stylesheet&quot; href=&quot;https://cdn.jsdelivr.net/gh/python-visualization/folium/folium/templates/leaflet.awesome.rotate.min.css&quot;/&gt;\n    \n            &lt;meta name=&quot;viewport&quot; content=&quot;width=device-width,\n                initial-scale=1.0, maximum-scale=1.0, user-scalable=no&quot; /&gt;\n            &lt;style&gt;\n                #map_822b583e47b496d430408501ef090f39 {\n                    position: relative;\n                    width: 100.0%;\n                    height: 100.0%;\n                    left: 0.0%;\n                    top: 0.0%;\n                }\n                .leaflet-container { font-size: 1rem; }\n            &lt;/style&gt;\n        \n&lt;/head&gt;\n&lt;body&gt;\n    \n    \n            &lt;div class=&quot;folium-map&quot; id=&quot;map_822b583e47b496d430408501ef090f39&quot; &gt;&lt;/div&gt;\n        \n&lt;/body&gt;\n&lt;script&gt;\n    \n    \n            var map_822b583e47b496d430408501ef090f39 = L.map(\n                &quot;map_822b583e47b496d430408501ef090f39&quot;,\n                {\n                    center: [0.0, 0.0],\n                    crs: L.CRS.EPSG3857,\n                    zoom: 2,\n                    zoomControl: true,\n                    preferCanvas: false,\n                }\n            );\n\n            \n\n        \n    \n            var tile_layer_05b83406012858160655763d6e690e1a = L.tileLayer(\n                &quot;https://{s}.tile.openstreetmap.org/{z}/{x}/{y}.png&quot;,\n                {&quot;attribution&quot;: &quot;Data by \\u0026copy; \\u003ca target=\\&quot;_blank\\&quot; href=\\&quot;http://openstreetmap.org\\&quot;\\u003eOpenStreetMap\\u003c/a\\u003e, under \\u003ca target=\\&quot;_blank\\&quot; href=\\&quot;http://www.openstreetmap.org/copyright\\&quot;\\u003eODbL\\u003c/a\\u003e.&quot;, &quot;detectRetina&quot;: false, &quot;maxNativeZoom&quot;: 18, &quot;maxZoom&quot;: 18, &quot;minZoom&quot;: 0, &quot;noWrap&quot;: false, &quot;opacity&quot;: 1, &quot;subdomains&quot;: &quot;abc&quot;, &quot;tms&quot;: false}\n            ).addTo(map_822b583e47b496d430408501ef090f39);\n        \n    \n            var marker_3750fb6804dc8bf9cf67561b25e6a28f = L.marker(\n                [31.824615617019365, -99.43791082127571],\n                {}\n            ).addTo(map_822b583e47b496d430408501ef090f39);\n        \n    \n            var marker_1b26ab79154db267b33eb5e608957022 = L.marker(\n                [28.4118184, -81.46247334242636],\n                {}\n            ).addTo(map_822b583e47b496d430408501ef090f39);\n        \n    \n            var marker_42e87211065745f6037b624709173f02 = L.marker(\n                [41.728369, -122.561756],\n                {}\n            ).addTo(map_822b583e47b496d430408501ef090f39);\n        \n    \n            var marker_0f3bd8b9a9325b274f74e78081891a77 = L.marker(\n                [42.45568005, -71.04374754984804],\n                {}\n            ).addTo(map_822b583e47b496d430408501ef090f39);\n        \n    \n            var marker_daa38760d8d0c08496f75e96ff0a4428 = L.marker(\n                [51.632159, -0.1430363],\n                {}\n            ).addTo(map_822b583e47b496d430408501ef090f39);\n        \n    \n            var marker_52019e0e8f227a5b304480db10229fa5 = L.marker(\n                [51.6078464, -0.2727403],\n                {}\n            ).addTo(map_822b583e47b496d430408501ef090f39);\n        \n    \n            var marker_ead1906ca920d8f0b00da2ab7c44471a = L.marker(\n                [51.6217638, -0.2549249],\n                {}\n            ).addTo(map_822b583e47b496d430408501ef090f39);\n        \n    \n            var marker_6f2cf7e5bbad5cebbc082f6e05ad4d0b = L.marker(\n                [51.6064802, -1.2294482],\n                {}\n            ).addTo(map_822b583e47b496d430408501ef090f39);\n        \n    \n            var marker_dd21e9d778d31f3074fd78a43a2c12af = L.marker(\n                [46.211041005119185, -82.93357448383686],\n                {}\n            ).addTo(map_822b583e47b496d430408501ef090f39);\n        \n    \n            var marker_900c6a07d46454ac91262f52c83c6805 = L.marker(\n                [51.587716, -0.2514683],\n                {}\n            ).addTo(map_822b583e47b496d430408501ef090f39);\n        \n&lt;/script&gt;\n&lt;/html&gt;\" style=\"position:absolute;width:100%;height:100%;left:0;top:0;border:none !important;\" allowfullscreen webkitallowfullscreen mozallowfullscreen></iframe></div></div>"
     },
     "execution_count": 4,
     "metadata": {},
     "output_type": "execute_result"
    }
   ],
   "source": [
    "# Perform geocoding using a geocoding service or library of your choice\n",
    "geolocator = Nominatim(user_agent=\"my_app\")\n",
    "\n",
    "def geocode_location(location):\n",
    "    try:\n",
    "        address = f\"{location}\"\n",
    "        location = geolocator.geocode(address)\n",
    "        return location.latitude, location.longitude\n",
    "    except:\n",
    "        return None\n",
    "\n",
    "old_cctv['Coordinates'] = old_cctv.apply(lambda row: geocode_location(row['Location']), axis=1)\n",
    "\n",
    "# Create a map\n",
    "m = folium.Map(location=[0, 0], zoom_start=2)\n",
    "\n",
    "# Plot the points on the map\n",
    "for index, row in old_cctv.iterrows():\n",
    "    coordinates = row['Coordinates']\n",
    "    if coordinates:\n",
    "        lat, lon = coordinates\n",
    "        folium.Marker([lat, lon]).add_to(m)\n",
    "\n",
    "# Display the map in the Jupyter Notebook\n",
    "m"
   ],
   "metadata": {
    "collapsed": false
   }
  },
  {
   "cell_type": "code",
   "execution_count": 5,
   "outputs": [
    {
     "data": {
      "text/plain": "    Camera                                     Zone   \n0      TH2  North Finchley / Tally Ho High Road N12  \\\n1      TH3  North Finchley / Tally Ho High Road N12   \n2      TH4  North Finchley / Tally Ho High Road N12   \n3      TH5  North Finchley / Tally Ho High Road N12   \n4      TH7  North Finchley / Tally Ho High Road N12   \n..     ...                                      ...   \n119  TF141       Temple Fortune, Finchley Road NW11   \n120  TF142       Temple Fortune, Finchley Road NW11   \n121  TF143       Temple Fortune, Finchley Road NW11   \n122  TF144       Temple Fortune, Finchley Road NW11   \n123  TF145       Temple Fortune, Finchley Road NW11   \n\n                                              Location   \n0         309 Ballards Lane junction with the Kingsway  \\\n1                                        690 High Road   \n2    Ballards Lane adjacent to Arts Depot opposite ...   \n3    High Road Tally Ho Corner, opposite Stanhope Road   \n4                        768 High Road The Bohemia PH.   \n..                                                 ...   \n119         858 Finchley Road opposite Alberon Gardens   \n120             Finchley Road opposite Hallswelle Road   \n121     Finchley Road opposite Temple Fortune Mansions   \n122            Finchley Road junction with Bridge Lane   \n123        Finchley Road junction with Clifton Gardens   \n\n                                  Coordinates  \n0                                        None  \n1    (31.824615617019365, -99.43791082127571)  \n2                                        None  \n3                                        None  \n4                                        None  \n..                                        ...  \n119                                      None  \n120                                      None  \n121                                      None  \n122                                      None  \n123                                      None  \n\n[124 rows x 4 columns]",
      "text/html": "<div>\n<style scoped>\n    .dataframe tbody tr th:only-of-type {\n        vertical-align: middle;\n    }\n\n    .dataframe tbody tr th {\n        vertical-align: top;\n    }\n\n    .dataframe thead th {\n        text-align: right;\n    }\n</style>\n<table border=\"1\" class=\"dataframe\">\n  <thead>\n    <tr style=\"text-align: right;\">\n      <th></th>\n      <th>Camera</th>\n      <th>Zone</th>\n      <th>Location</th>\n      <th>Coordinates</th>\n    </tr>\n  </thead>\n  <tbody>\n    <tr>\n      <th>0</th>\n      <td>TH2</td>\n      <td>North Finchley / Tally Ho High Road N12</td>\n      <td>309 Ballards Lane junction with the Kingsway</td>\n      <td>None</td>\n    </tr>\n    <tr>\n      <th>1</th>\n      <td>TH3</td>\n      <td>North Finchley / Tally Ho High Road N12</td>\n      <td>690 High Road</td>\n      <td>(31.824615617019365, -99.43791082127571)</td>\n    </tr>\n    <tr>\n      <th>2</th>\n      <td>TH4</td>\n      <td>North Finchley / Tally Ho High Road N12</td>\n      <td>Ballards Lane adjacent to Arts Depot opposite ...</td>\n      <td>None</td>\n    </tr>\n    <tr>\n      <th>3</th>\n      <td>TH5</td>\n      <td>North Finchley / Tally Ho High Road N12</td>\n      <td>High Road Tally Ho Corner, opposite Stanhope Road</td>\n      <td>None</td>\n    </tr>\n    <tr>\n      <th>4</th>\n      <td>TH7</td>\n      <td>North Finchley / Tally Ho High Road N12</td>\n      <td>768 High Road The Bohemia PH.</td>\n      <td>None</td>\n    </tr>\n    <tr>\n      <th>...</th>\n      <td>...</td>\n      <td>...</td>\n      <td>...</td>\n      <td>...</td>\n    </tr>\n    <tr>\n      <th>119</th>\n      <td>TF141</td>\n      <td>Temple Fortune, Finchley Road NW11</td>\n      <td>858 Finchley Road opposite Alberon Gardens</td>\n      <td>None</td>\n    </tr>\n    <tr>\n      <th>120</th>\n      <td>TF142</td>\n      <td>Temple Fortune, Finchley Road NW11</td>\n      <td>Finchley Road opposite Hallswelle Road</td>\n      <td>None</td>\n    </tr>\n    <tr>\n      <th>121</th>\n      <td>TF143</td>\n      <td>Temple Fortune, Finchley Road NW11</td>\n      <td>Finchley Road opposite Temple Fortune Mansions</td>\n      <td>None</td>\n    </tr>\n    <tr>\n      <th>122</th>\n      <td>TF144</td>\n      <td>Temple Fortune, Finchley Road NW11</td>\n      <td>Finchley Road junction with Bridge Lane</td>\n      <td>None</td>\n    </tr>\n    <tr>\n      <th>123</th>\n      <td>TF145</td>\n      <td>Temple Fortune, Finchley Road NW11</td>\n      <td>Finchley Road junction with Clifton Gardens</td>\n      <td>None</td>\n    </tr>\n  </tbody>\n</table>\n<p>124 rows × 4 columns</p>\n</div>"
     },
     "execution_count": 5,
     "metadata": {},
     "output_type": "execute_result"
    }
   ],
   "source": [
    "old_cctv"
   ],
   "metadata": {
    "collapsed": false
   }
  },
  {
   "cell_type": "code",
   "execution_count": 6,
   "metadata": {},
   "outputs": [
    {
     "data": {
      "text/plain": "                                  Location Description Cont   \n0                  Hale Drive (Deansbrook Schools) NW7  48J  \\\n1    STATION ROAD, EDGWARE, BUS STATION ENTRANCE (N...  31J   \n2           The Fairway (Fairway&Northway Schools) NW7  48J   \n3           Great Strand (St James Rc High School) NW9  48J   \n4    A5 West Hendon Broadway (NW9), Junction With P...  31J   \n..                                                 ...  ...   \n101                        Ingleway into Schoolway N12  53j   \n102              Woodhouse Road into Hilton Avenue N12  53j   \n103  Barnfield Rd,between Watling Av & A5 Burnt Oak...   29   \n104     Nether Street jct Alexandra Grove - Southbound  38L   \n105         Nether Street jct Argyle Road - Northbound  38L   \n\n                             Contravention description Active since   \n0    Stopped in a restricted area outside a school,...   20/04/2016  \\\n1    Entering and stopping in a box junction when p...   20/02/2020   \n2    Stopped in a restricted area outside a school,...   28/04/2016   \n3    Stopped in a restricted area outside a school,...   22/09/2016   \n4    Entering and stopping in a box junction when p...   26/04/2016   \n..                                                 ...          ...   \n101  Failing to comply with a restriction on vehicl...   28/06/2022   \n102  Failing to comply with a restriction on vehicl...   28/06/2022   \n103     Failing to comply with a one-way \\nrestriction   22/11/2021   \n104  Failing to comply with a sign indicating that ...   02/03/2023   \n105  Failing to comply with a sign indicating that ...   02/03/2023   \n\n                                    Hours of operation  \n0                                   Mon-Fri 8am to 5pm  \n1                                         At all times  \n2                  Mon-Fri 8am to 5pm & Sat 8am to 1pm  \n3             Mon-Fri 8am to 9:30am & 2:45pm to 4:15pm  \n4                                         At all times  \n..                                                 ...  \n101  Monday to Friday\\n8.30am to 9.15am\\n3.00pm to ...  \n102  Monday to Friday\\n8.00am to 9.00am\\n3.00pm to ...  \n103                                       At all times  \n104                                       At all times  \n105                                       At all times  \n\n[106 rows x 5 columns]",
      "text/html": "<div>\n<style scoped>\n    .dataframe tbody tr th:only-of-type {\n        vertical-align: middle;\n    }\n\n    .dataframe tbody tr th {\n        vertical-align: top;\n    }\n\n    .dataframe thead th {\n        text-align: right;\n    }\n</style>\n<table border=\"1\" class=\"dataframe\">\n  <thead>\n    <tr style=\"text-align: right;\">\n      <th></th>\n      <th>Location Description</th>\n      <th>Cont</th>\n      <th>Contravention description</th>\n      <th>Active since</th>\n      <th>Hours of operation</th>\n    </tr>\n  </thead>\n  <tbody>\n    <tr>\n      <th>0</th>\n      <td>Hale Drive (Deansbrook Schools) NW7</td>\n      <td>48J</td>\n      <td>Stopped in a restricted area outside a school,...</td>\n      <td>20/04/2016</td>\n      <td>Mon-Fri 8am to 5pm</td>\n    </tr>\n    <tr>\n      <th>1</th>\n      <td>STATION ROAD, EDGWARE, BUS STATION ENTRANCE (N...</td>\n      <td>31J</td>\n      <td>Entering and stopping in a box junction when p...</td>\n      <td>20/02/2020</td>\n      <td>At all times</td>\n    </tr>\n    <tr>\n      <th>2</th>\n      <td>The Fairway (Fairway&amp;Northway Schools) NW7</td>\n      <td>48J</td>\n      <td>Stopped in a restricted area outside a school,...</td>\n      <td>28/04/2016</td>\n      <td>Mon-Fri 8am to 5pm &amp; Sat 8am to 1pm</td>\n    </tr>\n    <tr>\n      <th>3</th>\n      <td>Great Strand (St James Rc High School) NW9</td>\n      <td>48J</td>\n      <td>Stopped in a restricted area outside a school,...</td>\n      <td>22/09/2016</td>\n      <td>Mon-Fri 8am to 9:30am &amp; 2:45pm to 4:15pm</td>\n    </tr>\n    <tr>\n      <th>4</th>\n      <td>A5 West Hendon Broadway (NW9), Junction With P...</td>\n      <td>31J</td>\n      <td>Entering and stopping in a box junction when p...</td>\n      <td>26/04/2016</td>\n      <td>At all times</td>\n    </tr>\n    <tr>\n      <th>...</th>\n      <td>...</td>\n      <td>...</td>\n      <td>...</td>\n      <td>...</td>\n      <td>...</td>\n    </tr>\n    <tr>\n      <th>101</th>\n      <td>Ingleway into Schoolway N12</td>\n      <td>53j</td>\n      <td>Failing to comply with a restriction on vehicl...</td>\n      <td>28/06/2022</td>\n      <td>Monday to Friday\\n8.30am to 9.15am\\n3.00pm to ...</td>\n    </tr>\n    <tr>\n      <th>102</th>\n      <td>Woodhouse Road into Hilton Avenue N12</td>\n      <td>53j</td>\n      <td>Failing to comply with a restriction on vehicl...</td>\n      <td>28/06/2022</td>\n      <td>Monday to Friday\\n8.00am to 9.00am\\n3.00pm to ...</td>\n    </tr>\n    <tr>\n      <th>103</th>\n      <td>Barnfield Rd,between Watling Av &amp; A5 Burnt Oak...</td>\n      <td>29</td>\n      <td>Failing to comply with a one-way \\nrestriction</td>\n      <td>22/11/2021</td>\n      <td>At all times</td>\n    </tr>\n    <tr>\n      <th>104</th>\n      <td>Nether Street jct Alexandra Grove - Southbound</td>\n      <td>38L</td>\n      <td>Failing to comply with a sign indicating that ...</td>\n      <td>02/03/2023</td>\n      <td>At all times</td>\n    </tr>\n    <tr>\n      <th>105</th>\n      <td>Nether Street jct Argyle Road - Northbound</td>\n      <td>38L</td>\n      <td>Failing to comply with a sign indicating that ...</td>\n      <td>02/03/2023</td>\n      <td>At all times</td>\n    </tr>\n  </tbody>\n</table>\n<p>106 rows × 5 columns</p>\n</div>"
     },
     "execution_count": 6,
     "metadata": {},
     "output_type": "execute_result"
    }
   ],
   "source": [
    "traffic = pd.read_csv('data/traffic_cctv.csv')\n",
    "traffic = traffic.drop('Location reference', axis=1)\n",
    "traffic"
   ]
  },
  {
   "cell_type": "code",
   "execution_count": 7,
   "outputs": [
    {
     "data": {
      "text/plain": "<folium.folium.Map at 0x7f8c8a85d330>",
      "text/html": "<div style=\"width:100%;\"><div style=\"position:relative;width:100%;height:0;padding-bottom:60%;\"><span style=\"color:#565656\">Make this Notebook Trusted to load map: File -> Trust Notebook</span><iframe srcdoc=\"&lt;!DOCTYPE html&gt;\n&lt;html&gt;\n&lt;head&gt;\n    \n    &lt;meta http-equiv=&quot;content-type&quot; content=&quot;text/html; charset=UTF-8&quot; /&gt;\n    \n        &lt;script&gt;\n            L_NO_TOUCH = false;\n            L_DISABLE_3D = false;\n        &lt;/script&gt;\n    \n    &lt;style&gt;html, body {width: 100%;height: 100%;margin: 0;padding: 0;}&lt;/style&gt;\n    &lt;style&gt;#map {position:absolute;top:0;bottom:0;right:0;left:0;}&lt;/style&gt;\n    &lt;script src=&quot;https://cdn.jsdelivr.net/npm/leaflet@1.9.3/dist/leaflet.js&quot;&gt;&lt;/script&gt;\n    &lt;script src=&quot;https://code.jquery.com/jquery-1.12.4.min.js&quot;&gt;&lt;/script&gt;\n    &lt;script src=&quot;https://cdn.jsdelivr.net/npm/bootstrap@5.2.2/dist/js/bootstrap.bundle.min.js&quot;&gt;&lt;/script&gt;\n    &lt;script src=&quot;https://cdnjs.cloudflare.com/ajax/libs/Leaflet.awesome-markers/2.0.2/leaflet.awesome-markers.js&quot;&gt;&lt;/script&gt;\n    &lt;link rel=&quot;stylesheet&quot; href=&quot;https://cdn.jsdelivr.net/npm/leaflet@1.9.3/dist/leaflet.css&quot;/&gt;\n    &lt;link rel=&quot;stylesheet&quot; href=&quot;https://cdn.jsdelivr.net/npm/bootstrap@5.2.2/dist/css/bootstrap.min.css&quot;/&gt;\n    &lt;link rel=&quot;stylesheet&quot; href=&quot;https://netdna.bootstrapcdn.com/bootstrap/3.0.0/css/bootstrap.min.css&quot;/&gt;\n    &lt;link rel=&quot;stylesheet&quot; href=&quot;https://cdn.jsdelivr.net/npm/@fortawesome/fontawesome-free@6.2.0/css/all.min.css&quot;/&gt;\n    &lt;link rel=&quot;stylesheet&quot; href=&quot;https://cdnjs.cloudflare.com/ajax/libs/Leaflet.awesome-markers/2.0.2/leaflet.awesome-markers.css&quot;/&gt;\n    &lt;link rel=&quot;stylesheet&quot; href=&quot;https://cdn.jsdelivr.net/gh/python-visualization/folium/folium/templates/leaflet.awesome.rotate.min.css&quot;/&gt;\n    \n            &lt;meta name=&quot;viewport&quot; content=&quot;width=device-width,\n                initial-scale=1.0, maximum-scale=1.0, user-scalable=no&quot; /&gt;\n            &lt;style&gt;\n                #map_e5da693d5f477c86374bf0f164fb287f {\n                    position: relative;\n                    width: 100.0%;\n                    height: 100.0%;\n                    left: 0.0%;\n                    top: 0.0%;\n                }\n                .leaflet-container { font-size: 1rem; }\n            &lt;/style&gt;\n        \n&lt;/head&gt;\n&lt;body&gt;\n    \n    \n            &lt;div class=&quot;folium-map&quot; id=&quot;map_e5da693d5f477c86374bf0f164fb287f&quot; &gt;&lt;/div&gt;\n        \n&lt;/body&gt;\n&lt;script&gt;\n    \n    \n            var map_e5da693d5f477c86374bf0f164fb287f = L.map(\n                &quot;map_e5da693d5f477c86374bf0f164fb287f&quot;,\n                {\n                    center: [0.0, 0.0],\n                    crs: L.CRS.EPSG3857,\n                    zoom: 2,\n                    zoomControl: true,\n                    preferCanvas: false,\n                }\n            );\n\n            \n\n        \n    \n            var tile_layer_2e5bcc80abae1d482180c26bf17a1ebd = L.tileLayer(\n                &quot;https://{s}.tile.openstreetmap.org/{z}/{x}/{y}.png&quot;,\n                {&quot;attribution&quot;: &quot;Data by \\u0026copy; \\u003ca target=\\&quot;_blank\\&quot; href=\\&quot;http://openstreetmap.org\\&quot;\\u003eOpenStreetMap\\u003c/a\\u003e, under \\u003ca target=\\&quot;_blank\\&quot; href=\\&quot;http://www.openstreetmap.org/copyright\\&quot;\\u003eODbL\\u003c/a\\u003e.&quot;, &quot;detectRetina&quot;: false, &quot;maxNativeZoom&quot;: 18, &quot;maxZoom&quot;: 18, &quot;minZoom&quot;: 0, &quot;noWrap&quot;: false, &quot;opacity&quot;: 1, &quot;subdomains&quot;: &quot;abc&quot;, &quot;tms&quot;: false}\n            ).addTo(map_e5da693d5f477c86374bf0f164fb287f);\n        \n    \n            var marker_08570770145098996b16ed857a1db197 = L.marker(\n                [51.6403522, -0.1705528],\n                {}\n            ).addTo(map_e5da693d5f477c86374bf0f164fb287f);\n        \n    \n            var marker_9d1e0c7a46dc83eb9dd43e6765038e7d = L.marker(\n                [51.6171436, -0.1680128],\n                {}\n            ).addTo(map_e5da693d5f477c86374bf0f164fb287f);\n        \n    \n            var marker_dc42d3a5645be772b2abd5ea6234c16c = L.marker(\n                [51.6231386, -0.1488906],\n                {}\n            ).addTo(map_e5da693d5f477c86374bf0f164fb287f);\n        \n    \n            var marker_1ca053562c59f2d5dfef839bd2c659b3 = L.marker(\n                [51.6223717, -0.1487412],\n                {}\n            ).addTo(map_e5da693d5f477c86374bf0f164fb287f);\n        \n    \n            var marker_d3d33c48df9738748524424dc072f6f8 = L.marker(\n                [51.5790141, -0.2412662],\n                {}\n            ).addTo(map_e5da693d5f477c86374bf0f164fb287f);\n        \n&lt;/script&gt;\n&lt;/html&gt;\" style=\"position:absolute;width:100%;height:100%;left:0;top:0;border:none !important;\" allowfullscreen webkitallowfullscreen mozallowfullscreen></iframe></div></div>"
     },
     "execution_count": 7,
     "metadata": {},
     "output_type": "execute_result"
    }
   ],
   "source": [
    "geolocator = Nominatim(user_agent=\"my_app\")\n",
    "\n",
    "def geocode_location(location):\n",
    "    try:\n",
    "        location = geolocator.geocode(location)\n",
    "        return location.latitude, location.longitude\n",
    "    except:\n",
    "        return None\n",
    "\n",
    "traffic['Coordinates'] = traffic['Location Description'].apply(geocode_location)\n",
    "\n",
    "# Create a map\n",
    "m = folium.Map(location=[0, 0], zoom_start=2)\n",
    "\n",
    "# Plot the points on the map\n",
    "for index, row in traffic.iterrows():\n",
    "    coordinates = row['Coordinates']\n",
    "    if coordinates:\n",
    "        lat, lon = coordinates\n",
    "        folium.Marker([lat, lon]).add_to(m)\n",
    "\n",
    "# Display the map in the Jupyter Notebook\n",
    "m"
   ],
   "metadata": {
    "collapsed": false
   }
  },
  {
   "cell_type": "code",
   "execution_count": 8,
   "outputs": [
    {
     "data": {
      "text/plain": "                                  Location Description Cont   \n0                  Hale Drive (Deansbrook Schools) NW7  48J  \\\n1    STATION ROAD, EDGWARE, BUS STATION ENTRANCE (N...  31J   \n2           The Fairway (Fairway&Northway Schools) NW7  48J   \n3           Great Strand (St James Rc High School) NW9  48J   \n4    A5 West Hendon Broadway (NW9), Junction With P...  31J   \n..                                                 ...  ...   \n101                        Ingleway into Schoolway N12  53j   \n102              Woodhouse Road into Hilton Avenue N12  53j   \n103  Barnfield Rd,between Watling Av & A5 Burnt Oak...   29   \n104     Nether Street jct Alexandra Grove - Southbound  38L   \n105         Nether Street jct Argyle Road - Northbound  38L   \n\n                             Contravention description Active since   \n0    Stopped in a restricted area outside a school,...   20/04/2016  \\\n1    Entering and stopping in a box junction when p...   20/02/2020   \n2    Stopped in a restricted area outside a school,...   28/04/2016   \n3    Stopped in a restricted area outside a school,...   22/09/2016   \n4    Entering and stopping in a box junction when p...   26/04/2016   \n..                                                 ...          ...   \n101  Failing to comply with a restriction on vehicl...   28/06/2022   \n102  Failing to comply with a restriction on vehicl...   28/06/2022   \n103     Failing to comply with a one-way \\nrestriction   22/11/2021   \n104  Failing to comply with a sign indicating that ...   02/03/2023   \n105  Failing to comply with a sign indicating that ...   02/03/2023   \n\n                                    Hours of operation Coordinates  \n0                                   Mon-Fri 8am to 5pm        None  \n1                                         At all times        None  \n2                  Mon-Fri 8am to 5pm & Sat 8am to 1pm        None  \n3             Mon-Fri 8am to 9:30am & 2:45pm to 4:15pm        None  \n4                                         At all times        None  \n..                                                 ...         ...  \n101  Monday to Friday\\n8.30am to 9.15am\\n3.00pm to ...        None  \n102  Monday to Friday\\n8.00am to 9.00am\\n3.00pm to ...        None  \n103                                       At all times        None  \n104                                       At all times        None  \n105                                       At all times        None  \n\n[106 rows x 6 columns]",
      "text/html": "<div>\n<style scoped>\n    .dataframe tbody tr th:only-of-type {\n        vertical-align: middle;\n    }\n\n    .dataframe tbody tr th {\n        vertical-align: top;\n    }\n\n    .dataframe thead th {\n        text-align: right;\n    }\n</style>\n<table border=\"1\" class=\"dataframe\">\n  <thead>\n    <tr style=\"text-align: right;\">\n      <th></th>\n      <th>Location Description</th>\n      <th>Cont</th>\n      <th>Contravention description</th>\n      <th>Active since</th>\n      <th>Hours of operation</th>\n      <th>Coordinates</th>\n    </tr>\n  </thead>\n  <tbody>\n    <tr>\n      <th>0</th>\n      <td>Hale Drive (Deansbrook Schools) NW7</td>\n      <td>48J</td>\n      <td>Stopped in a restricted area outside a school,...</td>\n      <td>20/04/2016</td>\n      <td>Mon-Fri 8am to 5pm</td>\n      <td>None</td>\n    </tr>\n    <tr>\n      <th>1</th>\n      <td>STATION ROAD, EDGWARE, BUS STATION ENTRANCE (N...</td>\n      <td>31J</td>\n      <td>Entering and stopping in a box junction when p...</td>\n      <td>20/02/2020</td>\n      <td>At all times</td>\n      <td>None</td>\n    </tr>\n    <tr>\n      <th>2</th>\n      <td>The Fairway (Fairway&amp;Northway Schools) NW7</td>\n      <td>48J</td>\n      <td>Stopped in a restricted area outside a school,...</td>\n      <td>28/04/2016</td>\n      <td>Mon-Fri 8am to 5pm &amp; Sat 8am to 1pm</td>\n      <td>None</td>\n    </tr>\n    <tr>\n      <th>3</th>\n      <td>Great Strand (St James Rc High School) NW9</td>\n      <td>48J</td>\n      <td>Stopped in a restricted area outside a school,...</td>\n      <td>22/09/2016</td>\n      <td>Mon-Fri 8am to 9:30am &amp; 2:45pm to 4:15pm</td>\n      <td>None</td>\n    </tr>\n    <tr>\n      <th>4</th>\n      <td>A5 West Hendon Broadway (NW9), Junction With P...</td>\n      <td>31J</td>\n      <td>Entering and stopping in a box junction when p...</td>\n      <td>26/04/2016</td>\n      <td>At all times</td>\n      <td>None</td>\n    </tr>\n    <tr>\n      <th>...</th>\n      <td>...</td>\n      <td>...</td>\n      <td>...</td>\n      <td>...</td>\n      <td>...</td>\n      <td>...</td>\n    </tr>\n    <tr>\n      <th>101</th>\n      <td>Ingleway into Schoolway N12</td>\n      <td>53j</td>\n      <td>Failing to comply with a restriction on vehicl...</td>\n      <td>28/06/2022</td>\n      <td>Monday to Friday\\n8.30am to 9.15am\\n3.00pm to ...</td>\n      <td>None</td>\n    </tr>\n    <tr>\n      <th>102</th>\n      <td>Woodhouse Road into Hilton Avenue N12</td>\n      <td>53j</td>\n      <td>Failing to comply with a restriction on vehicl...</td>\n      <td>28/06/2022</td>\n      <td>Monday to Friday\\n8.00am to 9.00am\\n3.00pm to ...</td>\n      <td>None</td>\n    </tr>\n    <tr>\n      <th>103</th>\n      <td>Barnfield Rd,between Watling Av &amp; A5 Burnt Oak...</td>\n      <td>29</td>\n      <td>Failing to comply with a one-way \\nrestriction</td>\n      <td>22/11/2021</td>\n      <td>At all times</td>\n      <td>None</td>\n    </tr>\n    <tr>\n      <th>104</th>\n      <td>Nether Street jct Alexandra Grove - Southbound</td>\n      <td>38L</td>\n      <td>Failing to comply with a sign indicating that ...</td>\n      <td>02/03/2023</td>\n      <td>At all times</td>\n      <td>None</td>\n    </tr>\n    <tr>\n      <th>105</th>\n      <td>Nether Street jct Argyle Road - Northbound</td>\n      <td>38L</td>\n      <td>Failing to comply with a sign indicating that ...</td>\n      <td>02/03/2023</td>\n      <td>At all times</td>\n      <td>None</td>\n    </tr>\n  </tbody>\n</table>\n<p>106 rows × 6 columns</p>\n</div>"
     },
     "execution_count": 8,
     "metadata": {},
     "output_type": "execute_result"
    }
   ],
   "source": [
    "traffic"
   ],
   "metadata": {
    "collapsed": false
   }
  },
  {
   "cell_type": "markdown",
   "source": [
    "# Light Posts"
   ],
   "metadata": {
    "collapsed": false
   }
  },
  {
   "cell_type": "code",
   "execution_count": 34,
   "metadata": {},
   "outputs": [
    {
     "data": {
      "text/plain": "       Asset_ID            Asset_type        Asset_category Asset_Position   \n0          7833  SL - Street Lighting  B1 - Street Lighting       On Verge  \\\n1          7834  SL - Street Lighting  B1 - Street Lighting       On Verge   \n2         12670  SL - Street Lighting  B1 - Street Lighting   Back of Path   \n3         12671  SL - Street Lighting  B1 - Street Lighting   Back of Path   \n4         12672  SL - Street Lighting  B1 - Street Lighting   Back of Path   \n...         ...                   ...                   ...            ...   \n33141     33446  SL - Street Lighting  B1 - Street Lighting  Front of Path   \n33142     33447  SL - Street Lighting  B1 - Street Lighting      On Island   \n33143     33448  SL - Street Lighting  B1 - Street Lighting   Back of Path   \n33144     33449  SL - Street Lighting  B1 - Street Lighting   Back of Path   \n33145     16881  SL - Street Lighting  B1 - Street Lighting   Back of Path   \n\n                             Adress_number Road_description  Asset_XCords   \n0                              Outside 104       ABBEY VIEW        521719  \\\n1                       Outside GREYSTANES       ABBEY VIEW        521700   \n2                                Outside 1       ABBEY VIEW        521751   \n3                                Outside 2       ABBEY VIEW        521778   \n4                               Outside 10       ABBEY VIEW        521812   \n...                                    ...              ...           ...   \n33141              Adjacent/Near 45-47 BOP         YORK WAY        527560   \n33142              Adjacent/Near 45-47 BOP         YORK WAY        527548   \n33143  Adjacent/Near 39-44 MANOE COURT BOP         YORK WAY        527539   \n33144            Adjacent/Near MANOR DRIVE         YORK WAY        527516   \n33145                     Adjacent/Near 44     ZENITH CLOSE        520930   \n\n       Asset_YCords     Structure: Material Label  Structure: Height   \n0            193333  (FA1) Standard Tubular Steel                6.0  \\\n1            193312  (FA1) Standard Tubular Steel                6.0   \n2            193345  (NT1) Standard Tubular Steel                6.0   \n3            193327  (NT1) Standard Tubular Steel                6.0   \n4            193313  (NT1) Standard Tubular Steel                6.0   \n...             ...                           ...                ...   \n33141        193285  (NT1) Standard Tubular Steel                6.0   \n33142        193255  (NT1) Standard Tubular Steel                6.0   \n33143        193226  (NT1) Standard Tubular Steel                6.0   \n33144        193218  (NT1) Standard Tubular Steel                6.0   \n33145        189667  (NT1) Standard Tubular Steel               10.0   \n\n      Structure: Install Date  \n0         01/01/1994 00:00:00  \n1         05/06/2013 00:00:00  \n2         18/06/2013 00:00:00  \n3         18/06/2013 00:00:00  \n4         18/06/2013 00:00:00  \n...                       ...  \n33141     27/08/2010 00:00:00  \n33142     27/08/2010 00:00:00  \n33143     27/08/2010 00:00:00  \n33144     27/08/2010 00:00:00  \n33145     24/02/2011 00:00:00  \n\n[33146 rows x 11 columns]",
      "text/html": "<div>\n<style scoped>\n    .dataframe tbody tr th:only-of-type {\n        vertical-align: middle;\n    }\n\n    .dataframe tbody tr th {\n        vertical-align: top;\n    }\n\n    .dataframe thead th {\n        text-align: right;\n    }\n</style>\n<table border=\"1\" class=\"dataframe\">\n  <thead>\n    <tr style=\"text-align: right;\">\n      <th></th>\n      <th>Asset_ID</th>\n      <th>Asset_type</th>\n      <th>Asset_category</th>\n      <th>Asset_Position</th>\n      <th>Adress_number</th>\n      <th>Road_description</th>\n      <th>Asset_XCords</th>\n      <th>Asset_YCords</th>\n      <th>Structure: Material Label</th>\n      <th>Structure: Height</th>\n      <th>Structure: Install Date</th>\n    </tr>\n  </thead>\n  <tbody>\n    <tr>\n      <th>0</th>\n      <td>7833</td>\n      <td>SL - Street Lighting</td>\n      <td>B1 - Street Lighting</td>\n      <td>On Verge</td>\n      <td>Outside 104</td>\n      <td>ABBEY VIEW</td>\n      <td>521719</td>\n      <td>193333</td>\n      <td>(FA1) Standard Tubular Steel</td>\n      <td>6.0</td>\n      <td>01/01/1994 00:00:00</td>\n    </tr>\n    <tr>\n      <th>1</th>\n      <td>7834</td>\n      <td>SL - Street Lighting</td>\n      <td>B1 - Street Lighting</td>\n      <td>On Verge</td>\n      <td>Outside GREYSTANES</td>\n      <td>ABBEY VIEW</td>\n      <td>521700</td>\n      <td>193312</td>\n      <td>(FA1) Standard Tubular Steel</td>\n      <td>6.0</td>\n      <td>05/06/2013 00:00:00</td>\n    </tr>\n    <tr>\n      <th>2</th>\n      <td>12670</td>\n      <td>SL - Street Lighting</td>\n      <td>B1 - Street Lighting</td>\n      <td>Back of Path</td>\n      <td>Outside 1</td>\n      <td>ABBEY VIEW</td>\n      <td>521751</td>\n      <td>193345</td>\n      <td>(NT1) Standard Tubular Steel</td>\n      <td>6.0</td>\n      <td>18/06/2013 00:00:00</td>\n    </tr>\n    <tr>\n      <th>3</th>\n      <td>12671</td>\n      <td>SL - Street Lighting</td>\n      <td>B1 - Street Lighting</td>\n      <td>Back of Path</td>\n      <td>Outside 2</td>\n      <td>ABBEY VIEW</td>\n      <td>521778</td>\n      <td>193327</td>\n      <td>(NT1) Standard Tubular Steel</td>\n      <td>6.0</td>\n      <td>18/06/2013 00:00:00</td>\n    </tr>\n    <tr>\n      <th>4</th>\n      <td>12672</td>\n      <td>SL - Street Lighting</td>\n      <td>B1 - Street Lighting</td>\n      <td>Back of Path</td>\n      <td>Outside 10</td>\n      <td>ABBEY VIEW</td>\n      <td>521812</td>\n      <td>193313</td>\n      <td>(NT1) Standard Tubular Steel</td>\n      <td>6.0</td>\n      <td>18/06/2013 00:00:00</td>\n    </tr>\n    <tr>\n      <th>...</th>\n      <td>...</td>\n      <td>...</td>\n      <td>...</td>\n      <td>...</td>\n      <td>...</td>\n      <td>...</td>\n      <td>...</td>\n      <td>...</td>\n      <td>...</td>\n      <td>...</td>\n      <td>...</td>\n    </tr>\n    <tr>\n      <th>33141</th>\n      <td>33446</td>\n      <td>SL - Street Lighting</td>\n      <td>B1 - Street Lighting</td>\n      <td>Front of Path</td>\n      <td>Adjacent/Near 45-47 BOP</td>\n      <td>YORK WAY</td>\n      <td>527560</td>\n      <td>193285</td>\n      <td>(NT1) Standard Tubular Steel</td>\n      <td>6.0</td>\n      <td>27/08/2010 00:00:00</td>\n    </tr>\n    <tr>\n      <th>33142</th>\n      <td>33447</td>\n      <td>SL - Street Lighting</td>\n      <td>B1 - Street Lighting</td>\n      <td>On Island</td>\n      <td>Adjacent/Near 45-47 BOP</td>\n      <td>YORK WAY</td>\n      <td>527548</td>\n      <td>193255</td>\n      <td>(NT1) Standard Tubular Steel</td>\n      <td>6.0</td>\n      <td>27/08/2010 00:00:00</td>\n    </tr>\n    <tr>\n      <th>33143</th>\n      <td>33448</td>\n      <td>SL - Street Lighting</td>\n      <td>B1 - Street Lighting</td>\n      <td>Back of Path</td>\n      <td>Adjacent/Near 39-44 MANOE COURT BOP</td>\n      <td>YORK WAY</td>\n      <td>527539</td>\n      <td>193226</td>\n      <td>(NT1) Standard Tubular Steel</td>\n      <td>6.0</td>\n      <td>27/08/2010 00:00:00</td>\n    </tr>\n    <tr>\n      <th>33144</th>\n      <td>33449</td>\n      <td>SL - Street Lighting</td>\n      <td>B1 - Street Lighting</td>\n      <td>Back of Path</td>\n      <td>Adjacent/Near MANOR DRIVE</td>\n      <td>YORK WAY</td>\n      <td>527516</td>\n      <td>193218</td>\n      <td>(NT1) Standard Tubular Steel</td>\n      <td>6.0</td>\n      <td>27/08/2010 00:00:00</td>\n    </tr>\n    <tr>\n      <th>33145</th>\n      <td>16881</td>\n      <td>SL - Street Lighting</td>\n      <td>B1 - Street Lighting</td>\n      <td>Back of Path</td>\n      <td>Adjacent/Near 44</td>\n      <td>ZENITH CLOSE</td>\n      <td>520930</td>\n      <td>189667</td>\n      <td>(NT1) Standard Tubular Steel</td>\n      <td>10.0</td>\n      <td>24/02/2011 00:00:00</td>\n    </tr>\n  </tbody>\n</table>\n<p>33146 rows × 11 columns</p>\n</div>"
     },
     "execution_count": 34,
     "metadata": {},
     "output_type": "execute_result"
    }
   ],
   "source": [
    "# light posts\n",
    "lights = pd.read_csv('data/street_light.csv', encoding='cp1252')\n",
    "lights['Asset_XCords'] = lights['Asset_XCords'].astype(int)\n",
    "lights['Asset_YCords'] = lights['Asset_YCords'].astype(int)\n",
    "lights"
   ]
  },
  {
   "cell_type": "code",
   "execution_count": 35,
   "outputs": [
    {
     "name": "stderr",
     "output_type": "stream",
     "text": [
      "/home/pamelacece/.local/lib/python3.10/site-packages/pyproj/crs/crs.py:141: FutureWarning: '+init=<authority>:<code>' syntax is deprecated. '<authority>:<code>' is the preferred initialization method. When making the change, be mindful of axis order changes: https://pyproj4.github.io/pyproj/stable/gotchas.html#axis-order-changes-in-proj-6\n",
      "  in_crs_string = _prepare_from_proj_string(in_crs_string)\n",
      "/home/pamelacece/.local/lib/python3.10/site-packages/pyproj/crs/crs.py:141: FutureWarning: '+init=<authority>:<code>' syntax is deprecated. '<authority>:<code>' is the preferred initialization method. When making the change, be mindful of axis order changes: https://pyproj4.github.io/pyproj/stable/gotchas.html#axis-order-changes-in-proj-6\n",
      "  in_crs_string = _prepare_from_proj_string(in_crs_string)\n",
      "/tmp/ipykernel_15703/3575716608.py:7: FutureWarning: This function is deprecated. See: https://pyproj4.github.io/pyproj/stable/gotchas.html#upgrading-to-pyproj-2-from-pyproj-1\n",
      "  lon, lat = transform(bng, wgs84, x, y)\n"
     ]
    }
   ],
   "source": [
    "# Create a PyProj transformer for BNG to WGS84 (latitude and longitude)\n",
    "bng = Proj(init='epsg:27700')  # British National Grid\n",
    "wgs84 = Proj(init='epsg:4326')  # WGS84 (latitude and longitude)\n",
    "\n",
    "# Function to convert BNG coordinates to latitude and longitude\n",
    "def convert_bng_to _latlon(x, y):\n",
    "    lon, lat = transform(bng, wgs84, x, y)\n",
    "    return lat, lon\n",
    "\n",
    "# Apply the conversion function to the dataframe and update latitude and longitude columns\n",
    "lights['latitude'], lights['longitude'] = zip(*lights.apply(lambda row: convert_bng_to_latlon(row['Asset_XCords'], row['Asset_YCords']), axis=1))"
   ],
   "metadata": {
    "collapsed": false
   }
  },
  {
   "cell_type": "code",
   "execution_count": 62,
   "outputs": [
    {
     "ename": "KeyError",
     "evalue": "\"['Asset_type', 'Asset_category', 'Asset_Position', 'Adress_number', 'Road_description', 'Structure: Height', 'Structure: Material Label', 'Structure: Install Date'] not found in axis\"",
     "output_type": "error",
     "traceback": [
      "\u001B[0;31m---------------------------------------------------------------------------\u001B[0m",
      "\u001B[0;31mKeyError\u001B[0m                                  Traceback (most recent call last)",
      "\u001B[0;32m/tmp/ipykernel_15703/1042448452.py\u001B[0m in \u001B[0;36m<module>\u001B[0;34m\u001B[0m\n\u001B[0;32m----> 1\u001B[0;31m \u001B[0mlights\u001B[0m \u001B[0;34m=\u001B[0m \u001B[0mlights\u001B[0m\u001B[0;34m.\u001B[0m\u001B[0mdrop\u001B[0m\u001B[0;34m(\u001B[0m\u001B[0;34m[\u001B[0m\u001B[0;34m'Asset_type'\u001B[0m\u001B[0;34m,\u001B[0m \u001B[0;34m'Asset_category'\u001B[0m\u001B[0;34m,\u001B[0m \u001B[0;34m'Asset_Position'\u001B[0m\u001B[0;34m,\u001B[0m \u001B[0;34m'Adress_number'\u001B[0m\u001B[0;34m,\u001B[0m \u001B[0;34m'Road_description'\u001B[0m\u001B[0;34m,\u001B[0m \u001B[0;34m'Structure: Height'\u001B[0m\u001B[0;34m,\u001B[0m \u001B[0;34m'Structure: Material Label'\u001B[0m\u001B[0;34m,\u001B[0m \u001B[0;34m'Structure: Install Date'\u001B[0m\u001B[0;34m]\u001B[0m\u001B[0;34m,\u001B[0m \u001B[0maxis\u001B[0m\u001B[0;34m=\u001B[0m\u001B[0;36m1\u001B[0m\u001B[0;34m)\u001B[0m\u001B[0;34m\u001B[0m\u001B[0;34m\u001B[0m\u001B[0m\n\u001B[0m\u001B[1;32m      2\u001B[0m \u001B[0mlights\u001B[0m \u001B[0;34m=\u001B[0m \u001B[0mlights\u001B[0m\u001B[0;34m.\u001B[0m\u001B[0msort_values\u001B[0m\u001B[0;34m(\u001B[0m\u001B[0;34m'Asset_ID'\u001B[0m\u001B[0;34m,\u001B[0m \u001B[0mascending\u001B[0m\u001B[0;34m=\u001B[0m\u001B[0;32mTrue\u001B[0m\u001B[0;34m)\u001B[0m\u001B[0;34m\u001B[0m\u001B[0;34m\u001B[0m\u001B[0m\n\u001B[1;32m      3\u001B[0m \u001B[0mlights\u001B[0m \u001B[0;34m=\u001B[0m \u001B[0mlights\u001B[0m\u001B[0;34m.\u001B[0m\u001B[0mreset_index\u001B[0m\u001B[0;34m(\u001B[0m\u001B[0mdrop\u001B[0m\u001B[0;34m=\u001B[0m\u001B[0;32mTrue\u001B[0m\u001B[0;34m)\u001B[0m\u001B[0;34m\u001B[0m\u001B[0;34m\u001B[0m\u001B[0m\n\u001B[1;32m      4\u001B[0m \u001B[0mlights\u001B[0m\u001B[0;34m.\u001B[0m\u001B[0mto_csv\u001B[0m\u001B[0;34m(\u001B[0m\u001B[0;34m'data/lightposts.csv'\u001B[0m\u001B[0;34m,\u001B[0m \u001B[0mindex\u001B[0m\u001B[0;34m=\u001B[0m\u001B[0;32mFalse\u001B[0m\u001B[0;34m)\u001B[0m\u001B[0;34m\u001B[0m\u001B[0;34m\u001B[0m\u001B[0m\n",
      "\u001B[0;32m~/.local/lib/python3.10/site-packages/pandas/core/frame.py\u001B[0m in \u001B[0;36mdrop\u001B[0;34m(self, labels, axis, index, columns, level, inplace, errors)\u001B[0m\n\u001B[1;32m   5266\u001B[0m                 \u001B[0mweight\u001B[0m  \u001B[0;36m1.0\u001B[0m     \u001B[0;36m0.8\u001B[0m\u001B[0;34m\u001B[0m\u001B[0;34m\u001B[0m\u001B[0m\n\u001B[1;32m   5267\u001B[0m         \"\"\"\n\u001B[0;32m-> 5268\u001B[0;31m         return super().drop(\n\u001B[0m\u001B[1;32m   5269\u001B[0m             \u001B[0mlabels\u001B[0m\u001B[0;34m=\u001B[0m\u001B[0mlabels\u001B[0m\u001B[0;34m,\u001B[0m\u001B[0;34m\u001B[0m\u001B[0;34m\u001B[0m\u001B[0m\n\u001B[1;32m   5270\u001B[0m             \u001B[0maxis\u001B[0m\u001B[0;34m=\u001B[0m\u001B[0maxis\u001B[0m\u001B[0;34m,\u001B[0m\u001B[0;34m\u001B[0m\u001B[0;34m\u001B[0m\u001B[0m\n",
      "\u001B[0;32m~/.local/lib/python3.10/site-packages/pandas/core/generic.py\u001B[0m in \u001B[0;36mdrop\u001B[0;34m(self, labels, axis, index, columns, level, inplace, errors)\u001B[0m\n\u001B[1;32m   4547\u001B[0m         \u001B[0;32mfor\u001B[0m \u001B[0maxis\u001B[0m\u001B[0;34m,\u001B[0m \u001B[0mlabels\u001B[0m \u001B[0;32min\u001B[0m \u001B[0maxes\u001B[0m\u001B[0;34m.\u001B[0m\u001B[0mitems\u001B[0m\u001B[0;34m(\u001B[0m\u001B[0;34m)\u001B[0m\u001B[0;34m:\u001B[0m\u001B[0;34m\u001B[0m\u001B[0;34m\u001B[0m\u001B[0m\n\u001B[1;32m   4548\u001B[0m             \u001B[0;32mif\u001B[0m \u001B[0mlabels\u001B[0m \u001B[0;32mis\u001B[0m \u001B[0;32mnot\u001B[0m \u001B[0;32mNone\u001B[0m\u001B[0;34m:\u001B[0m\u001B[0;34m\u001B[0m\u001B[0;34m\u001B[0m\u001B[0m\n\u001B[0;32m-> 4549\u001B[0;31m                 \u001B[0mobj\u001B[0m \u001B[0;34m=\u001B[0m \u001B[0mobj\u001B[0m\u001B[0;34m.\u001B[0m\u001B[0m_drop_axis\u001B[0m\u001B[0;34m(\u001B[0m\u001B[0mlabels\u001B[0m\u001B[0;34m,\u001B[0m \u001B[0maxis\u001B[0m\u001B[0;34m,\u001B[0m \u001B[0mlevel\u001B[0m\u001B[0;34m=\u001B[0m\u001B[0mlevel\u001B[0m\u001B[0;34m,\u001B[0m \u001B[0merrors\u001B[0m\u001B[0;34m=\u001B[0m\u001B[0merrors\u001B[0m\u001B[0;34m)\u001B[0m\u001B[0;34m\u001B[0m\u001B[0;34m\u001B[0m\u001B[0m\n\u001B[0m\u001B[1;32m   4550\u001B[0m \u001B[0;34m\u001B[0m\u001B[0m\n\u001B[1;32m   4551\u001B[0m         \u001B[0;32mif\u001B[0m \u001B[0minplace\u001B[0m\u001B[0;34m:\u001B[0m\u001B[0;34m\u001B[0m\u001B[0;34m\u001B[0m\u001B[0m\n",
      "\u001B[0;32m~/.local/lib/python3.10/site-packages/pandas/core/generic.py\u001B[0m in \u001B[0;36m_drop_axis\u001B[0;34m(self, labels, axis, level, errors, only_slice)\u001B[0m\n\u001B[1;32m   4589\u001B[0m                 \u001B[0mnew_axis\u001B[0m \u001B[0;34m=\u001B[0m \u001B[0maxis\u001B[0m\u001B[0;34m.\u001B[0m\u001B[0mdrop\u001B[0m\u001B[0;34m(\u001B[0m\u001B[0mlabels\u001B[0m\u001B[0;34m,\u001B[0m \u001B[0mlevel\u001B[0m\u001B[0;34m=\u001B[0m\u001B[0mlevel\u001B[0m\u001B[0;34m,\u001B[0m \u001B[0merrors\u001B[0m\u001B[0;34m=\u001B[0m\u001B[0merrors\u001B[0m\u001B[0;34m)\u001B[0m\u001B[0;34m\u001B[0m\u001B[0;34m\u001B[0m\u001B[0m\n\u001B[1;32m   4590\u001B[0m             \u001B[0;32melse\u001B[0m\u001B[0;34m:\u001B[0m\u001B[0;34m\u001B[0m\u001B[0;34m\u001B[0m\u001B[0m\n\u001B[0;32m-> 4591\u001B[0;31m                 \u001B[0mnew_axis\u001B[0m \u001B[0;34m=\u001B[0m \u001B[0maxis\u001B[0m\u001B[0;34m.\u001B[0m\u001B[0mdrop\u001B[0m\u001B[0;34m(\u001B[0m\u001B[0mlabels\u001B[0m\u001B[0;34m,\u001B[0m \u001B[0merrors\u001B[0m\u001B[0;34m=\u001B[0m\u001B[0merrors\u001B[0m\u001B[0;34m)\u001B[0m\u001B[0;34m\u001B[0m\u001B[0;34m\u001B[0m\u001B[0m\n\u001B[0m\u001B[1;32m   4592\u001B[0m             \u001B[0mindexer\u001B[0m \u001B[0;34m=\u001B[0m \u001B[0maxis\u001B[0m\u001B[0;34m.\u001B[0m\u001B[0mget_indexer\u001B[0m\u001B[0;34m(\u001B[0m\u001B[0mnew_axis\u001B[0m\u001B[0;34m)\u001B[0m\u001B[0;34m\u001B[0m\u001B[0;34m\u001B[0m\u001B[0m\n\u001B[1;32m   4593\u001B[0m \u001B[0;34m\u001B[0m\u001B[0m\n",
      "\u001B[0;32m~/.local/lib/python3.10/site-packages/pandas/core/indexes/base.py\u001B[0m in \u001B[0;36mdrop\u001B[0;34m(self, labels, errors)\u001B[0m\n\u001B[1;32m   6694\u001B[0m         \u001B[0;32mif\u001B[0m \u001B[0mmask\u001B[0m\u001B[0;34m.\u001B[0m\u001B[0many\u001B[0m\u001B[0;34m(\u001B[0m\u001B[0;34m)\u001B[0m\u001B[0;34m:\u001B[0m\u001B[0;34m\u001B[0m\u001B[0;34m\u001B[0m\u001B[0m\n\u001B[1;32m   6695\u001B[0m             \u001B[0;32mif\u001B[0m \u001B[0merrors\u001B[0m \u001B[0;34m!=\u001B[0m \u001B[0;34m\"ignore\"\u001B[0m\u001B[0;34m:\u001B[0m\u001B[0;34m\u001B[0m\u001B[0;34m\u001B[0m\u001B[0m\n\u001B[0;32m-> 6696\u001B[0;31m                 \u001B[0;32mraise\u001B[0m \u001B[0mKeyError\u001B[0m\u001B[0;34m(\u001B[0m\u001B[0;34mf\"{list(labels[mask])} not found in axis\"\u001B[0m\u001B[0;34m)\u001B[0m\u001B[0;34m\u001B[0m\u001B[0;34m\u001B[0m\u001B[0m\n\u001B[0m\u001B[1;32m   6697\u001B[0m             \u001B[0mindexer\u001B[0m \u001B[0;34m=\u001B[0m \u001B[0mindexer\u001B[0m\u001B[0;34m[\u001B[0m\u001B[0;34m~\u001B[0m\u001B[0mmask\u001B[0m\u001B[0;34m]\u001B[0m\u001B[0;34m\u001B[0m\u001B[0;34m\u001B[0m\u001B[0m\n\u001B[1;32m   6698\u001B[0m         \u001B[0;32mreturn\u001B[0m \u001B[0mself\u001B[0m\u001B[0;34m.\u001B[0m\u001B[0mdelete\u001B[0m\u001B[0;34m(\u001B[0m\u001B[0mindexer\u001B[0m\u001B[0;34m)\u001B[0m\u001B[0;34m\u001B[0m\u001B[0;34m\u001B[0m\u001B[0m\n",
      "\u001B[0;31mKeyError\u001B[0m: \"['Asset_type', 'Asset_category', 'Asset_Position', 'Adress_number', 'Road_description', 'Structure: Height', 'Structure: Material Label', 'Structure: Install Date'] not found in axis\""
     ]
    }
   ],
   "source": [
    "lights = lights.drop(['Asset_type', 'Asset_category', 'Asset_Position', 'Adress_number', 'Road_description', 'Structure: Height', 'Structure: Material Label', 'Structure: Install Date'], axis=1)"
   ],
   "metadata": {
    "collapsed": false
   }
  },
  {
   "cell_type": "code",
   "execution_count": 63,
   "outputs": [],
   "source": [
    "lights = lights.sort_values('Asset_ID', ascending=True)\n",
    "lights = lights.reset_index(drop=True)\n",
    "lights.to_csv('data/lightposts.csv', index=False)"
   ],
   "metadata": {
    "collapsed": false
   }
  },
  {
   "cell_type": "code",
   "execution_count": 7,
   "outputs": [
    {
     "data": {
      "text/plain": "       Asset_ID  Asset_XCords  Asset_YCords   latitude  longitude\n0             1        520483        191400  51.608552  -0.261502\n1             2        520436        190834  51.603476  -0.262375\n2             3        528488        191596  51.608546  -0.145893\n3             4        525349        190907  51.603061  -0.191445\n4             5        522256        194715  51.637963  -0.234756\n...         ...           ...           ...        ...        ...\n33141    349073        521575        190240  51.597893  -0.246142\n33142    349118        520932        190344  51.598966  -0.255385\n33143    349121        520953        190371  51.599204  -0.255073\n33144    349139        520975        190399  51.599451  -0.254746\n33145    358572        523743        186591  51.564628  -0.216142\n\n[33146 rows x 5 columns]",
      "text/html": "<div>\n<style scoped>\n    .dataframe tbody tr th:only-of-type {\n        vertical-align: middle;\n    }\n\n    .dataframe tbody tr th {\n        vertical-align: top;\n    }\n\n    .dataframe thead th {\n        text-align: right;\n    }\n</style>\n<table border=\"1\" class=\"dataframe\">\n  <thead>\n    <tr style=\"text-align: right;\">\n      <th></th>\n      <th>Asset_ID</th>\n      <th>Asset_XCords</th>\n      <th>Asset_YCords</th>\n      <th>latitude</th>\n      <th>longitude</th>\n    </tr>\n  </thead>\n  <tbody>\n    <tr>\n      <th>0</th>\n      <td>1</td>\n      <td>520483</td>\n      <td>191400</td>\n      <td>51.608552</td>\n      <td>-0.261502</td>\n    </tr>\n    <tr>\n      <th>1</th>\n      <td>2</td>\n      <td>520436</td>\n      <td>190834</td>\n      <td>51.603476</td>\n      <td>-0.262375</td>\n    </tr>\n    <tr>\n      <th>2</th>\n      <td>3</td>\n      <td>528488</td>\n      <td>191596</td>\n      <td>51.608546</td>\n      <td>-0.145893</td>\n    </tr>\n    <tr>\n      <th>3</th>\n      <td>4</td>\n      <td>525349</td>\n      <td>190907</td>\n      <td>51.603061</td>\n      <td>-0.191445</td>\n    </tr>\n    <tr>\n      <th>4</th>\n      <td>5</td>\n      <td>522256</td>\n      <td>194715</td>\n      <td>51.637963</td>\n      <td>-0.234756</td>\n    </tr>\n    <tr>\n      <th>...</th>\n      <td>...</td>\n      <td>...</td>\n      <td>...</td>\n      <td>...</td>\n      <td>...</td>\n    </tr>\n    <tr>\n      <th>33141</th>\n      <td>349073</td>\n      <td>521575</td>\n      <td>190240</td>\n      <td>51.597893</td>\n      <td>-0.246142</td>\n    </tr>\n    <tr>\n      <th>33142</th>\n      <td>349118</td>\n      <td>520932</td>\n      <td>190344</td>\n      <td>51.598966</td>\n      <td>-0.255385</td>\n    </tr>\n    <tr>\n      <th>33143</th>\n      <td>349121</td>\n      <td>520953</td>\n      <td>190371</td>\n      <td>51.599204</td>\n      <td>-0.255073</td>\n    </tr>\n    <tr>\n      <th>33144</th>\n      <td>349139</td>\n      <td>520975</td>\n      <td>190399</td>\n      <td>51.599451</td>\n      <td>-0.254746</td>\n    </tr>\n    <tr>\n      <th>33145</th>\n      <td>358572</td>\n      <td>523743</td>\n      <td>186591</td>\n      <td>51.564628</td>\n      <td>-0.216142</td>\n    </tr>\n  </tbody>\n</table>\n<p>33146 rows × 5 columns</p>\n</div>"
     },
     "execution_count": 7,
     "metadata": {},
     "output_type": "execute_result"
    }
   ],
   "source": [
    "lights = pd.read_csv('data/lightposts.csv')\n",
    "lights"
   ],
   "metadata": {
    "collapsed": false
   }
  },
  {
   "cell_type": "markdown",
   "source": [
    "# Open Spaces"
   ],
   "metadata": {
    "collapsed": false
   }
  },
  {
   "cell_type": "code",
   "execution_count": 5,
   "metadata": {},
   "outputs": [
    {
     "data": {
      "text/plain": "    Date of report                 Record Name              Address   \n0       01/07/2015        Arrandene open space            Wise Lane  \\\n1       01/07/2015  Barfield Avenue playground      Barfield Avenue   \n2       01/07/2015            Barnet Gate Wood     Hendon Wood Lane   \n3       01/07/2015      Barnet Hill open space  Barnet Hill (A1000)   \n4       01/07/2015        Barnet playing field          Barnet Lane   \n..             ...                         ...                  ...   \n154     01/07/2015              Woodfield Park        Cool Oak Lane   \n155     01/07/2015        Woodhouse open space             Ingleway   \n156     01/07/2015               Woodside Park   Woodside Park Road   \n157     01/07/2015                   York Park        Cool Oak Lane   \n158     01/07/2015        York Road open space            York Road   \n\n              Town Postal Code History/Additional information   \n0        Mill Hill         NW7                            NaN  \\\n1        Whetstone         N20                            NaN   \n2      Barnet Gate         NW7                            NaN   \n3      High Barnet         EN5                            NaN   \n4        Underhill         EN5                            NaN   \n..             ...         ...                            ...   \n154    West Hendon         NW9                            NaN   \n155       Finchley         N12                            NaN   \n156  Woodside Park         N12                            NaN   \n157    West Hendon         NW9                            NaN   \n158     New Barnet         EN5                            NaN   \n\n          Basketball Bowls Cricket   \n0                NaN   NaN     NaN  \\\n1                NaN   NaN     NaN   \n2                NaN   NaN     NaN   \n3                NaN   NaN     NaN   \n4    Basketball Hoop   NaN     NaN   \n..               ...   ...     ...   \n154              NaN   NaN     NaN   \n155              NaN   NaN     NaN   \n156              NaN   NaN     NaN   \n157              NaN   NaN     NaN   \n158              NaN   NaN     NaN   \n\n                                       Events in Parks  ... Planned Events   \n0                                                  NaN  ...            NaN  \\\n1                                                  NaN  ...            NaN   \n2                                                  NaN  ...            NaN   \n3                            Suitable for Small Events  ...            NaN   \n4    Suitable for Small, Medium, Large Events and F...  ...            NaN   \n..                                                 ...  ...            ...   \n154               Suitable for Small and Medium Events  ...            NaN   \n155                          Suitable for Small Events  ...            NaN   \n156               Suitable for Small and Medium Events  ...            NaN   \n157                          Suitable for Small Events  ...            NaN   \n158                          Suitable for Small Events  ...            NaN   \n\n                         Play areas                   Play areas.1   \n0                               NaN                            NaN  \\\n1    Play Area Toddler (2- 6 years)  Play Area Junior (5-10 years)   \n2                               NaN                            NaN   \n3                               NaN                            NaN   \n4    Play Area Toddler (2- 6 years)  Play Area Junior (5-10 years)   \n..                              ...                            ...   \n154                             NaN                            NaN   \n155                             NaN                            NaN   \n156                             NaN                            NaN   \n157  Play Area Toddler (2- 6 years)  Play Area Junior (5-10 years)   \n158                             NaN                            NaN   \n\n                       Play areas.2 Refreshments Rugby Tennis Water feature   \n0                               NaN          NaN   NaN    NaN           NaN  \\\n1    Play Area Senior (7 -14 years)          NaN   NaN    NaN           NaN   \n2                               NaN          NaN   NaN    NaN           NaN   \n3                               NaN          NaN   NaN    NaN           NaN   \n4    Play Area Senior (7 -14 years)          NaN   NaN    NaN           NaN   \n..                              ...          ...   ...    ...           ...   \n154                             NaN          NaN   NaN    NaN           NaN   \n155                             NaN          NaN   NaN    NaN           NaN   \n156                             NaN          NaN   NaN    NaN           NaN   \n157  Play Area Senior (7 -14 years)          NaN   NaN    NaN           NaN   \n158                             NaN          NaN   NaN    NaN           NaN   \n\n              Wildlife Other facilities  \n0    Wildlife Interest              NaN  \n1                  NaN              NaN  \n2    Wildlife Interest              NaN  \n3                  NaN              NaN  \n4    Wildlife Interest      Outdoor Gym  \n..                 ...              ...  \n154                NaN              NaN  \n155                NaN              NaN  \n156                NaN              NaN  \n157                NaN              NaN  \n158                NaN              NaN  \n\n[159 rows x 30 columns]",
      "text/html": "<div>\n<style scoped>\n    .dataframe tbody tr th:only-of-type {\n        vertical-align: middle;\n    }\n\n    .dataframe tbody tr th {\n        vertical-align: top;\n    }\n\n    .dataframe thead th {\n        text-align: right;\n    }\n</style>\n<table border=\"1\" class=\"dataframe\">\n  <thead>\n    <tr style=\"text-align: right;\">\n      <th></th>\n      <th>Date of report</th>\n      <th>Record Name</th>\n      <th>Address</th>\n      <th>Town</th>\n      <th>Postal Code</th>\n      <th>History/Additional information</th>\n      <th>Basketball</th>\n      <th>Bowls</th>\n      <th>Cricket</th>\n      <th>Events in Parks</th>\n      <th>...</th>\n      <th>Planned Events</th>\n      <th>Play areas</th>\n      <th>Play areas.1</th>\n      <th>Play areas.2</th>\n      <th>Refreshments</th>\n      <th>Rugby</th>\n      <th>Tennis</th>\n      <th>Water feature</th>\n      <th>Wildlife</th>\n      <th>Other facilities</th>\n    </tr>\n  </thead>\n  <tbody>\n    <tr>\n      <th>0</th>\n      <td>01/07/2015</td>\n      <td>Arrandene open space</td>\n      <td>Wise Lane</td>\n      <td>Mill Hill</td>\n      <td>NW7</td>\n      <td>NaN</td>\n      <td>NaN</td>\n      <td>NaN</td>\n      <td>NaN</td>\n      <td>NaN</td>\n      <td>...</td>\n      <td>NaN</td>\n      <td>NaN</td>\n      <td>NaN</td>\n      <td>NaN</td>\n      <td>NaN</td>\n      <td>NaN</td>\n      <td>NaN</td>\n      <td>NaN</td>\n      <td>Wildlife Interest</td>\n      <td>NaN</td>\n    </tr>\n    <tr>\n      <th>1</th>\n      <td>01/07/2015</td>\n      <td>Barfield Avenue playground</td>\n      <td>Barfield Avenue</td>\n      <td>Whetstone</td>\n      <td>N20</td>\n      <td>NaN</td>\n      <td>NaN</td>\n      <td>NaN</td>\n      <td>NaN</td>\n      <td>NaN</td>\n      <td>...</td>\n      <td>NaN</td>\n      <td>Play Area Toddler (2- 6 years)</td>\n      <td>Play Area Junior (5-10 years)</td>\n      <td>Play Area Senior (7 -14 years)</td>\n      <td>NaN</td>\n      <td>NaN</td>\n      <td>NaN</td>\n      <td>NaN</td>\n      <td>NaN</td>\n      <td>NaN</td>\n    </tr>\n    <tr>\n      <th>2</th>\n      <td>01/07/2015</td>\n      <td>Barnet Gate Wood</td>\n      <td>Hendon Wood Lane</td>\n      <td>Barnet Gate</td>\n      <td>NW7</td>\n      <td>NaN</td>\n      <td>NaN</td>\n      <td>NaN</td>\n      <td>NaN</td>\n      <td>NaN</td>\n      <td>...</td>\n      <td>NaN</td>\n      <td>NaN</td>\n      <td>NaN</td>\n      <td>NaN</td>\n      <td>NaN</td>\n      <td>NaN</td>\n      <td>NaN</td>\n      <td>NaN</td>\n      <td>Wildlife Interest</td>\n      <td>NaN</td>\n    </tr>\n    <tr>\n      <th>3</th>\n      <td>01/07/2015</td>\n      <td>Barnet Hill open space</td>\n      <td>Barnet Hill (A1000)</td>\n      <td>High Barnet</td>\n      <td>EN5</td>\n      <td>NaN</td>\n      <td>NaN</td>\n      <td>NaN</td>\n      <td>NaN</td>\n      <td>Suitable for Small Events</td>\n      <td>...</td>\n      <td>NaN</td>\n      <td>NaN</td>\n      <td>NaN</td>\n      <td>NaN</td>\n      <td>NaN</td>\n      <td>NaN</td>\n      <td>NaN</td>\n      <td>NaN</td>\n      <td>NaN</td>\n      <td>NaN</td>\n    </tr>\n    <tr>\n      <th>4</th>\n      <td>01/07/2015</td>\n      <td>Barnet playing field</td>\n      <td>Barnet Lane</td>\n      <td>Underhill</td>\n      <td>EN5</td>\n      <td>NaN</td>\n      <td>Basketball Hoop</td>\n      <td>NaN</td>\n      <td>NaN</td>\n      <td>Suitable for Small, Medium, Large Events and F...</td>\n      <td>...</td>\n      <td>NaN</td>\n      <td>Play Area Toddler (2- 6 years)</td>\n      <td>Play Area Junior (5-10 years)</td>\n      <td>Play Area Senior (7 -14 years)</td>\n      <td>NaN</td>\n      <td>NaN</td>\n      <td>NaN</td>\n      <td>NaN</td>\n      <td>Wildlife Interest</td>\n      <td>Outdoor Gym</td>\n    </tr>\n    <tr>\n      <th>...</th>\n      <td>...</td>\n      <td>...</td>\n      <td>...</td>\n      <td>...</td>\n      <td>...</td>\n      <td>...</td>\n      <td>...</td>\n      <td>...</td>\n      <td>...</td>\n      <td>...</td>\n      <td>...</td>\n      <td>...</td>\n      <td>...</td>\n      <td>...</td>\n      <td>...</td>\n      <td>...</td>\n      <td>...</td>\n      <td>...</td>\n      <td>...</td>\n      <td>...</td>\n      <td>...</td>\n    </tr>\n    <tr>\n      <th>154</th>\n      <td>01/07/2015</td>\n      <td>Woodfield Park</td>\n      <td>Cool Oak Lane</td>\n      <td>West Hendon</td>\n      <td>NW9</td>\n      <td>NaN</td>\n      <td>NaN</td>\n      <td>NaN</td>\n      <td>NaN</td>\n      <td>Suitable for Small and Medium Events</td>\n      <td>...</td>\n      <td>NaN</td>\n      <td>NaN</td>\n      <td>NaN</td>\n      <td>NaN</td>\n      <td>NaN</td>\n      <td>NaN</td>\n      <td>NaN</td>\n      <td>NaN</td>\n      <td>NaN</td>\n      <td>NaN</td>\n    </tr>\n    <tr>\n      <th>155</th>\n      <td>01/07/2015</td>\n      <td>Woodhouse open space</td>\n      <td>Ingleway</td>\n      <td>Finchley</td>\n      <td>N12</td>\n      <td>NaN</td>\n      <td>NaN</td>\n      <td>NaN</td>\n      <td>NaN</td>\n      <td>Suitable for Small Events</td>\n      <td>...</td>\n      <td>NaN</td>\n      <td>NaN</td>\n      <td>NaN</td>\n      <td>NaN</td>\n      <td>NaN</td>\n      <td>NaN</td>\n      <td>NaN</td>\n      <td>NaN</td>\n      <td>NaN</td>\n      <td>NaN</td>\n    </tr>\n    <tr>\n      <th>156</th>\n      <td>01/07/2015</td>\n      <td>Woodside Park</td>\n      <td>Woodside Park Road</td>\n      <td>Woodside Park</td>\n      <td>N12</td>\n      <td>NaN</td>\n      <td>NaN</td>\n      <td>NaN</td>\n      <td>NaN</td>\n      <td>Suitable for Small and Medium Events</td>\n      <td>...</td>\n      <td>NaN</td>\n      <td>NaN</td>\n      <td>NaN</td>\n      <td>NaN</td>\n      <td>NaN</td>\n      <td>NaN</td>\n      <td>NaN</td>\n      <td>NaN</td>\n      <td>NaN</td>\n      <td>NaN</td>\n    </tr>\n    <tr>\n      <th>157</th>\n      <td>01/07/2015</td>\n      <td>York Park</td>\n      <td>Cool Oak Lane</td>\n      <td>West Hendon</td>\n      <td>NW9</td>\n      <td>NaN</td>\n      <td>NaN</td>\n      <td>NaN</td>\n      <td>NaN</td>\n      <td>Suitable for Small Events</td>\n      <td>...</td>\n      <td>NaN</td>\n      <td>Play Area Toddler (2- 6 years)</td>\n      <td>Play Area Junior (5-10 years)</td>\n      <td>Play Area Senior (7 -14 years)</td>\n      <td>NaN</td>\n      <td>NaN</td>\n      <td>NaN</td>\n      <td>NaN</td>\n      <td>NaN</td>\n      <td>NaN</td>\n    </tr>\n    <tr>\n      <th>158</th>\n      <td>01/07/2015</td>\n      <td>York Road open space</td>\n      <td>York Road</td>\n      <td>New Barnet</td>\n      <td>EN5</td>\n      <td>NaN</td>\n      <td>NaN</td>\n      <td>NaN</td>\n      <td>NaN</td>\n      <td>Suitable for Small Events</td>\n      <td>...</td>\n      <td>NaN</td>\n      <td>NaN</td>\n      <td>NaN</td>\n      <td>NaN</td>\n      <td>NaN</td>\n      <td>NaN</td>\n      <td>NaN</td>\n      <td>NaN</td>\n      <td>NaN</td>\n      <td>NaN</td>\n    </tr>\n  </tbody>\n</table>\n<p>159 rows × 30 columns</p>\n</div>"
     },
     "execution_count": 5,
     "metadata": {},
     "output_type": "execute_result"
    }
   ],
   "source": [
    "# Open spaces + Parks\n",
    "open_spaces = pd.read_csv('data/open_parks.csv', encoding='cp1252')\n",
    "open_spaces"
   ]
  },
  {
   "cell_type": "code",
   "execution_count": 46,
   "outputs": [
    {
     "data": {
      "text/plain": "<folium.folium.Map at 0x7f126678b520>",
      "text/html": "<div style=\"width:100%;\"><div style=\"position:relative;width:100%;height:0;padding-bottom:60%;\"><span style=\"color:#565656\">Make this Notebook Trusted to load map: File -> Trust Notebook</span><iframe srcdoc=\"&lt;!DOCTYPE html&gt;\n&lt;html&gt;\n&lt;head&gt;\n    \n    &lt;meta http-equiv=&quot;content-type&quot; content=&quot;text/html; charset=UTF-8&quot; /&gt;\n    \n        &lt;script&gt;\n            L_NO_TOUCH = false;\n            L_DISABLE_3D = false;\n        &lt;/script&gt;\n    \n    &lt;style&gt;html, body {width: 100%;height: 100%;margin: 0;padding: 0;}&lt;/style&gt;\n    &lt;style&gt;#map {position:absolute;top:0;bottom:0;right:0;left:0;}&lt;/style&gt;\n    &lt;script src=&quot;https://cdn.jsdelivr.net/npm/leaflet@1.9.3/dist/leaflet.js&quot;&gt;&lt;/script&gt;\n    &lt;script src=&quot;https://code.jquery.com/jquery-1.12.4.min.js&quot;&gt;&lt;/script&gt;\n    &lt;script src=&quot;https://cdn.jsdelivr.net/npm/bootstrap@5.2.2/dist/js/bootstrap.bundle.min.js&quot;&gt;&lt;/script&gt;\n    &lt;script src=&quot;https://cdnjs.cloudflare.com/ajax/libs/Leaflet.awesome-markers/2.0.2/leaflet.awesome-markers.js&quot;&gt;&lt;/script&gt;\n    &lt;link rel=&quot;stylesheet&quot; href=&quot;https://cdn.jsdelivr.net/npm/leaflet@1.9.3/dist/leaflet.css&quot;/&gt;\n    &lt;link rel=&quot;stylesheet&quot; href=&quot;https://cdn.jsdelivr.net/npm/bootstrap@5.2.2/dist/css/bootstrap.min.css&quot;/&gt;\n    &lt;link rel=&quot;stylesheet&quot; href=&quot;https://netdna.bootstrapcdn.com/bootstrap/3.0.0/css/bootstrap.min.css&quot;/&gt;\n    &lt;link rel=&quot;stylesheet&quot; href=&quot;https://cdn.jsdelivr.net/npm/@fortawesome/fontawesome-free@6.2.0/css/all.min.css&quot;/&gt;\n    &lt;link rel=&quot;stylesheet&quot; href=&quot;https://cdnjs.cloudflare.com/ajax/libs/Leaflet.awesome-markers/2.0.2/leaflet.awesome-markers.css&quot;/&gt;\n    &lt;link rel=&quot;stylesheet&quot; href=&quot;https://cdn.jsdelivr.net/gh/python-visualization/folium/folium/templates/leaflet.awesome.rotate.min.css&quot;/&gt;\n    \n            &lt;meta name=&quot;viewport&quot; content=&quot;width=device-width,\n                initial-scale=1.0, maximum-scale=1.0, user-scalable=no&quot; /&gt;\n            &lt;style&gt;\n                #map_868cfd3bfce9387fe677551cfeee3add {\n                    position: relative;\n                    width: 100.0%;\n                    height: 100.0%;\n                    left: 0.0%;\n                    top: 0.0%;\n                }\n                .leaflet-container { font-size: 1rem; }\n            &lt;/style&gt;\n        \n&lt;/head&gt;\n&lt;body&gt;\n    \n    \n            &lt;div class=&quot;folium-map&quot; id=&quot;map_868cfd3bfce9387fe677551cfeee3add&quot; &gt;&lt;/div&gt;\n        \n&lt;/body&gt;\n&lt;script&gt;\n    \n    \n            var map_868cfd3bfce9387fe677551cfeee3add = L.map(\n                &quot;map_868cfd3bfce9387fe677551cfeee3add&quot;,\n                {\n                    center: [0.0, 0.0],\n                    crs: L.CRS.EPSG3857,\n                    zoom: 2,\n                    zoomControl: true,\n                    preferCanvas: false,\n                }\n            );\n\n            \n\n        \n    \n            var tile_layer_b1bd70edd32d512e22ce9be475fe1e24 = L.tileLayer(\n                &quot;https://{s}.tile.openstreetmap.org/{z}/{x}/{y}.png&quot;,\n                {&quot;attribution&quot;: &quot;Data by \\u0026copy; \\u003ca target=\\&quot;_blank\\&quot; href=\\&quot;http://openstreetmap.org\\&quot;\\u003eOpenStreetMap\\u003c/a\\u003e, under \\u003ca target=\\&quot;_blank\\&quot; href=\\&quot;http://www.openstreetmap.org/copyright\\&quot;\\u003eODbL\\u003c/a\\u003e.&quot;, &quot;detectRetina&quot;: false, &quot;maxNativeZoom&quot;: 18, &quot;maxZoom&quot;: 18, &quot;minZoom&quot;: 0, &quot;noWrap&quot;: false, &quot;opacity&quot;: 1, &quot;subdomains&quot;: &quot;abc&quot;, &quot;tms&quot;: false}\n            ).addTo(map_868cfd3bfce9387fe677551cfeee3add);\n        \n    \n            var marker_513f0b6f1586cf71081df5e882e46db4 = L.marker(\n                [51.6270241, -0.1591149],\n                {}\n            ).addTo(map_868cfd3bfce9387fe677551cfeee3add);\n        \n    \n            var marker_cb61dbf5679b3cd21cc44487b0636d1e = L.marker(\n                [51.6348846, -0.2366431],\n                {}\n            ).addTo(map_868cfd3bfce9387fe677551cfeee3add);\n        \n    \n            var marker_0854875eab0589b50a1357395b7abf95 = L.marker(\n                [51.647294, -0.1888755],\n                {}\n            ).addTo(map_868cfd3bfce9387fe677551cfeee3add);\n        \n    \n            var marker_2dd857510cd64742604eadf7f2951fcb = L.marker(\n                [51.6475068, -0.1547749],\n                {}\n            ).addTo(map_868cfd3bfce9387fe677551cfeee3add);\n        \n    \n            var marker_55ebc2b6030421879f3a43ef35b31e88 = L.marker(\n                [51.5852774, -0.1897057],\n                {}\n            ).addTo(map_868cfd3bfce9387fe677551cfeee3add);\n        \n    \n            var marker_ef1a7de8514251c4e86073aa1eff912a = L.marker(\n                [51.627581, -0.2715286],\n                {}\n            ).addTo(map_868cfd3bfce9387fe677551cfeee3add);\n        \n    \n            var marker_4df493107498780decca181021699896 = L.marker(\n                [51.62573305, -0.17634573765806277],\n                {}\n            ).addTo(map_868cfd3bfce9387fe677551cfeee3add);\n        \n    \n            var marker_5f5ef1bd560d55053c17ada405860aa8 = L.marker(\n                [51.6172993, -0.1412389],\n                {}\n            ).addTo(map_868cfd3bfce9387fe677551cfeee3add);\n        \n    \n            var marker_3637376d255f500801cd63b0c7f32662 = L.marker(\n                [51.6172993, -0.1412389],\n                {}\n            ).addTo(map_868cfd3bfce9387fe677551cfeee3add);\n        \n    \n            var marker_3339bfc647c6410cf814060a3768b4dd = L.marker(\n                [51.5905668, -0.20064],\n                {}\n            ).addTo(map_868cfd3bfce9387fe677551cfeee3add);\n        \n    \n            var marker_0697e695abc291eb1e5a68f20a4c5c59 = L.marker(\n                [51.5898476, -0.16085],\n                {}\n            ).addTo(map_868cfd3bfce9387fe677551cfeee3add);\n        \n    \n            var marker_5adc39c6e591ea88ab2de2821ac23ebf = L.marker(\n                [51.6233421, -0.1894525],\n                {}\n            ).addTo(map_868cfd3bfce9387fe677551cfeee3add);\n        \n    \n            var marker_ff31637fdd03f38f85d0c92539d482f4 = L.marker(\n                [51.5618877, -0.21403],\n                {}\n            ).addTo(map_868cfd3bfce9387fe677551cfeee3add);\n        \n    \n            var marker_d7217b01b8ac4cb41f43d42a5fdc317c = L.marker(\n                [51.5971484, -0.245309],\n                {}\n            ).addTo(map_868cfd3bfce9387fe677551cfeee3add);\n        \n    \n            var marker_c14577be0cc106d1dd99fc8875830472 = L.marker(\n                [51.6412995, -0.1667761],\n                {}\n            ).addTo(map_868cfd3bfce9387fe677551cfeee3add);\n        \n    \n            var marker_0323e826325cec1180850b9b4c6992ad = L.marker(\n                [51.5590709, -0.217175],\n                {}\n            ).addTo(map_868cfd3bfce9387fe677551cfeee3add);\n        \n    \n            var marker_3794e67636a78d446bdab05bc7f0f1b3 = L.marker(\n                [51.6536034, -0.1765045],\n                {}\n            ).addTo(map_868cfd3bfce9387fe677551cfeee3add);\n        \n    \n            var marker_d9ef5b894ff98a3fad5a7f84780c4ff8 = L.marker(\n                [51.6337229, -0.1741374],\n                {}\n            ).addTo(map_868cfd3bfce9387fe677551cfeee3add);\n        \n    \n            var marker_04ad698bc84d936d7bab84dcd9f93562 = L.marker(\n                [51.6304321, -0.1813998],\n                {}\n            ).addTo(map_868cfd3bfce9387fe677551cfeee3add);\n        \n    \n            var marker_80755af492dc16ab40532c8c46d2be80 = L.marker(\n                [51.6248111, -0.2793992],\n                {}\n            ).addTo(map_868cfd3bfce9387fe677551cfeee3add);\n        \n    \n            var marker_9907bd237f92969fa7f9da33b285a676 = L.marker(\n                [51.5780207, -0.1818634],\n                {}\n            ).addTo(map_868cfd3bfce9387fe677551cfeee3add);\n        \n    \n            var marker_58062bf1b7aded0337bd1961a7f4fe44 = L.marker(\n                [51.6189384, -0.1667434],\n                {}\n            ).addTo(map_868cfd3bfce9387fe677551cfeee3add);\n        \n    \n            var marker_9bfdf898d51d2f3243198aa73d9bd852 = L.marker(\n                [51.6068301, -0.1493147],\n                {}\n            ).addTo(map_868cfd3bfce9387fe677551cfeee3add);\n        \n    \n            var marker_4164578087462a3bf55313abacdbf277 = L.marker(\n                [51.6159494, -0.1431056],\n                {}\n            ).addTo(map_868cfd3bfce9387fe677551cfeee3add);\n        \n    \n            var marker_aaaca46dd495ba78f3cf53f691a579f3 = L.marker(\n                [51.6076699, -0.1676801],\n                {}\n            ).addTo(map_868cfd3bfce9387fe677551cfeee3add);\n        \n    \n            var marker_8b7f7256363b5d827827b025c3efab88 = L.marker(\n                [51.6420341, -0.1816222],\n                {}\n            ).addTo(map_868cfd3bfce9387fe677551cfeee3add);\n        \n    \n            var marker_798a1736a45ed0191e8755f64ec9d5bc = L.marker(\n                [51.6585588, -0.1813807],\n                {}\n            ).addTo(map_868cfd3bfce9387fe677551cfeee3add);\n        \n    \n            var marker_d92b996e54df7e45aaf49ec7a72d648e = L.marker(\n                [51.665997, -0.1986617],\n                {}\n            ).addTo(map_868cfd3bfce9387fe677551cfeee3add);\n        \n    \n            var marker_3294789f8c74424b786260e1c5104b00 = L.marker(\n                [51.665997, -0.1986617],\n                {}\n            ).addTo(map_868cfd3bfce9387fe677551cfeee3add);\n        \n    \n            var marker_ecf4297c970ba2f0482de957a3f10b30 = L.marker(\n                [51.6576584, -0.2000532],\n                {}\n            ).addTo(map_868cfd3bfce9387fe677551cfeee3add);\n        \n    \n            var marker_dab4172befe310e963de99df090c3fb8 = L.marker(\n                [51.5780207, -0.1818634],\n                {}\n            ).addTo(map_868cfd3bfce9387fe677551cfeee3add);\n        \n    \n            var marker_85bf2dc80b2599a837bb00c2ed823924 = L.marker(\n                [51.6249066, -0.2651778],\n                {}\n            ).addTo(map_868cfd3bfce9387fe677551cfeee3add);\n        \n    \n            var marker_e4f47ee544134a3346ec562029018a5b = L.marker(\n                [51.601216, -0.2520914],\n                {}\n            ).addTo(map_868cfd3bfce9387fe677551cfeee3add);\n        \n    \n            var marker_7d59cb1119bf6d02edd5468a4605519a = L.marker(\n                [51.6495448, -0.1818054],\n                {}\n            ).addTo(map_868cfd3bfce9387fe677551cfeee3add);\n        \n    \n            var marker_fa5d57c25cfae4f2233831918df2189f = L.marker(\n                [51.62001, -0.2658767],\n                {}\n            ).addTo(map_868cfd3bfce9387fe677551cfeee3add);\n        \n    \n            var marker_d37e54792042bc9abe7f4a65919841b5 = L.marker(\n                [51.6391319, -0.1696625],\n                {}\n            ).addTo(map_868cfd3bfce9387fe677551cfeee3add);\n        \n    \n            var marker_1ed00f028c881d95f31d7540a2a07b4d = L.marker(\n                [51.5976413, -0.141808],\n                {}\n            ).addTo(map_868cfd3bfce9387fe677551cfeee3add);\n        \n    \n            var marker_64e9e25abd0c2bbb7479e19b851558ae = L.marker(\n                [51.652927, -0.2050944],\n                {}\n            ).addTo(map_868cfd3bfce9387fe677551cfeee3add);\n        \n    \n            var marker_91b488c79da802af2de1951ac74374c8 = L.marker(\n                [51.6160466, -0.1426489],\n                {}\n            ).addTo(map_868cfd3bfce9387fe677551cfeee3add);\n        \n    \n            var marker_11a2deb4717e40d088d7a885924456e0 = L.marker(\n                [51.6419606, -0.1951881],\n                {}\n            ).addTo(map_868cfd3bfce9387fe677551cfeee3add);\n        \n    \n            var marker_9ab304f25384752003f258e7085d9996 = L.marker(\n                [51.6557202, -0.1874701],\n                {}\n            ).addTo(map_868cfd3bfce9387fe677551cfeee3add);\n        \n    \n            var marker_e17cb294a059cdbe5f29c429864437ff = L.marker(\n                [51.6190757, -0.2446945],\n                {}\n            ).addTo(map_868cfd3bfce9387fe677551cfeee3add);\n        \n    \n            var marker_e52ef06ef3abfecc48f9f25600f03a57 = L.marker(\n                [51.5852774, -0.1897057],\n                {}\n            ).addTo(map_868cfd3bfce9387fe677551cfeee3add);\n        \n    \n            var marker_4ffdda6c77417efceb35ccee4421244a = L.marker(\n                [51.6497469, -0.1545938],\n                {}\n            ).addTo(map_868cfd3bfce9387fe677551cfeee3add);\n        \n    \n            var marker_68743913c8b3cbc380e86f14c645d16c = L.marker(\n                [51.6101223, -0.2533068],\n                {}\n            ).addTo(map_868cfd3bfce9387fe677551cfeee3add);\n        \n    \n            var marker_e81ffdd74d9e75635066015dc7109e4a = L.marker(\n                [51.6425, -0.1799637],\n                {}\n            ).addTo(map_868cfd3bfce9387fe677551cfeee3add);\n        \n    \n            var marker_ba9a3e6bf6abb8f7be30514cd9006def = L.marker(\n                [51.58473, -0.181122],\n                {}\n            ).addTo(map_868cfd3bfce9387fe677551cfeee3add);\n        \n    \n            var marker_b33945ac719f81600b1b225e576f02b2 = L.marker(\n                [51.6427928, -0.1505222],\n                {}\n            ).addTo(map_868cfd3bfce9387fe677551cfeee3add);\n        \n    \n            var marker_23cc9f4ae7b25eed4e54d5510302e1dc = L.marker(\n                [51.5915218, -0.1678593],\n                {}\n            ).addTo(map_868cfd3bfce9387fe677551cfeee3add);\n        \n    \n            var marker_655cc68e5c872c4a359490f976fa4605 = L.marker(\n                [51.6512167, -0.1964628],\n                {}\n            ).addTo(map_868cfd3bfce9387fe677551cfeee3add);\n        \n    \n            var marker_8a672211c28afa15fc53511fff6f8528 = L.marker(\n                [51.6080335, -0.2210936],\n                {}\n            ).addTo(map_868cfd3bfce9387fe677551cfeee3add);\n        \n    \n            var marker_4ec61c45147690ae8f3cf1c87f8b07ea = L.marker(\n                [51.6156234, -0.2408196],\n                {}\n            ).addTo(map_868cfd3bfce9387fe677551cfeee3add);\n        \n    \n            var marker_f966fa8b365622a080faebfdd3a87670 = L.marker(\n                [51.6659552, -0.1759686],\n                {}\n            ).addTo(map_868cfd3bfce9387fe677551cfeee3add);\n        \n    \n            var marker_69e053cd52049cb3c05d8c7d4edd708a = L.marker(\n                [51.5987262, -0.2611732],\n                {}\n            ).addTo(map_868cfd3bfce9387fe677551cfeee3add);\n        \n    \n            var marker_757cbcebaa6a5f2f70a005f9c2f4c5c8 = L.marker(\n                [51.6231058, -0.2602752],\n                {}\n            ).addTo(map_868cfd3bfce9387fe677551cfeee3add);\n        \n    \n            var marker_a216647695716f46ce2ad0893161b13e = L.marker(\n                [51.5852774, -0.1897057],\n                {}\n            ).addTo(map_868cfd3bfce9387fe677551cfeee3add);\n        \n    \n            var marker_4403fe326c0bdb2c128764f992107bdd = L.marker(\n                [51.6360302, -0.148281],\n                {}\n            ).addTo(map_868cfd3bfce9387fe677551cfeee3add);\n        \n    \n            var marker_0e8431fc229bd980fc4db9e61d7eb625 = L.marker(\n                [51.6360302, -0.148281],\n                {}\n            ).addTo(map_868cfd3bfce9387fe677551cfeee3add);\n        \n    \n            var marker_98a7c9329d81a7b7a1ab13f04e2d1fe5 = L.marker(\n                [51.6360302, -0.148281],\n                {}\n            ).addTo(map_868cfd3bfce9387fe677551cfeee3add);\n        \n    \n            var marker_a8d3836a75ee8227a096090d08a93444 = L.marker(\n                [51.5972109, -0.172721],\n                {}\n            ).addTo(map_868cfd3bfce9387fe677551cfeee3add);\n        \n    \n            var marker_6f7ba728960eee06165b0b62b7b0ae9b = L.marker(\n                [51.62883635, -0.16741697897054877],\n                {}\n            ).addTo(map_868cfd3bfce9387fe677551cfeee3add);\n        \n    \n            var marker_10a81b3183b2b33d7ff1e56fa0ae64a7 = L.marker(\n                [51.6523273, -0.2032662],\n                {}\n            ).addTo(map_868cfd3bfce9387fe677551cfeee3add);\n        \n    \n            var marker_415d2e9c01bab78f2585077e80e7cc9c = L.marker(\n                [51.5898, -0.1801652],\n                {}\n            ).addTo(map_868cfd3bfce9387fe677551cfeee3add);\n        \n    \n            var marker_3fb88ffe0e266a125510ab5d3d1e94e7 = L.marker(\n                [51.6070713, -0.2681802],\n                {}\n            ).addTo(map_868cfd3bfce9387fe677551cfeee3add);\n        \n    \n            var marker_75d5f30699571b0414ae865b6effd7ed = L.marker(\n                [51.6155933, -0.1788524],\n                {}\n            ).addTo(map_868cfd3bfce9387fe677551cfeee3add);\n        \n    \n            var marker_2941c1d4130e88ff4f2da57326c2dca4 = L.marker(\n                [51.6480411, -0.2250658],\n                {}\n            ).addTo(map_868cfd3bfce9387fe677551cfeee3add);\n        \n    \n            var marker_f5efb9f500281591d64ec8dea4dc5475 = L.marker(\n                [51.622795, -0.1608323],\n                {}\n            ).addTo(map_868cfd3bfce9387fe677551cfeee3add);\n        \n    \n            var marker_c41ec9780b1f4165c2fe8b6e3f4967a4 = L.marker(\n                [51.652927, -0.2050944],\n                {}\n            ).addTo(map_868cfd3bfce9387fe677551cfeee3add);\n        \n    \n            var marker_16638822adf0f90142dcffc09cf8b820 = L.marker(\n                [51.6498907, -0.2429804],\n                {}\n            ).addTo(map_868cfd3bfce9387fe677551cfeee3add);\n        \n    \n            var marker_2f0d37ade19b40b79d9e32238dde3290 = L.marker(\n                [51.6498907, -0.2429804],\n                {}\n            ).addTo(map_868cfd3bfce9387fe677551cfeee3add);\n        \n    \n            var marker_0566099444f853f48cfbd2ff50a392a6 = L.marker(\n                [51.6362066, -0.1771437],\n                {}\n            ).addTo(map_868cfd3bfce9387fe677551cfeee3add);\n        \n    \n            var marker_b6e77d2a4aeb92f8fd4870e0cad33682 = L.marker(\n                [51.586753, -0.2454402],\n                {}\n            ).addTo(map_868cfd3bfce9387fe677551cfeee3add);\n        \n    \n            var marker_9377ab18a1ebc3167c5be4e98fa078dc = L.marker(\n                [51.6529841, -0.1774725],\n                {}\n            ).addTo(map_868cfd3bfce9387fe677551cfeee3add);\n        \n    \n            var marker_4e668b426e16f2b2f0259e40a7b23b64 = L.marker(\n                [51.6010982, -0.2611706],\n                {}\n            ).addTo(map_868cfd3bfce9387fe677551cfeee3add);\n        \n    \n            var marker_33f86c92874038cb78609c21538081a8 = L.marker(\n                [51.6441723, -0.2151581],\n                {}\n            ).addTo(map_868cfd3bfce9387fe677551cfeee3add);\n        \n    \n            var marker_3e47cb5ed409ad100c71761250d6e8ad = L.marker(\n                [51.6165621, -0.2851993],\n                {}\n            ).addTo(map_868cfd3bfce9387fe677551cfeee3add);\n        \n    \n            var marker_d359f2bad14bd18d6e2a8cbf0e7ae6e6 = L.marker(\n                [51.6243807, -0.2641444],\n                {}\n            ).addTo(map_868cfd3bfce9387fe677551cfeee3add);\n        \n    \n            var marker_5bfc8d6d19310d5a3c9c2e6110bb5651 = L.marker(\n                [51.5782313, -0.2275916],\n                {}\n            ).addTo(map_868cfd3bfce9387fe677551cfeee3add);\n        \n    \n            var marker_4f5a9655cb5b917b3cb264267d4b2f6d = L.marker(\n                [51.5782313, -0.2275916],\n                {}\n            ).addTo(map_868cfd3bfce9387fe677551cfeee3add);\n        \n    \n            var marker_38a75759e4e25c3eee555c4347f3010d = L.marker(\n                [51.6233874, -0.1791846],\n                {}\n            ).addTo(map_868cfd3bfce9387fe677551cfeee3add);\n        \n    \n            var marker_00a21d9b579e40fcfdff06e8989a6ed6 = L.marker(\n                [51.6113472, -0.256327],\n                {}\n            ).addTo(map_868cfd3bfce9387fe677551cfeee3add);\n        \n    \n            var marker_90a83a7023d8ca6c501d314eee1e4330 = L.marker(\n                [51.6161787, -0.217749],\n                {}\n            ).addTo(map_868cfd3bfce9387fe677551cfeee3add);\n        \n    \n            var marker_b2ff33d8046fc74097af59625535ada3 = L.marker(\n                [51.6275628, -0.1949543],\n                {}\n            ).addTo(map_868cfd3bfce9387fe677551cfeee3add);\n        \n    \n            var marker_48beb06d857c0b9b5865b2c8d6bb8186 = L.marker(\n                [51.6543958, -0.1818646],\n                {}\n            ).addTo(map_868cfd3bfce9387fe677551cfeee3add);\n        \n    \n            var marker_73e074b983670763d725deeb0b337659 = L.marker(\n                [51.6543958, -0.1818646],\n                {}\n            ).addTo(map_868cfd3bfce9387fe677551cfeee3add);\n        \n    \n            var marker_4ae6f67264ac1a56909b885ea026712f = L.marker(\n                [51.6478037, -0.1614396],\n                {}\n            ).addTo(map_868cfd3bfce9387fe677551cfeee3add);\n        \n    \n            var marker_0ff56456a75ce273a58a4ee3c040f2e7 = L.marker(\n                [51.5858107, -0.1676691],\n                {}\n            ).addTo(map_868cfd3bfce9387fe677551cfeee3add);\n        \n    \n            var marker_dd048c61eac3e79a94d8b9105847465f = L.marker(\n                [51.6074622, -0.2578273],\n                {}\n            ).addTo(map_868cfd3bfce9387fe677551cfeee3add);\n        \n    \n            var marker_5fbadf7e2022435f24645baf98021bb7 = L.marker(\n                [51.5752676, -0.2409235],\n                {}\n            ).addTo(map_868cfd3bfce9387fe677551cfeee3add);\n        \n    \n            var marker_4fcfdc12da6ed692e132157dd1032abb = L.marker(\n                [51.6128989, -0.2665056],\n                {}\n            ).addTo(map_868cfd3bfce9387fe677551cfeee3add);\n        \n    \n            var marker_820937cf94abc9f62ae302dc6e1be41f = L.marker(\n                [51.6304321, -0.1813998],\n                {}\n            ).addTo(map_868cfd3bfce9387fe677551cfeee3add);\n        \n    \n            var marker_e6980557dcb0429c8bd647b3f9b47962 = L.marker(\n                [51.5962716, -0.2044861],\n                {}\n            ).addTo(map_868cfd3bfce9387fe677551cfeee3add);\n        \n    \n            var marker_3139790a38fc1f200c1601dca85ba8c9 = L.marker(\n                [51.6062355, -0.2503388],\n                {}\n            ).addTo(map_868cfd3bfce9387fe677551cfeee3add);\n        \n    \n            var marker_7a8e2b05948e92ca31918f507ecc1343 = L.marker(\n                [51.5752676, -0.2409235],\n                {}\n            ).addTo(map_868cfd3bfce9387fe677551cfeee3add);\n        \n    \n            var marker_024878e79c49bae3b511ef194eebbe28 = L.marker(\n                [51.6103559, -0.16851],\n                {}\n            ).addTo(map_868cfd3bfce9387fe677551cfeee3add);\n        \n    \n            var marker_7abbdd4732be167dde8187dfe8184661 = L.marker(\n                [51.6175086, -0.1808911],\n                {}\n            ).addTo(map_868cfd3bfce9387fe677551cfeee3add);\n        \n    \n            var marker_af67027af04bc93277d63e4d0fbfdb71 = L.marker(\n                [51.5752676, -0.2409235],\n                {}\n            ).addTo(map_868cfd3bfce9387fe677551cfeee3add);\n        \n    \n            var marker_0e1236f71fff391e695251a63610ff50 = L.marker(\n                [51.6460435, -0.1723154],\n                {}\n            ).addTo(map_868cfd3bfce9387fe677551cfeee3add);\n        \n&lt;/script&gt;\n&lt;/html&gt;\" style=\"position:absolute;width:100%;height:100%;left:0;top:0;border:none !important;\" allowfullscreen webkitallowfullscreen mozallowfullscreen></iframe></div></div>"
     },
     "execution_count": 46,
     "metadata": {},
     "output_type": "execute_result"
    }
   ],
   "source": [
    "geolocator = Nominatim(user_agent=\"my_app\")\n",
    "\n",
    "def geocode_location(address, town, postal_code):\n",
    "    try:\n",
    "        location = geolocator.geocode(f\"{address}, {town}, {postal_code}\")\n",
    "        return location.latitude, location.longitude\n",
    "    except:\n",
    "        return None\n",
    "\n",
    "open_spaces['Coordinates'] = open_spaces.apply(lambda row: geocode_location(row['Address'], row['Town'], row['Postal Code']), axis=1)\n",
    "\n",
    "# Create a map\n",
    "m = folium.Map(location=[0, 0], zoom_start=2)\n",
    "\n",
    "# Plot the points on the map\n",
    "for index, row in open_spaces.iterrows():\n",
    "    coordinates = row['Coordinates']\n",
    "    if coordinates:\n",
    "        lat, lon = coordinates\n",
    "        folium.Marker([lat, lon]).add_to(m)\n",
    "\n",
    "# Display the map in the Jupyter Notebook\n",
    "m"
   ],
   "metadata": {
    "collapsed": false
   }
  },
  {
   "cell_type": "markdown",
   "source": [
    "# Police Stations (Done)"
   ],
   "metadata": {
    "collapsed": false
   }
  },
  {
   "cell_type": "code",
   "execution_count": 32,
   "metadata": {},
   "outputs": [
    {
     "data": {
      "text/plain": "                      station_name   latitude  longitude\n0       Borehamwood Police Station  51.659687  -0.268393\n1         Colindale Police Station  51.597298  -0.241123\n2          Edmonton Police Station  51.625293  -0.056666\n3         Tottenham Police Station  51.591319  -0.069277\n4                    Finsbury Park  51.565472  -0.102220\n5      Kentish Town Police Station  51.551061  -0.141417\n6           Wembley Police Station  51.552916  -0.296270\n7            Harrow Police Station  51.627998  -0.301764\n8        Paddington Police Station  51.525786  -0.163190\n9            Euston Police Station  51.533273  -0.126917\n10  Stoke Newington Police Station  51.558533  -0.073661\n11            Oxhey Police Station  51.626506  -0.387938",
      "text/html": "<div>\n<style scoped>\n    .dataframe tbody tr th:only-of-type {\n        vertical-align: middle;\n    }\n\n    .dataframe tbody tr th {\n        vertical-align: top;\n    }\n\n    .dataframe thead th {\n        text-align: right;\n    }\n</style>\n<table border=\"1\" class=\"dataframe\">\n  <thead>\n    <tr style=\"text-align: right;\">\n      <th></th>\n      <th>station_name</th>\n      <th>latitude</th>\n      <th>longitude</th>\n    </tr>\n  </thead>\n  <tbody>\n    <tr>\n      <th>0</th>\n      <td>Borehamwood Police Station</td>\n      <td>51.659687</td>\n      <td>-0.268393</td>\n    </tr>\n    <tr>\n      <th>1</th>\n      <td>Colindale Police Station</td>\n      <td>51.597298</td>\n      <td>-0.241123</td>\n    </tr>\n    <tr>\n      <th>2</th>\n      <td>Edmonton Police Station</td>\n      <td>51.625293</td>\n      <td>-0.056666</td>\n    </tr>\n    <tr>\n      <th>3</th>\n      <td>Tottenham Police Station</td>\n      <td>51.591319</td>\n      <td>-0.069277</td>\n    </tr>\n    <tr>\n      <th>4</th>\n      <td>Finsbury Park</td>\n      <td>51.565472</td>\n      <td>-0.102220</td>\n    </tr>\n    <tr>\n      <th>5</th>\n      <td>Kentish Town Police Station</td>\n      <td>51.551061</td>\n      <td>-0.141417</td>\n    </tr>\n    <tr>\n      <th>6</th>\n      <td>Wembley Police Station</td>\n      <td>51.552916</td>\n      <td>-0.296270</td>\n    </tr>\n    <tr>\n      <th>7</th>\n      <td>Harrow Police Station</td>\n      <td>51.627998</td>\n      <td>-0.301764</td>\n    </tr>\n    <tr>\n      <th>8</th>\n      <td>Paddington Police Station</td>\n      <td>51.525786</td>\n      <td>-0.163190</td>\n    </tr>\n    <tr>\n      <th>9</th>\n      <td>Euston Police Station</td>\n      <td>51.533273</td>\n      <td>-0.126917</td>\n    </tr>\n    <tr>\n      <th>10</th>\n      <td>Stoke Newington Police Station</td>\n      <td>51.558533</td>\n      <td>-0.073661</td>\n    </tr>\n    <tr>\n      <th>11</th>\n      <td>Oxhey Police Station</td>\n      <td>51.626506</td>\n      <td>-0.387938</td>\n    </tr>\n  </tbody>\n</table>\n</div>"
     },
     "execution_count": 32,
     "metadata": {},
     "output_type": "execute_result"
    }
   ],
   "source": [
    "police_stations = pd.read_csv('data/police_stations.csv')\n",
    "police_stations"
   ]
  },
  {
   "cell_type": "code",
   "execution_count": 33,
   "metadata": {},
   "outputs": [
    {
     "data": {
      "text/plain": "<folium.folium.Map at 0x7f6905d413f0>",
      "text/html": "<div style=\"width:100%;\"><div style=\"position:relative;width:100%;height:0;padding-bottom:60%;\"><span style=\"color:#565656\">Make this Notebook Trusted to load map: File -> Trust Notebook</span><iframe srcdoc=\"&lt;!DOCTYPE html&gt;\n&lt;html&gt;\n&lt;head&gt;\n    \n    &lt;meta http-equiv=&quot;content-type&quot; content=&quot;text/html; charset=UTF-8&quot; /&gt;\n    \n        &lt;script&gt;\n            L_NO_TOUCH = false;\n            L_DISABLE_3D = false;\n        &lt;/script&gt;\n    \n    &lt;style&gt;html, body {width: 100%;height: 100%;margin: 0;padding: 0;}&lt;/style&gt;\n    &lt;style&gt;#map {position:absolute;top:0;bottom:0;right:0;left:0;}&lt;/style&gt;\n    &lt;script src=&quot;https://cdn.jsdelivr.net/npm/leaflet@1.9.3/dist/leaflet.js&quot;&gt;&lt;/script&gt;\n    &lt;script src=&quot;https://code.jquery.com/jquery-1.12.4.min.js&quot;&gt;&lt;/script&gt;\n    &lt;script src=&quot;https://cdn.jsdelivr.net/npm/bootstrap@5.2.2/dist/js/bootstrap.bundle.min.js&quot;&gt;&lt;/script&gt;\n    &lt;script src=&quot;https://cdnjs.cloudflare.com/ajax/libs/Leaflet.awesome-markers/2.0.2/leaflet.awesome-markers.js&quot;&gt;&lt;/script&gt;\n    &lt;link rel=&quot;stylesheet&quot; href=&quot;https://cdn.jsdelivr.net/npm/leaflet@1.9.3/dist/leaflet.css&quot;/&gt;\n    &lt;link rel=&quot;stylesheet&quot; href=&quot;https://cdn.jsdelivr.net/npm/bootstrap@5.2.2/dist/css/bootstrap.min.css&quot;/&gt;\n    &lt;link rel=&quot;stylesheet&quot; href=&quot;https://netdna.bootstrapcdn.com/bootstrap/3.0.0/css/bootstrap.min.css&quot;/&gt;\n    &lt;link rel=&quot;stylesheet&quot; href=&quot;https://cdn.jsdelivr.net/npm/@fortawesome/fontawesome-free@6.2.0/css/all.min.css&quot;/&gt;\n    &lt;link rel=&quot;stylesheet&quot; href=&quot;https://cdnjs.cloudflare.com/ajax/libs/Leaflet.awesome-markers/2.0.2/leaflet.awesome-markers.css&quot;/&gt;\n    &lt;link rel=&quot;stylesheet&quot; href=&quot;https://cdn.jsdelivr.net/gh/python-visualization/folium/folium/templates/leaflet.awesome.rotate.min.css&quot;/&gt;\n    \n            &lt;meta name=&quot;viewport&quot; content=&quot;width=device-width,\n                initial-scale=1.0, maximum-scale=1.0, user-scalable=no&quot; /&gt;\n            &lt;style&gt;\n                #map_cb153250e737b064869c75552117b78f {\n                    position: relative;\n                    width: 100.0%;\n                    height: 100.0%;\n                    left: 0.0%;\n                    top: 0.0%;\n                }\n                .leaflet-container { font-size: 1rem; }\n            &lt;/style&gt;\n        \n&lt;/head&gt;\n&lt;body&gt;\n    \n    \n            &lt;div class=&quot;folium-map&quot; id=&quot;map_cb153250e737b064869c75552117b78f&quot; &gt;&lt;/div&gt;\n        \n&lt;/body&gt;\n&lt;script&gt;\n    \n    \n            var map_cb153250e737b064869c75552117b78f = L.map(\n                &quot;map_cb153250e737b064869c75552117b78f&quot;,\n                {\n                    center: [51.5845950055677, -0.18573634064390512],\n                    crs: L.CRS.EPSG3857,\n                    zoom: 4,\n                    zoomControl: true,\n                    preferCanvas: false,\n                }\n            );\n\n            \n\n        \n    \n            var tile_layer_9e559741c3b040b163b38cb16f97d0d8 = L.tileLayer(\n                &quot;https://{s}.tile.openstreetmap.org/{z}/{x}/{y}.png&quot;,\n                {&quot;attribution&quot;: &quot;Data by \\u0026copy; \\u003ca target=\\&quot;_blank\\&quot; href=\\&quot;http://openstreetmap.org\\&quot;\\u003eOpenStreetMap\\u003c/a\\u003e, under \\u003ca target=\\&quot;_blank\\&quot; href=\\&quot;http://www.openstreetmap.org/copyright\\&quot;\\u003eODbL\\u003c/a\\u003e.&quot;, &quot;detectRetina&quot;: false, &quot;maxNativeZoom&quot;: 18, &quot;maxZoom&quot;: 18, &quot;minZoom&quot;: 0, &quot;noWrap&quot;: false, &quot;opacity&quot;: 1, &quot;subdomains&quot;: &quot;abc&quot;, &quot;tms&quot;: false}\n            ).addTo(map_cb153250e737b064869c75552117b78f);\n        \n    \n            var marker_5c9fb1a7f0fa408f827bafd9fc8a3336 = L.marker(\n                [51.6596868360957, -0.268392829323725],\n                {}\n            ).addTo(map_cb153250e737b064869c75552117b78f);\n        \n    \n            var marker_73dfef59fd8e83a8a8b6210471cdf2f0 = L.marker(\n                [51.59729756111404, -0.2411230080298641],\n                {}\n            ).addTo(map_cb153250e737b064869c75552117b78f);\n        \n    \n            var marker_ae187e9765d14d98cfa9a04c149466cf = L.marker(\n                [51.625293230612336, -0.0566664782924567],\n                {}\n            ).addTo(map_cb153250e737b064869c75552117b78f);\n        \n    \n            var marker_58a588cf1dc3cde673cfdea30045bc87 = L.marker(\n                [51.59131852716854, -0.0692771867963781],\n                {}\n            ).addTo(map_cb153250e737b064869c75552117b78f);\n        \n    \n            var marker_fef2d629ddf2708f0cc2826768dce14f = L.marker(\n                [51.56547162621726, -0.1022204638019936],\n                {}\n            ).addTo(map_cb153250e737b064869c75552117b78f);\n        \n    \n            var marker_14cd784ed687ba86657fa24907fe2894 = L.marker(\n                [51.55106148373017, -0.1414170663662963],\n                {}\n            ).addTo(map_cb153250e737b064869c75552117b78f);\n        \n    \n            var marker_2be0a52b0d3fb48a5dda8ed7bda56633 = L.marker(\n                [51.55291638945518, -0.2962704425684639],\n                {}\n            ).addTo(map_cb153250e737b064869c75552117b78f);\n        \n    \n            var marker_e5d34ef51e9bf7a70fac0f6bb896801f = L.marker(\n                [51.62799760713012, -0.3017636071744918],\n                {}\n            ).addTo(map_cb153250e737b064869c75552117b78f);\n        \n    \n            var marker_6af4d2b38ef4f544d886178c677197fc = L.marker(\n                [51.52578564409586, -0.1631896372151245],\n                {}\n            ).addTo(map_cb153250e737b064869c75552117b78f);\n        \n    \n            var marker_24d7401f1183c206ff83074b484861dc = L.marker(\n                [51.5332726379573, -0.1269167956983586],\n                {}\n            ).addTo(map_cb153250e737b064869c75552117b78f);\n        \n    \n            var marker_800178cdd5f6a96a14a046b74daa0b20 = L.marker(\n                [51.55853280472514, -0.0736609548158603],\n                {}\n            ).addTo(map_cb153250e737b064869c75552117b78f);\n        \n    \n            var marker_54eb7c4e21cbbd9837f05769b96b32c0 = L.marker(\n                [51.62650571851071, -0.3879376176438486],\n                {}\n            ).addTo(map_cb153250e737b064869c75552117b78f);\n        \n&lt;/script&gt;\n&lt;/html&gt;\" style=\"position:absolute;width:100%;height:100%;left:0;top:0;border:none !important;\" allowfullscreen webkitallowfullscreen mozallowfullscreen></iframe></div></div>"
     },
     "execution_count": 33,
     "metadata": {},
     "output_type": "execute_result"
    }
   ],
   "source": [
    "# Create a map centered on a specific location\n",
    "map_plot = folium.Map(location=[police_stations['latitude'].mean(), police_stations['longitude'].mean()], zoom_start=4)\n",
    "\n",
    "# Add markers to the map for each location\n",
    "for _, row in police_stations.iterrows():\n",
    "    folium.Marker([row['latitude'], row['longitude']]).add_to(map_plot)\n",
    "\n",
    "# Display the map\n",
    "map_plot\n"
   ]
  },
  {
   "cell_type": "markdown",
   "source": [
    "# Using coordinates to divide into wards"
   ],
   "metadata": {
    "collapsed": false
   }
  },
  {
   "cell_type": "code",
   "execution_count": 22,
   "outputs": [],
   "source": [
    "import geopandas as gpd\n",
    "from shapely.geometry import Point\n",
    "\n",
    "wards = gpd.read_file('data/wards_boundaries.geojson')\n",
    "wards=wards[wards['LAD22NM'].str.contains('Barnet')]"
   ],
   "metadata": {
    "collapsed": false
   }
  },
  {
   "cell_type": "code",
   "execution_count": 24,
   "outputs": [
    {
     "data": {
      "text/plain": "         WD22CD                 WD22NM WD22NMW    LAD22CD LAD22NM   BNG_E   \n6137  E05013628            Barnet Vale          E09000003  Barnet  525851  \\\n6138  E05013629         Brunswick Park          E09000003  Barnet  528434   \n6139  E05013630              Burnt Oak          E09000003  Barnet  520483   \n6140  E05013631            Childs Hill          E09000003  Barnet  524959   \n6141  E05013632        Colindale North          E09000003  Barnet  521597   \n6142  E05013633        Colindale South          E09000003  Barnet  521560   \n6143  E05013634            Cricklewood          E09000003  Barnet  523539   \n6144  E05013635            East Barnet          E09000003  Barnet  527474   \n6145  E05013636          East Finchley          E09000003  Barnet  526811   \n6146  E05013637                Edgware          E09000003  Barnet  519396   \n6147  E05013638            Edgwarebury          E09000003  Barnet  519952   \n6148  E05013639    Finchley Church End          E09000003  Barnet  524795   \n6149  E05013640          Friern Barnet          E09000003  Barnet  528147   \n6150  E05013641          Garden Suburb          E09000003  Barnet  526000   \n6151  E05013642          Golders Green          E09000003  Barnet  524451   \n6152  E05013643                 Hendon          E09000003  Barnet  523269   \n6153  E05013644            High Barnet          E09000003  Barnet  523102   \n6154  E05013645              Mill Hill          E09000003  Barnet  522782   \n6155  E05013646  Totteridge & Woodside          E09000003  Barnet  524142   \n6156  E05013647              Underhill          E09000003  Barnet  524348   \n6157  E05013648          West Finchley          E09000003  Barnet  525747   \n6158  E05013649            West Hendon          E09000003  Barnet  522218   \n6159  E05013650              Whetstone          E09000003  Barnet  526810   \n6160  E05013651              Woodhouse          E09000003  Barnet  526831   \n\n       BNG_N     LONG      LAT    Shape_Leng  OBJECTID   \n6137  196154 -0.18229  51.6501   9904.971708      6138  \\\n6138  193714 -0.14587  51.6276   8110.484489      6139   \n6139  190897 -0.26165  51.6040   7387.703152      6140   \n6140  186928 -0.19846  51.5674   9133.604293      6141   \n6141  190729 -0.24563  51.6023   5028.652993      6142   \n6142  189439 -0.24661  51.5907   6021.606739      6143   \n6143  187001 -0.21891  51.5684   7492.552208      6144   \n6144  195561 -0.15906  51.6444   9495.393609      6145   \n6145  190056 -0.17062  51.5951   8316.628214      6146   \n6146  192180 -0.27690  51.6158  11203.851782      6147   \n6147  194111 -0.26821  51.6330  12822.385756      6148   \n6148  190433 -0.19958  51.5989   9502.567305      6149   \n6149  191688 -0.15075  51.6095   8949.768140      6150   \n6150  188530 -0.18287  51.5816  11084.584468      6151   \n6151  188522 -0.20522  51.5818   6717.407065      6152   \n6152  189190 -0.22204  51.5881   8133.757083      6153   \n6153  196447 -0.22190  51.6533  20266.478550      6154   \n6154  191875 -0.22812  51.6123  15478.986541      6155   \n6155  194258 -0.20765  51.6334  18838.083382      6156   \n6156  195516 -0.20423  51.6447  10450.868158      6157   \n6157  191378 -0.18550  51.6072   7124.909018      6158   \n6158  188062 -0.23759  51.5782   9464.514790      6159   \n6159  193821 -0.16928  51.6289   7891.796104      6160   \n6160  191866 -0.16968  51.6114   7799.079220      6161   \n\n                                  GlobalID   \n6137  afc9ae57-c2df-45c6-8bac-78b2a7898712  \\\n6138  6f3920e9-2ebf-443b-be87-460f442e4481   \n6139  aa530121-c48c-4eb0-8a63-13f7d35aab35   \n6140  01c99c6f-73d4-41e7-8279-63139d15790a   \n6141  9af43e27-08d6-4e53-a93b-b1baa18aa4d8   \n6142  f86deda7-a022-48fd-848c-1057d2c85ab8   \n6143  5f8c0ba5-b41c-4e14-81f8-535c08367038   \n6144  dd40ca20-050f-4bb1-a3c3-912694f66faf   \n6145  bd73f5cc-5396-4cb8-8dff-e29bebaa713f   \n6146  430345d7-6b9d-42d9-849e-e60e23427388   \n6147  66a5c04f-b214-4b42-a594-704b5c835c8c   \n6148  f73ee551-fab4-432b-9c8e-0bcd02035445   \n6149  878ed436-7e3d-42de-a2f5-63cf587afd5a   \n6150  4d316f97-4bd8-45be-93f1-55204958bb68   \n6151  eed65206-5968-45be-af0c-8d6069bd3a91   \n6152  270a49a9-91a2-42ee-b4d2-4e6673cc840b   \n6153  12b76489-45f8-411b-8bc2-ade596423d97   \n6154  b679827a-6672-4e12-9563-7977dc5ec12c   \n6155  46c08a5e-ab7d-4304-b73d-36ec4c8355e8   \n6156  22bdecd2-69cf-4271-b87e-bc99b9766366   \n6157  ddfb0834-6e7b-465b-a5d5-69f747639597   \n6158  730c6196-0e41-42aa-993d-ccec1c9c7429   \n6159  2298d265-012e-4a25-95fe-041b8916c127   \n6160  ff9f72b0-c13c-44c0-83bb-b16e711ab839   \n\n                                               geometry  \n6137  POLYGON ((526287.640 197330.160, 526292.100 19...  \n6138  POLYGON ((528925.153 194719.273, 528932.498 19...  \n6139  POLYGON ((521427.748 191756.929, 521454.300 19...  \n6140  POLYGON ((525135.437 187940.796, 525144.100 18...  \n6141  POLYGON ((522095.180 190678.790, 522097.250 19...  \n6142  POLYGON ((522253.631 190045.193, 522253.350 19...  \n6143  POLYGON ((524091.250 187415.850, 524093.200 18...  \n6144  POLYGON ((528648.496 195023.804, 528639.189 19...  \n6145  POLYGON ((527774.857 191224.247, 527771.700 19...  \n6146  POLYGON ((517562.747 194408.129, 517572.867 19...  \n6147  POLYGON ((520680.279 195108.231, 520678.900 19...  \n6148  POLYGON ((526068.960 190155.120, 526016.220 19...  \n6149  POLYGON ((528562.402 192370.004, 528612.804 19...  \n6150  POLYGON ((527483.066 188981.193, 527477.904 18...  \n6151  POLYGON ((525135.437 187940.796, 525115.016 18...  \n6152  POLYGON ((522992.694 190391.188, 523000.000 19...  \n6153  POLYGON ((525814.100 198211.502, 525810.802 19...  \n6154  POLYGON ((524603.450 191113.600, 524615.330 19...  \n6155  POLYGON ((525352.950 195117.350, 525354.875 19...  \n6156  POLYGON ((524885.162 196218.744, 524890.200 19...  \n6157  POLYGON ((526091.440 192438.570, 526104.050 19...  \n6158  POLYGON ((523555.060 187940.264, 523552.900 18...  \n6159  POLYGON ((527287.110 194350.860, 527346.350 19...  \n6160  POLYGON ((527425.740 192830.500, 527432.847 19...  ",
      "text/html": "<div>\n<style scoped>\n    .dataframe tbody tr th:only-of-type {\n        vertical-align: middle;\n    }\n\n    .dataframe tbody tr th {\n        vertical-align: top;\n    }\n\n    .dataframe thead th {\n        text-align: right;\n    }\n</style>\n<table border=\"1\" class=\"dataframe\">\n  <thead>\n    <tr style=\"text-align: right;\">\n      <th></th>\n      <th>WD22CD</th>\n      <th>WD22NM</th>\n      <th>WD22NMW</th>\n      <th>LAD22CD</th>\n      <th>LAD22NM</th>\n      <th>BNG_E</th>\n      <th>BNG_N</th>\n      <th>LONG</th>\n      <th>LAT</th>\n      <th>Shape_Leng</th>\n      <th>OBJECTID</th>\n      <th>GlobalID</th>\n      <th>geometry</th>\n    </tr>\n  </thead>\n  <tbody>\n    <tr>\n      <th>6137</th>\n      <td>E05013628</td>\n      <td>Barnet Vale</td>\n      <td></td>\n      <td>E09000003</td>\n      <td>Barnet</td>\n      <td>525851</td>\n      <td>196154</td>\n      <td>-0.18229</td>\n      <td>51.6501</td>\n      <td>9904.971708</td>\n      <td>6138</td>\n      <td>afc9ae57-c2df-45c6-8bac-78b2a7898712</td>\n      <td>POLYGON ((526287.640 197330.160, 526292.100 19...</td>\n    </tr>\n    <tr>\n      <th>6138</th>\n      <td>E05013629</td>\n      <td>Brunswick Park</td>\n      <td></td>\n      <td>E09000003</td>\n      <td>Barnet</td>\n      <td>528434</td>\n      <td>193714</td>\n      <td>-0.14587</td>\n      <td>51.6276</td>\n      <td>8110.484489</td>\n      <td>6139</td>\n      <td>6f3920e9-2ebf-443b-be87-460f442e4481</td>\n      <td>POLYGON ((528925.153 194719.273, 528932.498 19...</td>\n    </tr>\n    <tr>\n      <th>6139</th>\n      <td>E05013630</td>\n      <td>Burnt Oak</td>\n      <td></td>\n      <td>E09000003</td>\n      <td>Barnet</td>\n      <td>520483</td>\n      <td>190897</td>\n      <td>-0.26165</td>\n      <td>51.6040</td>\n      <td>7387.703152</td>\n      <td>6140</td>\n      <td>aa530121-c48c-4eb0-8a63-13f7d35aab35</td>\n      <td>POLYGON ((521427.748 191756.929, 521454.300 19...</td>\n    </tr>\n    <tr>\n      <th>6140</th>\n      <td>E05013631</td>\n      <td>Childs Hill</td>\n      <td></td>\n      <td>E09000003</td>\n      <td>Barnet</td>\n      <td>524959</td>\n      <td>186928</td>\n      <td>-0.19846</td>\n      <td>51.5674</td>\n      <td>9133.604293</td>\n      <td>6141</td>\n      <td>01c99c6f-73d4-41e7-8279-63139d15790a</td>\n      <td>POLYGON ((525135.437 187940.796, 525144.100 18...</td>\n    </tr>\n    <tr>\n      <th>6141</th>\n      <td>E05013632</td>\n      <td>Colindale North</td>\n      <td></td>\n      <td>E09000003</td>\n      <td>Barnet</td>\n      <td>521597</td>\n      <td>190729</td>\n      <td>-0.24563</td>\n      <td>51.6023</td>\n      <td>5028.652993</td>\n      <td>6142</td>\n      <td>9af43e27-08d6-4e53-a93b-b1baa18aa4d8</td>\n      <td>POLYGON ((522095.180 190678.790, 522097.250 19...</td>\n    </tr>\n    <tr>\n      <th>6142</th>\n      <td>E05013633</td>\n      <td>Colindale South</td>\n      <td></td>\n      <td>E09000003</td>\n      <td>Barnet</td>\n      <td>521560</td>\n      <td>189439</td>\n      <td>-0.24661</td>\n      <td>51.5907</td>\n      <td>6021.606739</td>\n      <td>6143</td>\n      <td>f86deda7-a022-48fd-848c-1057d2c85ab8</td>\n      <td>POLYGON ((522253.631 190045.193, 522253.350 19...</td>\n    </tr>\n    <tr>\n      <th>6143</th>\n      <td>E05013634</td>\n      <td>Cricklewood</td>\n      <td></td>\n      <td>E09000003</td>\n      <td>Barnet</td>\n      <td>523539</td>\n      <td>187001</td>\n      <td>-0.21891</td>\n      <td>51.5684</td>\n      <td>7492.552208</td>\n      <td>6144</td>\n      <td>5f8c0ba5-b41c-4e14-81f8-535c08367038</td>\n      <td>POLYGON ((524091.250 187415.850, 524093.200 18...</td>\n    </tr>\n    <tr>\n      <th>6144</th>\n      <td>E05013635</td>\n      <td>East Barnet</td>\n      <td></td>\n      <td>E09000003</td>\n      <td>Barnet</td>\n      <td>527474</td>\n      <td>195561</td>\n      <td>-0.15906</td>\n      <td>51.6444</td>\n      <td>9495.393609</td>\n      <td>6145</td>\n      <td>dd40ca20-050f-4bb1-a3c3-912694f66faf</td>\n      <td>POLYGON ((528648.496 195023.804, 528639.189 19...</td>\n    </tr>\n    <tr>\n      <th>6145</th>\n      <td>E05013636</td>\n      <td>East Finchley</td>\n      <td></td>\n      <td>E09000003</td>\n      <td>Barnet</td>\n      <td>526811</td>\n      <td>190056</td>\n      <td>-0.17062</td>\n      <td>51.5951</td>\n      <td>8316.628214</td>\n      <td>6146</td>\n      <td>bd73f5cc-5396-4cb8-8dff-e29bebaa713f</td>\n      <td>POLYGON ((527774.857 191224.247, 527771.700 19...</td>\n    </tr>\n    <tr>\n      <th>6146</th>\n      <td>E05013637</td>\n      <td>Edgware</td>\n      <td></td>\n      <td>E09000003</td>\n      <td>Barnet</td>\n      <td>519396</td>\n      <td>192180</td>\n      <td>-0.27690</td>\n      <td>51.6158</td>\n      <td>11203.851782</td>\n      <td>6147</td>\n      <td>430345d7-6b9d-42d9-849e-e60e23427388</td>\n      <td>POLYGON ((517562.747 194408.129, 517572.867 19...</td>\n    </tr>\n    <tr>\n      <th>6147</th>\n      <td>E05013638</td>\n      <td>Edgwarebury</td>\n      <td></td>\n      <td>E09000003</td>\n      <td>Barnet</td>\n      <td>519952</td>\n      <td>194111</td>\n      <td>-0.26821</td>\n      <td>51.6330</td>\n      <td>12822.385756</td>\n      <td>6148</td>\n      <td>66a5c04f-b214-4b42-a594-704b5c835c8c</td>\n      <td>POLYGON ((520680.279 195108.231, 520678.900 19...</td>\n    </tr>\n    <tr>\n      <th>6148</th>\n      <td>E05013639</td>\n      <td>Finchley Church End</td>\n      <td></td>\n      <td>E09000003</td>\n      <td>Barnet</td>\n      <td>524795</td>\n      <td>190433</td>\n      <td>-0.19958</td>\n      <td>51.5989</td>\n      <td>9502.567305</td>\n      <td>6149</td>\n      <td>f73ee551-fab4-432b-9c8e-0bcd02035445</td>\n      <td>POLYGON ((526068.960 190155.120, 526016.220 19...</td>\n    </tr>\n    <tr>\n      <th>6149</th>\n      <td>E05013640</td>\n      <td>Friern Barnet</td>\n      <td></td>\n      <td>E09000003</td>\n      <td>Barnet</td>\n      <td>528147</td>\n      <td>191688</td>\n      <td>-0.15075</td>\n      <td>51.6095</td>\n      <td>8949.768140</td>\n      <td>6150</td>\n      <td>878ed436-7e3d-42de-a2f5-63cf587afd5a</td>\n      <td>POLYGON ((528562.402 192370.004, 528612.804 19...</td>\n    </tr>\n    <tr>\n      <th>6150</th>\n      <td>E05013641</td>\n      <td>Garden Suburb</td>\n      <td></td>\n      <td>E09000003</td>\n      <td>Barnet</td>\n      <td>526000</td>\n      <td>188530</td>\n      <td>-0.18287</td>\n      <td>51.5816</td>\n      <td>11084.584468</td>\n      <td>6151</td>\n      <td>4d316f97-4bd8-45be-93f1-55204958bb68</td>\n      <td>POLYGON ((527483.066 188981.193, 527477.904 18...</td>\n    </tr>\n    <tr>\n      <th>6151</th>\n      <td>E05013642</td>\n      <td>Golders Green</td>\n      <td></td>\n      <td>E09000003</td>\n      <td>Barnet</td>\n      <td>524451</td>\n      <td>188522</td>\n      <td>-0.20522</td>\n      <td>51.5818</td>\n      <td>6717.407065</td>\n      <td>6152</td>\n      <td>eed65206-5968-45be-af0c-8d6069bd3a91</td>\n      <td>POLYGON ((525135.437 187940.796, 525115.016 18...</td>\n    </tr>\n    <tr>\n      <th>6152</th>\n      <td>E05013643</td>\n      <td>Hendon</td>\n      <td></td>\n      <td>E09000003</td>\n      <td>Barnet</td>\n      <td>523269</td>\n      <td>189190</td>\n      <td>-0.22204</td>\n      <td>51.5881</td>\n      <td>8133.757083</td>\n      <td>6153</td>\n      <td>270a49a9-91a2-42ee-b4d2-4e6673cc840b</td>\n      <td>POLYGON ((522992.694 190391.188, 523000.000 19...</td>\n    </tr>\n    <tr>\n      <th>6153</th>\n      <td>E05013644</td>\n      <td>High Barnet</td>\n      <td></td>\n      <td>E09000003</td>\n      <td>Barnet</td>\n      <td>523102</td>\n      <td>196447</td>\n      <td>-0.22190</td>\n      <td>51.6533</td>\n      <td>20266.478550</td>\n      <td>6154</td>\n      <td>12b76489-45f8-411b-8bc2-ade596423d97</td>\n      <td>POLYGON ((525814.100 198211.502, 525810.802 19...</td>\n    </tr>\n    <tr>\n      <th>6154</th>\n      <td>E05013645</td>\n      <td>Mill Hill</td>\n      <td></td>\n      <td>E09000003</td>\n      <td>Barnet</td>\n      <td>522782</td>\n      <td>191875</td>\n      <td>-0.22812</td>\n      <td>51.6123</td>\n      <td>15478.986541</td>\n      <td>6155</td>\n      <td>b679827a-6672-4e12-9563-7977dc5ec12c</td>\n      <td>POLYGON ((524603.450 191113.600, 524615.330 19...</td>\n    </tr>\n    <tr>\n      <th>6155</th>\n      <td>E05013646</td>\n      <td>Totteridge &amp; Woodside</td>\n      <td></td>\n      <td>E09000003</td>\n      <td>Barnet</td>\n      <td>524142</td>\n      <td>194258</td>\n      <td>-0.20765</td>\n      <td>51.6334</td>\n      <td>18838.083382</td>\n      <td>6156</td>\n      <td>46c08a5e-ab7d-4304-b73d-36ec4c8355e8</td>\n      <td>POLYGON ((525352.950 195117.350, 525354.875 19...</td>\n    </tr>\n    <tr>\n      <th>6156</th>\n      <td>E05013647</td>\n      <td>Underhill</td>\n      <td></td>\n      <td>E09000003</td>\n      <td>Barnet</td>\n      <td>524348</td>\n      <td>195516</td>\n      <td>-0.20423</td>\n      <td>51.6447</td>\n      <td>10450.868158</td>\n      <td>6157</td>\n      <td>22bdecd2-69cf-4271-b87e-bc99b9766366</td>\n      <td>POLYGON ((524885.162 196218.744, 524890.200 19...</td>\n    </tr>\n    <tr>\n      <th>6157</th>\n      <td>E05013648</td>\n      <td>West Finchley</td>\n      <td></td>\n      <td>E09000003</td>\n      <td>Barnet</td>\n      <td>525747</td>\n      <td>191378</td>\n      <td>-0.18550</td>\n      <td>51.6072</td>\n      <td>7124.909018</td>\n      <td>6158</td>\n      <td>ddfb0834-6e7b-465b-a5d5-69f747639597</td>\n      <td>POLYGON ((526091.440 192438.570, 526104.050 19...</td>\n    </tr>\n    <tr>\n      <th>6158</th>\n      <td>E05013649</td>\n      <td>West Hendon</td>\n      <td></td>\n      <td>E09000003</td>\n      <td>Barnet</td>\n      <td>522218</td>\n      <td>188062</td>\n      <td>-0.23759</td>\n      <td>51.5782</td>\n      <td>9464.514790</td>\n      <td>6159</td>\n      <td>730c6196-0e41-42aa-993d-ccec1c9c7429</td>\n      <td>POLYGON ((523555.060 187940.264, 523552.900 18...</td>\n    </tr>\n    <tr>\n      <th>6159</th>\n      <td>E05013650</td>\n      <td>Whetstone</td>\n      <td></td>\n      <td>E09000003</td>\n      <td>Barnet</td>\n      <td>526810</td>\n      <td>193821</td>\n      <td>-0.16928</td>\n      <td>51.6289</td>\n      <td>7891.796104</td>\n      <td>6160</td>\n      <td>2298d265-012e-4a25-95fe-041b8916c127</td>\n      <td>POLYGON ((527287.110 194350.860, 527346.350 19...</td>\n    </tr>\n    <tr>\n      <th>6160</th>\n      <td>E05013651</td>\n      <td>Woodhouse</td>\n      <td></td>\n      <td>E09000003</td>\n      <td>Barnet</td>\n      <td>526831</td>\n      <td>191866</td>\n      <td>-0.16968</td>\n      <td>51.6114</td>\n      <td>7799.079220</td>\n      <td>6161</td>\n      <td>ff9f72b0-c13c-44c0-83bb-b16e711ab839</td>\n      <td>POLYGON ((527425.740 192830.500, 527432.847 19...</td>\n    </tr>\n  </tbody>\n</table>\n</div>"
     },
     "execution_count": 24,
     "metadata": {},
     "output_type": "execute_result"
    }
   ],
   "source": [
    "wards"
   ],
   "metadata": {
    "collapsed": false
   }
  },
  {
   "cell_type": "code",
   "execution_count": 25,
   "outputs": [],
   "source": [
    "# Convert light post coordinates to GeoDataFrame\n",
    "light_posts_geometry = gpd.points_from_xy(lights['Asset_XCords'], lights['Asset_YCords'])\n",
    "light_posts_gdf = gpd.GeoDataFrame(lights, geometry=light_posts_geometry)"
   ],
   "metadata": {
    "collapsed": false
   }
  },
  {
   "cell_type": "code",
   "execution_count": 26,
   "outputs": [],
   "source": [
    "# Set the coordinate reference system (CRS) of the light post GeoDataFrame\n",
    "light_posts_gdf.crs = wards.crs"
   ],
   "metadata": {
    "collapsed": false
   }
  },
  {
   "cell_type": "code",
   "execution_count": 27,
   "outputs": [
    {
     "name": "stderr",
     "output_type": "stream",
     "text": [
      "/usr/lib/python3/dist-packages/IPython/core/interactiveshell.py:3377: FutureWarning: The `op` parameter is deprecated and will be removed in a future release. Please use the `predicate` parameter instead.\n",
      "  if (await self.run_code(code, result,  async_=asy)):\n"
     ]
    }
   ],
   "source": [
    "# Perform spatial join to find the wards for each light post\n",
    "joined = gpd.sjoin(light_posts_gdf, wards, how='left', op='within')"
   ],
   "metadata": {
    "collapsed": false
   }
  },
  {
   "cell_type": "code",
   "execution_count": 29,
   "outputs": [],
   "source": [
    "# Extract the ward name from the joined GeoDataFrame and add it to the light posts dataframe\n",
    "lights['ward'] = joined['WD22NM']"
   ],
   "metadata": {
    "collapsed": false
   }
  },
  {
   "cell_type": "code",
   "execution_count": 30,
   "outputs": [
    {
     "data": {
      "text/plain": "       Asset_ID  Asset_XCords  Asset_YCords   latitude  longitude   \n0             1        520483        191400  51.608552  -0.261502  \\\n1             2        520436        190834  51.603476  -0.262375   \n2             3        528488        191596  51.608546  -0.145893   \n3             4        525349        190907  51.603061  -0.191445   \n4             5        522256        194715  51.637963  -0.234756   \n...         ...           ...           ...        ...        ...   \n33141    349073        521575        190240  51.597893  -0.246142   \n33142    349118        520932        190344  51.598966  -0.255385   \n33143    349121        520953        190371  51.599204  -0.255073   \n33144    349139        520975        190399  51.599451  -0.254746   \n33145    358572        523743        186591  51.564628  -0.216142   \n\n                  ward  \n0            Burnt Oak  \n1            Burnt Oak  \n2        Friern Barnet  \n3        West Finchley  \n4            Underhill  \n...                ...  \n33141  Colindale North  \n33142        Burnt Oak  \n33143  Colindale North  \n33144  Colindale North  \n33145      Cricklewood  \n\n[33146 rows x 6 columns]",
      "text/html": "<div>\n<style scoped>\n    .dataframe tbody tr th:only-of-type {\n        vertical-align: middle;\n    }\n\n    .dataframe tbody tr th {\n        vertical-align: top;\n    }\n\n    .dataframe thead th {\n        text-align: right;\n    }\n</style>\n<table border=\"1\" class=\"dataframe\">\n  <thead>\n    <tr style=\"text-align: right;\">\n      <th></th>\n      <th>Asset_ID</th>\n      <th>Asset_XCords</th>\n      <th>Asset_YCords</th>\n      <th>latitude</th>\n      <th>longitude</th>\n      <th>ward</th>\n    </tr>\n  </thead>\n  <tbody>\n    <tr>\n      <th>0</th>\n      <td>1</td>\n      <td>520483</td>\n      <td>191400</td>\n      <td>51.608552</td>\n      <td>-0.261502</td>\n      <td>Burnt Oak</td>\n    </tr>\n    <tr>\n      <th>1</th>\n      <td>2</td>\n      <td>520436</td>\n      <td>190834</td>\n      <td>51.603476</td>\n      <td>-0.262375</td>\n      <td>Burnt Oak</td>\n    </tr>\n    <tr>\n      <th>2</th>\n      <td>3</td>\n      <td>528488</td>\n      <td>191596</td>\n      <td>51.608546</td>\n      <td>-0.145893</td>\n      <td>Friern Barnet</td>\n    </tr>\n    <tr>\n      <th>3</th>\n      <td>4</td>\n      <td>525349</td>\n      <td>190907</td>\n      <td>51.603061</td>\n      <td>-0.191445</td>\n      <td>West Finchley</td>\n    </tr>\n    <tr>\n      <th>4</th>\n      <td>5</td>\n      <td>522256</td>\n      <td>194715</td>\n      <td>51.637963</td>\n      <td>-0.234756</td>\n      <td>Underhill</td>\n    </tr>\n    <tr>\n      <th>...</th>\n      <td>...</td>\n      <td>...</td>\n      <td>...</td>\n      <td>...</td>\n      <td>...</td>\n      <td>...</td>\n    </tr>\n    <tr>\n      <th>33141</th>\n      <td>349073</td>\n      <td>521575</td>\n      <td>190240</td>\n      <td>51.597893</td>\n      <td>-0.246142</td>\n      <td>Colindale North</td>\n    </tr>\n    <tr>\n      <th>33142</th>\n      <td>349118</td>\n      <td>520932</td>\n      <td>190344</td>\n      <td>51.598966</td>\n      <td>-0.255385</td>\n      <td>Burnt Oak</td>\n    </tr>\n    <tr>\n      <th>33143</th>\n      <td>349121</td>\n      <td>520953</td>\n      <td>190371</td>\n      <td>51.599204</td>\n      <td>-0.255073</td>\n      <td>Colindale North</td>\n    </tr>\n    <tr>\n      <th>33144</th>\n      <td>349139</td>\n      <td>520975</td>\n      <td>190399</td>\n      <td>51.599451</td>\n      <td>-0.254746</td>\n      <td>Colindale North</td>\n    </tr>\n    <tr>\n      <th>33145</th>\n      <td>358572</td>\n      <td>523743</td>\n      <td>186591</td>\n      <td>51.564628</td>\n      <td>-0.216142</td>\n      <td>Cricklewood</td>\n    </tr>\n  </tbody>\n</table>\n<p>33146 rows × 6 columns</p>\n</div>"
     },
     "execution_count": 30,
     "metadata": {},
     "output_type": "execute_result"
    }
   ],
   "source": [
    "lights"
   ],
   "metadata": {
    "collapsed": false
   }
  },
  {
   "cell_type": "code",
   "execution_count": 44,
   "outputs": [
    {
     "data": {
      "text/plain": "       Asset_ID  Asset_XCords  Asset_YCords   latitude  longitude   \n0             1        520483        191400  51.608552  -0.261502  \\\n1             2        520436        190834  51.603476  -0.262375   \n2             3        528488        191596  51.608546  -0.145893   \n3             4        525349        190907  51.603061  -0.191445   \n4             5        522256        194715  51.637963  -0.234756   \n...         ...           ...           ...        ...        ...   \n33141    349073        521575        190240  51.597893  -0.246142   \n33142    349118        520932        190344  51.598966  -0.255385   \n33143    349121        520953        190371  51.599204  -0.255073   \n33144    349139        520975        190399  51.599451  -0.254746   \n33145    358572        523743        186591  51.564628  -0.216142   \n\n                  ward  \n0            Burnt Oak  \n1            Burnt Oak  \n2        Friern Barnet  \n3        West Finchley  \n4            Underhill  \n...                ...  \n33141  Colindale North  \n33142        Burnt Oak  \n33143  Colindale North  \n33144  Colindale North  \n33145      Cricklewood  \n\n[32780 rows x 6 columns]",
      "text/html": "<div>\n<style scoped>\n    .dataframe tbody tr th:only-of-type {\n        vertical-align: middle;\n    }\n\n    .dataframe tbody tr th {\n        vertical-align: top;\n    }\n\n    .dataframe thead th {\n        text-align: right;\n    }\n</style>\n<table border=\"1\" class=\"dataframe\">\n  <thead>\n    <tr style=\"text-align: right;\">\n      <th></th>\n      <th>Asset_ID</th>\n      <th>Asset_XCords</th>\n      <th>Asset_YCords</th>\n      <th>latitude</th>\n      <th>longitude</th>\n      <th>ward</th>\n    </tr>\n  </thead>\n  <tbody>\n    <tr>\n      <th>0</th>\n      <td>1</td>\n      <td>520483</td>\n      <td>191400</td>\n      <td>51.608552</td>\n      <td>-0.261502</td>\n      <td>Burnt Oak</td>\n    </tr>\n    <tr>\n      <th>1</th>\n      <td>2</td>\n      <td>520436</td>\n      <td>190834</td>\n      <td>51.603476</td>\n      <td>-0.262375</td>\n      <td>Burnt Oak</td>\n    </tr>\n    <tr>\n      <th>2</th>\n      <td>3</td>\n      <td>528488</td>\n      <td>191596</td>\n      <td>51.608546</td>\n      <td>-0.145893</td>\n      <td>Friern Barnet</td>\n    </tr>\n    <tr>\n      <th>3</th>\n      <td>4</td>\n      <td>525349</td>\n      <td>190907</td>\n      <td>51.603061</td>\n      <td>-0.191445</td>\n      <td>West Finchley</td>\n    </tr>\n    <tr>\n      <th>4</th>\n      <td>5</td>\n      <td>522256</td>\n      <td>194715</td>\n      <td>51.637963</td>\n      <td>-0.234756</td>\n      <td>Underhill</td>\n    </tr>\n    <tr>\n      <th>...</th>\n      <td>...</td>\n      <td>...</td>\n      <td>...</td>\n      <td>...</td>\n      <td>...</td>\n      <td>...</td>\n    </tr>\n    <tr>\n      <th>33141</th>\n      <td>349073</td>\n      <td>521575</td>\n      <td>190240</td>\n      <td>51.597893</td>\n      <td>-0.246142</td>\n      <td>Colindale North</td>\n    </tr>\n    <tr>\n      <th>33142</th>\n      <td>349118</td>\n      <td>520932</td>\n      <td>190344</td>\n      <td>51.598966</td>\n      <td>-0.255385</td>\n      <td>Burnt Oak</td>\n    </tr>\n    <tr>\n      <th>33143</th>\n      <td>349121</td>\n      <td>520953</td>\n      <td>190371</td>\n      <td>51.599204</td>\n      <td>-0.255073</td>\n      <td>Colindale North</td>\n    </tr>\n    <tr>\n      <th>33144</th>\n      <td>349139</td>\n      <td>520975</td>\n      <td>190399</td>\n      <td>51.599451</td>\n      <td>-0.254746</td>\n      <td>Colindale North</td>\n    </tr>\n    <tr>\n      <th>33145</th>\n      <td>358572</td>\n      <td>523743</td>\n      <td>186591</td>\n      <td>51.564628</td>\n      <td>-0.216142</td>\n      <td>Cricklewood</td>\n    </tr>\n  </tbody>\n</table>\n<p>32780 rows × 6 columns</p>\n</div>"
     },
     "execution_count": 44,
     "metadata": {},
     "output_type": "execute_result"
    }
   ],
   "source": [
    "lights = lights[lights['ward'].isna()==False]\n",
    "lights"
   ],
   "metadata": {
    "collapsed": false
   }
  },
  {
   "cell_type": "code",
   "execution_count": 46,
   "outputs": [
    {
     "data": {
      "text/plain": "                     ward  light_post_count\n0             Barnet Vale              1574\n1          Brunswick Park              1354\n2               Burnt Oak              1774\n3             Childs Hill              1568\n4         Colindale North               988\n5         Colindale South               681\n6             Cricklewood               942\n7             East Barnet              1734\n8           East Finchley              1128\n9                 Edgware              1691\n10            Edgwarebury              1006\n11    Finchley Church End              1522\n12          Friern Barnet              1533\n13          Garden Suburb              1520\n14          Golders Green              1022\n15                 Hendon              1719\n16            High Barnet              1429\n17              Mill Hill              2082\n18  Totteridge & Woodside              1413\n19              Underhill              1027\n20          West Finchley              1414\n21            West Hendon              1457\n22              Whetstone              1016\n23              Woodhouse              1186",
      "text/html": "<div>\n<style scoped>\n    .dataframe tbody tr th:only-of-type {\n        vertical-align: middle;\n    }\n\n    .dataframe tbody tr th {\n        vertical-align: top;\n    }\n\n    .dataframe thead th {\n        text-align: right;\n    }\n</style>\n<table border=\"1\" class=\"dataframe\">\n  <thead>\n    <tr style=\"text-align: right;\">\n      <th></th>\n      <th>ward</th>\n      <th>light_post_count</th>\n    </tr>\n  </thead>\n  <tbody>\n    <tr>\n      <th>0</th>\n      <td>Barnet Vale</td>\n      <td>1574</td>\n    </tr>\n    <tr>\n      <th>1</th>\n      <td>Brunswick Park</td>\n      <td>1354</td>\n    </tr>\n    <tr>\n      <th>2</th>\n      <td>Burnt Oak</td>\n      <td>1774</td>\n    </tr>\n    <tr>\n      <th>3</th>\n      <td>Childs Hill</td>\n      <td>1568</td>\n    </tr>\n    <tr>\n      <th>4</th>\n      <td>Colindale North</td>\n      <td>988</td>\n    </tr>\n    <tr>\n      <th>5</th>\n      <td>Colindale South</td>\n      <td>681</td>\n    </tr>\n    <tr>\n      <th>6</th>\n      <td>Cricklewood</td>\n      <td>942</td>\n    </tr>\n    <tr>\n      <th>7</th>\n      <td>East Barnet</td>\n      <td>1734</td>\n    </tr>\n    <tr>\n      <th>8</th>\n      <td>East Finchley</td>\n      <td>1128</td>\n    </tr>\n    <tr>\n      <th>9</th>\n      <td>Edgware</td>\n      <td>1691</td>\n    </tr>\n    <tr>\n      <th>10</th>\n      <td>Edgwarebury</td>\n      <td>1006</td>\n    </tr>\n    <tr>\n      <th>11</th>\n      <td>Finchley Church End</td>\n      <td>1522</td>\n    </tr>\n    <tr>\n      <th>12</th>\n      <td>Friern Barnet</td>\n      <td>1533</td>\n    </tr>\n    <tr>\n      <th>13</th>\n      <td>Garden Suburb</td>\n      <td>1520</td>\n    </tr>\n    <tr>\n      <th>14</th>\n      <td>Golders Green</td>\n      <td>1022</td>\n    </tr>\n    <tr>\n      <th>15</th>\n      <td>Hendon</td>\n      <td>1719</td>\n    </tr>\n    <tr>\n      <th>16</th>\n      <td>High Barnet</td>\n      <td>1429</td>\n    </tr>\n    <tr>\n      <th>17</th>\n      <td>Mill Hill</td>\n      <td>2082</td>\n    </tr>\n    <tr>\n      <th>18</th>\n      <td>Totteridge &amp; Woodside</td>\n      <td>1413</td>\n    </tr>\n    <tr>\n      <th>19</th>\n      <td>Underhill</td>\n      <td>1027</td>\n    </tr>\n    <tr>\n      <th>20</th>\n      <td>West Finchley</td>\n      <td>1414</td>\n    </tr>\n    <tr>\n      <th>21</th>\n      <td>West Hendon</td>\n      <td>1457</td>\n    </tr>\n    <tr>\n      <th>22</th>\n      <td>Whetstone</td>\n      <td>1016</td>\n    </tr>\n    <tr>\n      <th>23</th>\n      <td>Woodhouse</td>\n      <td>1186</td>\n    </tr>\n  </tbody>\n</table>\n</div>"
     },
     "execution_count": 46,
     "metadata": {},
     "output_type": "execute_result"
    }
   ],
   "source": [
    "# Group the light posts dataframe by the 'ward' column and count the number of light posts in each ward\n",
    "lights_count = lights.groupby('ward').size().reset_index(name='light_post_count')\n",
    "lights_count"
   ],
   "metadata": {
    "collapsed": false
   }
  },
  {
   "cell_type": "code",
   "execution_count": 130,
   "outputs": [
    {
     "data": {
      "text/plain": "                ward_name  crime_count\n0             Barnet Vale         1917\n1          Brunswick Park         1798\n2               Burnt Oak         2097\n3             Childs Hill         3173\n4         Colindale North          797\n5         Colindale South          155\n6             Cricklewood         1579\n7             East Barnet         1809\n8           East Finchley         1607\n9                 Edgware         1854\n10            Edgwarebury         1163\n11    Finchley Church End         2356\n12          Friern Barnet         2208\n13          Garden Suburb         1571\n14          Golders Green         2069\n15                 Hendon         2831\n16            High Barnet         1461\n17              Mill Hill         1941\n18  Totteridge & Woodside         1394\n19              Underhill         1228\n20          West Finchley         2407\n21            West Hendon         2248\n22              Whetstone         1460\n23              Woodhouse         1543",
      "text/html": "<div>\n<style scoped>\n    .dataframe tbody tr th:only-of-type {\n        vertical-align: middle;\n    }\n\n    .dataframe tbody tr th {\n        vertical-align: top;\n    }\n\n    .dataframe thead th {\n        text-align: right;\n    }\n</style>\n<table border=\"1\" class=\"dataframe\">\n  <thead>\n    <tr style=\"text-align: right;\">\n      <th></th>\n      <th>ward_name</th>\n      <th>crime_count</th>\n    </tr>\n  </thead>\n  <tbody>\n    <tr>\n      <th>0</th>\n      <td>Barnet Vale</td>\n      <td>1917</td>\n    </tr>\n    <tr>\n      <th>1</th>\n      <td>Brunswick Park</td>\n      <td>1798</td>\n    </tr>\n    <tr>\n      <th>2</th>\n      <td>Burnt Oak</td>\n      <td>2097</td>\n    </tr>\n    <tr>\n      <th>3</th>\n      <td>Childs Hill</td>\n      <td>3173</td>\n    </tr>\n    <tr>\n      <th>4</th>\n      <td>Colindale North</td>\n      <td>797</td>\n    </tr>\n    <tr>\n      <th>5</th>\n      <td>Colindale South</td>\n      <td>155</td>\n    </tr>\n    <tr>\n      <th>6</th>\n      <td>Cricklewood</td>\n      <td>1579</td>\n    </tr>\n    <tr>\n      <th>7</th>\n      <td>East Barnet</td>\n      <td>1809</td>\n    </tr>\n    <tr>\n      <th>8</th>\n      <td>East Finchley</td>\n      <td>1607</td>\n    </tr>\n    <tr>\n      <th>9</th>\n      <td>Edgware</td>\n      <td>1854</td>\n    </tr>\n    <tr>\n      <th>10</th>\n      <td>Edgwarebury</td>\n      <td>1163</td>\n    </tr>\n    <tr>\n      <th>11</th>\n      <td>Finchley Church End</td>\n      <td>2356</td>\n    </tr>\n    <tr>\n      <th>12</th>\n      <td>Friern Barnet</td>\n      <td>2208</td>\n    </tr>\n    <tr>\n      <th>13</th>\n      <td>Garden Suburb</td>\n      <td>1571</td>\n    </tr>\n    <tr>\n      <th>14</th>\n      <td>Golders Green</td>\n      <td>2069</td>\n    </tr>\n    <tr>\n      <th>15</th>\n      <td>Hendon</td>\n      <td>2831</td>\n    </tr>\n    <tr>\n      <th>16</th>\n      <td>High Barnet</td>\n      <td>1461</td>\n    </tr>\n    <tr>\n      <th>17</th>\n      <td>Mill Hill</td>\n      <td>1941</td>\n    </tr>\n    <tr>\n      <th>18</th>\n      <td>Totteridge &amp; Woodside</td>\n      <td>1394</td>\n    </tr>\n    <tr>\n      <th>19</th>\n      <td>Underhill</td>\n      <td>1228</td>\n    </tr>\n    <tr>\n      <th>20</th>\n      <td>West Finchley</td>\n      <td>2407</td>\n    </tr>\n    <tr>\n      <th>21</th>\n      <td>West Hendon</td>\n      <td>2248</td>\n    </tr>\n    <tr>\n      <th>22</th>\n      <td>Whetstone</td>\n      <td>1460</td>\n    </tr>\n    <tr>\n      <th>23</th>\n      <td>Woodhouse</td>\n      <td>1543</td>\n    </tr>\n  </tbody>\n</table>\n</div>"
     },
     "execution_count": 130,
     "metadata": {},
     "output_type": "execute_result"
    }
   ],
   "source": [
    "crimes = pd.read_csv('data/total_barnet.csv')\n",
    "crimes=crimes.drop('Unnamed: 0', axis=1)\n",
    "crimes_count = crimes.groupby('ward_name').size().reset_index(name='crime_count')\n",
    "crimes_count"
   ],
   "metadata": {
    "collapsed": false
   }
  },
  {
   "cell_type": "code",
   "execution_count": 53,
   "outputs": [
    {
     "name": "stdout",
     "output_type": "stream",
     "text": [
      "Correlation coefficient: 0.6548181845095621\n"
     ]
    }
   ],
   "source": [
    "# Merge the two dataframes based on the ward names\n",
    "merged_df = pd.merge(lights_count, crimes_count, left_on='ward', right_on='ward_name', how='inner')\n",
    "\n",
    "# Calculate the correlation coefficient\n",
    "correlation = merged_df['light_post_count'].corr(merged_df['crime_count'])\n",
    "\n",
    "# Print the correlation coefficient\n",
    "print(\"Correlation coefficient:\", correlation)"
   ],
   "metadata": {
    "collapsed": false
   }
  },
  {
   "cell_type": "markdown",
   "source": [],
   "metadata": {
    "collapsed": false
   }
  },
  {
   "cell_type": "markdown",
   "source": [],
   "metadata": {
    "collapsed": false
   }
  },
  {
   "cell_type": "markdown",
   "source": [],
   "metadata": {
    "collapsed": false
   }
  },
  {
   "cell_type": "code",
   "execution_count": 107,
   "outputs": [
    {
     "data": {
      "text/plain": "                                                crime_id    month  longitude   \n0      5feceb66ffc86f38d952786c6d696c79c2dbc239dd4e91...  2010-12  -0.201877  \\\n1      6b86b273ff34fce19d6b804eff5a3f5747ada4eaa22f1d...  2010-12  -0.207853   \n2      d4735e3a265e16eee03f59718b9b5d03019c07d8b6c51f...  2010-12  -0.202510   \n3      4e07408562bedb8b60ce05c1decfe3ad16b72230967de0...  2010-12  -0.206779   \n4      4b227777d4dd1fc61c6f884f48641d02b4d121d3fd328c...  2010-12  -0.209537   \n...                                                  ...      ...        ...   \n44133  fda0870be993d2c9352ae14a540bf529c15a7aa9d92a4e...  2023-03  -0.202163   \n44134  c6c2d9a772695865f4ca33fce59c26c48fe3a1cdac8c22...  2023-03  -0.202163   \n44135  e5bab2bd4f31de44515dbf125b85284392d0349139a1d3...  2023-03  -0.197843   \n44136  823465427f8764e250a48312715a4bd87e8012412046c6...  2023-03  -0.199449   \n44137  50b5bbf4987109ee189f8a736ec7e92365b25169b7f783...  2023-03  -0.197843   \n\n        latitude                  location  lsoa_code    lsoa_name   \n0      51.655538    On or near High Street  E01000248  Barnet 001A  \\\n1      51.654317     On or near The Avenue  E01000248  Barnet 001A   \n2      51.656348     On or near Bruce Road  E01000248  Barnet 001A   \n3      51.654768      On or near The Drive  E01000248  Barnet 001A   \n4      51.655223  On or near Marriott Road  E01000249  Barnet 001B   \n...          ...                       ...        ...          ...   \n44133  51.559100   On or near Hocroft Road  E01000139  Barnet 041B   \n44134  51.559100   On or near Hocroft Road  E01000139  Barnet 041B   \n44135  51.561093    On or near Church Walk  E01000140  Barnet 041C   \n44136  51.563896  On or near Llanelly Road  E01000140  Barnet 041C   \n44137  51.561093    On or near Church Walk  E01000140  Barnet 041C   \n\n      last_outcome_category  ward_code    ward_name  \n0                       NaN  E05013644  High Barnet  \n1                       NaN  E05013644  High Barnet  \n2                       NaN  E05013644  High Barnet  \n3                       NaN  E05013644  High Barnet  \n4                       NaN  E05013644  High Barnet  \n...                     ...        ...          ...  \n44133   Under investigation  E05013631  Childs Hill  \n44134   Under investigation  E05013631  Childs Hill  \n44135   Under investigation  E05013631  Childs Hill  \n44136   Under investigation  E05013631  Childs Hill  \n44137   Under investigation  E05013631  Childs Hill  \n\n[44138 rows x 10 columns]",
      "text/html": "<div>\n<style scoped>\n    .dataframe tbody tr th:only-of-type {\n        vertical-align: middle;\n    }\n\n    .dataframe tbody tr th {\n        vertical-align: top;\n    }\n\n    .dataframe thead th {\n        text-align: right;\n    }\n</style>\n<table border=\"1\" class=\"dataframe\">\n  <thead>\n    <tr style=\"text-align: right;\">\n      <th></th>\n      <th>crime_id</th>\n      <th>month</th>\n      <th>longitude</th>\n      <th>latitude</th>\n      <th>location</th>\n      <th>lsoa_code</th>\n      <th>lsoa_name</th>\n      <th>last_outcome_category</th>\n      <th>ward_code</th>\n      <th>ward_name</th>\n    </tr>\n  </thead>\n  <tbody>\n    <tr>\n      <th>0</th>\n      <td>5feceb66ffc86f38d952786c6d696c79c2dbc239dd4e91...</td>\n      <td>2010-12</td>\n      <td>-0.201877</td>\n      <td>51.655538</td>\n      <td>On or near High Street</td>\n      <td>E01000248</td>\n      <td>Barnet 001A</td>\n      <td>NaN</td>\n      <td>E05013644</td>\n      <td>High Barnet</td>\n    </tr>\n    <tr>\n      <th>1</th>\n      <td>6b86b273ff34fce19d6b804eff5a3f5747ada4eaa22f1d...</td>\n      <td>2010-12</td>\n      <td>-0.207853</td>\n      <td>51.654317</td>\n      <td>On or near The Avenue</td>\n      <td>E01000248</td>\n      <td>Barnet 001A</td>\n      <td>NaN</td>\n      <td>E05013644</td>\n      <td>High Barnet</td>\n    </tr>\n    <tr>\n      <th>2</th>\n      <td>d4735e3a265e16eee03f59718b9b5d03019c07d8b6c51f...</td>\n      <td>2010-12</td>\n      <td>-0.202510</td>\n      <td>51.656348</td>\n      <td>On or near Bruce Road</td>\n      <td>E01000248</td>\n      <td>Barnet 001A</td>\n      <td>NaN</td>\n      <td>E05013644</td>\n      <td>High Barnet</td>\n    </tr>\n    <tr>\n      <th>3</th>\n      <td>4e07408562bedb8b60ce05c1decfe3ad16b72230967de0...</td>\n      <td>2010-12</td>\n      <td>-0.206779</td>\n      <td>51.654768</td>\n      <td>On or near The Drive</td>\n      <td>E01000248</td>\n      <td>Barnet 001A</td>\n      <td>NaN</td>\n      <td>E05013644</td>\n      <td>High Barnet</td>\n    </tr>\n    <tr>\n      <th>4</th>\n      <td>4b227777d4dd1fc61c6f884f48641d02b4d121d3fd328c...</td>\n      <td>2010-12</td>\n      <td>-0.209537</td>\n      <td>51.655223</td>\n      <td>On or near Marriott Road</td>\n      <td>E01000249</td>\n      <td>Barnet 001B</td>\n      <td>NaN</td>\n      <td>E05013644</td>\n      <td>High Barnet</td>\n    </tr>\n    <tr>\n      <th>...</th>\n      <td>...</td>\n      <td>...</td>\n      <td>...</td>\n      <td>...</td>\n      <td>...</td>\n      <td>...</td>\n      <td>...</td>\n      <td>...</td>\n      <td>...</td>\n      <td>...</td>\n    </tr>\n    <tr>\n      <th>44133</th>\n      <td>fda0870be993d2c9352ae14a540bf529c15a7aa9d92a4e...</td>\n      <td>2023-03</td>\n      <td>-0.202163</td>\n      <td>51.559100</td>\n      <td>On or near Hocroft Road</td>\n      <td>E01000139</td>\n      <td>Barnet 041B</td>\n      <td>Under investigation</td>\n      <td>E05013631</td>\n      <td>Childs Hill</td>\n    </tr>\n    <tr>\n      <th>44134</th>\n      <td>c6c2d9a772695865f4ca33fce59c26c48fe3a1cdac8c22...</td>\n      <td>2023-03</td>\n      <td>-0.202163</td>\n      <td>51.559100</td>\n      <td>On or near Hocroft Road</td>\n      <td>E01000139</td>\n      <td>Barnet 041B</td>\n      <td>Under investigation</td>\n      <td>E05013631</td>\n      <td>Childs Hill</td>\n    </tr>\n    <tr>\n      <th>44135</th>\n      <td>e5bab2bd4f31de44515dbf125b85284392d0349139a1d3...</td>\n      <td>2023-03</td>\n      <td>-0.197843</td>\n      <td>51.561093</td>\n      <td>On or near Church Walk</td>\n      <td>E01000140</td>\n      <td>Barnet 041C</td>\n      <td>Under investigation</td>\n      <td>E05013631</td>\n      <td>Childs Hill</td>\n    </tr>\n    <tr>\n      <th>44136</th>\n      <td>823465427f8764e250a48312715a4bd87e8012412046c6...</td>\n      <td>2023-03</td>\n      <td>-0.199449</td>\n      <td>51.563896</td>\n      <td>On or near Llanelly Road</td>\n      <td>E01000140</td>\n      <td>Barnet 041C</td>\n      <td>Under investigation</td>\n      <td>E05013631</td>\n      <td>Childs Hill</td>\n    </tr>\n    <tr>\n      <th>44137</th>\n      <td>50b5bbf4987109ee189f8a736ec7e92365b25169b7f783...</td>\n      <td>2023-03</td>\n      <td>-0.197843</td>\n      <td>51.561093</td>\n      <td>On or near Church Walk</td>\n      <td>E01000140</td>\n      <td>Barnet 041C</td>\n      <td>Under investigation</td>\n      <td>E05013631</td>\n      <td>Childs Hill</td>\n    </tr>\n  </tbody>\n</table>\n<p>44138 rows × 10 columns</p>\n</div>"
     },
     "execution_count": 107,
     "metadata": {},
     "output_type": "execute_result"
    }
   ],
   "source": [
    "crimes"
   ],
   "metadata": {
    "collapsed": false
   }
  },
  {
   "cell_type": "code",
   "execution_count": 108,
   "outputs": [
    {
     "data": {
      "text/plain": "                                                crime_id    month  longitude   \n153    620c9c332101a5bae955c66ae72268fbcd397276617952...  2010-12  -0.214807  \\\n260    39bb88f40d3aa2b2fe9dea67be27c74765db0ebb3ff3cf...  2010-12  -0.250185   \n261    e888a676e1926d0c08b5f11fb9116df58b62604b05846f...  2010-12  -0.247202   \n262    9e6a72557ada15d02001f024f43f06edc4a31437e0e1bb...  2010-12  -0.251720   \n263    4be84111a613654b362415e563cb7607df7b203b5d3038...  2010-12  -0.248276   \n...                                                  ...      ...        ...   \n44061  c8f5651098479309e305a8dfd1fee6fc9e7cc278a0d014...  2023-03  -0.245925   \n44062  b2fdda11fce6daea5b6d01b42943b8cdf8f840f63a0690...  2023-03  -0.237386   \n44063  38d60da9087b2caa6b099b9c50fc9edf57bca0305216ce...  2023-03  -0.245751   \n44064  57fa5c275707a97afe6b267a6210c887356e182ff94dd5...  2023-03  -0.244003   \n44065  5685f37ff5d90220282c50403d02f8508aae732ff3bbf0...  2023-03  -0.238629   \n\n        latitude                          location  lsoa_code    lsoa_name   \n153    51.611979          On or near Bittacy Close  E01000262  Barnet 017D  \\\n260    51.598268             On or near Falcon Way  E01000155  Barnet 030D   \n261    51.597010            On or near Raven Close  E01000155  Barnet 030D   \n262    51.587626  On or near Edgware Road The Hyde  E01033572  Barnet 030E   \n263    51.593096           On or near Rankin Close  E01033572  Barnet 030E   \n...          ...                               ...        ...          ...   \n44061  51.597926           On or near Cherry Close  E01000155  Barnet 030D   \n44062  51.594695       On or near Commander Avenue  E01033572  Barnet 030E   \n44063  51.588553          On or near Lynton Avenue  E01033572  Barnet 030E   \n44064  51.593086          On or near Thonrey Close  E01033572  Barnet 030E   \n44065  51.594660             On or near East Drive  E01033572  Barnet 030E   \n\n                               last_outcome_category ward_code ward_name  \n153                                              NaN       NaN       NaN  \n260                                              NaN       NaN       NaN  \n261                                              NaN       NaN       NaN  \n262                                              NaN       NaN       NaN  \n263                                              NaN       NaN       NaN  \n...                                              ...       ...       ...  \n44061                            Under investigation       NaN       NaN  \n44062  Investigation complete; no suspect identified       NaN       NaN  \n44063                            Under investigation       NaN       NaN  \n44064                            Under investigation       NaN       NaN  \n44065                            Under investigation       NaN       NaN  \n\n[1472 rows x 10 columns]",
      "text/html": "<div>\n<style scoped>\n    .dataframe tbody tr th:only-of-type {\n        vertical-align: middle;\n    }\n\n    .dataframe tbody tr th {\n        vertical-align: top;\n    }\n\n    .dataframe thead th {\n        text-align: right;\n    }\n</style>\n<table border=\"1\" class=\"dataframe\">\n  <thead>\n    <tr style=\"text-align: right;\">\n      <th></th>\n      <th>crime_id</th>\n      <th>month</th>\n      <th>longitude</th>\n      <th>latitude</th>\n      <th>location</th>\n      <th>lsoa_code</th>\n      <th>lsoa_name</th>\n      <th>last_outcome_category</th>\n      <th>ward_code</th>\n      <th>ward_name</th>\n    </tr>\n  </thead>\n  <tbody>\n    <tr>\n      <th>153</th>\n      <td>620c9c332101a5bae955c66ae72268fbcd397276617952...</td>\n      <td>2010-12</td>\n      <td>-0.214807</td>\n      <td>51.611979</td>\n      <td>On or near Bittacy Close</td>\n      <td>E01000262</td>\n      <td>Barnet 017D</td>\n      <td>NaN</td>\n      <td>NaN</td>\n      <td>NaN</td>\n    </tr>\n    <tr>\n      <th>260</th>\n      <td>39bb88f40d3aa2b2fe9dea67be27c74765db0ebb3ff3cf...</td>\n      <td>2010-12</td>\n      <td>-0.250185</td>\n      <td>51.598268</td>\n      <td>On or near Falcon Way</td>\n      <td>E01000155</td>\n      <td>Barnet 030D</td>\n      <td>NaN</td>\n      <td>NaN</td>\n      <td>NaN</td>\n    </tr>\n    <tr>\n      <th>261</th>\n      <td>e888a676e1926d0c08b5f11fb9116df58b62604b05846f...</td>\n      <td>2010-12</td>\n      <td>-0.247202</td>\n      <td>51.597010</td>\n      <td>On or near Raven Close</td>\n      <td>E01000155</td>\n      <td>Barnet 030D</td>\n      <td>NaN</td>\n      <td>NaN</td>\n      <td>NaN</td>\n    </tr>\n    <tr>\n      <th>262</th>\n      <td>9e6a72557ada15d02001f024f43f06edc4a31437e0e1bb...</td>\n      <td>2010-12</td>\n      <td>-0.251720</td>\n      <td>51.587626</td>\n      <td>On or near Edgware Road The Hyde</td>\n      <td>E01033572</td>\n      <td>Barnet 030E</td>\n      <td>NaN</td>\n      <td>NaN</td>\n      <td>NaN</td>\n    </tr>\n    <tr>\n      <th>263</th>\n      <td>4be84111a613654b362415e563cb7607df7b203b5d3038...</td>\n      <td>2010-12</td>\n      <td>-0.248276</td>\n      <td>51.593096</td>\n      <td>On or near Rankin Close</td>\n      <td>E01033572</td>\n      <td>Barnet 030E</td>\n      <td>NaN</td>\n      <td>NaN</td>\n      <td>NaN</td>\n    </tr>\n    <tr>\n      <th>...</th>\n      <td>...</td>\n      <td>...</td>\n      <td>...</td>\n      <td>...</td>\n      <td>...</td>\n      <td>...</td>\n      <td>...</td>\n      <td>...</td>\n      <td>...</td>\n      <td>...</td>\n    </tr>\n    <tr>\n      <th>44061</th>\n      <td>c8f5651098479309e305a8dfd1fee6fc9e7cc278a0d014...</td>\n      <td>2023-03</td>\n      <td>-0.245925</td>\n      <td>51.597926</td>\n      <td>On or near Cherry Close</td>\n      <td>E01000155</td>\n      <td>Barnet 030D</td>\n      <td>Under investigation</td>\n      <td>NaN</td>\n      <td>NaN</td>\n    </tr>\n    <tr>\n      <th>44062</th>\n      <td>b2fdda11fce6daea5b6d01b42943b8cdf8f840f63a0690...</td>\n      <td>2023-03</td>\n      <td>-0.237386</td>\n      <td>51.594695</td>\n      <td>On or near Commander Avenue</td>\n      <td>E01033572</td>\n      <td>Barnet 030E</td>\n      <td>Investigation complete; no suspect identified</td>\n      <td>NaN</td>\n      <td>NaN</td>\n    </tr>\n    <tr>\n      <th>44063</th>\n      <td>38d60da9087b2caa6b099b9c50fc9edf57bca0305216ce...</td>\n      <td>2023-03</td>\n      <td>-0.245751</td>\n      <td>51.588553</td>\n      <td>On or near Lynton Avenue</td>\n      <td>E01033572</td>\n      <td>Barnet 030E</td>\n      <td>Under investigation</td>\n      <td>NaN</td>\n      <td>NaN</td>\n    </tr>\n    <tr>\n      <th>44064</th>\n      <td>57fa5c275707a97afe6b267a6210c887356e182ff94dd5...</td>\n      <td>2023-03</td>\n      <td>-0.244003</td>\n      <td>51.593086</td>\n      <td>On or near Thonrey Close</td>\n      <td>E01033572</td>\n      <td>Barnet 030E</td>\n      <td>Under investigation</td>\n      <td>NaN</td>\n      <td>NaN</td>\n    </tr>\n    <tr>\n      <th>44065</th>\n      <td>5685f37ff5d90220282c50403d02f8508aae732ff3bbf0...</td>\n      <td>2023-03</td>\n      <td>-0.238629</td>\n      <td>51.594660</td>\n      <td>On or near East Drive</td>\n      <td>E01033572</td>\n      <td>Barnet 030E</td>\n      <td>Under investigation</td>\n      <td>NaN</td>\n      <td>NaN</td>\n    </tr>\n  </tbody>\n</table>\n<p>1472 rows × 10 columns</p>\n</div>"
     },
     "execution_count": 108,
     "metadata": {},
     "output_type": "execute_result"
    }
   ],
   "source": [
    "empty = crimes[crimes['ward_name'].isna()==True]\n",
    "crimes = crimes[crimes['ward_name'].isna()==False]\n",
    "empty"
   ],
   "metadata": {
    "collapsed": false
   }
  },
  {
   "cell_type": "code",
   "execution_count": 113,
   "outputs": [
    {
     "name": "stderr",
     "output_type": "stream",
     "text": [
      "/tmp/ipykernel_5620/2402195211.py:9: SettingWithCopyWarning: \n",
      "A value is trying to be set on a copy of a slice from a DataFrame.\n",
      "Try using .loc[row_indexer,col_indexer] = value instead\n",
      "\n",
      "See the caveats in the documentation: https://pandas.pydata.org/pandas-docs/stable/user_guide/indexing.html#returning-a-view-versus-a-copy\n",
      "  empty['bng_x'], empty['bng_y'] = transformer.transform(empty['longitude'].values, empty['latitude'].values)\n",
      "/tmp/ipykernel_5620/2402195211.py:9: SettingWithCopyWarning: \n",
      "A value is trying to be set on a copy of a slice from a DataFrame.\n",
      "Try using .loc[row_indexer,col_indexer] = value instead\n",
      "\n",
      "See the caveats in the documentation: https://pandas.pydata.org/pandas-docs/stable/user_guide/indexing.html#returning-a-view-versus-a-copy\n",
      "  empty['bng_x'], empty['bng_y'] = transformer.transform(empty['longitude'].values, empty['latitude'].values)\n"
     ]
    }
   ],
   "source": [
    "# Define the coordinate systems\n",
    "wgs84 = pyproj.CRS('EPSG:4326')  # WGS84 (latitude/longitude)\n",
    "bng = pyproj.CRS('EPSG:27700')   # British National Grid\n",
    "\n",
    "# Create a transformer to convert coordinates\n",
    "transformer = pyproj.Transformer.from_crs(wgs84, bng, always_xy=True)\n",
    "\n",
    "# Convert latitude and longitude to BNG coordinates\n",
    "empty['bng_x'], empty['bng_y'] = transformer.transform(empty['longitude'].values, empty['latitude'].values)"
   ],
   "metadata": {
    "collapsed": false
   }
  },
  {
   "cell_type": "code",
   "execution_count": 116,
   "outputs": [
    {
     "name": "stderr",
     "output_type": "stream",
     "text": [
      "/tmp/ipykernel_5620/4153236259.py:1: SettingWithCopyWarning: \n",
      "A value is trying to be set on a copy of a slice from a DataFrame.\n",
      "Try using .loc[row_indexer,col_indexer] = value instead\n",
      "\n",
      "See the caveats in the documentation: https://pandas.pydata.org/pandas-docs/stable/user_guide/indexing.html#returning-a-view-versus-a-copy\n",
      "  empty['bng_x'] = empty['bng_x'].astype(int)\n",
      "/tmp/ipykernel_5620/4153236259.py:2: SettingWithCopyWarning: \n",
      "A value is trying to be set on a copy of a slice from a DataFrame.\n",
      "Try using .loc[row_indexer,col_indexer] = value instead\n",
      "\n",
      "See the caveats in the documentation: https://pandas.pydata.org/pandas-docs/stable/user_guide/indexing.html#returning-a-view-versus-a-copy\n",
      "  empty['bng_y'] = empty['bng_y'].astype(int)\n"
     ]
    },
    {
     "data": {
      "text/plain": "                                                crime_id    month  longitude   \n153    620c9c332101a5bae955c66ae72268fbcd397276617952...  2010-12  -0.214807  \\\n260    39bb88f40d3aa2b2fe9dea67be27c74765db0ebb3ff3cf...  2010-12  -0.250185   \n261    e888a676e1926d0c08b5f11fb9116df58b62604b05846f...  2010-12  -0.247202   \n262    9e6a72557ada15d02001f024f43f06edc4a31437e0e1bb...  2010-12  -0.251720   \n263    4be84111a613654b362415e563cb7607df7b203b5d3038...  2010-12  -0.248276   \n...                                                  ...      ...        ...   \n44061  c8f5651098479309e305a8dfd1fee6fc9e7cc278a0d014...  2023-03  -0.245925   \n44062  b2fdda11fce6daea5b6d01b42943b8cdf8f840f63a0690...  2023-03  -0.237386   \n44063  38d60da9087b2caa6b099b9c50fc9edf57bca0305216ce...  2023-03  -0.245751   \n44064  57fa5c275707a97afe6b267a6210c887356e182ff94dd5...  2023-03  -0.244003   \n44065  5685f37ff5d90220282c50403d02f8508aae732ff3bbf0...  2023-03  -0.238629   \n\n        latitude                          location  lsoa_code    lsoa_name   \n153    51.611979          On or near Bittacy Close  E01000262  Barnet 017D  \\\n260    51.598268             On or near Falcon Way  E01000155  Barnet 030D   \n261    51.597010            On or near Raven Close  E01000155  Barnet 030D   \n262    51.587626  On or near Edgware Road The Hyde  E01033572  Barnet 030E   \n263    51.593096           On or near Rankin Close  E01033572  Barnet 030E   \n...          ...                               ...        ...          ...   \n44061  51.597926           On or near Cherry Close  E01000155  Barnet 030D   \n44062  51.594695       On or near Commander Avenue  E01033572  Barnet 030E   \n44063  51.588553          On or near Lynton Avenue  E01033572  Barnet 030E   \n44064  51.593086          On or near Thonrey Close  E01033572  Barnet 030E   \n44065  51.594660             On or near East Drive  E01033572  Barnet 030E   \n\n                               last_outcome_category ward_code ward_name   \n153                                              NaN       NaN       NaN  \\\n260                                              NaN       NaN       NaN   \n261                                              NaN       NaN       NaN   \n262                                              NaN       NaN       NaN   \n263                                              NaN       NaN       NaN   \n...                                              ...       ...       ...   \n44061                            Under investigation       NaN       NaN   \n44062  Investigation complete; no suspect identified       NaN       NaN   \n44063                            Under investigation       NaN       NaN   \n44064                            Under investigation       NaN       NaN   \n44065                            Under investigation       NaN       NaN   \n\n        bng_x   bng_y  \n153    523706  191858  \n260    521294  190275  \n261    521503  190140  \n262    521216  189088  \n263    521440  189703  \n...       ...     ...  \n44061  521589  190244  \n44062  522190  189898  \n44063  521627  189201  \n44064  521736  189708  \n44065  522104  189892  \n\n[1472 rows x 12 columns]",
      "text/html": "<div>\n<style scoped>\n    .dataframe tbody tr th:only-of-type {\n        vertical-align: middle;\n    }\n\n    .dataframe tbody tr th {\n        vertical-align: top;\n    }\n\n    .dataframe thead th {\n        text-align: right;\n    }\n</style>\n<table border=\"1\" class=\"dataframe\">\n  <thead>\n    <tr style=\"text-align: right;\">\n      <th></th>\n      <th>crime_id</th>\n      <th>month</th>\n      <th>longitude</th>\n      <th>latitude</th>\n      <th>location</th>\n      <th>lsoa_code</th>\n      <th>lsoa_name</th>\n      <th>last_outcome_category</th>\n      <th>ward_code</th>\n      <th>ward_name</th>\n      <th>bng_x</th>\n      <th>bng_y</th>\n    </tr>\n  </thead>\n  <tbody>\n    <tr>\n      <th>153</th>\n      <td>620c9c332101a5bae955c66ae72268fbcd397276617952...</td>\n      <td>2010-12</td>\n      <td>-0.214807</td>\n      <td>51.611979</td>\n      <td>On or near Bittacy Close</td>\n      <td>E01000262</td>\n      <td>Barnet 017D</td>\n      <td>NaN</td>\n      <td>NaN</td>\n      <td>NaN</td>\n      <td>523706</td>\n      <td>191858</td>\n    </tr>\n    <tr>\n      <th>260</th>\n      <td>39bb88f40d3aa2b2fe9dea67be27c74765db0ebb3ff3cf...</td>\n      <td>2010-12</td>\n      <td>-0.250185</td>\n      <td>51.598268</td>\n      <td>On or near Falcon Way</td>\n      <td>E01000155</td>\n      <td>Barnet 030D</td>\n      <td>NaN</td>\n      <td>NaN</td>\n      <td>NaN</td>\n      <td>521294</td>\n      <td>190275</td>\n    </tr>\n    <tr>\n      <th>261</th>\n      <td>e888a676e1926d0c08b5f11fb9116df58b62604b05846f...</td>\n      <td>2010-12</td>\n      <td>-0.247202</td>\n      <td>51.597010</td>\n      <td>On or near Raven Close</td>\n      <td>E01000155</td>\n      <td>Barnet 030D</td>\n      <td>NaN</td>\n      <td>NaN</td>\n      <td>NaN</td>\n      <td>521503</td>\n      <td>190140</td>\n    </tr>\n    <tr>\n      <th>262</th>\n      <td>9e6a72557ada15d02001f024f43f06edc4a31437e0e1bb...</td>\n      <td>2010-12</td>\n      <td>-0.251720</td>\n      <td>51.587626</td>\n      <td>On or near Edgware Road The Hyde</td>\n      <td>E01033572</td>\n      <td>Barnet 030E</td>\n      <td>NaN</td>\n      <td>NaN</td>\n      <td>NaN</td>\n      <td>521216</td>\n      <td>189088</td>\n    </tr>\n    <tr>\n      <th>263</th>\n      <td>4be84111a613654b362415e563cb7607df7b203b5d3038...</td>\n      <td>2010-12</td>\n      <td>-0.248276</td>\n      <td>51.593096</td>\n      <td>On or near Rankin Close</td>\n      <td>E01033572</td>\n      <td>Barnet 030E</td>\n      <td>NaN</td>\n      <td>NaN</td>\n      <td>NaN</td>\n      <td>521440</td>\n      <td>189703</td>\n    </tr>\n    <tr>\n      <th>...</th>\n      <td>...</td>\n      <td>...</td>\n      <td>...</td>\n      <td>...</td>\n      <td>...</td>\n      <td>...</td>\n      <td>...</td>\n      <td>...</td>\n      <td>...</td>\n      <td>...</td>\n      <td>...</td>\n      <td>...</td>\n    </tr>\n    <tr>\n      <th>44061</th>\n      <td>c8f5651098479309e305a8dfd1fee6fc9e7cc278a0d014...</td>\n      <td>2023-03</td>\n      <td>-0.245925</td>\n      <td>51.597926</td>\n      <td>On or near Cherry Close</td>\n      <td>E01000155</td>\n      <td>Barnet 030D</td>\n      <td>Under investigation</td>\n      <td>NaN</td>\n      <td>NaN</td>\n      <td>521589</td>\n      <td>190244</td>\n    </tr>\n    <tr>\n      <th>44062</th>\n      <td>b2fdda11fce6daea5b6d01b42943b8cdf8f840f63a0690...</td>\n      <td>2023-03</td>\n      <td>-0.237386</td>\n      <td>51.594695</td>\n      <td>On or near Commander Avenue</td>\n      <td>E01033572</td>\n      <td>Barnet 030E</td>\n      <td>Investigation complete; no suspect identified</td>\n      <td>NaN</td>\n      <td>NaN</td>\n      <td>522190</td>\n      <td>189898</td>\n    </tr>\n    <tr>\n      <th>44063</th>\n      <td>38d60da9087b2caa6b099b9c50fc9edf57bca0305216ce...</td>\n      <td>2023-03</td>\n      <td>-0.245751</td>\n      <td>51.588553</td>\n      <td>On or near Lynton Avenue</td>\n      <td>E01033572</td>\n      <td>Barnet 030E</td>\n      <td>Under investigation</td>\n      <td>NaN</td>\n      <td>NaN</td>\n      <td>521627</td>\n      <td>189201</td>\n    </tr>\n    <tr>\n      <th>44064</th>\n      <td>57fa5c275707a97afe6b267a6210c887356e182ff94dd5...</td>\n      <td>2023-03</td>\n      <td>-0.244003</td>\n      <td>51.593086</td>\n      <td>On or near Thonrey Close</td>\n      <td>E01033572</td>\n      <td>Barnet 030E</td>\n      <td>Under investigation</td>\n      <td>NaN</td>\n      <td>NaN</td>\n      <td>521736</td>\n      <td>189708</td>\n    </tr>\n    <tr>\n      <th>44065</th>\n      <td>5685f37ff5d90220282c50403d02f8508aae732ff3bbf0...</td>\n      <td>2023-03</td>\n      <td>-0.238629</td>\n      <td>51.594660</td>\n      <td>On or near East Drive</td>\n      <td>E01033572</td>\n      <td>Barnet 030E</td>\n      <td>Under investigation</td>\n      <td>NaN</td>\n      <td>NaN</td>\n      <td>522104</td>\n      <td>189892</td>\n    </tr>\n  </tbody>\n</table>\n<p>1472 rows × 12 columns</p>\n</div>"
     },
     "execution_count": 116,
     "metadata": {},
     "output_type": "execute_result"
    }
   ],
   "source": [
    "empty['bng_x'] = empty['bng_x'].astype(int)\n",
    "empty['bng_y'] = empty['bng_y'].astype(int)\n",
    "empty"
   ],
   "metadata": {
    "collapsed": false
   }
  },
  {
   "cell_type": "code",
   "execution_count": 117,
   "outputs": [
    {
     "name": "stderr",
     "output_type": "stream",
     "text": [
      "/tmp/ipykernel_5620/3392157338.py:1: SettingWithCopyWarning: \n",
      "A value is trying to be set on a copy of a slice from a DataFrame.\n",
      "Try using .loc[row_indexer,col_indexer] = value instead\n",
      "\n",
      "See the caveats in the documentation: https://pandas.pydata.org/pandas-docs/stable/user_guide/indexing.html#returning-a-view-versus-a-copy\n",
      "  empty['geometry'] = empty.apply(lambda x: Point(x['bng_x'], x['bng_y']), axis=1)\n"
     ]
    }
   ],
   "source": [
    "empty['geometry'] = empty.apply(lambda x: Point(x['bng_x'], x['bng_y']), axis=1)"
   ],
   "metadata": {
    "collapsed": false
   }
  },
  {
   "cell_type": "code",
   "execution_count": 118,
   "outputs": [],
   "source": [
    "crimes_gdf = gpd.GeoDataFrame(empty, geometry='geometry')"
   ],
   "metadata": {
    "collapsed": false
   }
  },
  {
   "cell_type": "code",
   "execution_count": 119,
   "outputs": [
    {
     "name": "stderr",
     "output_type": "stream",
     "text": [
      "/usr/lib/python3/dist-packages/IPython/core/interactiveshell.py:3377: FutureWarning: The `op` parameter is deprecated and will be removed in a future release. Please use the `predicate` parameter instead.\n",
      "  if (await self.run_code(code, result,  async_=asy)):\n",
      "/tmp/ipykernel_5620/2840459494.py:1: UserWarning: CRS mismatch between the CRS of left geometries and the CRS of right geometries.\n",
      "Use `to_crs()` to reproject one of the input geometries to match the CRS of the other.\n",
      "\n",
      "Left CRS: None\n",
      "Right CRS: EPSG:27700\n",
      "\n",
      "  crimes_with_wards = gpd.sjoin(crimes_gdf, wards, op='within')\n"
     ]
    }
   ],
   "source": [
    "crimes_with_wards = gpd.sjoin(crimes_gdf, wards, op='within')"
   ],
   "metadata": {
    "collapsed": false
   }
  },
  {
   "cell_type": "code",
   "execution_count": 120,
   "outputs": [],
   "source": [
    "empty = empty.merge(crimes_with_wards[['index_right', 'WD22NM', 'WD22CD']], left_index=True, right_index=True)"
   ],
   "metadata": {
    "collapsed": false
   }
  },
  {
   "cell_type": "code",
   "execution_count": 121,
   "outputs": [],
   "source": [
    "empty = empty.drop(columns=['index_right', 'bng_x', 'bng_y', 'geometry'])"
   ],
   "metadata": {
    "collapsed": false
   }
  },
  {
   "cell_type": "code",
   "execution_count": 124,
   "outputs": [
    {
     "ename": "KeyError",
     "evalue": "\"['ward_name', 'ward_code'] not found in axis\"",
     "output_type": "error",
     "traceback": [
      "\u001B[0;31m---------------------------------------------------------------------------\u001B[0m",
      "\u001B[0;31mKeyError\u001B[0m                                  Traceback (most recent call last)",
      "\u001B[0;32m/tmp/ipykernel_5620/361632498.py\u001B[0m in \u001B[0;36m<module>\u001B[0;34m\u001B[0m\n\u001B[0;32m----> 1\u001B[0;31m \u001B[0mempty\u001B[0m \u001B[0;34m=\u001B[0m \u001B[0mempty\u001B[0m\u001B[0;34m.\u001B[0m\u001B[0mdrop\u001B[0m\u001B[0;34m(\u001B[0m\u001B[0;34m[\u001B[0m\u001B[0;34m'ward_name'\u001B[0m\u001B[0;34m,\u001B[0m \u001B[0;34m'ward_code'\u001B[0m\u001B[0;34m]\u001B[0m\u001B[0;34m,\u001B[0m \u001B[0maxis\u001B[0m\u001B[0;34m=\u001B[0m\u001B[0;36m1\u001B[0m\u001B[0;34m)\u001B[0m\u001B[0;34m\u001B[0m\u001B[0;34m\u001B[0m\u001B[0m\n\u001B[0m\u001B[1;32m      2\u001B[0m \u001B[0mempty\u001B[0m \u001B[0;34m=\u001B[0m \u001B[0mempty\u001B[0m\u001B[0;34m.\u001B[0m\u001B[0mrename\u001B[0m\u001B[0;34m(\u001B[0m\u001B[0mcolumns\u001B[0m\u001B[0;34m=\u001B[0m\u001B[0;34m{\u001B[0m\u001B[0;34m'WD22NM'\u001B[0m\u001B[0;34m:\u001B[0m\u001B[0;34m'ward_name'\u001B[0m\u001B[0;34m,\u001B[0m\u001B[0;34m'WD22CD'\u001B[0m\u001B[0;34m:\u001B[0m\u001B[0;34m'ward_code'\u001B[0m\u001B[0;34m}\u001B[0m\u001B[0;34m)\u001B[0m\u001B[0;34m\u001B[0m\u001B[0;34m\u001B[0m\u001B[0m\n\u001B[1;32m      3\u001B[0m \u001B[0mempty\u001B[0m\u001B[0;34m\u001B[0m\u001B[0;34m\u001B[0m\u001B[0m\n",
      "\u001B[0;32m~/.local/lib/python3.10/site-packages/pandas/core/frame.py\u001B[0m in \u001B[0;36mdrop\u001B[0;34m(self, labels, axis, index, columns, level, inplace, errors)\u001B[0m\n\u001B[1;32m   5266\u001B[0m                 \u001B[0mweight\u001B[0m  \u001B[0;36m1.0\u001B[0m     \u001B[0;36m0.8\u001B[0m\u001B[0;34m\u001B[0m\u001B[0;34m\u001B[0m\u001B[0m\n\u001B[1;32m   5267\u001B[0m         \"\"\"\n\u001B[0;32m-> 5268\u001B[0;31m         return super().drop(\n\u001B[0m\u001B[1;32m   5269\u001B[0m             \u001B[0mlabels\u001B[0m\u001B[0;34m=\u001B[0m\u001B[0mlabels\u001B[0m\u001B[0;34m,\u001B[0m\u001B[0;34m\u001B[0m\u001B[0;34m\u001B[0m\u001B[0m\n\u001B[1;32m   5270\u001B[0m             \u001B[0maxis\u001B[0m\u001B[0;34m=\u001B[0m\u001B[0maxis\u001B[0m\u001B[0;34m,\u001B[0m\u001B[0;34m\u001B[0m\u001B[0;34m\u001B[0m\u001B[0m\n",
      "\u001B[0;32m~/.local/lib/python3.10/site-packages/pandas/core/generic.py\u001B[0m in \u001B[0;36mdrop\u001B[0;34m(self, labels, axis, index, columns, level, inplace, errors)\u001B[0m\n\u001B[1;32m   4547\u001B[0m         \u001B[0;32mfor\u001B[0m \u001B[0maxis\u001B[0m\u001B[0;34m,\u001B[0m \u001B[0mlabels\u001B[0m \u001B[0;32min\u001B[0m \u001B[0maxes\u001B[0m\u001B[0;34m.\u001B[0m\u001B[0mitems\u001B[0m\u001B[0;34m(\u001B[0m\u001B[0;34m)\u001B[0m\u001B[0;34m:\u001B[0m\u001B[0;34m\u001B[0m\u001B[0;34m\u001B[0m\u001B[0m\n\u001B[1;32m   4548\u001B[0m             \u001B[0;32mif\u001B[0m \u001B[0mlabels\u001B[0m \u001B[0;32mis\u001B[0m \u001B[0;32mnot\u001B[0m \u001B[0;32mNone\u001B[0m\u001B[0;34m:\u001B[0m\u001B[0;34m\u001B[0m\u001B[0;34m\u001B[0m\u001B[0m\n\u001B[0;32m-> 4549\u001B[0;31m                 \u001B[0mobj\u001B[0m \u001B[0;34m=\u001B[0m \u001B[0mobj\u001B[0m\u001B[0;34m.\u001B[0m\u001B[0m_drop_axis\u001B[0m\u001B[0;34m(\u001B[0m\u001B[0mlabels\u001B[0m\u001B[0;34m,\u001B[0m \u001B[0maxis\u001B[0m\u001B[0;34m,\u001B[0m \u001B[0mlevel\u001B[0m\u001B[0;34m=\u001B[0m\u001B[0mlevel\u001B[0m\u001B[0;34m,\u001B[0m \u001B[0merrors\u001B[0m\u001B[0;34m=\u001B[0m\u001B[0merrors\u001B[0m\u001B[0;34m)\u001B[0m\u001B[0;34m\u001B[0m\u001B[0;34m\u001B[0m\u001B[0m\n\u001B[0m\u001B[1;32m   4550\u001B[0m \u001B[0;34m\u001B[0m\u001B[0m\n\u001B[1;32m   4551\u001B[0m         \u001B[0;32mif\u001B[0m \u001B[0minplace\u001B[0m\u001B[0;34m:\u001B[0m\u001B[0;34m\u001B[0m\u001B[0;34m\u001B[0m\u001B[0m\n",
      "\u001B[0;32m~/.local/lib/python3.10/site-packages/pandas/core/generic.py\u001B[0m in \u001B[0;36m_drop_axis\u001B[0;34m(self, labels, axis, level, errors, only_slice)\u001B[0m\n\u001B[1;32m   4589\u001B[0m                 \u001B[0mnew_axis\u001B[0m \u001B[0;34m=\u001B[0m \u001B[0maxis\u001B[0m\u001B[0;34m.\u001B[0m\u001B[0mdrop\u001B[0m\u001B[0;34m(\u001B[0m\u001B[0mlabels\u001B[0m\u001B[0;34m,\u001B[0m \u001B[0mlevel\u001B[0m\u001B[0;34m=\u001B[0m\u001B[0mlevel\u001B[0m\u001B[0;34m,\u001B[0m \u001B[0merrors\u001B[0m\u001B[0;34m=\u001B[0m\u001B[0merrors\u001B[0m\u001B[0;34m)\u001B[0m\u001B[0;34m\u001B[0m\u001B[0;34m\u001B[0m\u001B[0m\n\u001B[1;32m   4590\u001B[0m             \u001B[0;32melse\u001B[0m\u001B[0;34m:\u001B[0m\u001B[0;34m\u001B[0m\u001B[0;34m\u001B[0m\u001B[0m\n\u001B[0;32m-> 4591\u001B[0;31m                 \u001B[0mnew_axis\u001B[0m \u001B[0;34m=\u001B[0m \u001B[0maxis\u001B[0m\u001B[0;34m.\u001B[0m\u001B[0mdrop\u001B[0m\u001B[0;34m(\u001B[0m\u001B[0mlabels\u001B[0m\u001B[0;34m,\u001B[0m \u001B[0merrors\u001B[0m\u001B[0;34m=\u001B[0m\u001B[0merrors\u001B[0m\u001B[0;34m)\u001B[0m\u001B[0;34m\u001B[0m\u001B[0;34m\u001B[0m\u001B[0m\n\u001B[0m\u001B[1;32m   4592\u001B[0m             \u001B[0mindexer\u001B[0m \u001B[0;34m=\u001B[0m \u001B[0maxis\u001B[0m\u001B[0;34m.\u001B[0m\u001B[0mget_indexer\u001B[0m\u001B[0;34m(\u001B[0m\u001B[0mnew_axis\u001B[0m\u001B[0;34m)\u001B[0m\u001B[0;34m\u001B[0m\u001B[0;34m\u001B[0m\u001B[0m\n\u001B[1;32m   4593\u001B[0m \u001B[0;34m\u001B[0m\u001B[0m\n",
      "\u001B[0;32m~/.local/lib/python3.10/site-packages/pandas/core/indexes/base.py\u001B[0m in \u001B[0;36mdrop\u001B[0;34m(self, labels, errors)\u001B[0m\n\u001B[1;32m   6694\u001B[0m         \u001B[0;32mif\u001B[0m \u001B[0mmask\u001B[0m\u001B[0;34m.\u001B[0m\u001B[0many\u001B[0m\u001B[0;34m(\u001B[0m\u001B[0;34m)\u001B[0m\u001B[0;34m:\u001B[0m\u001B[0;34m\u001B[0m\u001B[0;34m\u001B[0m\u001B[0m\n\u001B[1;32m   6695\u001B[0m             \u001B[0;32mif\u001B[0m \u001B[0merrors\u001B[0m \u001B[0;34m!=\u001B[0m \u001B[0;34m\"ignore\"\u001B[0m\u001B[0;34m:\u001B[0m\u001B[0;34m\u001B[0m\u001B[0;34m\u001B[0m\u001B[0m\n\u001B[0;32m-> 6696\u001B[0;31m                 \u001B[0;32mraise\u001B[0m \u001B[0mKeyError\u001B[0m\u001B[0;34m(\u001B[0m\u001B[0;34mf\"{list(labels[mask])} not found in axis\"\u001B[0m\u001B[0;34m)\u001B[0m\u001B[0;34m\u001B[0m\u001B[0;34m\u001B[0m\u001B[0m\n\u001B[0m\u001B[1;32m   6697\u001B[0m             \u001B[0mindexer\u001B[0m \u001B[0;34m=\u001B[0m \u001B[0mindexer\u001B[0m\u001B[0;34m[\u001B[0m\u001B[0;34m~\u001B[0m\u001B[0mmask\u001B[0m\u001B[0;34m]\u001B[0m\u001B[0;34m\u001B[0m\u001B[0;34m\u001B[0m\u001B[0m\n\u001B[1;32m   6698\u001B[0m         \u001B[0;32mreturn\u001B[0m \u001B[0mself\u001B[0m\u001B[0;34m.\u001B[0m\u001B[0mdelete\u001B[0m\u001B[0;34m(\u001B[0m\u001B[0mindexer\u001B[0m\u001B[0;34m)\u001B[0m\u001B[0;34m\u001B[0m\u001B[0;34m\u001B[0m\u001B[0m\n",
      "\u001B[0;31mKeyError\u001B[0m: \"['ward_name', 'ward_code'] not found in axis\""
     ]
    }
   ],
   "source": [
    "empty = empty.drop(['ward_name', 'ward_code'], axis=1)\n",
    "empty = empty.rename(columns={'WD22NM':'ward_name','WD22CD':'ward_code'})\n",
    "empty"
   ],
   "metadata": {
    "collapsed": false
   }
  }
 ],
 "metadata": {
  "kernelspec": {
   "display_name": "Python 3 (ipykernel)",
   "language": "python",
   "name": "python3"
  },
  "language_info": {
   "codemirror_mode": {
    "name": "ipython",
    "version": 3
   },
   "file_extension": ".py",
   "mimetype": "text/x-python",
   "name": "python",
   "nbconvert_exporter": "python",
   "pygments_lexer": "ipython3",
   "version": "3.10.6"
  }
 },
 "nbformat": 4,
 "nbformat_minor": 1
}
